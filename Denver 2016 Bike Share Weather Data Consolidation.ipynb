{
 "cells": [
  {
   "cell_type": "code",
   "execution_count": 1,
   "metadata": {
    "collapsed": true
   },
   "outputs": [],
   "source": [
    "# import necessary libraries and modules\n",
    "import pandas as pd\n",
    "import numpy as np\n",
    "from numpy import datetime64\n",
    "import csv"
   ]
  },
  {
   "cell_type": "code",
   "execution_count": 7,
   "metadata": {
    "collapsed": false
   },
   "outputs": [],
   "source": [
    "filenames = ['data/Denver_Jan_2016_Daily_Weather_Forecast.csv', 'data/Denver_Feb_2016_Daily_Weather_Forecast.csv',\n",
    "             'data/Denver_Mar_2016_Daily_Weather_Forecast.csv', 'data/Denver_Apr_2016_Daily_Weather_Forecast.csv',\n",
    "             'data/Denver_May_2016_Daily_Weather_Forecast.csv', 'data/Denver_Jun_2016_Daily_Weather_Forecast.csv',\n",
    "             'data/Denver_Jul_2016_Daily_Weather_Forecast.csv', 'data/Denver_Aug_2016_Daily_Weather_Forecast.csv',\n",
    "             'data/Denver_Sep_2016_Daily_Weather_Forecast.csv', 'data/Denver_Oct_2016_Daily_Weather_Forecast.csv',\n",
    "             'data/Denver_Nov_2016_Daily_Weather_Forecast.csv', 'data/Denver_Dec_2016_Daily_Weather_Forecast.csv']\n",
    "\n",
    "dW = pd.read_csv(filenames[0])\n",
    "dW.drop(['Unnamed: 0'], axis = 1, inplace = True)\n",
    "dW.drop([0], axis = 0, inplace = True)\n",
    "\n",
    "for f in filenames[1:]:\n",
    "    dN = pd.read_csv(f)\n",
    "    dN.drop(['Unnamed: 0'], axis = 1, inplace = True)\n",
    "    dN.drop([0], axis = 0, inplace = True)\n",
    "    dW = pd.concat([dW, dN], axis = 0)"
   ]
  },
  {
   "cell_type": "code",
   "execution_count": 8,
   "metadata": {
    "collapsed": false
   },
   "outputs": [],
   "source": [
    "dW['Date'] = pd.to_datetime(dW['Date'])"
   ]
  },
  {
   "cell_type": "code",
   "execution_count": 9,
   "metadata": {
    "collapsed": true
   },
   "outputs": [],
   "source": [
    "dW.sort_values(['Date'], inplace=True)"
   ]
  },
  {
   "cell_type": "code",
   "execution_count": 10,
   "metadata": {
    "collapsed": false
   },
   "outputs": [],
   "source": [
    "dW.drop(['time'], axis = 1, inplace = True)"
   ]
  },
  {
   "cell_type": "code",
   "execution_count": 11,
   "metadata": {
    "collapsed": false
   },
   "outputs": [
    {
     "name": "stdout",
     "output_type": "stream",
     "text": [
      "<class 'pandas.core.frame.DataFrame'>\n",
      "Int64Index: 366 entries, 1 to 25\n",
      "Data columns (total 9 columns):\n",
      "Date                      366 non-null datetime64[ns]\n",
      "cloudCover                366 non-null float64\n",
      "apparentTemperatureMax    366 non-null float64\n",
      "apparentTemperatureMin    366 non-null float64\n",
      "temperatureMax            366 non-null float64\n",
      "temperatureMin            366 non-null float64\n",
      "windSpeed                 366 non-null float64\n",
      "humidity                  366 non-null float64\n",
      "visibility                366 non-null float64\n",
      "dtypes: datetime64[ns](1), float64(8)\n",
      "memory usage: 28.6 KB\n"
     ]
    }
   ],
   "source": [
    "dW.info()"
   ]
  },
  {
   "cell_type": "code",
   "execution_count": 12,
   "metadata": {
    "collapsed": false
   },
   "outputs": [],
   "source": [
    "dW.to_csv('data/Denver_2016_Hourly_Weather_Forecast.csv', index=False)"
   ]
  },
  {
   "cell_type": "code",
   "execution_count": 13,
   "metadata": {
    "collapsed": true
   },
   "outputs": [],
   "source": [
    "filenames = ['data/Denver_Jan_Hourly_2016_Forecast.csv', 'data/Denver_Feb_Hourly_2016_Forecast.csv',\n",
    "             'data/Denver_Mar_Hourly_2016_Forecast.csv', 'data/Denver_Apr_Hourly_2016_Forecast.csv',\n",
    "             'data/Denver_May_Hourly_2016_Forecast.csv', 'data/Denver_Jun_Hourly_2016_Forecast.csv',\n",
    "             'data/Denver_Jul_Hourly_2016_Forecast.csv', 'data/Denver_Aug_Hourly_2016_Forecast.csv',\n",
    "             'data/Denver_Sep_Hourly_2016_Forecast.csv', 'data/Denver_Oct_Hourly_2016_Forecast.csv',\n",
    "             'data/Denver_Nov_Hourly_2016_Forecast.csv', 'data/Denver_Dec_Hourly_2016_Forecast.csv']\n",
    "dW = pd.read_csv(filenames[0])\n",
    "dW.drop(['Unnamed: 0'], axis = 1, inplace = True)\n",
    "dW.drop([0], axis = 0, inplace = True)\n",
    "\n",
    "for f in filenames[1:]:\n",
    "    dN = pd.read_csv(f)\n",
    "    dN.drop(['Unnamed: 0'], axis = 1, inplace = True)\n",
    "    dN.drop([0], axis = 0, inplace = True)\n",
    "    dW = pd.concat([dW, dN], axis = 0)"
   ]
  },
  {
   "cell_type": "code",
   "execution_count": 14,
   "metadata": {
    "collapsed": true
   },
   "outputs": [],
   "source": [
    "dW['Date'] = pd.to_datetime(dW['Date'])"
   ]
  },
  {
   "cell_type": "code",
   "execution_count": 15,
   "metadata": {
    "collapsed": true
   },
   "outputs": [],
   "source": [
    "dW['Hour'] = dW[['Hour']].astype('int')"
   ]
  },
  {
   "cell_type": "code",
   "execution_count": 16,
   "metadata": {
    "collapsed": true
   },
   "outputs": [],
   "source": [
    "dW.sort_values(['Date', 'Hour'], inplace=True)"
   ]
  },
  {
   "cell_type": "code",
   "execution_count": 17,
   "metadata": {
    "collapsed": true
   },
   "outputs": [],
   "source": [
    "dW.drop(['time'], axis = 1, inplace = True)"
   ]
  },
  {
   "cell_type": "code",
   "execution_count": 18,
   "metadata": {
    "collapsed": false
   },
   "outputs": [
    {
     "name": "stdout",
     "output_type": "stream",
     "text": [
      "<class 'pandas.core.frame.DataFrame'>\n",
      "Int64Index: 8784 entries, 1 to 600\n",
      "Data columns (total 8 columns):\n",
      "Date                   8784 non-null datetime64[ns]\n",
      "Hour                   8784 non-null int32\n",
      "apparentTemperature    8784 non-null float64\n",
      "cloudCover             8782 non-null float64\n",
      "humidity               8784 non-null float64\n",
      "temperature            8784 non-null float64\n",
      "visibility             8784 non-null float64\n",
      "windSpeed              8784 non-null float64\n",
      "dtypes: datetime64[ns](1), float64(6), int32(1)\n",
      "memory usage: 583.3 KB\n"
     ]
    }
   ],
   "source": [
    "dW.info()"
   ]
  },
  {
   "cell_type": "code",
   "execution_count": 19,
   "metadata": {
    "collapsed": true
   },
   "outputs": [],
   "source": [
    "dW.to_csv('data/Denver_2016_Daily_Weather_Forecast.csv', index=False)"
   ]
  },
  {
   "cell_type": "code",
   "execution_count": null,
   "metadata": {
    "collapsed": true
   },
   "outputs": [],
   "source": []
  },
  {
   "cell_type": "code",
   "execution_count": null,
   "metadata": {
    "collapsed": true
   },
   "outputs": [],
   "source": []
  }
 ],
 "metadata": {
  "kernelspec": {
   "display_name": "Python 3",
   "language": "python",
   "name": "python3"
  },
  "language_info": {
   "codemirror_mode": {
    "name": "ipython",
    "version": 3
   },
   "file_extension": ".py",
   "mimetype": "text/x-python",
   "name": "python",
   "nbconvert_exporter": "python",
   "pygments_lexer": "ipython3",
   "version": "3.6.0"
  }
 },
 "nbformat": 4,
 "nbformat_minor": 2
}
