{
 "cells": [
  {
   "cell_type": "code",
   "execution_count": 1,
   "metadata": {
    "collapsed": true
   },
   "outputs": [],
   "source": [
    "import pandas as pd\n",
    "import csv"
   ]
  },
  {
   "cell_type": "code",
   "execution_count": 2,
   "metadata": {
    "collapsed": false
   },
   "outputs": [],
   "source": [
    "dF = pd.read_excel(\"data/2016denverbcycletripdata_public.xlsx\")"
   ]
  },
  {
   "cell_type": "code",
   "execution_count": 3,
   "metadata": {
    "collapsed": true
   },
   "outputs": [],
   "source": [
    "# rename columns to make them more descriptive and replace spaces with special characters with underscores\n",
    "new_colnames = ['User_Program', 'User_ID', 'Membership_Type', 'Bike_Number', 'Checkout_Date', 'Checkout_Time',\n",
    "                'Checkout_Kiosk', 'Return_Date', 'Return_Time', 'Return_Kiosk', 'Trip_Duration']\n",
    "dF.columns = new_colnames"
   ]
  },
  {
   "cell_type": "code",
   "execution_count": 4,
   "metadata": {
    "collapsed": false
   },
   "outputs": [
    {
     "data": {
      "text/plain": [
       "(419611, 11)"
      ]
     },
     "execution_count": 4,
     "metadata": {},
     "output_type": "execute_result"
    }
   ],
   "source": [
    "dF.shape"
   ]
  },
  {
   "cell_type": "code",
   "execution_count": 5,
   "metadata": {
    "collapsed": false
   },
   "outputs": [
    {
     "name": "stdout",
     "output_type": "stream",
     "text": [
      "<class 'pandas.core.frame.DataFrame'>\n",
      "RangeIndex: 419611 entries, 0 to 419610\n",
      "Data columns (total 11 columns):\n",
      "User_Program       419611 non-null object\n",
      "User_ID            419611 non-null int64\n",
      "Membership_Type    419611 non-null object\n",
      "Bike_Number        419611 non-null object\n",
      "Checkout_Date      419611 non-null datetime64[ns]\n",
      "Checkout_Time      419611 non-null object\n",
      "Checkout_Kiosk     419611 non-null object\n",
      "Return_Date        419611 non-null datetime64[ns]\n",
      "Return_Time        419611 non-null object\n",
      "Return_Kiosk       419611 non-null object\n",
      "Trip_Duration      419611 non-null int64\n",
      "dtypes: datetime64[ns](2), int64(2), object(7)\n",
      "memory usage: 35.2+ MB\n"
     ]
    }
   ],
   "source": [
    "dF.info()"
   ]
  },
  {
   "cell_type": "code",
   "execution_count": 6,
   "metadata": {
    "collapsed": true
   },
   "outputs": [],
   "source": [
    "dF.to_excel(\"data/2016_Denver_Bike_Trip_Data.xlsx\", index = False)"
   ]
  },
  {
   "cell_type": "code",
   "execution_count": null,
   "metadata": {
    "collapsed": true
   },
   "outputs": [],
   "source": []
  }
 ],
 "metadata": {
  "anaconda-cloud": {},
  "kernelspec": {
   "display_name": "Python [default]",
   "language": "python",
   "name": "python3"
  },
  "language_info": {
   "codemirror_mode": {
    "name": "ipython",
    "version": 3
   },
   "file_extension": ".py",
   "mimetype": "text/x-python",
   "name": "python",
   "nbconvert_exporter": "python",
   "pygments_lexer": "ipython3",
   "version": "3.5.2"
  }
 },
 "nbformat": 4,
 "nbformat_minor": 1
}
