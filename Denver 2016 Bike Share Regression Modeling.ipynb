{
 "cells": [
  {
   "cell_type": "markdown",
   "metadata": {},
   "source": [
    "# Denver 2016 Bike Share Regression Modeling"
   ]
  },
  {
   "cell_type": "markdown",
   "metadata": {},
   "source": [
    "## 1. Introduction\n",
    "\n",
    "The data exploration performed on the Denver Trips dataset indicates weather variables have a significant impact on the number\n",
    "of checkouts. This section will focus on investigating the use of various regression models on the Trips data when combined with weather variables."
   ]
  },
  {
   "cell_type": "code",
   "execution_count": 1,
   "metadata": {
    "collapsed": false
   },
   "outputs": [],
   "source": [
    "# Import necessary libraries and functions that are needed for the analyses\n",
    "import pandas as pd\n",
    "import numpy as np\n",
    "import matplotlib\n",
    "import matplotlib.pyplot as plt\n",
    "from sklearn import metrics\n",
    "from sklearn.tree import DecisionTreeRegressor\n",
    "from sklearn import linear_model\n",
    "from sklearn.ensemble import RandomForestRegressor, ExtraTreesRegressor\n",
    "from sklearn.neighbors import KNeighborsRegressor\n",
    "from sklearn.model_selection import train_test_split\n",
    "import seaborn as sns\n",
    "pd.set_option('display.max_rows', 500)\n",
    "pd.set_option('display.max_columns', 500)\n",
    "pd.set_option('display.width', 1000)\n",
    "%matplotlib inline"
   ]
  },
  {
   "cell_type": "code",
   "execution_count": 2,
   "metadata": {
    "collapsed": false
   },
   "outputs": [
    {
     "data": {
      "text/html": [
       "<style>body {\n",
       "    margin: 0;\n",
       "    font-family: Helvetica;\n",
       "}\n",
       "table.dataframe {\n",
       "    border-collapse: collapse;\n",
       "    border: none;\n",
       "}\n",
       "table.dataframe tr {\n",
       "    border: none;\n",
       "}\n",
       "table.dataframe td, table.dataframe th {\n",
       "    margin: 0;\n",
       "    border: 1px solid white;\n",
       "    padding-left: 0.25em;\n",
       "    padding-right: 0.25em;\n",
       "}\n",
       "table.dataframe th:not(:empty) {\n",
       "    background-color: #fec;\n",
       "    text-align: left;\n",
       "    font-weight: normal;\n",
       "}\n",
       "table.dataframe tr:nth-child(2) th:empty {\n",
       "    border-left: none;\n",
       "    border-right: 1px dashed #888;\n",
       "}\n",
       "table.dataframe td {\n",
       "    border: 2px solid #ccf;\n",
       "    background-color: #f4f4ff;\n",
       "}\n",
       "h3 {\n",
       "    color: white;\n",
       "    background-color: black;\n",
       "    padding: 0.5em;\n",
       "}\n",
       "</style>"
      ],
      "text/plain": [
       "<IPython.core.display.HTML object>"
      ]
     },
     "execution_count": 2,
     "metadata": {},
     "output_type": "execute_result"
    }
   ],
   "source": [
    "# taken from Brandon Rhodes's Pandas Tutorial (https://github.com/brandon-rhodes)\n",
    "from IPython.core.display import HTML\n",
    "css = open('style-table.css').read() + open('style-notebook.css').read()\n",
    "HTML('<style>{}</style>'.format(css))"
   ]
  },
  {
   "cell_type": "code",
   "execution_count": 3,
   "metadata": {
    "collapsed": false
   },
   "outputs": [],
   "source": [
    "dF = pd.read_csv(\"data/2016_Denver_Bike_Trip_ML_Data.gz\", dtype = {'Bike_Number' : object}, compression=\"gzip\")"
   ]
  },
  {
   "cell_type": "code",
   "execution_count": 4,
   "metadata": {
    "collapsed": false
   },
   "outputs": [
    {
     "data": {
      "text/plain": [
       "(402965, 14)"
      ]
     },
     "execution_count": 4,
     "metadata": {},
     "output_type": "execute_result"
    }
   ],
   "source": [
    "dF.shape"
   ]
  },
  {
   "cell_type": "code",
   "execution_count": 5,
   "metadata": {
    "collapsed": false
   },
   "outputs": [
    {
     "data": {
      "text/html": [
       "<div>\n",
       "<table border=\"1\" class=\"dataframe\">\n",
       "  <thead>\n",
       "    <tr style=\"text-align: right;\">\n",
       "      <th></th>\n",
       "      <th>User_Program</th>\n",
       "      <th>User_ID</th>\n",
       "      <th>Membership_Type</th>\n",
       "      <th>Bike_Number</th>\n",
       "      <th>Checkout_Date</th>\n",
       "      <th>Checkout_Hour</th>\n",
       "      <th>Checkout_Kiosk</th>\n",
       "      <th>Return_Date</th>\n",
       "      <th>Return_Time</th>\n",
       "      <th>Return_Kiosk</th>\n",
       "      <th>Trip_Duration</th>\n",
       "      <th>Trip_Distance</th>\n",
       "      <th>Checkout_WeekDay</th>\n",
       "      <th>Checkout_Month</th>\n",
       "    </tr>\n",
       "  </thead>\n",
       "  <tbody>\n",
       "    <tr>\n",
       "      <th>0</th>\n",
       "      <td>Denver B-cycle</td>\n",
       "      <td>1052163</td>\n",
       "      <td>24-hour Kiosk Only (Denver B-cycle)</td>\n",
       "      <td>83</td>\n",
       "      <td>2016-01-01</td>\n",
       "      <td>23</td>\n",
       "      <td>Market Street Station</td>\n",
       "      <td>2016-01-01</td>\n",
       "      <td>23:23:00</td>\n",
       "      <td>19th &amp; Market</td>\n",
       "      <td>2</td>\n",
       "      <td>0.26</td>\n",
       "      <td>4</td>\n",
       "      <td>1</td>\n",
       "    </tr>\n",
       "  </tbody>\n",
       "</table>\n",
       "</div>"
      ],
      "text/plain": [
       "     User_Program  User_ID                      Membership_Type Bike_Number Checkout_Date  Checkout_Hour         Checkout_Kiosk Return_Date Return_Time   Return_Kiosk  Trip_Duration  Trip_Distance  Checkout_WeekDay  Checkout_Month\n",
       "0  Denver B-cycle  1052163  24-hour Kiosk Only (Denver B-cycle)          83    2016-01-01             23  Market Street Station  2016-01-01    23:23:00  19th & Market              2           0.26                 4               1"
      ]
     },
     "execution_count": 5,
     "metadata": {},
     "output_type": "execute_result"
    }
   ],
   "source": [
    "dF.head(1)"
   ]
  },
  {
   "cell_type": "code",
   "execution_count": 6,
   "metadata": {
    "collapsed": false
   },
   "outputs": [],
   "source": [
    "dF.drop(['User_Program'], axis = 1, inplace = True)\n",
    "dF.drop(['Membership_Type'], axis = 1, inplace = True)\n",
    "dF.drop(['User_ID'], axis = 1, inplace = True)\n",
    "dF.drop(['Bike_Number'], axis = 1, inplace = True)\n",
    "dF.drop(['Checkout_Kiosk'], axis = 1, inplace = True)\n",
    "dF.drop(['Return_Date'], axis = 1, inplace = True)\n",
    "dF.drop(['Return_Kiosk'], axis = 1, inplace = True)\n",
    "dF.drop(['Return_Time'], axis = 1, inplace = True)\n",
    "dF.drop(['Trip_Duration'], axis = 1, inplace = True)\n",
    "dF.drop(['Trip_Distance'], axis = 1, inplace = True)"
   ]
  },
  {
   "cell_type": "code",
   "execution_count": 7,
   "metadata": {
    "collapsed": false
   },
   "outputs": [
    {
     "name": "stdout",
     "output_type": "stream",
     "text": [
      "<class 'pandas.core.frame.DataFrame'>\n",
      "RangeIndex: 402965 entries, 0 to 402964\n",
      "Data columns (total 4 columns):\n",
      "Checkout_Date       402965 non-null object\n",
      "Checkout_Hour       402965 non-null int64\n",
      "Checkout_WeekDay    402965 non-null int64\n",
      "Checkout_Month      402965 non-null int64\n",
      "dtypes: int64(3), object(1)\n",
      "memory usage: 12.3+ MB\n"
     ]
    }
   ],
   "source": [
    "dF.info()"
   ]
  },
  {
   "cell_type": "markdown",
   "metadata": {},
   "source": [
    "### Re-arrange columns to set up target class"
   ]
  },
  {
   "cell_type": "code",
   "execution_count": 8,
   "metadata": {
    "collapsed": false
   },
   "outputs": [],
   "source": [
    "# re-arrange columns in preparation for training and test data\n",
    "dF = dF[['Checkout_Date', 'Checkout_Month', 'Checkout_WeekDay', 'Checkout_Hour']]"
   ]
  },
  {
   "cell_type": "code",
   "execution_count": 9,
   "metadata": {
    "collapsed": false
   },
   "outputs": [
    {
     "name": "stdout",
     "output_type": "stream",
     "text": [
      "<class 'pandas.core.frame.DataFrame'>\n",
      "RangeIndex: 402965 entries, 0 to 402964\n",
      "Data columns (total 4 columns):\n",
      "Checkout_Date       402965 non-null object\n",
      "Checkout_Month      402965 non-null int64\n",
      "Checkout_WeekDay    402965 non-null int64\n",
      "Checkout_Hour       402965 non-null int64\n",
      "dtypes: int64(3), object(1)\n",
      "memory usage: 12.3+ MB\n"
     ]
    }
   ],
   "source": [
    "dF.info()"
   ]
  },
  {
   "cell_type": "code",
   "execution_count": 10,
   "metadata": {
    "collapsed": true
   },
   "outputs": [],
   "source": [
    "dW = pd.read_csv(\"data/Denver_2016_Hourly_Weather_Forecast.csv\")"
   ]
  },
  {
   "cell_type": "code",
   "execution_count": 11,
   "metadata": {
    "collapsed": true
   },
   "outputs": [],
   "source": [
    "dW.rename(columns = {'Hour': 'Checkout_Hour'}, inplace = True)"
   ]
  },
  {
   "cell_type": "code",
   "execution_count": 12,
   "metadata": {
    "collapsed": false
   },
   "outputs": [],
   "source": [
    "dW['Checkout_WeekDay'] = pd.DatetimeIndex(dW['Date']).weekday"
   ]
  },
  {
   "cell_type": "code",
   "execution_count": 13,
   "metadata": {
    "collapsed": true
   },
   "outputs": [],
   "source": [
    "dW['Checkout_Month'] = pd.DatetimeIndex(dW['Date']).month"
   ]
  },
  {
   "cell_type": "code",
   "execution_count": 14,
   "metadata": {
    "collapsed": false
   },
   "outputs": [],
   "source": [
    "dFW = dF.groupby(['Checkout_Date', 'Checkout_Month', 'Checkout_WeekDay', \n",
    "                  'Checkout_Hour']).size().to_frame(name = 'Number_Of_Checkouts').reset_index()"
   ]
  },
  {
   "cell_type": "code",
   "execution_count": 15,
   "metadata": {
    "collapsed": false
   },
   "outputs": [
    {
     "name": "stdout",
     "output_type": "stream",
     "text": [
      "<class 'pandas.core.frame.DataFrame'>\n",
      "RangeIndex: 402965 entries, 0 to 402964\n",
      "Data columns (total 4 columns):\n",
      "Checkout_Date       402965 non-null object\n",
      "Checkout_Month      402965 non-null int64\n",
      "Checkout_WeekDay    402965 non-null int64\n",
      "Checkout_Hour       402965 non-null int64\n",
      "dtypes: int64(3), object(1)\n",
      "memory usage: 12.3+ MB\n"
     ]
    }
   ],
   "source": [
    "dF.info()"
   ]
  },
  {
   "cell_type": "code",
   "execution_count": 16,
   "metadata": {
    "collapsed": false
   },
   "outputs": [
    {
     "data": {
      "text/plain": [
       "402965"
      ]
     },
     "execution_count": 16,
     "metadata": {},
     "output_type": "execute_result"
    }
   ],
   "source": [
    "dFW['Number_Of_Checkouts'].sum()"
   ]
  },
  {
   "cell_type": "code",
   "execution_count": 17,
   "metadata": {
    "collapsed": false
   },
   "outputs": [
    {
     "name": "stdout",
     "output_type": "stream",
     "text": [
      "<class 'pandas.core.frame.DataFrame'>\n",
      "RangeIndex: 6881 entries, 0 to 6880\n",
      "Data columns (total 5 columns):\n",
      "Checkout_Date          6881 non-null object\n",
      "Checkout_Month         6881 non-null int64\n",
      "Checkout_WeekDay       6881 non-null int64\n",
      "Checkout_Hour          6881 non-null int64\n",
      "Number_Of_Checkouts    6881 non-null int64\n",
      "dtypes: int64(4), object(1)\n",
      "memory usage: 268.9+ KB\n"
     ]
    }
   ],
   "source": [
    "dFW.info()"
   ]
  },
  {
   "cell_type": "code",
   "execution_count": 18,
   "metadata": {
    "collapsed": false
   },
   "outputs": [
    {
     "data": {
      "text/html": [
       "<div>\n",
       "<table border=\"1\" class=\"dataframe\">\n",
       "  <thead>\n",
       "    <tr style=\"text-align: right;\">\n",
       "      <th></th>\n",
       "      <th>Checkout_Date</th>\n",
       "      <th>Checkout_Month</th>\n",
       "      <th>Checkout_WeekDay</th>\n",
       "      <th>Checkout_Hour</th>\n",
       "      <th>Number_Of_Checkouts</th>\n",
       "    </tr>\n",
       "  </thead>\n",
       "  <tbody>\n",
       "    <tr>\n",
       "      <th>0</th>\n",
       "      <td>2016-01-01</td>\n",
       "      <td>1</td>\n",
       "      <td>4</td>\n",
       "      <td>8</td>\n",
       "      <td>3</td>\n",
       "    </tr>\n",
       "    <tr>\n",
       "      <th>1</th>\n",
       "      <td>2016-01-01</td>\n",
       "      <td>1</td>\n",
       "      <td>4</td>\n",
       "      <td>9</td>\n",
       "      <td>8</td>\n",
       "    </tr>\n",
       "    <tr>\n",
       "      <th>2</th>\n",
       "      <td>2016-01-01</td>\n",
       "      <td>1</td>\n",
       "      <td>4</td>\n",
       "      <td>10</td>\n",
       "      <td>7</td>\n",
       "    </tr>\n",
       "    <tr>\n",
       "      <th>3</th>\n",
       "      <td>2016-01-01</td>\n",
       "      <td>1</td>\n",
       "      <td>4</td>\n",
       "      <td>11</td>\n",
       "      <td>22</td>\n",
       "    </tr>\n",
       "    <tr>\n",
       "      <th>4</th>\n",
       "      <td>2016-01-01</td>\n",
       "      <td>1</td>\n",
       "      <td>4</td>\n",
       "      <td>12</td>\n",
       "      <td>13</td>\n",
       "    </tr>\n",
       "  </tbody>\n",
       "</table>\n",
       "</div>"
      ],
      "text/plain": [
       "  Checkout_Date  Checkout_Month  Checkout_WeekDay  Checkout_Hour  Number_Of_Checkouts\n",
       "0    2016-01-01               1                 4              8                    3\n",
       "1    2016-01-01               1                 4              9                    8\n",
       "2    2016-01-01               1                 4             10                    7\n",
       "3    2016-01-01               1                 4             11                   22\n",
       "4    2016-01-01               1                 4             12                   13"
      ]
     },
     "execution_count": 18,
     "metadata": {},
     "output_type": "execute_result"
    }
   ],
   "source": [
    "dFW.head()"
   ]
  },
  {
   "cell_type": "code",
   "execution_count": 19,
   "metadata": {
    "collapsed": false
   },
   "outputs": [
    {
     "name": "stdout",
     "output_type": "stream",
     "text": [
      "<class 'pandas.core.frame.DataFrame'>\n",
      "RangeIndex: 8784 entries, 0 to 8783\n",
      "Data columns (total 10 columns):\n",
      "Date                   8784 non-null object\n",
      "Checkout_Hour          8784 non-null int64\n",
      "apparentTemperature    8784 non-null float64\n",
      "cloudCover             8782 non-null float64\n",
      "humidity               8784 non-null float64\n",
      "temperature            8784 non-null float64\n",
      "visibility             8784 non-null float64\n",
      "windSpeed              8784 non-null float64\n",
      "Checkout_WeekDay       8784 non-null int32\n",
      "Checkout_Month         8784 non-null int32\n",
      "dtypes: float64(6), int32(2), int64(1), object(1)\n",
      "memory usage: 617.7+ KB\n"
     ]
    }
   ],
   "source": [
    "dW.info()"
   ]
  },
  {
   "cell_type": "code",
   "execution_count": 20,
   "metadata": {
    "collapsed": false
   },
   "outputs": [
    {
     "data": {
      "text/html": [
       "<div>\n",
       "<table border=\"1\" class=\"dataframe\">\n",
       "  <thead>\n",
       "    <tr style=\"text-align: right;\">\n",
       "      <th></th>\n",
       "      <th>Date</th>\n",
       "      <th>Checkout_Hour</th>\n",
       "      <th>apparentTemperature</th>\n",
       "      <th>cloudCover</th>\n",
       "      <th>humidity</th>\n",
       "      <th>temperature</th>\n",
       "      <th>visibility</th>\n",
       "      <th>windSpeed</th>\n",
       "      <th>Checkout_WeekDay</th>\n",
       "      <th>Checkout_Month</th>\n",
       "    </tr>\n",
       "  </thead>\n",
       "  <tbody>\n",
       "    <tr>\n",
       "      <th>0</th>\n",
       "      <td>2016-01-01</td>\n",
       "      <td>0</td>\n",
       "      <td>-0.35</td>\n",
       "      <td>0.04</td>\n",
       "      <td>0.80</td>\n",
       "      <td>8.12</td>\n",
       "      <td>9.01</td>\n",
       "      <td>4.56</td>\n",
       "      <td>4</td>\n",
       "      <td>1</td>\n",
       "    </tr>\n",
       "    <tr>\n",
       "      <th>1</th>\n",
       "      <td>2016-01-01</td>\n",
       "      <td>1</td>\n",
       "      <td>6.77</td>\n",
       "      <td>0.04</td>\n",
       "      <td>0.80</td>\n",
       "      <td>6.77</td>\n",
       "      <td>9.33</td>\n",
       "      <td>2.11</td>\n",
       "      <td>4</td>\n",
       "      <td>1</td>\n",
       "    </tr>\n",
       "    <tr>\n",
       "      <th>2</th>\n",
       "      <td>2016-01-01</td>\n",
       "      <td>2</td>\n",
       "      <td>6.23</td>\n",
       "      <td>0.00</td>\n",
       "      <td>0.80</td>\n",
       "      <td>6.23</td>\n",
       "      <td>9.48</td>\n",
       "      <td>2.36</td>\n",
       "      <td>4</td>\n",
       "      <td>1</td>\n",
       "    </tr>\n",
       "    <tr>\n",
       "      <th>3</th>\n",
       "      <td>2016-01-01</td>\n",
       "      <td>3</td>\n",
       "      <td>-2.89</td>\n",
       "      <td>0.00</td>\n",
       "      <td>0.79</td>\n",
       "      <td>6.88</td>\n",
       "      <td>9.63</td>\n",
       "      <td>5.35</td>\n",
       "      <td>4</td>\n",
       "      <td>1</td>\n",
       "    </tr>\n",
       "    <tr>\n",
       "      <th>4</th>\n",
       "      <td>2016-01-01</td>\n",
       "      <td>4</td>\n",
       "      <td>-2.05</td>\n",
       "      <td>0.00</td>\n",
       "      <td>0.80</td>\n",
       "      <td>6.19</td>\n",
       "      <td>9.53</td>\n",
       "      <td>4.19</td>\n",
       "      <td>4</td>\n",
       "      <td>1</td>\n",
       "    </tr>\n",
       "  </tbody>\n",
       "</table>\n",
       "</div>"
      ],
      "text/plain": [
       "         Date  Checkout_Hour  apparentTemperature  cloudCover  humidity  temperature  visibility  windSpeed  Checkout_WeekDay  Checkout_Month\n",
       "0  2016-01-01              0                -0.35        0.04      0.80         8.12        9.01       4.56                 4               1\n",
       "1  2016-01-01              1                 6.77        0.04      0.80         6.77        9.33       2.11                 4               1\n",
       "2  2016-01-01              2                 6.23        0.00      0.80         6.23        9.48       2.36                 4               1\n",
       "3  2016-01-01              3                -2.89        0.00      0.79         6.88        9.63       5.35                 4               1\n",
       "4  2016-01-01              4                -2.05        0.00      0.80         6.19        9.53       4.19                 4               1"
      ]
     },
     "execution_count": 20,
     "metadata": {},
     "output_type": "execute_result"
    }
   ],
   "source": [
    "dW.head()"
   ]
  },
  {
   "cell_type": "code",
   "execution_count": 21,
   "metadata": {
    "collapsed": false
   },
   "outputs": [],
   "source": [
    "dT = pd.merge(dW, dFW, how='left', left_on=['Date', 'Checkout_Hour'], \n",
    "              right_on=['Checkout_Date', 'Checkout_Hour'])"
   ]
  },
  {
   "cell_type": "code",
   "execution_count": 22,
   "metadata": {
    "collapsed": false
   },
   "outputs": [
    {
     "name": "stdout",
     "output_type": "stream",
     "text": [
      "<class 'pandas.core.frame.DataFrame'>\n",
      "Int64Index: 8784 entries, 0 to 8783\n",
      "Data columns (total 14 columns):\n",
      "Date                   8784 non-null object\n",
      "Checkout_Hour          8784 non-null int64\n",
      "apparentTemperature    8784 non-null float64\n",
      "cloudCover             8782 non-null float64\n",
      "humidity               8784 non-null float64\n",
      "temperature            8784 non-null float64\n",
      "visibility             8784 non-null float64\n",
      "windSpeed              8784 non-null float64\n",
      "Checkout_WeekDay_x     8784 non-null int32\n",
      "Checkout_Month_x       8784 non-null int32\n",
      "Checkout_Date          6880 non-null object\n",
      "Checkout_Month_y       6880 non-null float64\n",
      "Checkout_WeekDay_y     6880 non-null float64\n",
      "Number_Of_Checkouts    6880 non-null float64\n",
      "dtypes: float64(9), int32(2), int64(1), object(2)\n",
      "memory usage: 960.8+ KB\n"
     ]
    }
   ],
   "source": [
    "dT.info()"
   ]
  },
  {
   "cell_type": "code",
   "execution_count": 23,
   "metadata": {
    "collapsed": false
   },
   "outputs": [
    {
     "data": {
      "text/html": [
       "<div>\n",
       "<table border=\"1\" class=\"dataframe\">\n",
       "  <thead>\n",
       "    <tr style=\"text-align: right;\">\n",
       "      <th></th>\n",
       "      <th>Date</th>\n",
       "      <th>Checkout_Hour</th>\n",
       "      <th>apparentTemperature</th>\n",
       "      <th>cloudCover</th>\n",
       "      <th>humidity</th>\n",
       "      <th>temperature</th>\n",
       "      <th>visibility</th>\n",
       "      <th>windSpeed</th>\n",
       "      <th>Checkout_WeekDay_x</th>\n",
       "      <th>Checkout_Month_x</th>\n",
       "      <th>Checkout_Date</th>\n",
       "      <th>Checkout_Month_y</th>\n",
       "      <th>Checkout_WeekDay_y</th>\n",
       "      <th>Number_Of_Checkouts</th>\n",
       "    </tr>\n",
       "  </thead>\n",
       "  <tbody>\n",
       "    <tr>\n",
       "      <th>8779</th>\n",
       "      <td>2016-12-31</td>\n",
       "      <td>19</td>\n",
       "      <td>26.12</td>\n",
       "      <td>0.03</td>\n",
       "      <td>0.53</td>\n",
       "      <td>31.41</td>\n",
       "      <td>10.0</td>\n",
       "      <td>5.29</td>\n",
       "      <td>5</td>\n",
       "      <td>12</td>\n",
       "      <td>2016-12-31</td>\n",
       "      <td>12.0</td>\n",
       "      <td>5.0</td>\n",
       "      <td>1.0</td>\n",
       "    </tr>\n",
       "    <tr>\n",
       "      <th>8780</th>\n",
       "      <td>2016-12-31</td>\n",
       "      <td>20</td>\n",
       "      <td>24.59</td>\n",
       "      <td>0.17</td>\n",
       "      <td>0.54</td>\n",
       "      <td>30.52</td>\n",
       "      <td>10.0</td>\n",
       "      <td>5.85</td>\n",
       "      <td>5</td>\n",
       "      <td>12</td>\n",
       "      <td>2016-12-31</td>\n",
       "      <td>12.0</td>\n",
       "      <td>5.0</td>\n",
       "      <td>11.0</td>\n",
       "    </tr>\n",
       "    <tr>\n",
       "      <th>8781</th>\n",
       "      <td>2016-12-31</td>\n",
       "      <td>21</td>\n",
       "      <td>23.44</td>\n",
       "      <td>0.14</td>\n",
       "      <td>0.57</td>\n",
       "      <td>29.21</td>\n",
       "      <td>10.0</td>\n",
       "      <td>5.39</td>\n",
       "      <td>5</td>\n",
       "      <td>12</td>\n",
       "      <td>2016-12-31</td>\n",
       "      <td>12.0</td>\n",
       "      <td>5.0</td>\n",
       "      <td>6.0</td>\n",
       "    </tr>\n",
       "    <tr>\n",
       "      <th>8782</th>\n",
       "      <td>2016-12-31</td>\n",
       "      <td>22</td>\n",
       "      <td>24.29</td>\n",
       "      <td>0.01</td>\n",
       "      <td>0.57</td>\n",
       "      <td>28.95</td>\n",
       "      <td>10.0</td>\n",
       "      <td>4.23</td>\n",
       "      <td>5</td>\n",
       "      <td>12</td>\n",
       "      <td>2016-12-31</td>\n",
       "      <td>12.0</td>\n",
       "      <td>5.0</td>\n",
       "      <td>9.0</td>\n",
       "    </tr>\n",
       "    <tr>\n",
       "      <th>8783</th>\n",
       "      <td>2016-12-31</td>\n",
       "      <td>23</td>\n",
       "      <td>23.89</td>\n",
       "      <td>0.13</td>\n",
       "      <td>0.59</td>\n",
       "      <td>28.18</td>\n",
       "      <td>10.0</td>\n",
       "      <td>3.82</td>\n",
       "      <td>5</td>\n",
       "      <td>12</td>\n",
       "      <td>2016-12-31</td>\n",
       "      <td>12.0</td>\n",
       "      <td>5.0</td>\n",
       "      <td>7.0</td>\n",
       "    </tr>\n",
       "  </tbody>\n",
       "</table>\n",
       "</div>"
      ],
      "text/plain": [
       "            Date  Checkout_Hour  apparentTemperature  cloudCover  humidity  temperature  visibility  windSpeed  Checkout_WeekDay_x  Checkout_Month_x Checkout_Date  Checkout_Month_y  Checkout_WeekDay_y  Number_Of_Checkouts\n",
       "8779  2016-12-31             19                26.12        0.03      0.53        31.41        10.0       5.29                   5                12    2016-12-31              12.0                 5.0                  1.0\n",
       "8780  2016-12-31             20                24.59        0.17      0.54        30.52        10.0       5.85                   5                12    2016-12-31              12.0                 5.0                 11.0\n",
       "8781  2016-12-31             21                23.44        0.14      0.57        29.21        10.0       5.39                   5                12    2016-12-31              12.0                 5.0                  6.0\n",
       "8782  2016-12-31             22                24.29        0.01      0.57        28.95        10.0       4.23                   5                12    2016-12-31              12.0                 5.0                  9.0\n",
       "8783  2016-12-31             23                23.89        0.13      0.59        28.18        10.0       3.82                   5                12    2016-12-31              12.0                 5.0                  7.0"
      ]
     },
     "execution_count": 23,
     "metadata": {},
     "output_type": "execute_result"
    }
   ],
   "source": [
    "dT.tail()"
   ]
  },
  {
   "cell_type": "code",
   "execution_count": 24,
   "metadata": {
    "collapsed": false
   },
   "outputs": [
    {
     "data": {
      "text/plain": [
       "402962.0"
      ]
     },
     "execution_count": 24,
     "metadata": {},
     "output_type": "execute_result"
    }
   ],
   "source": [
    "dT['Number_Of_Checkouts'].sum()"
   ]
  },
  {
   "cell_type": "code",
   "execution_count": 25,
   "metadata": {
    "collapsed": false
   },
   "outputs": [
    {
     "data": {
      "text/plain": [
       "True"
      ]
     },
     "execution_count": 25,
     "metadata": {},
     "output_type": "execute_result"
    }
   ],
   "source": [
    "dT.isnull().values.any()"
   ]
  },
  {
   "cell_type": "code",
   "execution_count": 26,
   "metadata": {
    "collapsed": true
   },
   "outputs": [],
   "source": [
    "nan_rows = dT[dT.isnull().T.any().T]"
   ]
  },
  {
   "cell_type": "code",
   "execution_count": 27,
   "metadata": {
    "collapsed": true
   },
   "outputs": [],
   "source": [
    "dT = dT.drop(dT.index[nan_rows.index])"
   ]
  },
  {
   "cell_type": "code",
   "execution_count": 28,
   "metadata": {
    "collapsed": false
   },
   "outputs": [
    {
     "data": {
      "text/plain": [
       "False"
      ]
     },
     "execution_count": 28,
     "metadata": {},
     "output_type": "execute_result"
    }
   ],
   "source": [
    "dT.isnull().values.any()"
   ]
  },
  {
   "cell_type": "code",
   "execution_count": 29,
   "metadata": {
    "collapsed": false
   },
   "outputs": [
    {
     "name": "stdout",
     "output_type": "stream",
     "text": [
      "<class 'pandas.core.frame.DataFrame'>\n",
      "Int64Index: 6880 entries, 8 to 8783\n",
      "Data columns (total 14 columns):\n",
      "Date                   6880 non-null object\n",
      "Checkout_Hour          6880 non-null int64\n",
      "apparentTemperature    6880 non-null float64\n",
      "cloudCover             6880 non-null float64\n",
      "humidity               6880 non-null float64\n",
      "temperature            6880 non-null float64\n",
      "visibility             6880 non-null float64\n",
      "windSpeed              6880 non-null float64\n",
      "Checkout_WeekDay_x     6880 non-null int32\n",
      "Checkout_Month_x       6880 non-null int32\n",
      "Checkout_Date          6880 non-null object\n",
      "Checkout_Month_y       6880 non-null float64\n",
      "Checkout_WeekDay_y     6880 non-null float64\n",
      "Number_Of_Checkouts    6880 non-null float64\n",
      "dtypes: float64(9), int32(2), int64(1), object(2)\n",
      "memory usage: 752.5+ KB\n"
     ]
    }
   ],
   "source": [
    "dT.info()"
   ]
  },
  {
   "cell_type": "code",
   "execution_count": 30,
   "metadata": {
    "collapsed": false
   },
   "outputs": [
    {
     "data": {
      "text/html": [
       "<div>\n",
       "<table border=\"1\" class=\"dataframe\">\n",
       "  <thead>\n",
       "    <tr style=\"text-align: right;\">\n",
       "      <th></th>\n",
       "      <th>Date</th>\n",
       "      <th>Checkout_Hour</th>\n",
       "      <th>apparentTemperature</th>\n",
       "      <th>cloudCover</th>\n",
       "      <th>humidity</th>\n",
       "      <th>temperature</th>\n",
       "      <th>visibility</th>\n",
       "      <th>windSpeed</th>\n",
       "      <th>Checkout_WeekDay_x</th>\n",
       "      <th>Checkout_Month_x</th>\n",
       "      <th>Checkout_Date</th>\n",
       "      <th>Checkout_Month_y</th>\n",
       "      <th>Checkout_WeekDay_y</th>\n",
       "      <th>Number_Of_Checkouts</th>\n",
       "    </tr>\n",
       "  </thead>\n",
       "  <tbody>\n",
       "    <tr>\n",
       "      <th>8</th>\n",
       "      <td>2016-01-01</td>\n",
       "      <td>8</td>\n",
       "      <td>-5.68</td>\n",
       "      <td>0.00</td>\n",
       "      <td>0.73</td>\n",
       "      <td>6.63</td>\n",
       "      <td>10.00</td>\n",
       "      <td>7.61</td>\n",
       "      <td>4</td>\n",
       "      <td>1</td>\n",
       "      <td>2016-01-01</td>\n",
       "      <td>1.0</td>\n",
       "      <td>4.0</td>\n",
       "      <td>3.0</td>\n",
       "    </tr>\n",
       "    <tr>\n",
       "      <th>9</th>\n",
       "      <td>2016-01-01</td>\n",
       "      <td>9</td>\n",
       "      <td>4.28</td>\n",
       "      <td>0.08</td>\n",
       "      <td>0.64</td>\n",
       "      <td>13.85</td>\n",
       "      <td>10.00</td>\n",
       "      <td>6.33</td>\n",
       "      <td>4</td>\n",
       "      <td>1</td>\n",
       "      <td>2016-01-01</td>\n",
       "      <td>1.0</td>\n",
       "      <td>4.0</td>\n",
       "      <td>8.0</td>\n",
       "    </tr>\n",
       "    <tr>\n",
       "      <th>10</th>\n",
       "      <td>2016-01-01</td>\n",
       "      <td>10</td>\n",
       "      <td>9.49</td>\n",
       "      <td>0.16</td>\n",
       "      <td>0.54</td>\n",
       "      <td>19.73</td>\n",
       "      <td>10.00</td>\n",
       "      <td>8.55</td>\n",
       "      <td>4</td>\n",
       "      <td>1</td>\n",
       "      <td>2016-01-01</td>\n",
       "      <td>1.0</td>\n",
       "      <td>4.0</td>\n",
       "      <td>7.0</td>\n",
       "    </tr>\n",
       "    <tr>\n",
       "      <th>11</th>\n",
       "      <td>2016-01-01</td>\n",
       "      <td>11</td>\n",
       "      <td>19.04</td>\n",
       "      <td>0.16</td>\n",
       "      <td>0.42</td>\n",
       "      <td>25.91</td>\n",
       "      <td>10.00</td>\n",
       "      <td>5.93</td>\n",
       "      <td>4</td>\n",
       "      <td>1</td>\n",
       "      <td>2016-01-01</td>\n",
       "      <td>1.0</td>\n",
       "      <td>4.0</td>\n",
       "      <td>22.0</td>\n",
       "    </tr>\n",
       "    <tr>\n",
       "      <th>12</th>\n",
       "      <td>2016-01-01</td>\n",
       "      <td>12</td>\n",
       "      <td>23.17</td>\n",
       "      <td>0.16</td>\n",
       "      <td>0.37</td>\n",
       "      <td>29.53</td>\n",
       "      <td>9.97</td>\n",
       "      <td>6.15</td>\n",
       "      <td>4</td>\n",
       "      <td>1</td>\n",
       "      <td>2016-01-01</td>\n",
       "      <td>1.0</td>\n",
       "      <td>4.0</td>\n",
       "      <td>13.0</td>\n",
       "    </tr>\n",
       "  </tbody>\n",
       "</table>\n",
       "</div>"
      ],
      "text/plain": [
       "          Date  Checkout_Hour  apparentTemperature  cloudCover  humidity  temperature  visibility  windSpeed  Checkout_WeekDay_x  Checkout_Month_x Checkout_Date  Checkout_Month_y  Checkout_WeekDay_y  Number_Of_Checkouts\n",
       "8   2016-01-01              8                -5.68        0.00      0.73         6.63       10.00       7.61                   4                 1    2016-01-01               1.0                 4.0                  3.0\n",
       "9   2016-01-01              9                 4.28        0.08      0.64        13.85       10.00       6.33                   4                 1    2016-01-01               1.0                 4.0                  8.0\n",
       "10  2016-01-01             10                 9.49        0.16      0.54        19.73       10.00       8.55                   4                 1    2016-01-01               1.0                 4.0                  7.0\n",
       "11  2016-01-01             11                19.04        0.16      0.42        25.91       10.00       5.93                   4                 1    2016-01-01               1.0                 4.0                 22.0\n",
       "12  2016-01-01             12                23.17        0.16      0.37        29.53        9.97       6.15                   4                 1    2016-01-01               1.0                 4.0                 13.0"
      ]
     },
     "execution_count": 30,
     "metadata": {},
     "output_type": "execute_result"
    }
   ],
   "source": [
    "dT.head()"
   ]
  },
  {
   "cell_type": "code",
   "execution_count": 31,
   "metadata": {
    "collapsed": true
   },
   "outputs": [],
   "source": [
    "dT.drop(['Date', 'Checkout_WeekDay_y', 'Checkout_Month_y'], axis = 1, inplace = True)\n",
    "dT.rename(columns = {'cloudCover': 'Cloud_Cover', 'temperature': 'Temperature', 'apparentTemperature' : 'Apparent_Temperature',\n",
    "                     'windSpeed' : 'Wind_Speed', 'humidity' : 'Humidity', 'visibility' : 'Visibility',\n",
    "                     'Checkout_WeekDay_x': 'Checkout_WeekDay', 'Checkout_Month_x': 'Checkout_Month'}, inplace = True)"
   ]
  },
  {
   "cell_type": "code",
   "execution_count": 32,
   "metadata": {
    "collapsed": false
   },
   "outputs": [],
   "source": [
    "dML = dT[~((dT.Checkout_Hour == 0)  | (dT.Checkout_Hour == 1)  | (dT.Checkout_Hour == 2)  | (dT.Checkout_Hour == 3)  |\n",
    "         (dT.Checkout_Hour == 4))]"
   ]
  },
  {
   "cell_type": "code",
   "execution_count": 33,
   "metadata": {
    "collapsed": false
   },
   "outputs": [
    {
     "data": {
      "text/plain": [
       "(6849, 11)"
      ]
     },
     "execution_count": 33,
     "metadata": {},
     "output_type": "execute_result"
    }
   ],
   "source": [
    "dML.shape"
   ]
  },
  {
   "cell_type": "code",
   "execution_count": 34,
   "metadata": {
    "collapsed": false
   },
   "outputs": [],
   "source": [
    "data = dML.copy(deep=True)"
   ]
  },
  {
   "cell_type": "code",
   "execution_count": 35,
   "metadata": {
    "collapsed": true
   },
   "outputs": [],
   "source": [
    "data.rename(columns = {'cloudCover': 'Cloud_Cover', 'temperature': 'Temperature', 'apparentTemperature' : 'Apparent_Temperature',\n",
    "                     'windSpeed' : 'Wind_Speed', 'humidity' : 'Humidity', 'visibility' : 'Visibility'}, inplace = True)"
   ]
  },
  {
   "cell_type": "code",
   "execution_count": 36,
   "metadata": {
    "collapsed": false
   },
   "outputs": [],
   "source": [
    "data = data[['Checkout_Date', 'Checkout_Month', 'Checkout_WeekDay', 'Checkout_Hour', 'Temperature', 'Apparent_Temperature',\n",
    "             'Cloud_Cover', 'Humidity', 'Wind_Speed', 'Visibility', 'Number_Of_Checkouts']]"
   ]
  },
  {
   "cell_type": "code",
   "execution_count": 37,
   "metadata": {
    "collapsed": false
   },
   "outputs": [
    {
     "data": {
      "text/html": [
       "<div>\n",
       "<table border=\"1\" class=\"dataframe\">\n",
       "  <thead>\n",
       "    <tr style=\"text-align: right;\">\n",
       "      <th></th>\n",
       "      <th>Checkout_Date</th>\n",
       "      <th>Checkout_Month</th>\n",
       "      <th>Checkout_WeekDay</th>\n",
       "      <th>Checkout_Hour</th>\n",
       "      <th>Temperature</th>\n",
       "      <th>Apparent_Temperature</th>\n",
       "      <th>Cloud_Cover</th>\n",
       "      <th>Humidity</th>\n",
       "      <th>Wind_Speed</th>\n",
       "      <th>Visibility</th>\n",
       "      <th>Number_Of_Checkouts</th>\n",
       "    </tr>\n",
       "  </thead>\n",
       "  <tbody>\n",
       "    <tr>\n",
       "      <th>8</th>\n",
       "      <td>2016-01-01</td>\n",
       "      <td>1</td>\n",
       "      <td>4</td>\n",
       "      <td>8</td>\n",
       "      <td>6.63</td>\n",
       "      <td>-5.68</td>\n",
       "      <td>0.00</td>\n",
       "      <td>0.73</td>\n",
       "      <td>7.61</td>\n",
       "      <td>10.00</td>\n",
       "      <td>3.0</td>\n",
       "    </tr>\n",
       "    <tr>\n",
       "      <th>9</th>\n",
       "      <td>2016-01-01</td>\n",
       "      <td>1</td>\n",
       "      <td>4</td>\n",
       "      <td>9</td>\n",
       "      <td>13.85</td>\n",
       "      <td>4.28</td>\n",
       "      <td>0.08</td>\n",
       "      <td>0.64</td>\n",
       "      <td>6.33</td>\n",
       "      <td>10.00</td>\n",
       "      <td>8.0</td>\n",
       "    </tr>\n",
       "    <tr>\n",
       "      <th>10</th>\n",
       "      <td>2016-01-01</td>\n",
       "      <td>1</td>\n",
       "      <td>4</td>\n",
       "      <td>10</td>\n",
       "      <td>19.73</td>\n",
       "      <td>9.49</td>\n",
       "      <td>0.16</td>\n",
       "      <td>0.54</td>\n",
       "      <td>8.55</td>\n",
       "      <td>10.00</td>\n",
       "      <td>7.0</td>\n",
       "    </tr>\n",
       "    <tr>\n",
       "      <th>11</th>\n",
       "      <td>2016-01-01</td>\n",
       "      <td>1</td>\n",
       "      <td>4</td>\n",
       "      <td>11</td>\n",
       "      <td>25.91</td>\n",
       "      <td>19.04</td>\n",
       "      <td>0.16</td>\n",
       "      <td>0.42</td>\n",
       "      <td>5.93</td>\n",
       "      <td>10.00</td>\n",
       "      <td>22.0</td>\n",
       "    </tr>\n",
       "    <tr>\n",
       "      <th>12</th>\n",
       "      <td>2016-01-01</td>\n",
       "      <td>1</td>\n",
       "      <td>4</td>\n",
       "      <td>12</td>\n",
       "      <td>29.53</td>\n",
       "      <td>23.17</td>\n",
       "      <td>0.16</td>\n",
       "      <td>0.37</td>\n",
       "      <td>6.15</td>\n",
       "      <td>9.97</td>\n",
       "      <td>13.0</td>\n",
       "    </tr>\n",
       "  </tbody>\n",
       "</table>\n",
       "</div>"
      ],
      "text/plain": [
       "   Checkout_Date  Checkout_Month  Checkout_WeekDay  Checkout_Hour  Temperature  Apparent_Temperature  Cloud_Cover  Humidity  Wind_Speed  Visibility  Number_Of_Checkouts\n",
       "8     2016-01-01               1                 4              8         6.63                 -5.68         0.00      0.73        7.61       10.00                  3.0\n",
       "9     2016-01-01               1                 4              9        13.85                  4.28         0.08      0.64        6.33       10.00                  8.0\n",
       "10    2016-01-01               1                 4             10        19.73                  9.49         0.16      0.54        8.55       10.00                  7.0\n",
       "11    2016-01-01               1                 4             11        25.91                 19.04         0.16      0.42        5.93       10.00                 22.0\n",
       "12    2016-01-01               1                 4             12        29.53                 23.17         0.16      0.37        6.15        9.97                 13.0"
      ]
     },
     "execution_count": 37,
     "metadata": {},
     "output_type": "execute_result"
    }
   ],
   "source": [
    "data.head()"
   ]
  },
  {
   "cell_type": "code",
   "execution_count": 38,
   "metadata": {
    "collapsed": true
   },
   "outputs": [],
   "source": [
    "month_dummies = pd.get_dummies(data.Checkout_Month, prefix='month')"
   ]
  },
  {
   "cell_type": "code",
   "execution_count": 39,
   "metadata": {
    "collapsed": true
   },
   "outputs": [],
   "source": [
    "weekday_dummies = pd.get_dummies(data.Checkout_WeekDay, prefix='weekday')"
   ]
  },
  {
   "cell_type": "code",
   "execution_count": 40,
   "metadata": {
    "collapsed": true
   },
   "outputs": [],
   "source": [
    "hour_dummies = pd.get_dummies(data.Checkout_Hour, prefix='hour')"
   ]
  },
  {
   "cell_type": "code",
   "execution_count": 41,
   "metadata": {
    "collapsed": true
   },
   "outputs": [],
   "source": [
    "data = pd.concat([data, month_dummies, weekday_dummies, hour_dummies], axis=1)"
   ]
  },
  {
   "cell_type": "code",
   "execution_count": 42,
   "metadata": {
    "collapsed": false
   },
   "outputs": [
    {
     "data": {
      "text/html": [
       "<div>\n",
       "<table border=\"1\" class=\"dataframe\">\n",
       "  <thead>\n",
       "    <tr style=\"text-align: right;\">\n",
       "      <th></th>\n",
       "      <th>Checkout_Date</th>\n",
       "      <th>Checkout_Month</th>\n",
       "      <th>Checkout_WeekDay</th>\n",
       "      <th>Checkout_Hour</th>\n",
       "      <th>Temperature</th>\n",
       "      <th>Apparent_Temperature</th>\n",
       "      <th>Cloud_Cover</th>\n",
       "      <th>Humidity</th>\n",
       "      <th>Wind_Speed</th>\n",
       "      <th>Visibility</th>\n",
       "      <th>Number_Of_Checkouts</th>\n",
       "      <th>month_1</th>\n",
       "      <th>month_2</th>\n",
       "      <th>month_3</th>\n",
       "      <th>month_4</th>\n",
       "      <th>month_5</th>\n",
       "      <th>month_6</th>\n",
       "      <th>month_7</th>\n",
       "      <th>month_8</th>\n",
       "      <th>month_9</th>\n",
       "      <th>month_10</th>\n",
       "      <th>month_11</th>\n",
       "      <th>month_12</th>\n",
       "      <th>weekday_0</th>\n",
       "      <th>weekday_1</th>\n",
       "      <th>weekday_2</th>\n",
       "      <th>weekday_3</th>\n",
       "      <th>weekday_4</th>\n",
       "      <th>weekday_5</th>\n",
       "      <th>weekday_6</th>\n",
       "      <th>hour_5</th>\n",
       "      <th>hour_6</th>\n",
       "      <th>hour_7</th>\n",
       "      <th>hour_8</th>\n",
       "      <th>hour_9</th>\n",
       "      <th>hour_10</th>\n",
       "      <th>hour_11</th>\n",
       "      <th>hour_12</th>\n",
       "      <th>hour_13</th>\n",
       "      <th>hour_14</th>\n",
       "      <th>hour_15</th>\n",
       "      <th>hour_16</th>\n",
       "      <th>hour_17</th>\n",
       "      <th>hour_18</th>\n",
       "      <th>hour_19</th>\n",
       "      <th>hour_20</th>\n",
       "      <th>hour_21</th>\n",
       "      <th>hour_22</th>\n",
       "      <th>hour_23</th>\n",
       "    </tr>\n",
       "  </thead>\n",
       "  <tbody>\n",
       "    <tr>\n",
       "      <th>7973</th>\n",
       "      <td>2016-11-28</td>\n",
       "      <td>11</td>\n",
       "      <td>0</td>\n",
       "      <td>5</td>\n",
       "      <td>31.60</td>\n",
       "      <td>23.75</td>\n",
       "      <td>0.10</td>\n",
       "      <td>0.37</td>\n",
       "      <td>9.03</td>\n",
       "      <td>9.60</td>\n",
       "      <td>10.0</td>\n",
       "      <td>0</td>\n",
       "      <td>0</td>\n",
       "      <td>0</td>\n",
       "      <td>0</td>\n",
       "      <td>0</td>\n",
       "      <td>0</td>\n",
       "      <td>0</td>\n",
       "      <td>0</td>\n",
       "      <td>0</td>\n",
       "      <td>0</td>\n",
       "      <td>1</td>\n",
       "      <td>0</td>\n",
       "      <td>1</td>\n",
       "      <td>0</td>\n",
       "      <td>0</td>\n",
       "      <td>0</td>\n",
       "      <td>0</td>\n",
       "      <td>0</td>\n",
       "      <td>0</td>\n",
       "      <td>1</td>\n",
       "      <td>0</td>\n",
       "      <td>0</td>\n",
       "      <td>0</td>\n",
       "      <td>0</td>\n",
       "      <td>0</td>\n",
       "      <td>0</td>\n",
       "      <td>0</td>\n",
       "      <td>0</td>\n",
       "      <td>0</td>\n",
       "      <td>0</td>\n",
       "      <td>0</td>\n",
       "      <td>0</td>\n",
       "      <td>0</td>\n",
       "      <td>0</td>\n",
       "      <td>0</td>\n",
       "      <td>0</td>\n",
       "      <td>0</td>\n",
       "      <td>0</td>\n",
       "    </tr>\n",
       "    <tr>\n",
       "      <th>5950</th>\n",
       "      <td>2016-09-04</td>\n",
       "      <td>9</td>\n",
       "      <td>6</td>\n",
       "      <td>23</td>\n",
       "      <td>59.37</td>\n",
       "      <td>59.37</td>\n",
       "      <td>0.09</td>\n",
       "      <td>0.65</td>\n",
       "      <td>6.43</td>\n",
       "      <td>9.81</td>\n",
       "      <td>24.0</td>\n",
       "      <td>0</td>\n",
       "      <td>0</td>\n",
       "      <td>0</td>\n",
       "      <td>0</td>\n",
       "      <td>0</td>\n",
       "      <td>0</td>\n",
       "      <td>0</td>\n",
       "      <td>0</td>\n",
       "      <td>1</td>\n",
       "      <td>0</td>\n",
       "      <td>0</td>\n",
       "      <td>0</td>\n",
       "      <td>0</td>\n",
       "      <td>0</td>\n",
       "      <td>0</td>\n",
       "      <td>0</td>\n",
       "      <td>0</td>\n",
       "      <td>0</td>\n",
       "      <td>1</td>\n",
       "      <td>0</td>\n",
       "      <td>0</td>\n",
       "      <td>0</td>\n",
       "      <td>0</td>\n",
       "      <td>0</td>\n",
       "      <td>0</td>\n",
       "      <td>0</td>\n",
       "      <td>0</td>\n",
       "      <td>0</td>\n",
       "      <td>0</td>\n",
       "      <td>0</td>\n",
       "      <td>0</td>\n",
       "      <td>0</td>\n",
       "      <td>0</td>\n",
       "      <td>0</td>\n",
       "      <td>0</td>\n",
       "      <td>0</td>\n",
       "      <td>0</td>\n",
       "      <td>1</td>\n",
       "    </tr>\n",
       "    <tr>\n",
       "      <th>6718</th>\n",
       "      <td>2016-10-06</td>\n",
       "      <td>10</td>\n",
       "      <td>3</td>\n",
       "      <td>23</td>\n",
       "      <td>35.28</td>\n",
       "      <td>31.47</td>\n",
       "      <td>0.15</td>\n",
       "      <td>0.87</td>\n",
       "      <td>4.39</td>\n",
       "      <td>10.00</td>\n",
       "      <td>7.0</td>\n",
       "      <td>0</td>\n",
       "      <td>0</td>\n",
       "      <td>0</td>\n",
       "      <td>0</td>\n",
       "      <td>0</td>\n",
       "      <td>0</td>\n",
       "      <td>0</td>\n",
       "      <td>0</td>\n",
       "      <td>0</td>\n",
       "      <td>1</td>\n",
       "      <td>0</td>\n",
       "      <td>0</td>\n",
       "      <td>0</td>\n",
       "      <td>0</td>\n",
       "      <td>0</td>\n",
       "      <td>1</td>\n",
       "      <td>0</td>\n",
       "      <td>0</td>\n",
       "      <td>0</td>\n",
       "      <td>0</td>\n",
       "      <td>0</td>\n",
       "      <td>0</td>\n",
       "      <td>0</td>\n",
       "      <td>0</td>\n",
       "      <td>0</td>\n",
       "      <td>0</td>\n",
       "      <td>0</td>\n",
       "      <td>0</td>\n",
       "      <td>0</td>\n",
       "      <td>0</td>\n",
       "      <td>0</td>\n",
       "      <td>0</td>\n",
       "      <td>0</td>\n",
       "      <td>0</td>\n",
       "      <td>0</td>\n",
       "      <td>0</td>\n",
       "      <td>0</td>\n",
       "      <td>1</td>\n",
       "    </tr>\n",
       "    <tr>\n",
       "      <th>304</th>\n",
       "      <td>2016-01-13</td>\n",
       "      <td>1</td>\n",
       "      <td>2</td>\n",
       "      <td>16</td>\n",
       "      <td>42.68</td>\n",
       "      <td>40.48</td>\n",
       "      <td>0.02</td>\n",
       "      <td>0.41</td>\n",
       "      <td>3.92</td>\n",
       "      <td>10.00</td>\n",
       "      <td>61.0</td>\n",
       "      <td>1</td>\n",
       "      <td>0</td>\n",
       "      <td>0</td>\n",
       "      <td>0</td>\n",
       "      <td>0</td>\n",
       "      <td>0</td>\n",
       "      <td>0</td>\n",
       "      <td>0</td>\n",
       "      <td>0</td>\n",
       "      <td>0</td>\n",
       "      <td>0</td>\n",
       "      <td>0</td>\n",
       "      <td>0</td>\n",
       "      <td>0</td>\n",
       "      <td>1</td>\n",
       "      <td>0</td>\n",
       "      <td>0</td>\n",
       "      <td>0</td>\n",
       "      <td>0</td>\n",
       "      <td>0</td>\n",
       "      <td>0</td>\n",
       "      <td>0</td>\n",
       "      <td>0</td>\n",
       "      <td>0</td>\n",
       "      <td>0</td>\n",
       "      <td>0</td>\n",
       "      <td>0</td>\n",
       "      <td>0</td>\n",
       "      <td>0</td>\n",
       "      <td>0</td>\n",
       "      <td>1</td>\n",
       "      <td>0</td>\n",
       "      <td>0</td>\n",
       "      <td>0</td>\n",
       "      <td>0</td>\n",
       "      <td>0</td>\n",
       "      <td>0</td>\n",
       "      <td>0</td>\n",
       "    </tr>\n",
       "    <tr>\n",
       "      <th>7511</th>\n",
       "      <td>2016-11-08</td>\n",
       "      <td>11</td>\n",
       "      <td>1</td>\n",
       "      <td>23</td>\n",
       "      <td>39.57</td>\n",
       "      <td>36.25</td>\n",
       "      <td>0.04</td>\n",
       "      <td>0.49</td>\n",
       "      <td>4.64</td>\n",
       "      <td>10.00</td>\n",
       "      <td>8.0</td>\n",
       "      <td>0</td>\n",
       "      <td>0</td>\n",
       "      <td>0</td>\n",
       "      <td>0</td>\n",
       "      <td>0</td>\n",
       "      <td>0</td>\n",
       "      <td>0</td>\n",
       "      <td>0</td>\n",
       "      <td>0</td>\n",
       "      <td>0</td>\n",
       "      <td>1</td>\n",
       "      <td>0</td>\n",
       "      <td>0</td>\n",
       "      <td>1</td>\n",
       "      <td>0</td>\n",
       "      <td>0</td>\n",
       "      <td>0</td>\n",
       "      <td>0</td>\n",
       "      <td>0</td>\n",
       "      <td>0</td>\n",
       "      <td>0</td>\n",
       "      <td>0</td>\n",
       "      <td>0</td>\n",
       "      <td>0</td>\n",
       "      <td>0</td>\n",
       "      <td>0</td>\n",
       "      <td>0</td>\n",
       "      <td>0</td>\n",
       "      <td>0</td>\n",
       "      <td>0</td>\n",
       "      <td>0</td>\n",
       "      <td>0</td>\n",
       "      <td>0</td>\n",
       "      <td>0</td>\n",
       "      <td>0</td>\n",
       "      <td>0</td>\n",
       "      <td>0</td>\n",
       "      <td>1</td>\n",
       "    </tr>\n",
       "    <tr>\n",
       "      <th>1620</th>\n",
       "      <td>2016-03-08</td>\n",
       "      <td>3</td>\n",
       "      <td>1</td>\n",
       "      <td>12</td>\n",
       "      <td>42.00</td>\n",
       "      <td>38.42</td>\n",
       "      <td>0.31</td>\n",
       "      <td>0.45</td>\n",
       "      <td>5.57</td>\n",
       "      <td>10.00</td>\n",
       "      <td>58.0</td>\n",
       "      <td>0</td>\n",
       "      <td>0</td>\n",
       "      <td>1</td>\n",
       "      <td>0</td>\n",
       "      <td>0</td>\n",
       "      <td>0</td>\n",
       "      <td>0</td>\n",
       "      <td>0</td>\n",
       "      <td>0</td>\n",
       "      <td>0</td>\n",
       "      <td>0</td>\n",
       "      <td>0</td>\n",
       "      <td>0</td>\n",
       "      <td>1</td>\n",
       "      <td>0</td>\n",
       "      <td>0</td>\n",
       "      <td>0</td>\n",
       "      <td>0</td>\n",
       "      <td>0</td>\n",
       "      <td>0</td>\n",
       "      <td>0</td>\n",
       "      <td>0</td>\n",
       "      <td>0</td>\n",
       "      <td>0</td>\n",
       "      <td>0</td>\n",
       "      <td>0</td>\n",
       "      <td>1</td>\n",
       "      <td>0</td>\n",
       "      <td>0</td>\n",
       "      <td>0</td>\n",
       "      <td>0</td>\n",
       "      <td>0</td>\n",
       "      <td>0</td>\n",
       "      <td>0</td>\n",
       "      <td>0</td>\n",
       "      <td>0</td>\n",
       "      <td>0</td>\n",
       "      <td>0</td>\n",
       "    </tr>\n",
       "    <tr>\n",
       "      <th>8478</th>\n",
       "      <td>2016-12-19</td>\n",
       "      <td>12</td>\n",
       "      <td>0</td>\n",
       "      <td>6</td>\n",
       "      <td>13.91</td>\n",
       "      <td>3.33</td>\n",
       "      <td>0.05</td>\n",
       "      <td>0.48</td>\n",
       "      <td>7.39</td>\n",
       "      <td>10.00</td>\n",
       "      <td>4.0</td>\n",
       "      <td>0</td>\n",
       "      <td>0</td>\n",
       "      <td>0</td>\n",
       "      <td>0</td>\n",
       "      <td>0</td>\n",
       "      <td>0</td>\n",
       "      <td>0</td>\n",
       "      <td>0</td>\n",
       "      <td>0</td>\n",
       "      <td>0</td>\n",
       "      <td>0</td>\n",
       "      <td>1</td>\n",
       "      <td>1</td>\n",
       "      <td>0</td>\n",
       "      <td>0</td>\n",
       "      <td>0</td>\n",
       "      <td>0</td>\n",
       "      <td>0</td>\n",
       "      <td>0</td>\n",
       "      <td>0</td>\n",
       "      <td>1</td>\n",
       "      <td>0</td>\n",
       "      <td>0</td>\n",
       "      <td>0</td>\n",
       "      <td>0</td>\n",
       "      <td>0</td>\n",
       "      <td>0</td>\n",
       "      <td>0</td>\n",
       "      <td>0</td>\n",
       "      <td>0</td>\n",
       "      <td>0</td>\n",
       "      <td>0</td>\n",
       "      <td>0</td>\n",
       "      <td>0</td>\n",
       "      <td>0</td>\n",
       "      <td>0</td>\n",
       "      <td>0</td>\n",
       "      <td>0</td>\n",
       "    </tr>\n",
       "    <tr>\n",
       "      <th>6920</th>\n",
       "      <td>2016-10-15</td>\n",
       "      <td>10</td>\n",
       "      <td>5</td>\n",
       "      <td>9</td>\n",
       "      <td>63.73</td>\n",
       "      <td>63.73</td>\n",
       "      <td>0.17</td>\n",
       "      <td>0.25</td>\n",
       "      <td>2.57</td>\n",
       "      <td>10.00</td>\n",
       "      <td>66.0</td>\n",
       "      <td>0</td>\n",
       "      <td>0</td>\n",
       "      <td>0</td>\n",
       "      <td>0</td>\n",
       "      <td>0</td>\n",
       "      <td>0</td>\n",
       "      <td>0</td>\n",
       "      <td>0</td>\n",
       "      <td>0</td>\n",
       "      <td>1</td>\n",
       "      <td>0</td>\n",
       "      <td>0</td>\n",
       "      <td>0</td>\n",
       "      <td>0</td>\n",
       "      <td>0</td>\n",
       "      <td>0</td>\n",
       "      <td>0</td>\n",
       "      <td>1</td>\n",
       "      <td>0</td>\n",
       "      <td>0</td>\n",
       "      <td>0</td>\n",
       "      <td>0</td>\n",
       "      <td>0</td>\n",
       "      <td>1</td>\n",
       "      <td>0</td>\n",
       "      <td>0</td>\n",
       "      <td>0</td>\n",
       "      <td>0</td>\n",
       "      <td>0</td>\n",
       "      <td>0</td>\n",
       "      <td>0</td>\n",
       "      <td>0</td>\n",
       "      <td>0</td>\n",
       "      <td>0</td>\n",
       "      <td>0</td>\n",
       "      <td>0</td>\n",
       "      <td>0</td>\n",
       "      <td>0</td>\n",
       "    </tr>\n",
       "    <tr>\n",
       "      <th>1940</th>\n",
       "      <td>2016-03-21</td>\n",
       "      <td>3</td>\n",
       "      <td>0</td>\n",
       "      <td>21</td>\n",
       "      <td>52.14</td>\n",
       "      <td>52.14</td>\n",
       "      <td>0.14</td>\n",
       "      <td>0.28</td>\n",
       "      <td>4.67</td>\n",
       "      <td>10.00</td>\n",
       "      <td>35.0</td>\n",
       "      <td>0</td>\n",
       "      <td>0</td>\n",
       "      <td>1</td>\n",
       "      <td>0</td>\n",
       "      <td>0</td>\n",
       "      <td>0</td>\n",
       "      <td>0</td>\n",
       "      <td>0</td>\n",
       "      <td>0</td>\n",
       "      <td>0</td>\n",
       "      <td>0</td>\n",
       "      <td>0</td>\n",
       "      <td>1</td>\n",
       "      <td>0</td>\n",
       "      <td>0</td>\n",
       "      <td>0</td>\n",
       "      <td>0</td>\n",
       "      <td>0</td>\n",
       "      <td>0</td>\n",
       "      <td>0</td>\n",
       "      <td>0</td>\n",
       "      <td>0</td>\n",
       "      <td>0</td>\n",
       "      <td>0</td>\n",
       "      <td>0</td>\n",
       "      <td>0</td>\n",
       "      <td>0</td>\n",
       "      <td>0</td>\n",
       "      <td>0</td>\n",
       "      <td>0</td>\n",
       "      <td>0</td>\n",
       "      <td>0</td>\n",
       "      <td>0</td>\n",
       "      <td>0</td>\n",
       "      <td>0</td>\n",
       "      <td>1</td>\n",
       "      <td>0</td>\n",
       "      <td>0</td>\n",
       "    </tr>\n",
       "    <tr>\n",
       "      <th>2986</th>\n",
       "      <td>2016-05-04</td>\n",
       "      <td>5</td>\n",
       "      <td>2</td>\n",
       "      <td>11</td>\n",
       "      <td>63.89</td>\n",
       "      <td>63.89</td>\n",
       "      <td>0.12</td>\n",
       "      <td>0.30</td>\n",
       "      <td>2.50</td>\n",
       "      <td>10.00</td>\n",
       "      <td>90.0</td>\n",
       "      <td>0</td>\n",
       "      <td>0</td>\n",
       "      <td>0</td>\n",
       "      <td>0</td>\n",
       "      <td>1</td>\n",
       "      <td>0</td>\n",
       "      <td>0</td>\n",
       "      <td>0</td>\n",
       "      <td>0</td>\n",
       "      <td>0</td>\n",
       "      <td>0</td>\n",
       "      <td>0</td>\n",
       "      <td>0</td>\n",
       "      <td>0</td>\n",
       "      <td>1</td>\n",
       "      <td>0</td>\n",
       "      <td>0</td>\n",
       "      <td>0</td>\n",
       "      <td>0</td>\n",
       "      <td>0</td>\n",
       "      <td>0</td>\n",
       "      <td>0</td>\n",
       "      <td>0</td>\n",
       "      <td>0</td>\n",
       "      <td>0</td>\n",
       "      <td>1</td>\n",
       "      <td>0</td>\n",
       "      <td>0</td>\n",
       "      <td>0</td>\n",
       "      <td>0</td>\n",
       "      <td>0</td>\n",
       "      <td>0</td>\n",
       "      <td>0</td>\n",
       "      <td>0</td>\n",
       "      <td>0</td>\n",
       "      <td>0</td>\n",
       "      <td>0</td>\n",
       "      <td>0</td>\n",
       "    </tr>\n",
       "  </tbody>\n",
       "</table>\n",
       "</div>"
      ],
      "text/plain": [
       "     Checkout_Date  Checkout_Month  Checkout_WeekDay  Checkout_Hour  Temperature  Apparent_Temperature  Cloud_Cover  Humidity  Wind_Speed  Visibility  Number_Of_Checkouts  month_1  month_2  month_3  month_4  month_5  month_6  month_7  month_8  month_9  month_10  month_11  month_12  weekday_0  weekday_1  weekday_2  weekday_3  weekday_4  weekday_5  weekday_6  hour_5  hour_6  hour_7  hour_8  hour_9  hour_10  hour_11  hour_12  hour_13  hour_14  hour_15  hour_16  hour_17  hour_18  hour_19  hour_20  hour_21  hour_22  hour_23\n",
       "7973    2016-11-28              11                 0              5        31.60                 23.75         0.10      0.37        9.03        9.60                 10.0        0        0        0        0        0        0        0        0        0         0         1         0          1          0          0          0          0          0          0       1       0       0       0       0        0        0        0        0        0        0        0        0        0        0        0        0        0        0\n",
       "5950    2016-09-04               9                 6             23        59.37                 59.37         0.09      0.65        6.43        9.81                 24.0        0        0        0        0        0        0        0        0        1         0         0         0          0          0          0          0          0          0          1       0       0       0       0       0        0        0        0        0        0        0        0        0        0        0        0        0        0        1\n",
       "6718    2016-10-06              10                 3             23        35.28                 31.47         0.15      0.87        4.39       10.00                  7.0        0        0        0        0        0        0        0        0        0         1         0         0          0          0          0          1          0          0          0       0       0       0       0       0        0        0        0        0        0        0        0        0        0        0        0        0        0        1\n",
       "304     2016-01-13               1                 2             16        42.68                 40.48         0.02      0.41        3.92       10.00                 61.0        1        0        0        0        0        0        0        0        0         0         0         0          0          0          1          0          0          0          0       0       0       0       0       0        0        0        0        0        0        0        1        0        0        0        0        0        0        0\n",
       "7511    2016-11-08              11                 1             23        39.57                 36.25         0.04      0.49        4.64       10.00                  8.0        0        0        0        0        0        0        0        0        0         0         1         0          0          1          0          0          0          0          0       0       0       0       0       0        0        0        0        0        0        0        0        0        0        0        0        0        0        1\n",
       "1620    2016-03-08               3                 1             12        42.00                 38.42         0.31      0.45        5.57       10.00                 58.0        0        0        1        0        0        0        0        0        0         0         0         0          0          1          0          0          0          0          0       0       0       0       0       0        0        0        1        0        0        0        0        0        0        0        0        0        0        0\n",
       "8478    2016-12-19              12                 0              6        13.91                  3.33         0.05      0.48        7.39       10.00                  4.0        0        0        0        0        0        0        0        0        0         0         0         1          1          0          0          0          0          0          0       0       1       0       0       0        0        0        0        0        0        0        0        0        0        0        0        0        0        0\n",
       "6920    2016-10-15              10                 5              9        63.73                 63.73         0.17      0.25        2.57       10.00                 66.0        0        0        0        0        0        0        0        0        0         1         0         0          0          0          0          0          0          1          0       0       0       0       0       1        0        0        0        0        0        0        0        0        0        0        0        0        0        0\n",
       "1940    2016-03-21               3                 0             21        52.14                 52.14         0.14      0.28        4.67       10.00                 35.0        0        0        1        0        0        0        0        0        0         0         0         0          1          0          0          0          0          0          0       0       0       0       0       0        0        0        0        0        0        0        0        0        0        0        0        1        0        0\n",
       "2986    2016-05-04               5                 2             11        63.89                 63.89         0.12      0.30        2.50       10.00                 90.0        0        0        0        0        1        0        0        0        0         0         0         0          0          0          1          0          0          0          0       0       0       0       0       0        0        1        0        0        0        0        0        0        0        0        0        0        0        0"
      ]
     },
     "execution_count": 42,
     "metadata": {},
     "output_type": "execute_result"
    }
   ],
   "source": [
    "data.sample(n=10, random_state=1)"
   ]
  },
  {
   "cell_type": "code",
   "execution_count": 43,
   "metadata": {
    "collapsed": false
   },
   "outputs": [
    {
     "name": "stdout",
     "output_type": "stream",
     "text": [
      "<class 'pandas.core.frame.DataFrame'>\n",
      "Int64Index: 6849 entries, 8 to 8783\n",
      "Data columns (total 49 columns):\n",
      "Checkout_Date           6849 non-null object\n",
      "Checkout_Month          6849 non-null int32\n",
      "Checkout_WeekDay        6849 non-null int32\n",
      "Checkout_Hour           6849 non-null int64\n",
      "Temperature             6849 non-null float64\n",
      "Apparent_Temperature    6849 non-null float64\n",
      "Cloud_Cover             6849 non-null float64\n",
      "Humidity                6849 non-null float64\n",
      "Wind_Speed              6849 non-null float64\n",
      "Visibility              6849 non-null float64\n",
      "Number_Of_Checkouts     6849 non-null float64\n",
      "month_1                 6849 non-null uint8\n",
      "month_2                 6849 non-null uint8\n",
      "month_3                 6849 non-null uint8\n",
      "month_4                 6849 non-null uint8\n",
      "month_5                 6849 non-null uint8\n",
      "month_6                 6849 non-null uint8\n",
      "month_7                 6849 non-null uint8\n",
      "month_8                 6849 non-null uint8\n",
      "month_9                 6849 non-null uint8\n",
      "month_10                6849 non-null uint8\n",
      "month_11                6849 non-null uint8\n",
      "month_12                6849 non-null uint8\n",
      "weekday_0               6849 non-null uint8\n",
      "weekday_1               6849 non-null uint8\n",
      "weekday_2               6849 non-null uint8\n",
      "weekday_3               6849 non-null uint8\n",
      "weekday_4               6849 non-null uint8\n",
      "weekday_5               6849 non-null uint8\n",
      "weekday_6               6849 non-null uint8\n",
      "hour_5                  6849 non-null uint8\n",
      "hour_6                  6849 non-null uint8\n",
      "hour_7                  6849 non-null uint8\n",
      "hour_8                  6849 non-null uint8\n",
      "hour_9                  6849 non-null uint8\n",
      "hour_10                 6849 non-null uint8\n",
      "hour_11                 6849 non-null uint8\n",
      "hour_12                 6849 non-null uint8\n",
      "hour_13                 6849 non-null uint8\n",
      "hour_14                 6849 non-null uint8\n",
      "hour_15                 6849 non-null uint8\n",
      "hour_16                 6849 non-null uint8\n",
      "hour_17                 6849 non-null uint8\n",
      "hour_18                 6849 non-null uint8\n",
      "hour_19                 6849 non-null uint8\n",
      "hour_20                 6849 non-null uint8\n",
      "hour_21                 6849 non-null uint8\n",
      "hour_22                 6849 non-null uint8\n",
      "hour_23                 6849 non-null uint8\n",
      "dtypes: float64(7), int32(2), int64(1), object(1), uint8(38)\n",
      "memory usage: 842.7+ KB\n"
     ]
    }
   ],
   "source": [
    "data.info()"
   ]
  },
  {
   "cell_type": "code",
   "execution_count": 44,
   "metadata": {
    "collapsed": false
   },
   "outputs": [],
   "source": [
    "data = data[['month_1', 'month_2', 'month_3', 'month_4', 'month_5', 'month_6', 'month_7', 'month_8',\n",
    "             'month_9', 'month_10', 'month_11', 'month_12',\n",
    "             'weekday_0', 'weekday_1', 'weekday_2', 'weekday_3', 'weekday_4', 'weekday_5', 'weekday_6',\n",
    "             'hour_5', 'hour_6', 'hour_7', 'hour_8', 'hour_9', 'hour_10', 'hour_11', 'hour_12', 'hour_13',\n",
    "             'hour_14', 'hour_15', 'hour_16', 'hour_17',\n",
    "             'hour_18', 'hour_19', 'hour_20', 'hour_21', 'hour_22', 'hour_23',\n",
    "             'Checkout_Month', 'Checkout_WeekDay', 'Checkout_Hour',\n",
    "             'Temperature', 'Apparent_Temperature', 'Cloud_Cover', 'Wind_Speed', 'Humidity', 'Visibility',\n",
    "             'Number_Of_Checkouts']]"
   ]
  },
  {
   "cell_type": "code",
   "execution_count": 45,
   "metadata": {
    "collapsed": false
   },
   "outputs": [
    {
     "data": {
      "text/html": [
       "<div>\n",
       "<table border=\"1\" class=\"dataframe\">\n",
       "  <thead>\n",
       "    <tr style=\"text-align: right;\">\n",
       "      <th></th>\n",
       "      <th>month_1</th>\n",
       "      <th>month_2</th>\n",
       "      <th>month_3</th>\n",
       "      <th>month_4</th>\n",
       "      <th>month_5</th>\n",
       "      <th>month_6</th>\n",
       "      <th>month_7</th>\n",
       "      <th>month_8</th>\n",
       "      <th>month_9</th>\n",
       "      <th>month_10</th>\n",
       "      <th>month_11</th>\n",
       "      <th>month_12</th>\n",
       "      <th>weekday_0</th>\n",
       "      <th>weekday_1</th>\n",
       "      <th>weekday_2</th>\n",
       "      <th>weekday_3</th>\n",
       "      <th>weekday_4</th>\n",
       "      <th>weekday_5</th>\n",
       "      <th>weekday_6</th>\n",
       "      <th>hour_5</th>\n",
       "      <th>hour_6</th>\n",
       "      <th>hour_7</th>\n",
       "      <th>hour_8</th>\n",
       "      <th>hour_9</th>\n",
       "      <th>hour_10</th>\n",
       "      <th>hour_11</th>\n",
       "      <th>hour_12</th>\n",
       "      <th>hour_13</th>\n",
       "      <th>hour_14</th>\n",
       "      <th>hour_15</th>\n",
       "      <th>hour_16</th>\n",
       "      <th>hour_17</th>\n",
       "      <th>hour_18</th>\n",
       "      <th>hour_19</th>\n",
       "      <th>hour_20</th>\n",
       "      <th>hour_21</th>\n",
       "      <th>hour_22</th>\n",
       "      <th>hour_23</th>\n",
       "      <th>Checkout_Month</th>\n",
       "      <th>Checkout_WeekDay</th>\n",
       "      <th>Checkout_Hour</th>\n",
       "      <th>Temperature</th>\n",
       "      <th>Apparent_Temperature</th>\n",
       "      <th>Cloud_Cover</th>\n",
       "      <th>Wind_Speed</th>\n",
       "      <th>Humidity</th>\n",
       "      <th>Visibility</th>\n",
       "      <th>Number_Of_Checkouts</th>\n",
       "    </tr>\n",
       "  </thead>\n",
       "  <tbody>\n",
       "    <tr>\n",
       "      <th>8</th>\n",
       "      <td>1</td>\n",
       "      <td>0</td>\n",
       "      <td>0</td>\n",
       "      <td>0</td>\n",
       "      <td>0</td>\n",
       "      <td>0</td>\n",
       "      <td>0</td>\n",
       "      <td>0</td>\n",
       "      <td>0</td>\n",
       "      <td>0</td>\n",
       "      <td>0</td>\n",
       "      <td>0</td>\n",
       "      <td>0</td>\n",
       "      <td>0</td>\n",
       "      <td>0</td>\n",
       "      <td>0</td>\n",
       "      <td>1</td>\n",
       "      <td>0</td>\n",
       "      <td>0</td>\n",
       "      <td>0</td>\n",
       "      <td>0</td>\n",
       "      <td>0</td>\n",
       "      <td>1</td>\n",
       "      <td>0</td>\n",
       "      <td>0</td>\n",
       "      <td>0</td>\n",
       "      <td>0</td>\n",
       "      <td>0</td>\n",
       "      <td>0</td>\n",
       "      <td>0</td>\n",
       "      <td>0</td>\n",
       "      <td>0</td>\n",
       "      <td>0</td>\n",
       "      <td>0</td>\n",
       "      <td>0</td>\n",
       "      <td>0</td>\n",
       "      <td>0</td>\n",
       "      <td>0</td>\n",
       "      <td>1</td>\n",
       "      <td>4</td>\n",
       "      <td>8</td>\n",
       "      <td>6.63</td>\n",
       "      <td>-5.68</td>\n",
       "      <td>0.00</td>\n",
       "      <td>7.61</td>\n",
       "      <td>0.73</td>\n",
       "      <td>10.00</td>\n",
       "      <td>3.0</td>\n",
       "    </tr>\n",
       "    <tr>\n",
       "      <th>9</th>\n",
       "      <td>1</td>\n",
       "      <td>0</td>\n",
       "      <td>0</td>\n",
       "      <td>0</td>\n",
       "      <td>0</td>\n",
       "      <td>0</td>\n",
       "      <td>0</td>\n",
       "      <td>0</td>\n",
       "      <td>0</td>\n",
       "      <td>0</td>\n",
       "      <td>0</td>\n",
       "      <td>0</td>\n",
       "      <td>0</td>\n",
       "      <td>0</td>\n",
       "      <td>0</td>\n",
       "      <td>0</td>\n",
       "      <td>1</td>\n",
       "      <td>0</td>\n",
       "      <td>0</td>\n",
       "      <td>0</td>\n",
       "      <td>0</td>\n",
       "      <td>0</td>\n",
       "      <td>0</td>\n",
       "      <td>1</td>\n",
       "      <td>0</td>\n",
       "      <td>0</td>\n",
       "      <td>0</td>\n",
       "      <td>0</td>\n",
       "      <td>0</td>\n",
       "      <td>0</td>\n",
       "      <td>0</td>\n",
       "      <td>0</td>\n",
       "      <td>0</td>\n",
       "      <td>0</td>\n",
       "      <td>0</td>\n",
       "      <td>0</td>\n",
       "      <td>0</td>\n",
       "      <td>0</td>\n",
       "      <td>1</td>\n",
       "      <td>4</td>\n",
       "      <td>9</td>\n",
       "      <td>13.85</td>\n",
       "      <td>4.28</td>\n",
       "      <td>0.08</td>\n",
       "      <td>6.33</td>\n",
       "      <td>0.64</td>\n",
       "      <td>10.00</td>\n",
       "      <td>8.0</td>\n",
       "    </tr>\n",
       "    <tr>\n",
       "      <th>10</th>\n",
       "      <td>1</td>\n",
       "      <td>0</td>\n",
       "      <td>0</td>\n",
       "      <td>0</td>\n",
       "      <td>0</td>\n",
       "      <td>0</td>\n",
       "      <td>0</td>\n",
       "      <td>0</td>\n",
       "      <td>0</td>\n",
       "      <td>0</td>\n",
       "      <td>0</td>\n",
       "      <td>0</td>\n",
       "      <td>0</td>\n",
       "      <td>0</td>\n",
       "      <td>0</td>\n",
       "      <td>0</td>\n",
       "      <td>1</td>\n",
       "      <td>0</td>\n",
       "      <td>0</td>\n",
       "      <td>0</td>\n",
       "      <td>0</td>\n",
       "      <td>0</td>\n",
       "      <td>0</td>\n",
       "      <td>0</td>\n",
       "      <td>1</td>\n",
       "      <td>0</td>\n",
       "      <td>0</td>\n",
       "      <td>0</td>\n",
       "      <td>0</td>\n",
       "      <td>0</td>\n",
       "      <td>0</td>\n",
       "      <td>0</td>\n",
       "      <td>0</td>\n",
       "      <td>0</td>\n",
       "      <td>0</td>\n",
       "      <td>0</td>\n",
       "      <td>0</td>\n",
       "      <td>0</td>\n",
       "      <td>1</td>\n",
       "      <td>4</td>\n",
       "      <td>10</td>\n",
       "      <td>19.73</td>\n",
       "      <td>9.49</td>\n",
       "      <td>0.16</td>\n",
       "      <td>8.55</td>\n",
       "      <td>0.54</td>\n",
       "      <td>10.00</td>\n",
       "      <td>7.0</td>\n",
       "    </tr>\n",
       "    <tr>\n",
       "      <th>11</th>\n",
       "      <td>1</td>\n",
       "      <td>0</td>\n",
       "      <td>0</td>\n",
       "      <td>0</td>\n",
       "      <td>0</td>\n",
       "      <td>0</td>\n",
       "      <td>0</td>\n",
       "      <td>0</td>\n",
       "      <td>0</td>\n",
       "      <td>0</td>\n",
       "      <td>0</td>\n",
       "      <td>0</td>\n",
       "      <td>0</td>\n",
       "      <td>0</td>\n",
       "      <td>0</td>\n",
       "      <td>0</td>\n",
       "      <td>1</td>\n",
       "      <td>0</td>\n",
       "      <td>0</td>\n",
       "      <td>0</td>\n",
       "      <td>0</td>\n",
       "      <td>0</td>\n",
       "      <td>0</td>\n",
       "      <td>0</td>\n",
       "      <td>0</td>\n",
       "      <td>1</td>\n",
       "      <td>0</td>\n",
       "      <td>0</td>\n",
       "      <td>0</td>\n",
       "      <td>0</td>\n",
       "      <td>0</td>\n",
       "      <td>0</td>\n",
       "      <td>0</td>\n",
       "      <td>0</td>\n",
       "      <td>0</td>\n",
       "      <td>0</td>\n",
       "      <td>0</td>\n",
       "      <td>0</td>\n",
       "      <td>1</td>\n",
       "      <td>4</td>\n",
       "      <td>11</td>\n",
       "      <td>25.91</td>\n",
       "      <td>19.04</td>\n",
       "      <td>0.16</td>\n",
       "      <td>5.93</td>\n",
       "      <td>0.42</td>\n",
       "      <td>10.00</td>\n",
       "      <td>22.0</td>\n",
       "    </tr>\n",
       "    <tr>\n",
       "      <th>12</th>\n",
       "      <td>1</td>\n",
       "      <td>0</td>\n",
       "      <td>0</td>\n",
       "      <td>0</td>\n",
       "      <td>0</td>\n",
       "      <td>0</td>\n",
       "      <td>0</td>\n",
       "      <td>0</td>\n",
       "      <td>0</td>\n",
       "      <td>0</td>\n",
       "      <td>0</td>\n",
       "      <td>0</td>\n",
       "      <td>0</td>\n",
       "      <td>0</td>\n",
       "      <td>0</td>\n",
       "      <td>0</td>\n",
       "      <td>1</td>\n",
       "      <td>0</td>\n",
       "      <td>0</td>\n",
       "      <td>0</td>\n",
       "      <td>0</td>\n",
       "      <td>0</td>\n",
       "      <td>0</td>\n",
       "      <td>0</td>\n",
       "      <td>0</td>\n",
       "      <td>0</td>\n",
       "      <td>1</td>\n",
       "      <td>0</td>\n",
       "      <td>0</td>\n",
       "      <td>0</td>\n",
       "      <td>0</td>\n",
       "      <td>0</td>\n",
       "      <td>0</td>\n",
       "      <td>0</td>\n",
       "      <td>0</td>\n",
       "      <td>0</td>\n",
       "      <td>0</td>\n",
       "      <td>0</td>\n",
       "      <td>1</td>\n",
       "      <td>4</td>\n",
       "      <td>12</td>\n",
       "      <td>29.53</td>\n",
       "      <td>23.17</td>\n",
       "      <td>0.16</td>\n",
       "      <td>6.15</td>\n",
       "      <td>0.37</td>\n",
       "      <td>9.97</td>\n",
       "      <td>13.0</td>\n",
       "    </tr>\n",
       "  </tbody>\n",
       "</table>\n",
       "</div>"
      ],
      "text/plain": [
       "    month_1  month_2  month_3  month_4  month_5  month_6  month_7  month_8  month_9  month_10  month_11  month_12  weekday_0  weekday_1  weekday_2  weekday_3  weekday_4  weekday_5  weekday_6  hour_5  hour_6  hour_7  hour_8  hour_9  hour_10  hour_11  hour_12  hour_13  hour_14  hour_15  hour_16  hour_17  hour_18  hour_19  hour_20  hour_21  hour_22  hour_23  Checkout_Month  Checkout_WeekDay  Checkout_Hour  Temperature  Apparent_Temperature  Cloud_Cover  Wind_Speed  Humidity  Visibility  Number_Of_Checkouts\n",
       "8         1        0        0        0        0        0        0        0        0         0         0         0          0          0          0          0          1          0          0       0       0       0       1       0        0        0        0        0        0        0        0        0        0        0        0        0        0        0               1                 4              8         6.63                 -5.68         0.00        7.61      0.73       10.00                  3.0\n",
       "9         1        0        0        0        0        0        0        0        0         0         0         0          0          0          0          0          1          0          0       0       0       0       0       1        0        0        0        0        0        0        0        0        0        0        0        0        0        0               1                 4              9        13.85                  4.28         0.08        6.33      0.64       10.00                  8.0\n",
       "10        1        0        0        0        0        0        0        0        0         0         0         0          0          0          0          0          1          0          0       0       0       0       0       0        1        0        0        0        0        0        0        0        0        0        0        0        0        0               1                 4             10        19.73                  9.49         0.16        8.55      0.54       10.00                  7.0\n",
       "11        1        0        0        0        0        0        0        0        0         0         0         0          0          0          0          0          1          0          0       0       0       0       0       0        0        1        0        0        0        0        0        0        0        0        0        0        0        0               1                 4             11        25.91                 19.04         0.16        5.93      0.42       10.00                 22.0\n",
       "12        1        0        0        0        0        0        0        0        0         0         0         0          0          0          0          0          1          0          0       0       0       0       0       0        0        0        1        0        0        0        0        0        0        0        0        0        0        0               1                 4             12        29.53                 23.17         0.16        6.15      0.37        9.97                 13.0"
      ]
     },
     "execution_count": 45,
     "metadata": {},
     "output_type": "execute_result"
    }
   ],
   "source": [
    "data.head()"
   ]
  },
  {
   "cell_type": "code",
   "execution_count": 46,
   "metadata": {
    "collapsed": false
   },
   "outputs": [],
   "source": [
    "array = data.values"
   ]
  },
  {
   "cell_type": "code",
   "execution_count": 47,
   "metadata": {
    "collapsed": false
   },
   "outputs": [],
   "source": [
    "X = array[:,0:47]"
   ]
  },
  {
   "cell_type": "code",
   "execution_count": 48,
   "metadata": {
    "collapsed": false
   },
   "outputs": [
    {
     "data": {
      "text/plain": [
       "array([  1.  ,   0.  ,   0.  ,   0.  ,   0.  ,   0.  ,   0.  ,   0.  ,\n",
       "         0.  ,   0.  ,   0.  ,   0.  ,   0.  ,   0.  ,   0.  ,   0.  ,\n",
       "         1.  ,   0.  ,   0.  ,   0.  ,   0.  ,   0.  ,   1.  ,   0.  ,\n",
       "         0.  ,   0.  ,   0.  ,   0.  ,   0.  ,   0.  ,   0.  ,   0.  ,\n",
       "         0.  ,   0.  ,   0.  ,   0.  ,   0.  ,   0.  ,   1.  ,   4.  ,\n",
       "         8.  ,   6.63,  -5.68,   0.  ,   7.61,   0.73,  10.  ])"
      ]
     },
     "execution_count": 48,
     "metadata": {},
     "output_type": "execute_result"
    }
   ],
   "source": [
    "X[0]"
   ]
  },
  {
   "cell_type": "markdown",
   "metadata": {},
   "source": [
    "## Feature Correlations"
   ]
  },
  {
   "cell_type": "code",
   "execution_count": 49,
   "metadata": {
    "collapsed": false
   },
   "outputs": [
    {
     "data": {
      "image/png": "[encoded data removed]",
      "text/plain": [
       "<matplotlib.figure.Figure at 0x1a3346ea390>"
      ]
     },
     "metadata": {},
     "output_type": "display_data"
    }
   ],
   "source": [
    "plt.figure(figsize=(16,10))\n",
    "ax = sns.heatmap(data.corr())\n",
    "plt.title(\"Feature Correlations\", fontsize=18)\n",
    "plt.xticks(fontsize=14)\n",
    "plt.yticks(fontsize=14)\n",
    "plt.show()"
   ]
  },
  {
   "cell_type": "code",
   "execution_count": 50,
   "metadata": {
    "collapsed": false
   },
   "outputs": [],
   "source": [
    "features = ['month_1', 'month_2', 'month_3', 'month_4', 'month_5', 'month_6', 'month_7', 'month_8',\n",
    "             'month_9', 'month_10', 'month_11', 'month_12',\n",
    "             'weekday_0', 'weekday_1', 'weekday_2', 'weekday_3', 'weekday_4', 'weekday_5', 'weekday_6',\n",
    "             'hour_5', 'hour_6', 'hour_7', 'hour_8', 'hour_9', 'hour_10', 'hour_11', 'hour_12', 'hour_13',\n",
    "             'hour_14', 'hour_15', 'hour_16', 'hour_17',\n",
    "             'hour_18', 'hour_19', 'hour_20', 'hour_21', 'hour_22', 'hour_23',\n",
    "             'Temperature', 'Apparent_Temperature', 'Cloud_Cover', 'Wind_Speed', 'Humidity', 'Visibility']\n",
    "X = data[features]\n",
    "y = data['Number_Of_Checkouts']\n",
    "X_train, X_test, y_train, y_test = train_test_split(X, y, test_size=0.4, random_state=0)"
   ]
  },
  {
   "cell_type": "markdown",
   "metadata": {},
   "source": [
    "## 2. Modeling - All Features"
   ]
  },
  {
   "cell_type": "markdown",
   "metadata": {},
   "source": [
    "### Plot Feature Importance"
   ]
  },
  {
   "cell_type": "code",
   "execution_count": 51,
   "metadata": {
    "collapsed": false
   },
   "outputs": [],
   "source": [
    "def plot_feature_importances(model, plot_title):\n",
    "    n_features = X.shape[1]\n",
    "    plt.figure(figsize=(10,14))\n",
    "    feature_importance = model.feature_importances_\n",
    "    features_list = features\n",
    "    feature_importance, features_list = zip(*sorted(zip(feature_importance, features_list)))\n",
    "    plt.barh(range(len(features_list)), feature_importance, align='center')\n",
    "    plt.xticks(fontsize=14)\n",
    "    plt.yticks(np.arange(len(features_list)), features_list, fontsize=14)\n",
    "    plt.xlabel('Relative Importance', fontsize=16)\n",
    "    plt.ylabel('Feature', fontsize=16)\n",
    "    plt.title(plot_title + ' Features Importance', fontsize=20)\n",
    "    plt.show()"
   ]
  },
  {
   "cell_type": "markdown",
   "metadata": {},
   "source": [
    "### Get Regression Metrics"
   ]
  },
  {
   "cell_type": "code",
   "execution_count": 52,
   "metadata": {
    "collapsed": false
   },
   "outputs": [],
   "source": [
    "#def get_regression_metrics(model, actual, predicted):\n",
    "#    regression_metrics = {'R Squared' : metrics.r2_score(actual, predicted)}\n",
    "#    dML_metrics = pd.DataFrame.from_dict(regression_metrics, orient='index')\n",
    "#    dML_metrics.columns = [model]\n",
    "#    return dML_metrics"
   ]
  },
  {
   "cell_type": "code",
   "execution_count": 53,
   "metadata": {
    "collapsed": true
   },
   "outputs": [],
   "source": [
    "def get_regression_metrics(model, actual, predicted):\n",
    "    regression_metrics = {'R Squared' : metrics.r2_score(actual, predicted)**0.5,\n",
    "                          'RMSE' : metrics.mean_squared_error(actual, predicted)}\n",
    "    dML_metrics = pd.DataFrame.from_dict(regression_metrics, orient='index')\n",
    "    dML_metrics.columns = [model]\n",
    "    return dML_metrics"
   ]
  },
  {
   "cell_type": "markdown",
   "metadata": {},
   "source": [
    "### Linear Regression"
   ]
  },
  {
   "cell_type": "code",
   "execution_count": 54,
   "metadata": {
    "collapsed": false
   },
   "outputs": [
    {
     "name": "stdout",
     "output_type": "stream",
     "text": [
      "lr.intercept_: 98847970363.7425\n",
      "lr.coef_: [ -3.58248332e+06  -3.58248234e+06  -3.58247912e+06  -3.58247458e+06\n",
      "  -3.58247338e+06  -3.58247565e+06  -3.58249547e+06  -3.58248755e+06\n",
      "  -3.58247792e+06  -3.58247786e+06  -3.58248593e+06  -3.58249237e+06\n",
      "  -2.50097996e+11  -2.50097996e+11  -2.50097996e+11  -2.50097996e+11\n",
      "  -2.50097996e+11  -2.50097996e+11  -2.50097996e+11   1.51253608e+11\n",
      "   1.51253608e+11   1.51253608e+11   1.51253608e+11   1.51253608e+11\n",
      "   1.51253608e+11   1.51253608e+11   1.51253608e+11   1.51253608e+11\n",
      "   1.51253608e+11   1.51253608e+11   1.51253608e+11   1.51253608e+11\n",
      "   1.51253608e+11   1.51253608e+11   1.51253608e+11   1.51253608e+11\n",
      "   1.51253608e+11   1.51253608e+11   1.39476516e-01   9.55970885e-01\n",
      "  -3.72469747e+00  -2.96784108e-01  -7.18614990e+00   1.68708286e+00]\n",
      "\n",
      "Training Set Score: 0.676\n",
      "Testing Set Score: 0.696\n"
     ]
    },
    {
     "data": {
      "text/html": [
       "<div>\n",
       "<table border=\"1\" class=\"dataframe\">\n",
       "  <thead>\n",
       "    <tr style=\"text-align: right;\">\n",
       "      <th></th>\n",
       "      <th>Linear Regression</th>\n",
       "    </tr>\n",
       "  </thead>\n",
       "  <tbody>\n",
       "    <tr>\n",
       "      <th>R Squared</th>\n",
       "      <td>0.834519</td>\n",
       "    </tr>\n",
       "    <tr>\n",
       "      <th>RMSE</th>\n",
       "      <td>627.954399</td>\n",
       "    </tr>\n",
       "  </tbody>\n",
       "</table>\n",
       "</div>"
      ],
      "text/plain": [
       "           Linear Regression\n",
       "R Squared           0.834519\n",
       "RMSE              627.954399"
      ]
     },
     "execution_count": 54,
     "metadata": {},
     "output_type": "execute_result"
    }
   ],
   "source": [
    "# Linear Regression\n",
    "lr = linear_model.LinearRegression()\n",
    "lr.fit(X_train, y_train)\n",
    "y_predict = lr.predict(X_test)\n",
    "print(\"lr.intercept_: {}\".format(lr.intercept_))\n",
    "print(\"lr.coef_: {}\".format(lr.coef_))\n",
    "print(\"\\nTraining Set Score: {:.3f}\".format(lr.score(X_train, y_train)))\n",
    "print(\"Testing Set Score: {:.3f}\".format(lr.score(X_test, y_test)))\n",
    "lr_metrics = get_regression_metrics('Linear Regression', y_test, y_predict)\n",
    "lr_metrics"
   ]
  },
  {
   "cell_type": "code",
   "execution_count": 55,
   "metadata": {
    "collapsed": false
   },
   "outputs": [],
   "source": [
    "#dX = pd.DataFrame(lr.coef_, features)\n",
    "#dX.sort_values(by=0)"
   ]
  },
  {
   "cell_type": "markdown",
   "metadata": {},
   "source": [
    "### Lasso Regression"
   ]
  },
  {
   "cell_type": "code",
   "execution_count": 56,
   "metadata": {
    "collapsed": false
   },
   "outputs": [
    {
     "name": "stdout",
     "output_type": "stream",
     "text": [
      "lso.intercept_: -1.5014104782456315\n",
      "lso.coef_: [ -1.67856259  -0.81606643   2.03695912   6.27729376   7.27583712\n",
      "   4.67182451 -14.98633311  -6.96772419   2.5931117    2.94666152\n",
      "  -4.53888289 -10.63849187  -1.61426042   0.           1.4169881\n",
      "   0.53712395   2.03715393  -4.38806834 -11.98416985 -43.14115275\n",
      " -21.99938754  18.20817589  31.79294194  -4.45134787 -10.51780979  -0.\n",
      "   5.34609851   4.6353157    3.20290551   9.10844907  24.05081284\n",
      "  35.71554191   3.31265665 -17.60886983 -23.58714936 -27.29721963\n",
      " -36.07230659 -44.4488552    0.17154211   0.95365994  -2.88745866\n",
      "  -0.29334085  -6.2997122    1.72462618]\n",
      "Training Set Score: 0.676\n",
      "Testing Set Score: 0.696\n"
     ]
    },
    {
     "data": {
      "text/html": [
       "<div>\n",
       "<table border=\"1\" class=\"dataframe\">\n",
       "  <thead>\n",
       "    <tr style=\"text-align: right;\">\n",
       "      <th></th>\n",
       "      <th>Lasso Regression</th>\n",
       "    </tr>\n",
       "  </thead>\n",
       "  <tbody>\n",
       "    <tr>\n",
       "      <th>R Squared</th>\n",
       "      <td>0.834457</td>\n",
       "    </tr>\n",
       "    <tr>\n",
       "      <th>RMSE</th>\n",
       "      <td>628.168261</td>\n",
       "    </tr>\n",
       "  </tbody>\n",
       "</table>\n",
       "</div>"
      ],
      "text/plain": [
       "           Lasso Regression\n",
       "R Squared          0.834457\n",
       "RMSE             628.168261"
      ]
     },
     "execution_count": 56,
     "metadata": {},
     "output_type": "execute_result"
    }
   ],
   "source": [
    "# Lasso Regression\n",
    "lso = linear_model.Lasso(alpha=0.01)\n",
    "lso.fit(X_train, y_train)\n",
    "y_predict = lso.predict(X_test)\n",
    "print(\"lso.intercept_: {}\".format(lso.intercept_))\n",
    "print(\"lso.coef_: {}\".format(lso.coef_))\n",
    "print(\"Training Set Score: {:.3f}\".format(lso.score(X_train, y_train)))\n",
    "print(\"Testing Set Score: {:.3f}\".format(lso.score(X_test, y_test)))\n",
    "lso_metrics = get_regression_metrics('Lasso Regression', y_test, y_predict)\n",
    "lso_metrics"
   ]
  },
  {
   "cell_type": "markdown",
   "metadata": {},
   "source": [
    "### Ridge Regression"
   ]
  },
  {
   "cell_type": "code",
   "execution_count": 57,
   "metadata": {
    "collapsed": false
   },
   "outputs": [
    {
     "name": "stdout",
     "output_type": "stream",
     "text": [
      "rge.intercept_: -1.5014104782456315\n",
      "rge.coef_: [ -1.67856259  -0.81606643   2.03695912   6.27729376   7.27583712\n",
      "   4.67182451 -14.98633311  -6.96772419   2.5931117    2.94666152\n",
      "  -4.53888289 -10.63849187  -1.61426042   0.           1.4169881\n",
      "   0.53712395   2.03715393  -4.38806834 -11.98416985 -43.14115275\n",
      " -21.99938754  18.20817589  31.79294194  -4.45134787 -10.51780979  -0.\n",
      "   5.34609851   4.6353157    3.20290551   9.10844907  24.05081284\n",
      "  35.71554191   3.31265665 -17.60886983 -23.58714936 -27.29721963\n",
      " -36.07230659 -44.4488552    0.17154211   0.95365994  -2.88745866\n",
      "  -0.29334085  -6.2997122    1.72462618]\n",
      "Training Set Score: 0.676\n",
      "Testing Set Score: 0.696\n"
     ]
    },
    {
     "data": {
      "text/html": [
       "<div>\n",
       "<table border=\"1\" class=\"dataframe\">\n",
       "  <thead>\n",
       "    <tr style=\"text-align: right;\">\n",
       "      <th></th>\n",
       "      <th>Ridge Regression</th>\n",
       "    </tr>\n",
       "  </thead>\n",
       "  <tbody>\n",
       "    <tr>\n",
       "      <th>R Squared</th>\n",
       "      <td>0.834457</td>\n",
       "    </tr>\n",
       "    <tr>\n",
       "      <th>RMSE</th>\n",
       "      <td>628.168261</td>\n",
       "    </tr>\n",
       "  </tbody>\n",
       "</table>\n",
       "</div>"
      ],
      "text/plain": [
       "           Ridge Regression\n",
       "R Squared          0.834457\n",
       "RMSE             628.168261"
      ]
     },
     "execution_count": 57,
     "metadata": {},
     "output_type": "execute_result"
    }
   ],
   "source": [
    "# Ridge Regression\n",
    "rge = linear_model.Lasso(alpha=0.01)\n",
    "rge.fit(X_train, y_train)\n",
    "y_predict = rge.predict(X_test)\n",
    "print(\"rge.intercept_: {}\".format(rge.intercept_))\n",
    "print(\"rge.coef_: {}\".format(rge.coef_))\n",
    "print(\"Training Set Score: {:.3f}\".format(rge.score(X_train, y_train)))\n",
    "print(\"Testing Set Score: {:.3f}\".format(rge.score(X_test, y_test)))\n",
    "rge_metrics = get_regression_metrics('Ridge Regression', y_test, y_predict)\n",
    "rge_metrics"
   ]
  },
  {
   "cell_type": "markdown",
   "metadata": {},
   "source": [
    "### Bayesian Ridge Regression"
   ]
  },
  {
   "cell_type": "code",
   "execution_count": 58,
   "metadata": {
    "collapsed": false
   },
   "outputs": [
    {
     "name": "stdout",
     "output_type": "stream",
     "text": [
      "brr.intercept_: -7.734\n",
      "brr.coef_: [ -9.19101721e-01  -1.16197032e-02   3.12491823e+00   7.50756294e+00\n",
      "   8.62636944e+00   6.17353089e+00  -1.35331550e+01  -5.63916723e+00\n",
      "   3.99952886e+00   4.17237498e+00  -3.65499465e+00  -9.84624701e+00\n",
      "   3.30019161e-01   1.98963541e+00   3.45533810e+00   2.59571489e+00\n",
      "   4.09061761e+00  -2.44019006e+00  -1.00211351e+01  -3.80054749e+01\n",
      "  -1.71073479e+01   2.30425191e+01   3.64971893e+01   2.93587943e-01\n",
      "  -5.71783642e+00   4.88832753e+00   1.03730484e+01   9.66463597e+00\n",
      "   8.26995753e+00   1.41008317e+01   2.88548772e+01   4.04111197e+01\n",
      "   8.36247681e+00  -1.27287811e+01  -1.86363716e+01  -2.22814637e+01\n",
      "  -3.10040219e+01  -3.92772737e+01   1.51157486e-01   9.57813936e-01\n",
      "  -3.28867277e+00  -2.93930306e-01  -7.20411241e+00   1.67318296e+00]\n",
      "Training Set Score: 0.676\n",
      "Testing Set Score: 0.696\n"
     ]
    },
    {
     "data": {
      "text/html": [
       "<div>\n",
       "<table border=\"1\" class=\"dataframe\">\n",
       "  <thead>\n",
       "    <tr style=\"text-align: right;\">\n",
       "      <th></th>\n",
       "      <th>Bayesion Ridge Regression</th>\n",
       "    </tr>\n",
       "  </thead>\n",
       "  <tbody>\n",
       "    <tr>\n",
       "      <th>R Squared</th>\n",
       "      <td>0.834448</td>\n",
       "    </tr>\n",
       "    <tr>\n",
       "      <th>RMSE</th>\n",
       "      <td>628.198327</td>\n",
       "    </tr>\n",
       "  </tbody>\n",
       "</table>\n",
       "</div>"
      ],
      "text/plain": [
       "           Bayesion Ridge Regression\n",
       "R Squared                   0.834448\n",
       "RMSE                      628.198327"
      ]
     },
     "execution_count": 58,
     "metadata": {},
     "output_type": "execute_result"
    }
   ],
   "source": [
    "# Bayesian Ridge Regressor\n",
    "brr = linear_model.BayesianRidge()\n",
    "brr.fit(X_train, y_train)\n",
    "y_predict = brr.predict(X_test)\n",
    "print(\"brr.intercept_: {:.3f}\".format(brr.intercept_))\n",
    "print(\"brr.coef_: {}\".format(brr.coef_))\n",
    "print(\"Training Set Score: {:.3f}\".format(brr.score(X_train, y_train)))\n",
    "print(\"Testing Set Score: {:.3f}\".format(brr.score(X_test, y_test)))\n",
    "brr_metrics = get_regression_metrics('Bayesion Ridge Regression', y_test, y_predict)\n",
    "brr_metrics"
   ]
  },
  {
   "cell_type": "markdown",
   "metadata": {},
   "source": [
    "### Decision Tree Regression"
   ]
  },
  {
   "cell_type": "code",
   "execution_count": 59,
   "metadata": {
    "collapsed": false
   },
   "outputs": [
    {
     "name": "stdout",
     "output_type": "stream",
     "text": [
      "Training Set Score: 1.000\n",
      "Testing Set Score: 0.718\n"
     ]
    },
    {
     "data": {
      "text/html": [
       "<div>\n",
       "<table border=\"1\" class=\"dataframe\">\n",
       "  <thead>\n",
       "    <tr style=\"text-align: right;\">\n",
       "      <th></th>\n",
       "      <th>Decision Tree Regression</th>\n",
       "    </tr>\n",
       "  </thead>\n",
       "  <tbody>\n",
       "    <tr>\n",
       "      <th>R Squared</th>\n",
       "      <td>0.847276</td>\n",
       "    </tr>\n",
       "    <tr>\n",
       "      <th>RMSE</th>\n",
       "      <td>583.574453</td>\n",
       "    </tr>\n",
       "  </tbody>\n",
       "</table>\n",
       "</div>"
      ],
      "text/plain": [
       "           Decision Tree Regression\n",
       "R Squared                  0.847276\n",
       "RMSE                     583.574453"
      ]
     },
     "execution_count": 59,
     "metadata": {},
     "output_type": "execute_result"
    }
   ],
   "source": [
    "# Decision Tree Regressor\n",
    "dtr = DecisionTreeRegressor(random_state=0)\n",
    "dtr.fit(X_train, y_train)\n",
    "y_predict = dtr.predict(X_test)\n",
    "print(\"Training Set Score: {:.3f}\".format(dtr.score(X_train, y_train)))\n",
    "print(\"Testing Set Score: {:.3f}\".format(dtr.score(X_test, y_test)))\n",
    "dtr_metrics = get_regression_metrics('Decision Tree Regression', y_test, y_predict)\n",
    "dtr_metrics"
   ]
  },
  {
   "cell_type": "markdown",
   "metadata": {},
   "source": [
    "### Random Forest Regression"
   ]
  },
  {
   "cell_type": "code",
   "execution_count": 60,
   "metadata": {
    "collapsed": false
   },
   "outputs": [
    {
     "data": {
      "image/png": "[encoded data removed]",
      "text/plain": [
       "<matplotlib.figure.Figure at 0x1a33385e470>"
      ]
     },
     "metadata": {},
     "output_type": "display_data"
    }
   ],
   "source": [
    "plot_feature_importances(dtr, 'Decision Tree Regression')"
   ]
  },
  {
   "cell_type": "code",
   "execution_count": 61,
   "metadata": {
    "collapsed": false
   },
   "outputs": [
    {
     "name": "stdout",
     "output_type": "stream",
     "text": [
      "Training Set Score: 0.969\n",
      "Testing Set Score: 0.825\n"
     ]
    },
    {
     "data": {
      "text/html": [
       "<div>\n",
       "<table border=\"1\" class=\"dataframe\">\n",
       "  <thead>\n",
       "    <tr style=\"text-align: right;\">\n",
       "      <th></th>\n",
       "      <th>Random Forest Regression</th>\n",
       "    </tr>\n",
       "  </thead>\n",
       "  <tbody>\n",
       "    <tr>\n",
       "      <th>R Squared</th>\n",
       "      <td>0.908443</td>\n",
       "    </tr>\n",
       "    <tr>\n",
       "      <th>RMSE</th>\n",
       "      <td>361.434854</td>\n",
       "    </tr>\n",
       "  </tbody>\n",
       "</table>\n",
       "</div>"
      ],
      "text/plain": [
       "           Random Forest Regression\n",
       "R Squared                  0.908443\n",
       "RMSE                     361.434854"
      ]
     },
     "execution_count": 61,
     "metadata": {},
     "output_type": "execute_result"
    }
   ],
   "source": [
    "# Random Forest Regressor\n",
    "rfr = RandomForestRegressor(random_state=0)\n",
    "rfr.fit(X_train, y_train)\n",
    "y_predict = rfr.predict(X_test)\n",
    "print(\"Training Set Score: {:.3f}\".format(rfr.score(X_train, y_train)))\n",
    "print(\"Testing Set Score: {:.3f}\".format(rfr.score(X_test, y_test)))\n",
    "rfr_metrics = get_regression_metrics('Random Forest Regression', y_test, y_predict)\n",
    "rfr_metrics"
   ]
  },
  {
   "cell_type": "code",
   "execution_count": 62,
   "metadata": {
    "collapsed": false
   },
   "outputs": [
    {
     "data": {
      "image/png": "[encoded data removed]",
      "text/plain": [
       "<matplotlib.figure.Figure at 0x1a334864f98>"
      ]
     },
     "metadata": {},
     "output_type": "display_data"
    }
   ],
   "source": [
    "plot_feature_importances(rfr, 'Random Forest Regression')"
   ]
  },
  {
   "cell_type": "markdown",
   "metadata": {},
   "source": [
    "#### Extra Trees Regression"
   ]
  },
  {
   "cell_type": "code",
   "execution_count": 63,
   "metadata": {
    "collapsed": false
   },
   "outputs": [
    {
     "name": "stdout",
     "output_type": "stream",
     "text": [
      "Training Set Score: 1.000\n",
      "Testing Set Score: 0.840\n"
     ]
    },
    {
     "data": {
      "text/html": [
       "<div>\n",
       "<table border=\"1\" class=\"dataframe\">\n",
       "  <thead>\n",
       "    <tr style=\"text-align: right;\">\n",
       "      <th></th>\n",
       "      <th>Extra Trees Regression</th>\n",
       "    </tr>\n",
       "  </thead>\n",
       "  <tbody>\n",
       "    <tr>\n",
       "      <th>R Squared</th>\n",
       "      <td>0.916278</td>\n",
       "    </tr>\n",
       "    <tr>\n",
       "      <th>RMSE</th>\n",
       "      <td>331.860358</td>\n",
       "    </tr>\n",
       "  </tbody>\n",
       "</table>\n",
       "</div>"
      ],
      "text/plain": [
       "           Extra Trees Regression\n",
       "R Squared                0.916278\n",
       "RMSE                   331.860358"
      ]
     },
     "execution_count": 63,
     "metadata": {},
     "output_type": "execute_result"
    }
   ],
   "source": [
    "# Extra Trees Regressor\n",
    "etr = ExtraTreesRegressor(random_state=0)\n",
    "etr.fit(X_train, y_train)\n",
    "y_predict = etr.predict(X_test)\n",
    "print(\"Training Set Score: {:.3f}\".format(etr.score(X_train, y_train)))\n",
    "print(\"Testing Set Score: {:.3f}\".format(etr.score(X_test, y_test)))\n",
    "etr_metrics = get_regression_metrics('Extra Trees Regression', y_test, y_predict)\n",
    "etr_metrics"
   ]
  },
  {
   "cell_type": "code",
   "execution_count": 64,
   "metadata": {
    "collapsed": false
   },
   "outputs": [
    {
     "data": {
      "image/png": "[encoded data removed]",
      "text/plain": [
       "<matplotlib.figure.Figure at 0x1a3352249e8>"
      ]
     },
     "metadata": {},
     "output_type": "display_data"
    }
   ],
   "source": [
    "plot_feature_importances(etr, 'Extra Trees Regression')"
   ]
  },
  {
   "cell_type": "markdown",
   "metadata": {},
   "source": [
    "#### Nearest Neighbors Regression"
   ]
  },
  {
   "cell_type": "code",
   "execution_count": 65,
   "metadata": {
    "collapsed": false
   },
   "outputs": [
    {
     "name": "stdout",
     "output_type": "stream",
     "text": [
      "Training Set Score: 0.575\n",
      "Testing Set Score: 0.476\n"
     ]
    },
    {
     "data": {
      "text/html": [
       "<div>\n",
       "<table border=\"1\" class=\"dataframe\">\n",
       "  <thead>\n",
       "    <tr style=\"text-align: right;\">\n",
       "      <th></th>\n",
       "      <th>Nearest Neighbors Regression</th>\n",
       "    </tr>\n",
       "  </thead>\n",
       "  <tbody>\n",
       "    <tr>\n",
       "      <th>R Squared</th>\n",
       "      <td>0.690249</td>\n",
       "    </tr>\n",
       "    <tr>\n",
       "      <th>RMSE</th>\n",
       "      <td>1082.981442</td>\n",
       "    </tr>\n",
       "  </tbody>\n",
       "</table>\n",
       "</div>"
      ],
      "text/plain": [
       "           Nearest Neighbors Regression\n",
       "R Squared                      0.690249\n",
       "RMSE                        1082.981442"
      ]
     },
     "execution_count": 65,
     "metadata": {},
     "output_type": "execute_result"
    }
   ],
   "source": [
    "# Nearest Neighbors Regressor\n",
    "knr = KNeighborsRegressor(n_neighbors=10)\n",
    "knr.fit(X_train, y_train)\n",
    "y_predict = knr.predict(X_test)\n",
    "print(\"Training Set Score: {:.3f}\".format(knr.score(X_train, y_train)))\n",
    "print(\"Testing Set Score: {:.3f}\".format(knr.score(X_test, y_test)))\n",
    "knr_metrics = get_regression_metrics('Nearest Neighbors Regression', y_test, y_predict)\n",
    "knr_metrics"
   ]
  },
  {
   "cell_type": "markdown",
   "metadata": {},
   "source": [
    "## Regression Summary - Categorical Feature Set"
   ]
  },
  {
   "cell_type": "code",
   "execution_count": 66,
   "metadata": {
    "collapsed": false,
    "scrolled": true
   },
   "outputs": [
    {
     "name": "stdout",
     "output_type": "stream",
     "text": [
      "Regression Summary - Categorical Feature Set\n"
     ]
    },
    {
     "data": {
      "text/html": [
       "<div>\n",
       "<table border=\"1\" class=\"dataframe\">\n",
       "  <thead>\n",
       "    <tr style=\"text-align: right;\">\n",
       "      <th></th>\n",
       "      <th>Linear Regression</th>\n",
       "      <th>Lasso Regression</th>\n",
       "      <th>Ridge Regression</th>\n",
       "      <th>Bayesion Ridge Regression</th>\n",
       "      <th>Decision Tree Regression</th>\n",
       "      <th>Random Forest Regression</th>\n",
       "      <th>Extra Trees Regression</th>\n",
       "      <th>Nearest Neighbors Regression</th>\n",
       "    </tr>\n",
       "  </thead>\n",
       "  <tbody>\n",
       "    <tr>\n",
       "      <th>R Squared</th>\n",
       "      <td>0.834519</td>\n",
       "      <td>0.834457</td>\n",
       "      <td>0.834457</td>\n",
       "      <td>0.834448</td>\n",
       "      <td>0.847276</td>\n",
       "      <td>0.908443</td>\n",
       "      <td>0.916278</td>\n",
       "      <td>0.690249</td>\n",
       "    </tr>\n",
       "    <tr>\n",
       "      <th>RMSE</th>\n",
       "      <td>627.954399</td>\n",
       "      <td>628.168261</td>\n",
       "      <td>628.168261</td>\n",
       "      <td>628.198327</td>\n",
       "      <td>583.574453</td>\n",
       "      <td>361.434854</td>\n",
       "      <td>331.860358</td>\n",
       "      <td>1082.981442</td>\n",
       "    </tr>\n",
       "  </tbody>\n",
       "</table>\n",
       "</div>"
      ],
      "text/plain": [
       "           Linear Regression  Lasso Regression  Ridge Regression  Bayesion Ridge Regression  Decision Tree Regression  Random Forest Regression  Extra Trees Regression  Nearest Neighbors Regression\n",
       "R Squared           0.834519          0.834457          0.834457                   0.834448                  0.847276                  0.908443                0.916278                      0.690249\n",
       "RMSE              627.954399        628.168261        628.168261                 628.198327                583.574453                361.434854              331.860358                   1082.981442"
      ]
     },
     "execution_count": 66,
     "metadata": {},
     "output_type": "execute_result"
    }
   ],
   "source": [
    "# Regression Summary\n",
    "print(\"Regression Summary - Categorical Feature Set\")\n",
    "regression_metrics = pd.concat([lr_metrics, lso_metrics, rge_metrics, brr_metrics,\n",
    "                                dtr_metrics, rfr_metrics, etr_metrics, knr_metrics] , axis=1)\n",
    "regression_metrics.sort_index()"
   ]
  },
  {
   "cell_type": "markdown",
   "metadata": {},
   "source": [
    "## 3. Modeling - Selected Features"
   ]
  },
  {
   "cell_type": "code",
   "execution_count": 67,
   "metadata": {
    "collapsed": true
   },
   "outputs": [],
   "source": [
    "data = dML.copy(deep=True)"
   ]
  },
  {
   "cell_type": "code",
   "execution_count": 68,
   "metadata": {
    "collapsed": false
   },
   "outputs": [],
   "source": [
    "data.rename(columns = {'cloudCover': 'Cloud_Cover', 'temperature': 'Temperature', 'apparentTemperature' : 'Apparent_Temperature',\n",
    "                     'windSpeed' : 'Wind_Speed', 'humidity' : 'Humidity', 'visibility' : 'Visibility'}, inplace = True)"
   ]
  },
  {
   "cell_type": "code",
   "execution_count": 69,
   "metadata": {
    "collapsed": false
   },
   "outputs": [
    {
     "data": {
      "image/png": "[encoded data removed]",
      "text/plain": [
       "<matplotlib.figure.Figure at 0x1a334812c88>"
      ]
     },
     "metadata": {},
     "output_type": "display_data"
    }
   ],
   "source": [
    "features = ['Checkout_Month', 'Checkout_WeekDay', 'Checkout_Hour',  \n",
    "            'Temperature', 'Apparent_Temperature', 'Cloud_Cover', 'Wind_Speed', 'Humidity', 'Visibility',\n",
    "            'Number_Of_Checkouts']\n",
    "plt.figure(figsize=(10,6))\n",
    "ax = sns.heatmap(data.corr())\n",
    "plt.title(\"Feature Correlations\", fontsize=18)\n",
    "plt.xticks(fontsize=14)\n",
    "plt.yticks(fontsize=14)\n",
    "plt.show()"
   ]
  },
  {
   "cell_type": "code",
   "execution_count": 70,
   "metadata": {
    "collapsed": true
   },
   "outputs": [],
   "source": [
    "data = data[['Checkout_Month', 'Checkout_WeekDay', 'Checkout_Hour', 'Temperature', 'Apparent_Temperature',\n",
    "             'Cloud_Cover', 'Wind_Speed', 'Humidity', 'Visibility', 'Number_Of_Checkouts']]"
   ]
  },
  {
   "cell_type": "code",
   "execution_count": 71,
   "metadata": {
    "collapsed": false
   },
   "outputs": [],
   "source": [
    "features = ['Checkout_Month', 'Checkout_WeekDay', 'Checkout_Hour',  \n",
    "            'Temperature', 'Apparent_Temperature', 'Cloud_Cover', 'Wind_Speed', 'Humidity', 'Visibility']\n",
    "X = data[features]\n",
    "y = data['Number_Of_Checkouts']\n",
    "X_train, X_test, y_train, y_test = train_test_split(X, y, test_size=0.4, random_state=0)"
   ]
  },
  {
   "cell_type": "code",
   "execution_count": 72,
   "metadata": {
    "collapsed": false
   },
   "outputs": [
    {
     "data": {
      "text/plain": [
       "array([  1.  ,   4.  ,   8.  ,   6.63,  -5.68,   0.  ,   7.61,   0.73,  10.  ])"
      ]
     },
     "execution_count": 72,
     "metadata": {},
     "output_type": "execute_result"
    }
   ],
   "source": [
    "array = data.values\n",
    "X = array[:,0:9]\n",
    "X[0]"
   ]
  },
  {
   "cell_type": "code",
   "execution_count": 73,
   "metadata": {
    "collapsed": false
   },
   "outputs": [
    {
     "data": {
      "text/plain": [
       "3.0"
      ]
     },
     "execution_count": 73,
     "metadata": {},
     "output_type": "execute_result"
    }
   ],
   "source": [
    "y = array[:,9]\n",
    "y[0]"
   ]
  },
  {
   "cell_type": "code",
   "execution_count": 74,
   "metadata": {
    "collapsed": false
   },
   "outputs": [],
   "source": [
    "features = [\"Checkout_Month\", \"Checkout_WeekDay\", 'Checkout_Hour', 'Temperature', \n",
    "            'Apparent_Temperature', 'Cloud_Cover', 'Wind_Speed', 'Humidity', 'Visibility']\n",
    "X = data[features]\n",
    "y = data[\"Number_Of_Checkouts\"]\n",
    "X_train, X_test, y_train, y_test = train_test_split(X, y, test_size=0.4, random_state=0)"
   ]
  },
  {
   "cell_type": "code",
   "execution_count": 75,
   "metadata": {
    "collapsed": true
   },
   "outputs": [],
   "source": [
    "def plot_feature_importances(model, plot_title):\n",
    "    n_features = X.shape[1]\n",
    "    plt.figure(figsize=(10,6))\n",
    "    feature_importance = model.feature_importances_\n",
    "    features_list = features\n",
    "    feature_importance, features_list = zip(*sorted(zip(feature_importance, features_list)))\n",
    "    plt.barh(range(len(features_list)), feature_importance, align='center')\n",
    "    plt.xticks(fontsize=14)\n",
    "    plt.yticks(np.arange(len(features_list)), features_list, fontsize=14)\n",
    "    plt.xlabel('Relative Importance', fontsize=16)\n",
    "    plt.ylabel('Feature', fontsize=16)\n",
    "    plt.title(plot_title + ' Features Importance', fontsize=20)\n",
    "    plt.show()"
   ]
  },
  {
   "cell_type": "markdown",
   "metadata": {},
   "source": [
    "### Linear Regression"
   ]
  },
  {
   "cell_type": "code",
   "execution_count": 76,
   "metadata": {
    "collapsed": false
   },
   "outputs": [
    {
     "name": "stdout",
     "output_type": "stream",
     "text": [
      "lr.coef_: [ -0.88168351  -1.3913632   -1.37706092  -0.60088188   1.7275582\n",
      "  18.18026322   0.14125982 -42.75967571  -0.39344674]\n",
      "lr.intercept_: 53.016380615962824\n",
      "\n",
      "Training Set Score: 0.433\n",
      "Testing Set Score: 0.448\n"
     ]
    },
    {
     "data": {
      "text/html": [
       "<div>\n",
       "<table border=\"1\" class=\"dataframe\">\n",
       "  <thead>\n",
       "    <tr style=\"text-align: right;\">\n",
       "      <th></th>\n",
       "      <th>Linear Regression</th>\n",
       "    </tr>\n",
       "  </thead>\n",
       "  <tbody>\n",
       "    <tr>\n",
       "      <th>R Squared</th>\n",
       "      <td>0.669090</td>\n",
       "    </tr>\n",
       "    <tr>\n",
       "      <th>RMSE</th>\n",
       "      <td>1142.475389</td>\n",
       "    </tr>\n",
       "  </tbody>\n",
       "</table>\n",
       "</div>"
      ],
      "text/plain": [
       "           Linear Regression\n",
       "R Squared           0.669090\n",
       "RMSE             1142.475389"
      ]
     },
     "execution_count": 76,
     "metadata": {},
     "output_type": "execute_result"
    }
   ],
   "source": [
    "# Linear Regression\n",
    "lr = linear_model.LinearRegression()\n",
    "lr.fit(X_train, y_train)\n",
    "y_predict = lr.predict(X_test)\n",
    "print(\"lr.coef_: {}\".format(lr.coef_))\n",
    "print(\"lr.intercept_: {}\".format(lr.intercept_))\n",
    "print(\"\\nTraining Set Score: {:.3f}\".format(lr.score(X_train, y_train)))\n",
    "print(\"Testing Set Score: {:.3f}\".format(lr.score(X_test, y_test)))\n",
    "lr_metrics = get_regression_metrics('Linear Regression', y_test, y_predict)\n",
    "lr_metrics"
   ]
  },
  {
   "cell_type": "code",
   "execution_count": 77,
   "metadata": {
    "collapsed": false
   },
   "outputs": [],
   "source": [
    "#lr.predict(Xy)"
   ]
  },
  {
   "cell_type": "markdown",
   "metadata": {},
   "source": [
    "### Lasso Regression"
   ]
  },
  {
   "cell_type": "code",
   "execution_count": 78,
   "metadata": {
    "collapsed": false
   },
   "outputs": [
    {
     "name": "stdout",
     "output_type": "stream",
     "text": [
      "Training Set Score: 0.433\n",
      "Testing Set Score: 0.447\n"
     ]
    },
    {
     "data": {
      "text/html": [
       "<div>\n",
       "<table border=\"1\" class=\"dataframe\">\n",
       "  <thead>\n",
       "    <tr style=\"text-align: right;\">\n",
       "      <th></th>\n",
       "      <th>Lasso Regression</th>\n",
       "    </tr>\n",
       "  </thead>\n",
       "  <tbody>\n",
       "    <tr>\n",
       "      <th>R Squared</th>\n",
       "      <td>0.668243</td>\n",
       "    </tr>\n",
       "    <tr>\n",
       "      <th>RMSE</th>\n",
       "      <td>1144.817931</td>\n",
       "    </tr>\n",
       "  </tbody>\n",
       "</table>\n",
       "</div>"
      ],
      "text/plain": [
       "           Lasso Regression\n",
       "R Squared          0.668243\n",
       "RMSE            1144.817931"
      ]
     },
     "execution_count": 78,
     "metadata": {},
     "output_type": "execute_result"
    }
   ],
   "source": [
    "# Lasso Regression\n",
    "lso = linear_model.Lasso(alpha=0.1)\n",
    "lso.fit(X_train, y_train)\n",
    "y_predict = lso.predict(X_test)\n",
    "print(\"Training Set Score: {:.3f}\".format(lso.score(X_train, y_train)))\n",
    "print(\"Testing Set Score: {:.3f}\".format(lso.score(X_test, y_test)))\n",
    "lso_metrics = get_regression_metrics('Lasso Regression', y_test, y_predict)\n",
    "lso_metrics"
   ]
  },
  {
   "cell_type": "markdown",
   "metadata": {},
   "source": [
    "### Ridge Regression"
   ]
  },
  {
   "cell_type": "code",
   "execution_count": 79,
   "metadata": {
    "collapsed": false
   },
   "outputs": [
    {
     "name": "stdout",
     "output_type": "stream",
     "text": [
      "Training Set Score: 0.433\n",
      "Testing Set Score: 0.447\n"
     ]
    },
    {
     "data": {
      "text/html": [
       "<div>\n",
       "<table border=\"1\" class=\"dataframe\">\n",
       "  <thead>\n",
       "    <tr style=\"text-align: right;\">\n",
       "      <th></th>\n",
       "      <th>Ridge Regression</th>\n",
       "    </tr>\n",
       "  </thead>\n",
       "  <tbody>\n",
       "    <tr>\n",
       "      <th>R Squared</th>\n",
       "      <td>0.668243</td>\n",
       "    </tr>\n",
       "    <tr>\n",
       "      <th>RMSE</th>\n",
       "      <td>1144.817931</td>\n",
       "    </tr>\n",
       "  </tbody>\n",
       "</table>\n",
       "</div>"
      ],
      "text/plain": [
       "           Ridge Regression\n",
       "R Squared          0.668243\n",
       "RMSE            1144.817931"
      ]
     },
     "execution_count": 79,
     "metadata": {},
     "output_type": "execute_result"
    }
   ],
   "source": [
    "# Ridge Regression\n",
    "rge = linear_model.Lasso(alpha=0.1)\n",
    "rge.fit(X_train, y_train)\n",
    "y_predict = rge.predict(X_test)\n",
    "print(\"Training Set Score: {:.3f}\".format(rge.score(X_train, y_train)))\n",
    "print(\"Testing Set Score: {:.3f}\".format(rge.score(X_test, y_test)))\n",
    "rge_metrics = get_regression_metrics('Ridge Regression', y_test, y_predict)\n",
    "rge_metrics"
   ]
  },
  {
   "cell_type": "markdown",
   "metadata": {},
   "source": [
    "### Bayesian Ridge Regression"
   ]
  },
  {
   "cell_type": "code",
   "execution_count": 80,
   "metadata": {
    "collapsed": false
   },
   "outputs": [
    {
     "name": "stdout",
     "output_type": "stream",
     "text": [
      "Training Set Score: 0.433\n",
      "Testing Set Score: 0.447\n"
     ]
    },
    {
     "data": {
      "text/html": [
       "<div>\n",
       "<table border=\"1\" class=\"dataframe\">\n",
       "  <thead>\n",
       "    <tr style=\"text-align: right;\">\n",
       "      <th></th>\n",
       "      <th>Bayesion Ridge Regression</th>\n",
       "    </tr>\n",
       "  </thead>\n",
       "  <tbody>\n",
       "    <tr>\n",
       "      <th>R Squared</th>\n",
       "      <td>0.668785</td>\n",
       "    </tr>\n",
       "    <tr>\n",
       "      <th>RMSE</th>\n",
       "      <td>1143.318754</td>\n",
       "    </tr>\n",
       "  </tbody>\n",
       "</table>\n",
       "</div>"
      ],
      "text/plain": [
       "           Bayesion Ridge Regression\n",
       "R Squared                   0.668785\n",
       "RMSE                     1143.318754"
      ]
     },
     "execution_count": 80,
     "metadata": {},
     "output_type": "execute_result"
    }
   ],
   "source": [
    "# Bayesian Ridge Regression\n",
    "brr = linear_model.BayesianRidge()\n",
    "brr.fit(X_train, y_train)\n",
    "y_predict = brr.predict(X_test)\n",
    "print(\"Training Set Score: {:.3f}\".format(brr.score(X_train, y_train)))\n",
    "print(\"Testing Set Score: {:.3f}\".format(brr.score(X_test, y_test)))\n",
    "brr_metrics = get_regression_metrics('Bayesion Ridge Regression', y_test, y_predict)\n",
    "brr_metrics"
   ]
  },
  {
   "cell_type": "markdown",
   "metadata": {},
   "source": [
    "### Decision Tree Regression"
   ]
  },
  {
   "cell_type": "code",
   "execution_count": 81,
   "metadata": {
    "collapsed": false,
    "scrolled": true
   },
   "outputs": [
    {
     "name": "stdout",
     "output_type": "stream",
     "text": [
      "Training Set Score: 1.000\n",
      "Testing Set Score: 0.741\n"
     ]
    },
    {
     "data": {
      "text/html": [
       "<div>\n",
       "<table border=\"1\" class=\"dataframe\">\n",
       "  <thead>\n",
       "    <tr style=\"text-align: right;\">\n",
       "      <th></th>\n",
       "      <th>Decision Tree</th>\n",
       "    </tr>\n",
       "  </thead>\n",
       "  <tbody>\n",
       "    <tr>\n",
       "      <th>R Squared</th>\n",
       "      <td>0.861079</td>\n",
       "    </tr>\n",
       "    <tr>\n",
       "      <th>RMSE</th>\n",
       "      <td>534.799635</td>\n",
       "    </tr>\n",
       "  </tbody>\n",
       "</table>\n",
       "</div>"
      ],
      "text/plain": [
       "           Decision Tree\n",
       "R Squared       0.861079\n",
       "RMSE          534.799635"
      ]
     },
     "execution_count": 81,
     "metadata": {},
     "output_type": "execute_result"
    }
   ],
   "source": [
    "# Decision Tree Regression\n",
    "dtr = DecisionTreeRegressor(random_state=0)\n",
    "dtr.fit(X_train, y_train)\n",
    "y_predict = dtr.predict(X_test)\n",
    "print(\"Training Set Score: {:.3f}\".format(dtr.score(X_train, y_train)))\n",
    "print(\"Testing Set Score: {:.3f}\".format(dtr.score(X_test, y_test)))\n",
    "dtr_metrics = get_regression_metrics('Decision Tree', y_test, y_predict)\n",
    "dtr_metrics"
   ]
  },
  {
   "cell_type": "code",
   "execution_count": 82,
   "metadata": {
    "collapsed": false
   },
   "outputs": [
    {
     "data": {
      "image/png": "[encoded data removed]",
      "text/plain": [
       "<matplotlib.figure.Figure at 0x1a33525af28>"
      ]
     },
     "metadata": {},
     "output_type": "display_data"
    }
   ],
   "source": [
    "plot_feature_importances(dtr, 'Decision Tree Regression')"
   ]
  },
  {
   "cell_type": "markdown",
   "metadata": {},
   "source": [
    "\n",
    "### Random Forest Regression"
   ]
  },
  {
   "cell_type": "code",
   "execution_count": 83,
   "metadata": {
    "collapsed": false
   },
   "outputs": [
    {
     "name": "stdout",
     "output_type": "stream",
     "text": [
      "Training Set Score: 0.975\n",
      "Testing Set Score: 0.854\n"
     ]
    },
    {
     "data": {
      "text/html": [
       "<div>\n",
       "<table border=\"1\" class=\"dataframe\">\n",
       "  <thead>\n",
       "    <tr style=\"text-align: right;\">\n",
       "      <th></th>\n",
       "      <th>Random Forest Regression</th>\n",
       "    </tr>\n",
       "  </thead>\n",
       "  <tbody>\n",
       "    <tr>\n",
       "      <th>R Squared</th>\n",
       "      <td>0.924077</td>\n",
       "    </tr>\n",
       "    <tr>\n",
       "      <th>RMSE</th>\n",
       "      <td>302.171818</td>\n",
       "    </tr>\n",
       "  </tbody>\n",
       "</table>\n",
       "</div>"
      ],
      "text/plain": [
       "           Random Forest Regression\n",
       "R Squared                  0.924077\n",
       "RMSE                     302.171818"
      ]
     },
     "execution_count": 83,
     "metadata": {},
     "output_type": "execute_result"
    }
   ],
   "source": [
    "# Random Forest Regression\n",
    "rfr = RandomForestRegressor(random_state=0)\n",
    "rfr.fit(X_train, y_train)\n",
    "y_predict = rfr.predict(X_test)\n",
    "print(\"Training Set Score: {:.3f}\".format(rfr.score(X_train, y_train)))\n",
    "print(\"Testing Set Score: {:.3f}\".format(rfr.score(X_test, y_test)))\n",
    "rfr_metrics = get_regression_metrics('Random Forest Regression', y_test, y_predict)\n",
    "rfr_metrics"
   ]
  },
  {
   "cell_type": "code",
   "execution_count": 84,
   "metadata": {
    "collapsed": false
   },
   "outputs": [
    {
     "data": {
      "image/png": "[encoded data removed]",
      "text/plain": [
       "<matplotlib.figure.Figure at 0x1a335996908>"
      ]
     },
     "metadata": {},
     "output_type": "display_data"
    }
   ],
   "source": [
    "plot_feature_importances(rfr, 'Random Forest Regression')"
   ]
  },
  {
   "cell_type": "markdown",
   "metadata": {},
   "source": [
    "### Extra Trees Regression"
   ]
  },
  {
   "cell_type": "code",
   "execution_count": 85,
   "metadata": {
    "collapsed": false
   },
   "outputs": [
    {
     "name": "stdout",
     "output_type": "stream",
     "text": [
      "Training Set Score: 1.000\n",
      "Testing Set Score: 0.838\n"
     ]
    },
    {
     "data": {
      "text/html": [
       "<div>\n",
       "<table border=\"1\" class=\"dataframe\">\n",
       "  <thead>\n",
       "    <tr style=\"text-align: right;\">\n",
       "      <th></th>\n",
       "      <th>Extra Trees Regression</th>\n",
       "    </tr>\n",
       "  </thead>\n",
       "  <tbody>\n",
       "    <tr>\n",
       "      <th>R Squared</th>\n",
       "      <td>0.915609</td>\n",
       "    </tr>\n",
       "    <tr>\n",
       "      <th>RMSE</th>\n",
       "      <td>334.397000</td>\n",
       "    </tr>\n",
       "  </tbody>\n",
       "</table>\n",
       "</div>"
      ],
      "text/plain": [
       "           Extra Trees Regression\n",
       "R Squared                0.915609\n",
       "RMSE                   334.397000"
      ]
     },
     "execution_count": 85,
     "metadata": {},
     "output_type": "execute_result"
    }
   ],
   "source": [
    "# Extra Trees Regression\n",
    "etr = ExtraTreesRegressor(random_state=0)\n",
    "etr.fit(X_train, y_train)\n",
    "y_predict = etr.predict(X_test)\n",
    "print(\"Training Set Score: {:.3f}\".format(etr.score(X_train, y_train)))\n",
    "print(\"Testing Set Score: {:.3f}\".format(etr.score(X_test, y_test)))\n",
    "etr_metrics = get_regression_metrics('Extra Trees Regression', y_test, y_predict)\n",
    "etr_metrics"
   ]
  },
  {
   "cell_type": "code",
   "execution_count": 86,
   "metadata": {
    "collapsed": false
   },
   "outputs": [
    {
     "data": {
      "image/png": "[encoded data removed]",
      "text/plain": [
       "<matplotlib.figure.Figure at 0x1a3362d6128>"
      ]
     },
     "metadata": {},
     "output_type": "display_data"
    }
   ],
   "source": [
    "plot_feature_importances(etr, 'Extra Trees Regression')"
   ]
  },
  {
   "cell_type": "markdown",
   "metadata": {},
   "source": [
    "### Nearest Neighbors Regression"
   ]
  },
  {
   "cell_type": "code",
   "execution_count": 87,
   "metadata": {
    "collapsed": false
   },
   "outputs": [
    {
     "name": "stdout",
     "output_type": "stream",
     "text": [
      "Training Set Score: 0.880\n",
      "Testing Set Score: 0.646\n"
     ]
    },
    {
     "data": {
      "text/html": [
       "<div>\n",
       "<table border=\"1\" class=\"dataframe\">\n",
       "  <thead>\n",
       "    <tr style=\"text-align: right;\">\n",
       "      <th></th>\n",
       "      <th>Nearest Neighbors Regression</th>\n",
       "    </tr>\n",
       "  </thead>\n",
       "  <tbody>\n",
       "    <tr>\n",
       "      <th>R Squared</th>\n",
       "      <td>0.803447</td>\n",
       "    </tr>\n",
       "    <tr>\n",
       "      <th>RMSE</th>\n",
       "      <td>733.229106</td>\n",
       "    </tr>\n",
       "  </tbody>\n",
       "</table>\n",
       "</div>"
      ],
      "text/plain": [
       "           Nearest Neighbors Regression\n",
       "R Squared                      0.803447\n",
       "RMSE                         733.229106"
      ]
     },
     "execution_count": 87,
     "metadata": {},
     "output_type": "execute_result"
    }
   ],
   "source": [
    "# Nearest Neighbors Regression\n",
    "knr = KNeighborsRegressor(n_neighbors=2)\n",
    "knr.fit(X_train, y_train)\n",
    "y_predict = knr.predict(X_test)\n",
    "print(\"Training Set Score: {:.3f}\".format(knr.score(X_train, y_train)))\n",
    "print(\"Testing Set Score: {:.3f}\".format(knr.score(X_test, y_test)))\n",
    "knr_metrics = get_regression_metrics('Nearest Neighbors Regression', y_test, y_predict)\n",
    "knr_metrics"
   ]
  },
  {
   "cell_type": "markdown",
   "metadata": {},
   "source": [
    "## Regression Summary with Numeric Feature Set"
   ]
  },
  {
   "cell_type": "code",
   "execution_count": 88,
   "metadata": {
    "collapsed": false
   },
   "outputs": [
    {
     "name": "stdout",
     "output_type": "stream",
     "text": [
      "Regression Summary With Numeric Feature Set\n"
     ]
    },
    {
     "data": {
      "text/html": [
       "<div>\n",
       "<table border=\"1\" class=\"dataframe\">\n",
       "  <thead>\n",
       "    <tr style=\"text-align: right;\">\n",
       "      <th></th>\n",
       "      <th>Linear Regression</th>\n",
       "      <th>Lasso Regression</th>\n",
       "      <th>Ridge Regression</th>\n",
       "      <th>Bayesion Ridge Regression</th>\n",
       "      <th>Decision Tree</th>\n",
       "      <th>Random Forest Regression</th>\n",
       "      <th>Extra Trees Regression</th>\n",
       "      <th>Nearest Neighbors Regression</th>\n",
       "    </tr>\n",
       "  </thead>\n",
       "  <tbody>\n",
       "    <tr>\n",
       "      <th>R Squared</th>\n",
       "      <td>0.669090</td>\n",
       "      <td>0.668243</td>\n",
       "      <td>0.668243</td>\n",
       "      <td>0.668785</td>\n",
       "      <td>0.861079</td>\n",
       "      <td>0.924077</td>\n",
       "      <td>0.915609</td>\n",
       "      <td>0.803447</td>\n",
       "    </tr>\n",
       "    <tr>\n",
       "      <th>RMSE</th>\n",
       "      <td>1142.475389</td>\n",
       "      <td>1144.817931</td>\n",
       "      <td>1144.817931</td>\n",
       "      <td>1143.318754</td>\n",
       "      <td>534.799635</td>\n",
       "      <td>302.171818</td>\n",
       "      <td>334.397000</td>\n",
       "      <td>733.229106</td>\n",
       "    </tr>\n",
       "  </tbody>\n",
       "</table>\n",
       "</div>"
      ],
      "text/plain": [
       "           Linear Regression  Lasso Regression  Ridge Regression  Bayesion Ridge Regression  Decision Tree  Random Forest Regression  Extra Trees Regression  Nearest Neighbors Regression\n",
       "R Squared           0.669090          0.668243          0.668243                   0.668785       0.861079                  0.924077                0.915609                      0.803447\n",
       "RMSE             1142.475389       1144.817931       1144.817931                1143.318754     534.799635                302.171818              334.397000                    733.229106"
      ]
     },
     "execution_count": 88,
     "metadata": {},
     "output_type": "execute_result"
    }
   ],
   "source": [
    "# Regression Summary\n",
    "print(\"Regression Summary With Numeric Feature Set\")\n",
    "regression_metrics = pd.concat([lr_metrics, lso_metrics, rge_metrics, brr_metrics, dtr_metrics,\n",
    "                                rfr_metrics, etr_metrics, knr_metrics] , axis=1)\n",
    "regression_metrics.sort_index()"
   ]
  },
  {
   "cell_type": "markdown",
   "metadata": {},
   "source": [
    "## 4. Summary\n",
    "\n",
    "With reduced features, the Random Forest model attains the highest accuracy with the lowest RMSE. The linear models have almost four times higher RMSE values as compared to the Random Forest model. This suggests that the prediction can be improved with reduced features."
   ]
  }
 ],
 "metadata": {
  "anaconda-cloud": {},
  "kernelspec": {
   "display_name": "Python 3",
   "language": "python",
   "name": "python3"
  },
  "language_info": {
   "codemirror_mode": {
    "name": "ipython",
    "version": 3
   },
   "file_extension": ".py",
   "mimetype": "text/x-python",
   "name": "python",
   "nbconvert_exporter": "python",
   "pygments_lexer": "ipython3",
   "version": "3.6.0"
  }
 },
 "nbformat": 4,
 "nbformat_minor": 1
}
