{
 "cells": [
  {
   "cell_type": "markdown",
   "metadata": {},
   "source": [
    "# Denver 2016 Bike Share Multi-Class Classification Modeling"
   ]
  },
  {
   "cell_type": "markdown",
   "metadata": {},
   "source": [
    "## 1. Introduction\n",
    "\n",
    "The data exploration performed on the Denver Trips dataset indicates weather variables have a significant impact on the number of checkouts. This section will focus on investigating the use of various classification models on the Trips data when combined with weather variables."
   ]
  },
  {
   "cell_type": "code",
   "execution_count": null,
   "metadata": {
    "collapsed": false
   },
   "outputs": [],
   "source": [
    "# Import necessary libraries and functions that are needed for the modeling\n",
    "import pandas as pd\n",
    "import numpy as np\n",
    "import matplotlib.pyplot as plt\n",
    "from sklearn import model_selection\n",
    "from sklearn.tree import DecisionTreeClassifier, export_graphviz\n",
    "from sklearn import metrics\n",
    "from sklearn.ensemble import RandomForestClassifier, ExtraTreesClassifier\n",
    "from sklearn import naive_bayes\n",
    "from sklearn.neighbors import KNeighborsClassifier\n",
    "from sklearn.model_selection import ShuffleSplit\n",
    "from sklearn.model_selection import train_test_split\n",
    "from sklearn.model_selection import cross_val_score\n",
    "import seaborn as sns\n",
    "%matplotlib inline"
   ]
  },
  {
   "cell_type": "code",
   "execution_count": null,
   "metadata": {
    "collapsed": false
   },
   "outputs": [
    {
     "data": {
      "text/html": [
       "<style>body {\n",
       "    margin: 0;\n",
       "    font-family: Helvetica;\n",
       "}\n",
       "table.dataframe {\n",
       "    border-collapse: collapse;\n",
       "    border: none;\n",
       "}\n",
       "table.dataframe tr {\n",
       "    border: none;\n",
       "}\n",
       "table.dataframe td, table.dataframe th {\n",
       "    margin: 0;\n",
       "    border: 1px solid white;\n",
       "    padding-left: 0.25em;\n",
       "    padding-right: 0.25em;\n",
       "}\n",
       "table.dataframe th:not(:empty) {\n",
       "    background-color: #fec;\n",
       "    text-align: left;\n",
       "    font-weight: normal;\n",
       "}\n",
       "table.dataframe tr:nth-child(2) th:empty {\n",
       "    border-left: none;\n",
       "    border-right: 1px dashed #888;\n",
       "}\n",
       "table.dataframe td {\n",
       "    border: 2px solid #ccf;\n",
       "    background-color: #f4f4ff;\n",
       "}\n",
       "h3 {\n",
       "    color: white;\n",
       "    background-color: black;\n",
       "    padding: 0.5em;\n",
       "}\n",
       "</style>"
      ],
      "text/plain": [
       "<IPython.core.display.HTML object>"
      ]
     },
     "execution_count": 72,
     "metadata": {},
     "output_type": "execute_result"
    }
   ],
   "source": [
    "# taken from Brandon Rhodes's Pandas Tutorial (https://github.com/brandon-rhodes)\n",
    "from IPython.core.display import HTML\n",
    "css = open('style-table.css').read() + open('style-notebook.css').read()\n",
    "HTML('<style>{}</style>'.format(css))"
   ]
  },
  {
   "cell_type": "code",
   "execution_count": null,
   "metadata": {
    "collapsed": false
   },
   "outputs": [],
   "source": [
    "dF = pd.read_csv(\"data/2016_Denver_Bike_Trip_ML_Data.gz\", dtype = {'Bike_Number' : object}, compression=\"gzip\")"
   ]
  },
  {
   "cell_type": "code",
   "execution_count": null,
   "metadata": {
    "collapsed": false
   },
   "outputs": [
    {
     "data": {
      "text/plain": [
       "(402965, 14)"
      ]
     },
     "execution_count": 74,
     "metadata": {},
     "output_type": "execute_result"
    }
   ],
   "source": [
    "dF.shape"
   ]
  },
  {
   "cell_type": "code",
   "execution_count": null,
   "metadata": {
    "collapsed": false
   },
   "outputs": [
    {
     "data": {
      "text/html": [
       "<div>\n",
       "<table border=\"1\" class=\"dataframe\">\n",
       "  <thead>\n",
       "    <tr style=\"text-align: right;\">\n",
       "      <th></th>\n",
       "      <th>User_Program</th>\n",
       "      <th>User_ID</th>\n",
       "      <th>Membership_Type</th>\n",
       "      <th>Bike_Number</th>\n",
       "      <th>Checkout_Date</th>\n",
       "      <th>Checkout_Hour</th>\n",
       "      <th>Checkout_Kiosk</th>\n",
       "      <th>Return_Date</th>\n",
       "      <th>Return_Time</th>\n",
       "      <th>Return_Kiosk</th>\n",
       "      <th>Trip_Duration</th>\n",
       "      <th>Trip_Distance</th>\n",
       "      <th>Checkout_WeekDay</th>\n",
       "      <th>Checkout_Month</th>\n",
       "    </tr>\n",
       "  </thead>\n",
       "  <tbody>\n",
       "    <tr>\n",
       "      <th>0</th>\n",
       "      <td>Denver B-cycle</td>\n",
       "      <td>1052163</td>\n",
       "      <td>24-hour Kiosk Only (Denver B-cycle)</td>\n",
       "      <td>83</td>\n",
       "      <td>2016-01-01</td>\n",
       "      <td>23</td>\n",
       "      <td>Market Street Station</td>\n",
       "      <td>2016-01-01</td>\n",
       "      <td>23:23:00</td>\n",
       "      <td>19th &amp; Market</td>\n",
       "      <td>2</td>\n",
       "      <td>0.26</td>\n",
       "      <td>4</td>\n",
       "      <td>1</td>\n",
       "    </tr>\n",
       "  </tbody>\n",
       "</table>\n",
       "</div>"
      ],
      "text/plain": [
       "     User_Program  User_ID                      Membership_Type Bike_Number  \\\n",
       "0  Denver B-cycle  1052163  24-hour Kiosk Only (Denver B-cycle)          83   \n",
       "\n",
       "  Checkout_Date  Checkout_Hour         Checkout_Kiosk Return_Date Return_Time  \\\n",
       "0    2016-01-01             23  Market Street Station  2016-01-01    23:23:00   \n",
       "\n",
       "    Return_Kiosk  Trip_Duration  Trip_Distance  Checkout_WeekDay  \\\n",
       "0  19th & Market              2           0.26                 4   \n",
       "\n",
       "   Checkout_Month  \n",
       "0               1  "
      ]
     },
     "execution_count": 75,
     "metadata": {},
     "output_type": "execute_result"
    }
   ],
   "source": [
    "dF.head(1)"
   ]
  },
  {
   "cell_type": "code",
   "execution_count": null,
   "metadata": {
    "collapsed": false
   },
   "outputs": [],
   "source": [
    "dF.drop(['User_Program'], axis = 1, inplace = True)\n",
    "dF.drop(['Membership_Type'], axis = 1, inplace = True)\n",
    "dF.drop(['User_ID'], axis = 1, inplace = True)\n",
    "dF.drop(['Bike_Number'], axis = 1, inplace = True)\n",
    "dF.drop(['Checkout_Kiosk'], axis = 1, inplace = True)\n",
    "dF.drop(['Return_Date'], axis = 1, inplace = True)\n",
    "dF.drop(['Return_Kiosk'], axis = 1, inplace = True)\n",
    "dF.drop(['Return_Time'], axis = 1, inplace = True)\n",
    "dF.drop(['Trip_Duration'], axis = 1, inplace = True)\n",
    "dF.drop(['Trip_Distance'], axis = 1, inplace = True)"
   ]
  },
  {
   "cell_type": "code",
   "execution_count": null,
   "metadata": {
    "collapsed": false
   },
   "outputs": [
    {
     "name": "stdout",
     "output_type": "stream",
     "text": [
      "<class 'pandas.core.frame.DataFrame'>\n",
      "RangeIndex: 402965 entries, 0 to 402964\n",
      "Data columns (total 4 columns):\n",
      "Checkout_Date       402965 non-null object\n",
      "Checkout_Hour       402965 non-null int64\n",
      "Checkout_WeekDay    402965 non-null int64\n",
      "Checkout_Month      402965 non-null int64\n",
      "dtypes: int64(3), object(1)\n",
      "memory usage: 12.3+ MB\n"
     ]
    }
   ],
   "source": [
    "dF.info()"
   ]
  },
  {
   "cell_type": "code",
   "execution_count": null,
   "metadata": {
    "collapsed": false
   },
   "outputs": [],
   "source": [
    "# re-arrange columns in preparation for training and test data\n",
    "dF = dF[['Checkout_Date', 'Checkout_Month', 'Checkout_WeekDay', 'Checkout_Hour']]"
   ]
  },
  {
   "cell_type": "code",
   "execution_count": null,
   "metadata": {
    "collapsed": false
   },
   "outputs": [
    {
     "name": "stdout",
     "output_type": "stream",
     "text": [
      "<class 'pandas.core.frame.DataFrame'>\n",
      "RangeIndex: 402965 entries, 0 to 402964\n",
      "Data columns (total 4 columns):\n",
      "Checkout_Date       402965 non-null object\n",
      "Checkout_Month      402965 non-null int64\n",
      "Checkout_WeekDay    402965 non-null int64\n",
      "Checkout_Hour       402965 non-null int64\n",
      "dtypes: int64(3), object(1)\n",
      "memory usage: 12.3+ MB\n"
     ]
    }
   ],
   "source": [
    "dF.info()"
   ]
  },
  {
   "cell_type": "code",
   "execution_count": null,
   "metadata": {
    "collapsed": true
   },
   "outputs": [],
   "source": [
    "dW = pd.read_csv(\"data/Denver_2016_Hourly_Weather_Forecast.csv\")"
   ]
  },
  {
   "cell_type": "code",
   "execution_count": null,
   "metadata": {
    "collapsed": true
   },
   "outputs": [],
   "source": [
    "dW.rename(columns = {'Hour': 'Checkout_Hour'}, inplace = True)"
   ]
  },
  {
   "cell_type": "code",
   "execution_count": null,
   "metadata": {
    "collapsed": true
   },
   "outputs": [],
   "source": [
    "dW['Checkout_WeekDay'] = pd.DatetimeIndex(dW['Date']).weekday"
   ]
  },
  {
   "cell_type": "code",
   "execution_count": null,
   "metadata": {
    "collapsed": true
   },
   "outputs": [],
   "source": [
    "dW['Checkout_Month'] = pd.DatetimeIndex(dW['Date']).month"
   ]
  },
  {
   "cell_type": "code",
   "execution_count": null,
   "metadata": {
    "collapsed": true
   },
   "outputs": [],
   "source": [
    "dFW = dF.groupby(['Checkout_Date', 'Checkout_Month', 'Checkout_WeekDay', \n",
    "                  'Checkout_Hour']).size().to_frame(name = 'Number_Of_Checkouts').reset_index()"
   ]
  },
  {
   "cell_type": "code",
   "execution_count": null,
   "metadata": {
    "collapsed": true
   },
   "outputs": [],
   "source": [
    "dT = pd.merge(dW, dFW, how='left', left_on=['Date', 'Checkout_Hour'], \n",
    "              right_on=['Checkout_Date', 'Checkout_Hour'])"
   ]
  },
  {
   "cell_type": "code",
   "execution_count": null,
   "metadata": {
    "collapsed": false
   },
   "outputs": [
    {
     "data": {
      "text/plain": [
       "True"
      ]
     },
     "execution_count": 86,
     "metadata": {},
     "output_type": "execute_result"
    }
   ],
   "source": [
    "dT.isnull().values.any()"
   ]
  },
  {
   "cell_type": "code",
   "execution_count": null,
   "metadata": {
    "collapsed": true
   },
   "outputs": [],
   "source": [
    "nan_rows = dT[dT.isnull().T.any().T]"
   ]
  },
  {
   "cell_type": "code",
   "execution_count": null,
   "metadata": {
    "collapsed": true
   },
   "outputs": [],
   "source": [
    "dT = dT.drop(dT.index[nan_rows.index])"
   ]
  },
  {
   "cell_type": "code",
   "execution_count": null,
   "metadata": {
    "collapsed": false
   },
   "outputs": [
    {
     "data": {
      "text/plain": [
       "False"
      ]
     },
     "execution_count": 89,
     "metadata": {},
     "output_type": "execute_result"
    }
   ],
   "source": [
    "dT.isnull().values.any()"
   ]
  },
  {
   "cell_type": "code",
   "execution_count": null,
   "metadata": {
    "collapsed": true
   },
   "outputs": [],
   "source": [
    "dT.drop(['Date', 'Checkout_WeekDay_y', 'Checkout_Month_y'], axis = 1, inplace = True)\n",
    "dT.rename(columns = {'cloudCover': 'Cloud_Cover', 'temperature': 'Temperature', 'apparentTemperature' : 'Apparent_Temperature',\n",
    "                     'windSpeed' : 'Wind_Speed', 'humidity' : 'Humidity', 'visibility' : 'Visibility',\n",
    "                     'Checkout_WeekDay_x': 'Checkout_WeekDay', 'Checkout_Month_x': 'Checkout_Month'}, inplace = True)"
   ]
  },
  {
   "cell_type": "code",
   "execution_count": null,
   "metadata": {
    "collapsed": false
   },
   "outputs": [],
   "source": [
    "dT = dT[~((dT.Checkout_Hour == 0)  | (dT.Checkout_Hour == 1)  | (dT.Checkout_Hour == 2)  | (dT.Checkout_Hour == 3)  |\n",
    "         (dT.Checkout_Hour == 4))]"
   ]
  },
  {
   "cell_type": "code",
   "execution_count": null,
   "metadata": {
    "collapsed": false
   },
   "outputs": [
    {
     "data": {
      "text/plain": [
       "(6849, 11)"
      ]
     },
     "execution_count": 92,
     "metadata": {},
     "output_type": "execute_result"
    }
   ],
   "source": [
    "dT.shape"
   ]
  },
  {
   "cell_type": "code",
   "execution_count": null,
   "metadata": {
    "collapsed": false
   },
   "outputs": [
    {
     "data": {
      "text/plain": [
       "252.0"
      ]
     },
     "execution_count": 93,
     "metadata": {},
     "output_type": "execute_result"
    }
   ],
   "source": [
    "dT['Number_Of_Checkouts'].max()"
   ]
  },
  {
   "cell_type": "code",
   "execution_count": null,
   "metadata": {
    "collapsed": false
   },
   "outputs": [
    {
     "name": "stdout",
     "output_type": "stream",
     "text": [
      "<class 'pandas.core.frame.DataFrame'>\n",
      "Int64Index: 6849 entries, 8 to 8783\n",
      "Data columns (total 11 columns):\n",
      "Checkout_Hour           6849 non-null int64\n",
      "Apparent_Temperature    6849 non-null float64\n",
      "Cloud_Cover             6849 non-null float64\n",
      "Humidity                6849 non-null float64\n",
      "Temperature             6849 non-null float64\n",
      "Visibility              6849 non-null float64\n",
      "Wind_Speed              6849 non-null float64\n",
      "Checkout_WeekDay        6849 non-null int32\n",
      "Checkout_Month          6849 non-null int32\n",
      "Checkout_Date           6849 non-null object\n",
      "Number_Of_Checkouts     6849 non-null float64\n",
      "dtypes: float64(7), int32(2), int64(1), object(1)\n",
      "memory usage: 588.6+ KB\n"
     ]
    }
   ],
   "source": [
    "dT.info()"
   ]
  },
  {
   "cell_type": "code",
   "execution_count": null,
   "metadata": {
    "collapsed": true
   },
   "outputs": [],
   "source": [
    "#data = dML.copy(deep=True)"
   ]
  },
  {
   "cell_type": "code",
   "execution_count": null,
   "metadata": {
    "collapsed": false
   },
   "outputs": [],
   "source": [
    "dT.rename(columns = {'cloudCover': 'Cloud_Cover', 'temperature': 'Temperature', 'apparentTemperature' : 'Apparent_Temperature',\n",
    "                     'windSpeed' : 'Wind_Speed', 'humidity' : 'Humidity', 'visibility' : 'Visibility'}, inplace = True)"
   ]
  },
  {
   "cell_type": "code",
   "execution_count": null,
   "metadata": {
    "collapsed": true
   },
   "outputs": [],
   "source": [
    "dT = dT[['Checkout_Date', 'Checkout_Month', 'Checkout_WeekDay', 'Checkout_Hour', 'Temperature', 'Apparent_Temperature',\n",
    "             'Cloud_Cover', 'Humidity', 'Wind_Speed', 'Visibility', 'Number_Of_Checkouts']]"
   ]
  },
  {
   "cell_type": "code",
   "execution_count": null,
   "metadata": {
    "collapsed": false
   },
   "outputs": [],
   "source": [
    "month_dummies = pd.get_dummies(dT.Checkout_Month, prefix='month')"
   ]
  },
  {
   "cell_type": "code",
   "execution_count": null,
   "metadata": {
    "collapsed": true
   },
   "outputs": [],
   "source": [
    "weekday_dummies = pd.get_dummies(dT.Checkout_WeekDay, prefix='weekday')"
   ]
  },
  {
   "cell_type": "code",
   "execution_count": null,
   "metadata": {
    "collapsed": true
   },
   "outputs": [],
   "source": [
    "hour_dummies = pd.get_dummies(dT.Checkout_Hour, prefix='hour')"
   ]
  },
  {
   "cell_type": "code",
   "execution_count": null,
   "metadata": {
    "collapsed": true
   },
   "outputs": [],
   "source": [
    "data = pd.concat([dT, month_dummies, weekday_dummies, hour_dummies], axis=1)"
   ]
  },
  {
   "cell_type": "code",
   "execution_count": null,
   "metadata": {
    "collapsed": false
   },
   "outputs": [],
   "source": [
    "data = data[['Checkout_Month', 'Checkout_WeekDay', 'Checkout_Hour',\n",
    "             'month_1', 'month_2', 'month_3', 'month_4', 'month_5', 'month_6', 'month_7', 'month_8',\n",
    "             'month_9', 'month_10', 'month_11', 'month_12',\n",
    "             'weekday_0', 'weekday_1', 'weekday_2', 'weekday_3', 'weekday_4', 'weekday_5', 'weekday_6',\n",
    "             'hour_5', 'hour_6', 'hour_7', 'hour_8', 'hour_9', 'hour_10', 'hour_11', 'hour_12', 'hour_13',\n",
    "             'hour_14', 'hour_15', 'hour_16', 'hour_17',\n",
    "             'hour_18', 'hour_19', 'hour_20', 'hour_21', 'hour_22', 'hour_23',\n",
    "             'Temperature', 'Apparent_Temperature', 'Cloud_Cover', 'Wind_Speed', 'Humidity', 'Visibility',\n",
    "             'Number_Of_Checkouts']]"
   ]
  },
  {
   "cell_type": "code",
   "execution_count": null,
   "metadata": {
    "collapsed": false
   },
   "outputs": [],
   "source": [
    "data['Number_Of_Checkouts'] = data[['Number_Of_Checkouts']].astype('int32')"
   ]
  },
  {
   "cell_type": "code",
   "execution_count": null,
   "metadata": {
    "collapsed": false
   },
   "outputs": [],
   "source": [
    "data['Class_Label'] = data['Number_Of_Checkouts'].map(lambda x: 0 if ((x >= 1) & (x <= 50)) \n",
    "                                                else 1 if ((x >= 51)  & (x <= 75)) \n",
    "                                                else 2 if ((x >= 76)  & (x <= 100)) \n",
    "                                                else 3 if ((x >= 101)  & (x <= 150))\n",
    "                                                else 4)"
   ]
  },
  {
   "cell_type": "code",
   "execution_count": null,
   "metadata": {
    "collapsed": false
   },
   "outputs": [
    {
     "data": {
      "text/html": [
       "<div>\n",
       "<table border=\"1\" class=\"dataframe\">\n",
       "  <thead>\n",
       "    <tr style=\"text-align: right;\">\n",
       "      <th></th>\n",
       "      <th>Checkout_Month</th>\n",
       "      <th>Checkout_WeekDay</th>\n",
       "      <th>Checkout_Hour</th>\n",
       "      <th>month_1</th>\n",
       "      <th>month_2</th>\n",
       "      <th>month_3</th>\n",
       "      <th>month_4</th>\n",
       "      <th>month_5</th>\n",
       "      <th>month_6</th>\n",
       "      <th>month_7</th>\n",
       "      <th>...</th>\n",
       "      <th>hour_22</th>\n",
       "      <th>hour_23</th>\n",
       "      <th>Temperature</th>\n",
       "      <th>Apparent_Temperature</th>\n",
       "      <th>Cloud_Cover</th>\n",
       "      <th>Wind_Speed</th>\n",
       "      <th>Humidity</th>\n",
       "      <th>Visibility</th>\n",
       "      <th>Number_Of_Checkouts</th>\n",
       "      <th>Class_Label</th>\n",
       "    </tr>\n",
       "  </thead>\n",
       "  <tbody>\n",
       "    <tr>\n",
       "      <th>8</th>\n",
       "      <td>1</td>\n",
       "      <td>4</td>\n",
       "      <td>8</td>\n",
       "      <td>1</td>\n",
       "      <td>0</td>\n",
       "      <td>0</td>\n",
       "      <td>0</td>\n",
       "      <td>0</td>\n",
       "      <td>0</td>\n",
       "      <td>0</td>\n",
       "      <td>...</td>\n",
       "      <td>0</td>\n",
       "      <td>0</td>\n",
       "      <td>6.63</td>\n",
       "      <td>-5.68</td>\n",
       "      <td>0.00</td>\n",
       "      <td>7.61</td>\n",
       "      <td>0.73</td>\n",
       "      <td>10.00</td>\n",
       "      <td>3</td>\n",
       "      <td>0</td>\n",
       "    </tr>\n",
       "    <tr>\n",
       "      <th>9</th>\n",
       "      <td>1</td>\n",
       "      <td>4</td>\n",
       "      <td>9</td>\n",
       "      <td>1</td>\n",
       "      <td>0</td>\n",
       "      <td>0</td>\n",
       "      <td>0</td>\n",
       "      <td>0</td>\n",
       "      <td>0</td>\n",
       "      <td>0</td>\n",
       "      <td>...</td>\n",
       "      <td>0</td>\n",
       "      <td>0</td>\n",
       "      <td>13.85</td>\n",
       "      <td>4.28</td>\n",
       "      <td>0.08</td>\n",
       "      <td>6.33</td>\n",
       "      <td>0.64</td>\n",
       "      <td>10.00</td>\n",
       "      <td>8</td>\n",
       "      <td>0</td>\n",
       "    </tr>\n",
       "    <tr>\n",
       "      <th>10</th>\n",
       "      <td>1</td>\n",
       "      <td>4</td>\n",
       "      <td>10</td>\n",
       "      <td>1</td>\n",
       "      <td>0</td>\n",
       "      <td>0</td>\n",
       "      <td>0</td>\n",
       "      <td>0</td>\n",
       "      <td>0</td>\n",
       "      <td>0</td>\n",
       "      <td>...</td>\n",
       "      <td>0</td>\n",
       "      <td>0</td>\n",
       "      <td>19.73</td>\n",
       "      <td>9.49</td>\n",
       "      <td>0.16</td>\n",
       "      <td>8.55</td>\n",
       "      <td>0.54</td>\n",
       "      <td>10.00</td>\n",
       "      <td>7</td>\n",
       "      <td>0</td>\n",
       "    </tr>\n",
       "    <tr>\n",
       "      <th>11</th>\n",
       "      <td>1</td>\n",
       "      <td>4</td>\n",
       "      <td>11</td>\n",
       "      <td>1</td>\n",
       "      <td>0</td>\n",
       "      <td>0</td>\n",
       "      <td>0</td>\n",
       "      <td>0</td>\n",
       "      <td>0</td>\n",
       "      <td>0</td>\n",
       "      <td>...</td>\n",
       "      <td>0</td>\n",
       "      <td>0</td>\n",
       "      <td>25.91</td>\n",
       "      <td>19.04</td>\n",
       "      <td>0.16</td>\n",
       "      <td>5.93</td>\n",
       "      <td>0.42</td>\n",
       "      <td>10.00</td>\n",
       "      <td>22</td>\n",
       "      <td>0</td>\n",
       "    </tr>\n",
       "    <tr>\n",
       "      <th>12</th>\n",
       "      <td>1</td>\n",
       "      <td>4</td>\n",
       "      <td>12</td>\n",
       "      <td>1</td>\n",
       "      <td>0</td>\n",
       "      <td>0</td>\n",
       "      <td>0</td>\n",
       "      <td>0</td>\n",
       "      <td>0</td>\n",
       "      <td>0</td>\n",
       "      <td>...</td>\n",
       "      <td>0</td>\n",
       "      <td>0</td>\n",
       "      <td>29.53</td>\n",
       "      <td>23.17</td>\n",
       "      <td>0.16</td>\n",
       "      <td>6.15</td>\n",
       "      <td>0.37</td>\n",
       "      <td>9.97</td>\n",
       "      <td>13</td>\n",
       "      <td>0</td>\n",
       "    </tr>\n",
       "  </tbody>\n",
       "</table>\n",
       "<p>5 rows × 49 columns</p>\n",
       "</div>"
      ],
      "text/plain": [
       "    Checkout_Month  Checkout_WeekDay  Checkout_Hour  month_1  month_2  \\\n",
       "8                1                 4              8        1        0   \n",
       "9                1                 4              9        1        0   \n",
       "10               1                 4             10        1        0   \n",
       "11               1                 4             11        1        0   \n",
       "12               1                 4             12        1        0   \n",
       "\n",
       "    month_3  month_4  month_5  month_6  month_7     ...       hour_22  \\\n",
       "8         0        0        0        0        0     ...             0   \n",
       "9         0        0        0        0        0     ...             0   \n",
       "10        0        0        0        0        0     ...             0   \n",
       "11        0        0        0        0        0     ...             0   \n",
       "12        0        0        0        0        0     ...             0   \n",
       "\n",
       "    hour_23  Temperature  Apparent_Temperature  Cloud_Cover  Wind_Speed  \\\n",
       "8         0         6.63                 -5.68         0.00        7.61   \n",
       "9         0        13.85                  4.28         0.08        6.33   \n",
       "10        0        19.73                  9.49         0.16        8.55   \n",
       "11        0        25.91                 19.04         0.16        5.93   \n",
       "12        0        29.53                 23.17         0.16        6.15   \n",
       "\n",
       "    Humidity  Visibility  Number_Of_Checkouts  Class_Label  \n",
       "8       0.73       10.00                    3            0  \n",
       "9       0.64       10.00                    8            0  \n",
       "10      0.54       10.00                    7            0  \n",
       "11      0.42       10.00                   22            0  \n",
       "12      0.37        9.97                   13            0  \n",
       "\n",
       "[5 rows x 49 columns]"
      ]
     },
     "execution_count": 105,
     "metadata": {},
     "output_type": "execute_result"
    }
   ],
   "source": [
    "data.head()"
   ]
  },
  {
   "cell_type": "code",
   "execution_count": null,
   "metadata": {
    "collapsed": false
   },
   "outputs": [],
   "source": [
    "data = data[['Checkout_Month', 'Checkout_WeekDay', 'Checkout_Hour',\n",
    "             'month_1', 'month_2', 'month_3', 'month_4', 'month_5', 'month_6', 'month_7', 'month_8',\n",
    "             'month_9', 'month_10', 'month_11', 'month_12',\n",
    "             'weekday_0', 'weekday_1', 'weekday_2', 'weekday_3', 'weekday_4', 'weekday_5', 'weekday_6',\n",
    "             'hour_5', 'hour_6', 'hour_7', 'hour_8', 'hour_9', 'hour_10', 'hour_11', 'hour_12', 'hour_13',\n",
    "             'hour_14', 'hour_15', 'hour_16', 'hour_17',\n",
    "             'hour_18', 'hour_19', 'hour_20', 'hour_21', 'hour_22', 'hour_23',\n",
    "             'Temperature', 'Apparent_Temperature', 'Cloud_Cover', 'Wind_Speed', 'Humidity', 'Visibility',\n",
    "             'Class_Label']]"
   ]
  },
  {
   "cell_type": "code",
   "execution_count": null,
   "metadata": {
    "collapsed": false
   },
   "outputs": [
    {
     "name": "stdout",
     "output_type": "stream",
     "text": [
      "<class 'pandas.core.frame.DataFrame'>\n",
      "Int64Index: 6849 entries, 8 to 8783\n",
      "Data columns (total 48 columns):\n",
      "Checkout_Month          6849 non-null int32\n",
      "Checkout_WeekDay        6849 non-null int32\n",
      "Checkout_Hour           6849 non-null int64\n",
      "month_1                 6849 non-null uint8\n",
      "month_2                 6849 non-null uint8\n",
      "month_3                 6849 non-null uint8\n",
      "month_4                 6849 non-null uint8\n",
      "month_5                 6849 non-null uint8\n",
      "month_6                 6849 non-null uint8\n",
      "month_7                 6849 non-null uint8\n",
      "month_8                 6849 non-null uint8\n",
      "month_9                 6849 non-null uint8\n",
      "month_10                6849 non-null uint8\n",
      "month_11                6849 non-null uint8\n",
      "month_12                6849 non-null uint8\n",
      "weekday_0               6849 non-null uint8\n",
      "weekday_1               6849 non-null uint8\n",
      "weekday_2               6849 non-null uint8\n",
      "weekday_3               6849 non-null uint8\n",
      "weekday_4               6849 non-null uint8\n",
      "weekday_5               6849 non-null uint8\n",
      "weekday_6               6849 non-null uint8\n",
      "hour_5                  6849 non-null uint8\n",
      "hour_6                  6849 non-null uint8\n",
      "hour_7                  6849 non-null uint8\n",
      "hour_8                  6849 non-null uint8\n",
      "hour_9                  6849 non-null uint8\n",
      "hour_10                 6849 non-null uint8\n",
      "hour_11                 6849 non-null uint8\n",
      "hour_12                 6849 non-null uint8\n",
      "hour_13                 6849 non-null uint8\n",
      "hour_14                 6849 non-null uint8\n",
      "hour_15                 6849 non-null uint8\n",
      "hour_16                 6849 non-null uint8\n",
      "hour_17                 6849 non-null uint8\n",
      "hour_18                 6849 non-null uint8\n",
      "hour_19                 6849 non-null uint8\n",
      "hour_20                 6849 non-null uint8\n",
      "hour_21                 6849 non-null uint8\n",
      "hour_22                 6849 non-null uint8\n",
      "hour_23                 6849 non-null uint8\n",
      "Temperature             6849 non-null float64\n",
      "Apparent_Temperature    6849 non-null float64\n",
      "Cloud_Cover             6849 non-null float64\n",
      "Wind_Speed              6849 non-null float64\n",
      "Humidity                6849 non-null float64\n",
      "Visibility              6849 non-null float64\n",
      "Class_Label             6849 non-null int64\n",
      "dtypes: float64(6), int32(2), int64(2), uint8(38)\n",
      "memory usage: 789.2 KB\n"
     ]
    }
   ],
   "source": [
    "data.info()"
   ]
  },
  {
   "cell_type": "code",
   "execution_count": null,
   "metadata": {
    "collapsed": false
   },
   "outputs": [],
   "source": [
    "array = data.values"
   ]
  },
  {
   "cell_type": "code",
   "execution_count": null,
   "metadata": {
    "collapsed": false
   },
   "outputs": [
    {
     "data": {
      "text/plain": [
       "array([  1.  ,   0.  ,   0.  ,   0.  ,   0.  ,   0.  ,   0.  ,   0.  ,\n",
       "         0.  ,   0.  ,   0.  ,   0.  ,   0.  ,   0.  ,   0.  ,   0.  ,\n",
       "         1.  ,   0.  ,   0.  ,   0.  ,   0.  ,   0.  ,   1.  ,   0.  ,\n",
       "         0.  ,   0.  ,   0.  ,   0.  ,   0.  ,   0.  ,   0.  ,   0.  ,\n",
       "         0.  ,   0.  ,   0.  ,   0.  ,   0.  ,   0.  ,   6.63,  -5.68,\n",
       "         0.  ,   7.61,   0.73,  10.  ])"
      ]
     },
     "execution_count": 109,
     "metadata": {},
     "output_type": "execute_result"
    }
   ],
   "source": [
    "X = array[:,3:47]\n",
    "X[0]"
   ]
  },
  {
   "cell_type": "code",
   "execution_count": null,
   "metadata": {
    "collapsed": false
   },
   "outputs": [
    {
     "data": {
      "text/plain": [
       "0.0"
      ]
     },
     "execution_count": 110,
     "metadata": {},
     "output_type": "execute_result"
    }
   ],
   "source": [
    "y = array[:,47]\n",
    "y[0]"
   ]
  },
  {
   "cell_type": "markdown",
   "metadata": {},
   "source": [
    "## Feature Correlations"
   ]
  },
  {
   "cell_type": "code",
   "execution_count": null,
   "metadata": {
    "collapsed": false
   },
   "outputs": [
    {
     "data": {
      "image/png": "[encoded data removed]",
      "text/plain": [
       "<matplotlib.figure.Figure at 0x28c21325860>"
      ]
     },
     "metadata": {},
     "output_type": "display_data"
    }
   ],
   "source": [
    "plt.figure(figsize=(18,10))\n",
    "ax = sns.heatmap(data.corr())\n",
    "plt.title(\"Feature Correlations\", fontsize=18)\n",
    "plt.xticks(fontsize=14)\n",
    "plt.yticks(fontsize=14)\n",
    "plt.show()"
   ]
  },
  {
   "cell_type": "code",
   "execution_count": null,
   "metadata": {
    "collapsed": false
   },
   "outputs": [],
   "source": [
    "features = ['month_1', 'month_2', 'month_3', 'month_4', 'month_5', 'month_6', 'month_7', 'month_8',\n",
    "             'month_9', 'month_10', 'month_11', 'month_12',\n",
    "             'weekday_0', 'weekday_1', 'weekday_2', 'weekday_3', 'weekday_4', 'weekday_5', 'weekday_6',\n",
    "             'hour_5', 'hour_6', 'hour_7', 'hour_8', 'hour_9', 'hour_10', 'hour_11', 'hour_12', 'hour_13',\n",
    "             'hour_14', 'hour_15', 'hour_16', 'hour_17',\n",
    "             'hour_18', 'hour_19', 'hour_20', 'hour_21', 'hour_22', 'hour_23',\n",
    "             'Temperature', 'Apparent_Temperature', 'Cloud_Cover', 'Wind_Speed', 'Humidity', 'Visibility']\n",
    "X = data[features]\n",
    "y = data[\"Class_Label\"]\n",
    "X_train, X_test, y_train, y_test = train_test_split(X, y, test_size=0.4, random_state=0)"
   ]
  },
  {
   "cell_type": "markdown",
   "metadata": {},
   "source": [
    "## 2. Modeling - Categorical Feature Set"
   ]
  },
  {
   "cell_type": "code",
   "execution_count": null,
   "metadata": {
    "collapsed": false
   },
   "outputs": [],
   "source": [
    "def plot_feature_importances(model, plot_title):\n",
    "    n_features = X.shape[1]\n",
    "    plt.figure(figsize=(10,18))\n",
    "    feature_importance = model.feature_importances_\n",
    "    features_list = features\n",
    "    feature_importance, features_list = zip(*sorted(zip(feature_importance, features_list)))\n",
    "    plt.barh(range(len(features_list)), feature_importance, align='center')\n",
    "    plt.xticks(fontsize=14)\n",
    "    plt.yticks(np.arange(len(features_list)), features_list, fontsize=14)\n",
    "    plt.xlabel('Relative Importance', fontsize=16)\n",
    "    plt.ylabel('Feature', fontsize=16)\n",
    "    plt.title(plot_title + ' Features Importance', fontsize=20)\n",
    "    plt.show()"
   ]
  },
  {
   "cell_type": "code",
   "execution_count": null,
   "metadata": {
    "collapsed": false
   },
   "outputs": [],
   "source": [
    "def get_class_metrics(model, actual, predicted):\n",
    "    class_metrics = {'Accuracy' : metrics.accuracy_score(actual, predicted),\n",
    "                         'F1 (macro)' : metrics.f1_score(actual, predicted, average='macro'),\n",
    "                         'F1 (micro)' : metrics.f1_score(actual, predicted, average='micro'),\n",
    "                         'Precision (macro)' : metrics.precision_score(actual, predicted,  average='macro'),\n",
    "                         'Precision (micro)' : metrics.precision_score(actual, predicted,  average='micro'),\n",
    "                         'Recall (macro)' : metrics.recall_score(actual, predicted,  average='macro'),\n",
    "                         'Recall (micro)' : metrics.recall_score(actual, predicted,  average='micro')}\n",
    "    dML_metrics = pd.DataFrame.from_dict(class_metrics, orient='index')\n",
    "    dML_metrics.columns = [model]\n",
    "    return dML_metrics"
   ]
  },
  {
   "cell_type": "code",
   "execution_count": null,
   "metadata": {
    "collapsed": true
   },
   "outputs": [],
   "source": [
    "def perform_classification(model, clfr, features):   \n",
    " \n",
    "    clfr.fit(X_train, y_train)\n",
    "    ypred = clfr.predict(X_test)\n",
    "    got_metrics = get_class_metrics(model, y_test, ypred)\n",
    "    print(model,'\\n')\n",
    "    print(\"Accuracy on training set: {:.3f}\".format(clfr.score(X_train, y_train)))\n",
    "    print(\"Accuracy on test set: {:.3f}\".format(clfr.score(X_test, y_test)))\n",
    "    print('\\nConfusion Matrix:')\n",
    "    print(metrics.confusion_matrix(y_test, ypred))\n",
    "    print('\\nClassification Report:')\n",
    "    print(metrics.classification_report(y_test, ypred))\n",
    "    return got_metrics, ypred"
   ]
  },
  {
   "cell_type": "code",
   "execution_count": null,
   "metadata": {
    "collapsed": true
   },
   "outputs": [],
   "source": [
    "def perform_cross_validation(clfr):\n",
    "    shuffle_split = ShuffleSplit(test_size=.5, train_size=.5, n_splits=10)\n",
    "    scores = cross_val_score(clfr, X, y, cv=shuffle_split)\n",
    "    print(\"Cross-validation scores:\\n{}\".format(scores))"
   ]
  },
  {
   "cell_type": "markdown",
   "metadata": {},
   "source": [
    "#### Decision Tree Classification"
   ]
  },
  {
   "cell_type": "code",
   "execution_count": null,
   "metadata": {
    "collapsed": false
   },
   "outputs": [
    {
     "name": "stdout",
     "output_type": "stream",
     "text": [
      "Decision Tree Classification \n",
      "\n",
      "Accuracy on training set: 1.000\n",
      "Accuracy on test set: 0.639\n",
      "\n",
      "Confusion Matrix:\n",
      "[[1156  166   35   13    1]\n",
      " [ 137  183   97   32    4]\n",
      " [  29  105  165   97   11]\n",
      " [   9   49   96  188   46]\n",
      " [   0    1    9   52   59]]\n",
      "\n",
      "Classification Report:\n",
      "             precision    recall  f1-score   support\n",
      "\n",
      "          0       0.87      0.84      0.86      1371\n",
      "          1       0.36      0.40      0.38       453\n",
      "          2       0.41      0.41      0.41       407\n",
      "          3       0.49      0.48      0.49       388\n",
      "          4       0.49      0.49      0.49       121\n",
      "\n",
      "avg / total       0.65      0.64      0.64      2740\n",
      "\n",
      "Cross-validation scores:\n",
      "[ 0.62160584  0.64        0.62715328  0.64554745  0.63474453  0.62627737\n",
      "  0.63094891  0.62890511  0.63065693  0.64233577]\n"
     ]
    },
    {
     "data": {
      "image/png": "[encoded data removed]",
      "text/plain": [
       "<matplotlib.figure.Figure at 0x28c212afd30>"
      ]
     },
     "metadata": {},
     "output_type": "display_data"
    },
    {
     "data": {
      "text/html": [
       "<div>\n",
       "<table border=\"1\" class=\"dataframe\">\n",
       "  <thead>\n",
       "    <tr style=\"text-align: right;\">\n",
       "      <th></th>\n",
       "      <th>Decision Tree Classification</th>\n",
       "    </tr>\n",
       "  </thead>\n",
       "  <tbody>\n",
       "    <tr>\n",
       "      <th>Accuracy</th>\n",
       "      <td>0.639051</td>\n",
       "    </tr>\n",
       "    <tr>\n",
       "      <th>F1 (macro)</th>\n",
       "      <td>0.524387</td>\n",
       "    </tr>\n",
       "    <tr>\n",
       "      <th>F1 (micro)</th>\n",
       "      <td>0.639051</td>\n",
       "    </tr>\n",
       "    <tr>\n",
       "      <th>Precision (macro)</th>\n",
       "      <td>0.524363</td>\n",
       "    </tr>\n",
       "    <tr>\n",
       "      <th>Precision (micro)</th>\n",
       "      <td>0.639051</td>\n",
       "    </tr>\n",
       "    <tr>\n",
       "      <th>Recall (macro)</th>\n",
       "      <td>0.524940</td>\n",
       "    </tr>\n",
       "    <tr>\n",
       "      <th>Recall (micro)</th>\n",
       "      <td>0.639051</td>\n",
       "    </tr>\n",
       "  </tbody>\n",
       "</table>\n",
       "</div>"
      ],
      "text/plain": [
       "                   Decision Tree Classification\n",
       "Accuracy                               0.639051\n",
       "F1 (macro)                             0.524387\n",
       "F1 (micro)                             0.639051\n",
       "Precision (macro)                      0.524363\n",
       "Precision (micro)                      0.639051\n",
       "Recall (macro)                         0.524940\n",
       "Recall (micro)                         0.639051"
      ]
     },
     "execution_count": 117,
     "metadata": {},
     "output_type": "execute_result"
    }
   ],
   "source": [
    "# Decision Tree Classifier\n",
    "clf = DecisionTreeClassifier(random_state=0)\n",
    "dtc, y_pred = perform_classification('Decision Tree Classification', clf, features)\n",
    "perform_cross_validation(clf)\n",
    "plot_feature_importances(clf, 'Decision Tree Classification')\n",
    "dtc.sort_index()"
   ]
  },
  {
   "cell_type": "markdown",
   "metadata": {},
   "source": [
    "#### Linear (Logistic) Classification"
   ]
  },
  {
   "cell_type": "code",
   "execution_count": null,
   "metadata": {
    "collapsed": false
   },
   "outputs": [
    {
     "name": "stdout",
     "output_type": "stream",
     "text": [
      "Logistic Classification \n",
      "\n",
      "Accuracy on training set: 0.662\n",
      "Accuracy on test set: 0.672\n",
      "\n",
      "Confusion Matrix:\n",
      "[[1276   44   10   39    2]\n",
      " [ 237  116   78   20    2]\n",
      " [  66   75  179   83    4]\n",
      " [  33   15   82  250    8]\n",
      " [   2    0   13   86   20]]\n",
      "\n",
      "Classification Report:\n",
      "             precision    recall  f1-score   support\n",
      "\n",
      "          0       0.79      0.93      0.85      1371\n",
      "          1       0.46      0.26      0.33       453\n",
      "          2       0.49      0.44      0.47       407\n",
      "          3       0.52      0.64      0.58       388\n",
      "          4       0.56      0.17      0.25       121\n",
      "\n",
      "avg / total       0.64      0.67      0.64      2740\n",
      "\n",
      "Cross-validation scores:\n",
      "[ 0.65576642  0.66189781  0.64846715  0.64817518  0.64583942  0.66481752\n",
      "  0.64817518  0.65576642  0.6610219   0.6540146 ]\n"
     ]
    },
    {
     "data": {
      "text/html": [
       "<div>\n",
       "<table border=\"1\" class=\"dataframe\">\n",
       "  <thead>\n",
       "    <tr style=\"text-align: right;\">\n",
       "      <th></th>\n",
       "      <th>Logistic Classification</th>\n",
       "    </tr>\n",
       "  </thead>\n",
       "  <tbody>\n",
       "    <tr>\n",
       "      <th>Accuracy</th>\n",
       "      <td>0.671898</td>\n",
       "    </tr>\n",
       "    <tr>\n",
       "      <th>F1 (macro)</th>\n",
       "      <td>0.496528</td>\n",
       "    </tr>\n",
       "    <tr>\n",
       "      <th>F1 (micro)</th>\n",
       "      <td>0.671898</td>\n",
       "    </tr>\n",
       "    <tr>\n",
       "      <th>Precision (macro)</th>\n",
       "      <td>0.565525</td>\n",
       "    </tr>\n",
       "    <tr>\n",
       "      <th>Precision (micro)</th>\n",
       "      <td>0.671898</td>\n",
       "    </tr>\n",
       "    <tr>\n",
       "      <th>Recall (macro)</th>\n",
       "      <td>0.487240</td>\n",
       "    </tr>\n",
       "    <tr>\n",
       "      <th>Recall (micro)</th>\n",
       "      <td>0.671898</td>\n",
       "    </tr>\n",
       "  </tbody>\n",
       "</table>\n",
       "</div>"
      ],
      "text/plain": [
       "                   Logistic Classification\n",
       "Accuracy                          0.671898\n",
       "F1 (macro)                        0.496528\n",
       "F1 (micro)                        0.671898\n",
       "Precision (macro)                 0.565525\n",
       "Precision (micro)                 0.671898\n",
       "Recall (macro)                    0.487240\n",
       "Recall (micro)                    0.671898"
      ]
     },
     "execution_count": 118,
     "metadata": {},
     "output_type": "execute_result"
    }
   ],
   "source": [
    "# logistic regression\n",
    "from sklearn import linear_model\n",
    "#clf = linear_model.LogisticRegression(random_state=0)\n",
    "clf = linear_model.LogisticRegression(C=1.0, solver='lbfgs', random_state=0, multi_class='ovr', n_jobs=-1)\n",
    "lin_reg, y_pred = perform_classification('Logistic Classification', clf, features)\n",
    "perform_cross_validation(clf)\n",
    "lin_reg.sort_index()"
   ]
  },
  {
   "cell_type": "markdown",
   "metadata": {},
   "source": [
    "#### Random Forest Classification"
   ]
  },
  {
   "cell_type": "code",
   "execution_count": null,
   "metadata": {
    "collapsed": false
   },
   "outputs": [
    {
     "name": "stdout",
     "output_type": "stream",
     "text": [
      "Random Forest Classification \n",
      "\n",
      "Accuracy on training set: 0.752\n",
      "Accuracy on test set: 0.661\n",
      "\n",
      "Confusion Matrix:\n",
      "[[1298   54    7   12    0]\n",
      " [ 232  120   92    9    0]\n",
      " [  93   69  190   55    0]\n",
      " [  53   33  114  182    6]\n",
      " [  13    7   17   63   21]]\n",
      "\n",
      "Classification Report:\n",
      "             precision    recall  f1-score   support\n",
      "\n",
      "          0       0.77      0.95      0.85      1371\n",
      "          1       0.42      0.26      0.33       453\n",
      "          2       0.45      0.47      0.46       407\n",
      "          3       0.57      0.47      0.51       388\n",
      "          4       0.78      0.17      0.28       121\n",
      "\n",
      "avg / total       0.64      0.66      0.63      2740\n",
      "\n",
      "Cross-validation scores:\n",
      "[ 0.63678832  0.62481752  0.62744526  0.63270073  0.63766423  0.62394161\n",
      "  0.63620438  0.62656934  0.64379562  0.63737226]\n"
     ]
    },
    {
     "data": {
      "image/png": "[encoded data removed]",
      "text/plain": [
       "<matplotlib.figure.Figure at 0x28c1fcbf860>"
      ]
     },
     "metadata": {},
     "output_type": "display_data"
    },
    {
     "data": {
      "text/html": [
       "<div>\n",
       "<table border=\"1\" class=\"dataframe\">\n",
       "  <thead>\n",
       "    <tr style=\"text-align: right;\">\n",
       "      <th></th>\n",
       "      <th>Random Forest Classification</th>\n",
       "    </tr>\n",
       "  </thead>\n",
       "  <tbody>\n",
       "    <tr>\n",
       "      <th>Accuracy</th>\n",
       "      <td>0.660949</td>\n",
       "    </tr>\n",
       "    <tr>\n",
       "      <th>F1 (macro)</th>\n",
       "      <td>0.486226</td>\n",
       "    </tr>\n",
       "    <tr>\n",
       "      <th>F1 (micro)</th>\n",
       "      <td>0.660949</td>\n",
       "    </tr>\n",
       "    <tr>\n",
       "      <th>Precision (macro)</th>\n",
       "      <td>0.597933</td>\n",
       "    </tr>\n",
       "    <tr>\n",
       "      <th>Precision (micro)</th>\n",
       "      <td>0.660949</td>\n",
       "    </tr>\n",
       "    <tr>\n",
       "      <th>Recall (macro)</th>\n",
       "      <td>0.464222</td>\n",
       "    </tr>\n",
       "    <tr>\n",
       "      <th>Recall (micro)</th>\n",
       "      <td>0.660949</td>\n",
       "    </tr>\n",
       "  </tbody>\n",
       "</table>\n",
       "</div>"
      ],
      "text/plain": [
       "                   Random Forest Classification\n",
       "Accuracy                               0.660949\n",
       "F1 (macro)                             0.486226\n",
       "F1 (micro)                             0.660949\n",
       "Precision (macro)                      0.597933\n",
       "Precision (micro)                      0.660949\n",
       "Recall (macro)                         0.464222\n",
       "Recall (micro)                         0.660949"
      ]
     },
     "execution_count": 119,
     "metadata": {},
     "output_type": "execute_result"
    }
   ],
   "source": [
    "# Random Forest Classifier\n",
    "#clf = RandomForestClassifier(random_state=0)\n",
    "clf = RandomForestClassifier(n_estimators=10, max_depth=10, random_state=0, n_jobs=-1)\n",
    "rfc, y_pred = perform_classification('Random Forest Classification', clf, features)\n",
    "perform_cross_validation(clf)\n",
    "plot_feature_importances(clf, 'Random Forest Classification')\n",
    "rfc.sort_index()"
   ]
  },
  {
   "cell_type": "markdown",
   "metadata": {},
   "source": [
    "#### Extra Trees Classification"
   ]
  },
  {
   "cell_type": "code",
   "execution_count": null,
   "metadata": {
    "collapsed": false
   },
   "outputs": [
    {
     "name": "stdout",
     "output_type": "stream",
     "text": [
      "Extra Trees Classification \n",
      "\n",
      "Accuracy on training set: 1.000\n",
      "Accuracy on test set: 0.697\n",
      "\n",
      "Confusion Matrix:\n",
      "[[1272   80   10    8    1]\n",
      " [ 167  185   86   15    0]\n",
      " [  38  116  176   74    3]\n",
      " [  13   37   91  223   24]\n",
      " [   1    3    5   58   54]]\n",
      "\n",
      "Classification Report:\n",
      "             precision    recall  f1-score   support\n",
      "\n",
      "          0       0.85      0.93      0.89      1371\n",
      "          1       0.44      0.41      0.42       453\n",
      "          2       0.48      0.43      0.45       407\n",
      "          3       0.59      0.57      0.58       388\n",
      "          4       0.66      0.45      0.53       121\n",
      "\n",
      "avg / total       0.68      0.70      0.69      2740\n",
      "\n",
      "Cross-validation scores:\n",
      "[ 0.68233577  0.67970803  0.68992701  0.69693431  0.67211679  0.68642336\n",
      "  0.69138686  0.68846715  0.69021898  0.67357664]\n"
     ]
    },
    {
     "data": {
      "image/png": "[encoded data removed]",
      "text/plain": [
       "<matplotlib.figure.Figure at 0x28c1fedccc0>"
      ]
     },
     "metadata": {},
     "output_type": "display_data"
    },
    {
     "data": {
      "text/html": [
       "<div>\n",
       "<table border=\"1\" class=\"dataframe\">\n",
       "  <thead>\n",
       "    <tr style=\"text-align: right;\">\n",
       "      <th></th>\n",
       "      <th>Extra Trees Classification</th>\n",
       "    </tr>\n",
       "  </thead>\n",
       "  <tbody>\n",
       "    <tr>\n",
       "      <th>Accuracy</th>\n",
       "      <td>0.697080</td>\n",
       "    </tr>\n",
       "    <tr>\n",
       "      <th>F1 (macro)</th>\n",
       "      <td>0.576138</td>\n",
       "    </tr>\n",
       "    <tr>\n",
       "      <th>F1 (micro)</th>\n",
       "      <td>0.697080</td>\n",
       "    </tr>\n",
       "    <tr>\n",
       "      <th>Precision (macro)</th>\n",
       "      <td>0.603859</td>\n",
       "    </tr>\n",
       "    <tr>\n",
       "      <th>Precision (micro)</th>\n",
       "      <td>0.697080</td>\n",
       "    </tr>\n",
       "    <tr>\n",
       "      <th>Recall (macro)</th>\n",
       "      <td>0.557927</td>\n",
       "    </tr>\n",
       "    <tr>\n",
       "      <th>Recall (micro)</th>\n",
       "      <td>0.697080</td>\n",
       "    </tr>\n",
       "  </tbody>\n",
       "</table>\n",
       "</div>"
      ],
      "text/plain": [
       "                   Extra Trees Classification\n",
       "Accuracy                             0.697080\n",
       "F1 (macro)                           0.576138\n",
       "F1 (micro)                           0.697080\n",
       "Precision (macro)                    0.603859\n",
       "Precision (micro)                    0.697080\n",
       "Recall (macro)                       0.557927\n",
       "Recall (micro)                       0.697080"
      ]
     },
     "execution_count": 120,
     "metadata": {},
     "output_type": "execute_result"
    }
   ],
   "source": [
    "# Extra Trees Classifier\n",
    "#clf = ExtraTreesClassifier(random_state=0)\n",
    "#clf = ExtraTreesClassifier(n_estimators=10, max_depth=10, random_state=0, n_jobs=-1)\n",
    "clf = ExtraTreesClassifier(n_estimators=10, max_depth=None, min_samples_split=2, random_state=0)\n",
    "etc, y_pred = perform_classification('Extra Trees Classification', clf, features)\n",
    "perform_cross_validation(clf)\n",
    "plot_feature_importances(clf, 'Extra Trees Classification')\n",
    "etc.sort_index()"
   ]
  },
  {
   "cell_type": "markdown",
   "metadata": {},
   "source": [
    "#### Naive Bayes Classification"
   ]
  },
  {
   "cell_type": "code",
   "execution_count": null,
   "metadata": {
    "collapsed": false
   },
   "outputs": [
    {
     "name": "stdout",
     "output_type": "stream",
     "text": [
      "Naive Bayes Classification \n",
      "\n",
      "Accuracy on training set: 0.345\n",
      "Accuracy on test set: 0.361\n",
      "\n",
      "Confusion Matrix:\n",
      "[[613 452 131  45 130]\n",
      " [ 24 123 135  38 133]\n",
      " [  3  18  86  50 250]\n",
      " [  1   8  12  46 321]\n",
      " [  0   0   0   1 120]]\n",
      "\n",
      "Classification Report:\n",
      "             precision    recall  f1-score   support\n",
      "\n",
      "          0       0.96      0.45      0.61      1371\n",
      "          1       0.20      0.27      0.23       453\n",
      "          2       0.24      0.21      0.22       407\n",
      "          3       0.26      0.12      0.16       388\n",
      "          4       0.13      0.99      0.22       121\n",
      "\n",
      "avg / total       0.59      0.36      0.41      2740\n",
      "\n",
      "Cross-validation scores:\n",
      "[ 0.35386861  0.36116788  0.36788321  0.35678832  0.33547445  0.34218978\n",
      "  0.35270073  0.33722628  0.34277372  0.33459854]\n"
     ]
    },
    {
     "data": {
      "text/html": [
       "<div>\n",
       "<table border=\"1\" class=\"dataframe\">\n",
       "  <thead>\n",
       "    <tr style=\"text-align: right;\">\n",
       "      <th></th>\n",
       "      <th>Naive Bayes Classification</th>\n",
       "    </tr>\n",
       "  </thead>\n",
       "  <tbody>\n",
       "    <tr>\n",
       "      <th>Accuracy</th>\n",
       "      <td>0.360584</td>\n",
       "    </tr>\n",
       "    <tr>\n",
       "      <th>F1 (macro)</th>\n",
       "      <td>0.290211</td>\n",
       "    </tr>\n",
       "    <tr>\n",
       "      <th>F1 (micro)</th>\n",
       "      <td>0.360584</td>\n",
       "    </tr>\n",
       "    <tr>\n",
       "      <th>Precision (macro)</th>\n",
       "      <td>0.355717</td>\n",
       "    </tr>\n",
       "    <tr>\n",
       "      <th>Precision (micro)</th>\n",
       "      <td>0.360584</td>\n",
       "    </tr>\n",
       "    <tr>\n",
       "      <th>Recall (macro)</th>\n",
       "      <td>0.408047</td>\n",
       "    </tr>\n",
       "    <tr>\n",
       "      <th>Recall (micro)</th>\n",
       "      <td>0.360584</td>\n",
       "    </tr>\n",
       "  </tbody>\n",
       "</table>\n",
       "</div>"
      ],
      "text/plain": [
       "                   Naive Bayes Classification\n",
       "Accuracy                             0.360584\n",
       "F1 (macro)                           0.290211\n",
       "F1 (micro)                           0.360584\n",
       "Precision (macro)                    0.355717\n",
       "Precision (micro)                    0.360584\n",
       "Recall (macro)                       0.408047\n",
       "Recall (micro)                       0.360584"
      ]
     },
     "execution_count": 121,
     "metadata": {},
     "output_type": "execute_result"
    }
   ],
   "source": [
    "# Naive Bayes Classifier\n",
    "clf = naive_bayes.GaussianNB()\n",
    "nbg, y_pred = perform_classification('Naive Bayes Classification', clf, features)\n",
    "perform_cross_validation(clf)\n",
    "nbg.sort_index()"
   ]
  },
  {
   "cell_type": "markdown",
   "metadata": {},
   "source": [
    "#### Nearest Neighbors Classification"
   ]
  },
  {
   "cell_type": "code",
   "execution_count": null,
   "metadata": {
    "collapsed": false
   },
   "outputs": [
    {
     "name": "stdout",
     "output_type": "stream",
     "text": [
      "Nearest Neighbors Classification \n",
      "\n",
      "Accuracy on training set: 0.766\n",
      "Accuracy on test set: 0.550\n",
      "\n",
      "Confusion Matrix:\n",
      "[[1227   97   31   16    0]\n",
      " [ 250  110   74   19    0]\n",
      " [ 136  136   95   35    5]\n",
      " [ 113  105   95   68    7]\n",
      " [  29   37   20   29    6]]\n",
      "\n",
      "Classification Report:\n",
      "             precision    recall  f1-score   support\n",
      "\n",
      "          0       0.70      0.89      0.79      1371\n",
      "          1       0.23      0.24      0.23       453\n",
      "          2       0.30      0.23      0.26       407\n",
      "          3       0.41      0.18      0.25       388\n",
      "          4       0.33      0.05      0.09       121\n",
      "\n",
      "avg / total       0.50      0.55      0.51      2740\n",
      "\n",
      "Cross-validation scores:\n",
      "[ 0.53518248  0.54189781  0.53956204  0.55065693  0.54569343  0.54948905\n",
      "  0.56058394  0.55445255  0.55094891  0.55970803]\n"
     ]
    },
    {
     "data": {
      "text/html": [
       "<div>\n",
       "<table border=\"1\" class=\"dataframe\">\n",
       "  <thead>\n",
       "    <tr style=\"text-align: right;\">\n",
       "      <th></th>\n",
       "      <th>Nearest Neighbors Classification</th>\n",
       "    </tr>\n",
       "  </thead>\n",
       "  <tbody>\n",
       "    <tr>\n",
       "      <th>Accuracy</th>\n",
       "      <td>0.549635</td>\n",
       "    </tr>\n",
       "    <tr>\n",
       "      <th>F1 (macro)</th>\n",
       "      <td>0.322821</td>\n",
       "    </tr>\n",
       "    <tr>\n",
       "      <th>F1 (micro)</th>\n",
       "      <td>0.549635</td>\n",
       "    </tr>\n",
       "    <tr>\n",
       "      <th>Precision (macro)</th>\n",
       "      <td>0.393611</td>\n",
       "    </tr>\n",
       "    <tr>\n",
       "      <th>Precision (micro)</th>\n",
       "      <td>0.549635</td>\n",
       "    </tr>\n",
       "    <tr>\n",
       "      <th>Recall (macro)</th>\n",
       "      <td>0.319211</td>\n",
       "    </tr>\n",
       "    <tr>\n",
       "      <th>Recall (micro)</th>\n",
       "      <td>0.549635</td>\n",
       "    </tr>\n",
       "  </tbody>\n",
       "</table>\n",
       "</div>"
      ],
      "text/plain": [
       "                   Nearest Neighbors Classification\n",
       "Accuracy                                   0.549635\n",
       "F1 (macro)                                 0.322821\n",
       "F1 (micro)                                 0.549635\n",
       "Precision (macro)                          0.393611\n",
       "Precision (micro)                          0.549635\n",
       "Recall (macro)                             0.319211\n",
       "Recall (micro)                             0.549635"
      ]
     },
     "execution_count": 122,
     "metadata": {},
     "output_type": "execute_result"
    }
   ],
   "source": [
    "# Nearest Neighbors Classifier\n",
    "clf = KNeighborsClassifier(n_neighbors=2, n_jobs=-1)\n",
    "knn, y_pred = perform_classification('Nearest Neighbors Classification', clf, features)\n",
    "perform_cross_validation(clf)\n",
    "knn.sort_index()"
   ]
  },
  {
   "cell_type": "markdown",
   "metadata": {},
   "source": [
    "#### Gradient Boosting Classification"
   ]
  },
  {
   "cell_type": "code",
   "execution_count": null,
   "metadata": {
    "collapsed": false
   },
   "outputs": [
    {
     "name": "stdout",
     "output_type": "stream",
     "text": [
      "Gradient Boosting Classification \n",
      "\n",
      "Accuracy on training set: 0.792\n",
      "Accuracy on test set: 0.697\n",
      "\n",
      "Confusion Matrix:\n",
      "[[1280   66   12    9    4]\n",
      " [ 189  164   82   18    0]\n",
      " [  38  109  187   70    3]\n",
      " [  21   35   75  233   24]\n",
      " [   1    1   13   60   46]]\n",
      "\n",
      "Classification Report:\n",
      "             precision    recall  f1-score   support\n",
      "\n",
      "          0       0.84      0.93      0.88      1371\n",
      "          1       0.44      0.36      0.40       453\n",
      "          2       0.51      0.46      0.48       407\n",
      "          3       0.60      0.60      0.60       388\n",
      "          4       0.60      0.38      0.46       121\n",
      "\n",
      "avg / total       0.68      0.70      0.68      2740\n",
      "\n",
      "Cross-validation scores:\n",
      "[ 0.69518248  0.68671533  0.68175182  0.67328467  0.68437956  0.68554745\n",
      "  0.6729927   0.67357664  0.67883212  0.69167883]\n"
     ]
    },
    {
     "data": {
      "text/html": [
       "<div>\n",
       "<table border=\"1\" class=\"dataframe\">\n",
       "  <thead>\n",
       "    <tr style=\"text-align: right;\">\n",
       "      <th></th>\n",
       "      <th>Gradient Boosting Classification</th>\n",
       "    </tr>\n",
       "  </thead>\n",
       "  <tbody>\n",
       "    <tr>\n",
       "      <th>Accuracy</th>\n",
       "      <td>0.697080</td>\n",
       "    </tr>\n",
       "    <tr>\n",
       "      <th>F1 (macro)</th>\n",
       "      <td>0.564894</td>\n",
       "    </tr>\n",
       "    <tr>\n",
       "      <th>F1 (micro)</th>\n",
       "      <td>0.697080</td>\n",
       "    </tr>\n",
       "    <tr>\n",
       "      <th>Precision (macro)</th>\n",
       "      <td>0.595219</td>\n",
       "    </tr>\n",
       "    <tr>\n",
       "      <th>Precision (micro)</th>\n",
       "      <td>0.697080</td>\n",
       "    </tr>\n",
       "    <tr>\n",
       "      <th>Recall (macro)</th>\n",
       "      <td>0.547159</td>\n",
       "    </tr>\n",
       "    <tr>\n",
       "      <th>Recall (micro)</th>\n",
       "      <td>0.697080</td>\n",
       "    </tr>\n",
       "  </tbody>\n",
       "</table>\n",
       "</div>"
      ],
      "text/plain": [
       "                   Gradient Boosting Classification\n",
       "Accuracy                                   0.697080\n",
       "F1 (macro)                                 0.564894\n",
       "F1 (micro)                                 0.697080\n",
       "Precision (macro)                          0.595219\n",
       "Precision (micro)                          0.697080\n",
       "Recall (macro)                             0.547159\n",
       "Recall (micro)                             0.697080"
      ]
     },
     "execution_count": 123,
     "metadata": {},
     "output_type": "execute_result"
    }
   ],
   "source": [
    "# Gradient Boosting Classifier\n",
    "from sklearn.ensemble import GradientBoostingClassifier\n",
    "clf = GradientBoostingClassifier()\n",
    "gbc, y_pred = perform_classification('Gradient Boosting Classification', clf, features)\n",
    "perform_cross_validation(clf)\n",
    "gbc.sort_index()"
   ]
  },
  {
   "cell_type": "markdown",
   "metadata": {},
   "source": [
    "#### Multi-layer Perceptron Classification"
   ]
  },
  {
   "cell_type": "code",
   "execution_count": null,
   "metadata": {
    "collapsed": false
   },
   "outputs": [
    {
     "name": "stdout",
     "output_type": "stream",
     "text": [
      "Multi-Layer Perceptron Classification \n",
      "\n",
      "Accuracy on training set: 0.717\n",
      "Accuracy on test set: 0.714\n",
      "\n",
      "Confusion Matrix:\n",
      "[[1265   67   21   17    1]\n",
      " [ 165  165   97   24    2]\n",
      " [  23   64  204  109    7]\n",
      " [   8   13   65  298    4]\n",
      " [   1    0    6   90   24]]\n",
      "\n",
      "Classification Report:\n",
      "             precision    recall  f1-score   support\n",
      "\n",
      "          0       0.87      0.92      0.89      1371\n",
      "          1       0.53      0.36      0.43       453\n",
      "          2       0.52      0.50      0.51       407\n",
      "          3       0.55      0.77      0.64       388\n",
      "          4       0.63      0.20      0.30       121\n",
      "\n",
      "avg / total       0.70      0.71      0.70      2740\n",
      "\n",
      "Cross-validation scores:\n",
      "[ 0.67270073  0.65284672  0.65547445  0.64437956  0.63766423  0.65693431\n",
      "  0.67182482  0.68408759  0.67620438  0.67270073]\n"
     ]
    },
    {
     "data": {
      "text/html": [
       "<div>\n",
       "<table border=\"1\" class=\"dataframe\">\n",
       "  <thead>\n",
       "    <tr style=\"text-align: right;\">\n",
       "      <th></th>\n",
       "      <th>Multi-Layer Perceptron Classification</th>\n",
       "    </tr>\n",
       "  </thead>\n",
       "  <tbody>\n",
       "    <tr>\n",
       "      <th>Accuracy</th>\n",
       "      <td>0.713869</td>\n",
       "    </tr>\n",
       "    <tr>\n",
       "      <th>F1 (macro)</th>\n",
       "      <td>0.556326</td>\n",
       "    </tr>\n",
       "    <tr>\n",
       "      <th>F1 (micro)</th>\n",
       "      <td>0.713869</td>\n",
       "    </tr>\n",
       "    <tr>\n",
       "      <th>Precision (macro)</th>\n",
       "      <td>0.620760</td>\n",
       "    </tr>\n",
       "    <tr>\n",
       "      <th>Precision (micro)</th>\n",
       "      <td>0.713869</td>\n",
       "    </tr>\n",
       "    <tr>\n",
       "      <th>Recall (macro)</th>\n",
       "      <td>0.550908</td>\n",
       "    </tr>\n",
       "    <tr>\n",
       "      <th>Recall (micro)</th>\n",
       "      <td>0.713869</td>\n",
       "    </tr>\n",
       "  </tbody>\n",
       "</table>\n",
       "</div>"
      ],
      "text/plain": [
       "                   Multi-Layer Perceptron Classification\n",
       "Accuracy                                        0.713869\n",
       "F1 (macro)                                      0.556326\n",
       "F1 (micro)                                      0.713869\n",
       "Precision (macro)                               0.620760\n",
       "Precision (micro)                               0.713869\n",
       "Recall (macro)                                  0.550908\n",
       "Recall (micro)                                  0.713869"
      ]
     },
     "execution_count": 124,
     "metadata": {},
     "output_type": "execute_result"
    }
   ],
   "source": [
    "from sklearn.neural_network import MLPClassifier\n",
    "clf = MLPClassifier(random_state=0)\n",
    "mlp, y_pred = perform_classification('Multi-Layer Perceptron Classification', clf, features)\n",
    "perform_cross_validation(clf)\n",
    "mlp.sort_index()"
   ]
  },
  {
   "cell_type": "markdown",
   "metadata": {},
   "source": [
    "## Classification Summary with Categorical Feature Set"
   ]
  },
  {
   "cell_type": "code",
   "execution_count": null,
   "metadata": {
    "collapsed": false,
    "scrolled": true
   },
   "outputs": [
    {
     "name": "stdout",
     "output_type": "stream",
     "text": [
      "Classification Summary with Categorical Features\n",
      "\n"
     ]
    },
    {
     "data": {
      "text/html": [
       "<div>\n",
       "<table border=\"1\" class=\"dataframe\">\n",
       "  <thead>\n",
       "    <tr style=\"text-align: right;\">\n",
       "      <th></th>\n",
       "      <th>Logistic Classification</th>\n",
       "      <th>Decision Tree Classification</th>\n",
       "      <th>Random Forest Classification</th>\n",
       "      <th>Extra Trees Classification</th>\n",
       "      <th>Naive Bayes Classification</th>\n",
       "      <th>Nearest Neighbors Classification</th>\n",
       "      <th>Gradient Boosting Classification</th>\n",
       "      <th>Multi-Layer Perceptron Classification</th>\n",
       "    </tr>\n",
       "  </thead>\n",
       "  <tbody>\n",
       "    <tr>\n",
       "      <th>Accuracy</th>\n",
       "      <td>0.671898</td>\n",
       "      <td>0.639051</td>\n",
       "      <td>0.660949</td>\n",
       "      <td>0.697080</td>\n",
       "      <td>0.360584</td>\n",
       "      <td>0.549635</td>\n",
       "      <td>0.697080</td>\n",
       "      <td>0.713869</td>\n",
       "    </tr>\n",
       "    <tr>\n",
       "      <th>F1 (macro)</th>\n",
       "      <td>0.496528</td>\n",
       "      <td>0.524387</td>\n",
       "      <td>0.486226</td>\n",
       "      <td>0.576138</td>\n",
       "      <td>0.290211</td>\n",
       "      <td>0.322821</td>\n",
       "      <td>0.564894</td>\n",
       "      <td>0.556326</td>\n",
       "    </tr>\n",
       "    <tr>\n",
       "      <th>F1 (micro)</th>\n",
       "      <td>0.671898</td>\n",
       "      <td>0.639051</td>\n",
       "      <td>0.660949</td>\n",
       "      <td>0.697080</td>\n",
       "      <td>0.360584</td>\n",
       "      <td>0.549635</td>\n",
       "      <td>0.697080</td>\n",
       "      <td>0.713869</td>\n",
       "    </tr>\n",
       "    <tr>\n",
       "      <th>Precision (macro)</th>\n",
       "      <td>0.565525</td>\n",
       "      <td>0.524363</td>\n",
       "      <td>0.597933</td>\n",
       "      <td>0.603859</td>\n",
       "      <td>0.355717</td>\n",
       "      <td>0.393611</td>\n",
       "      <td>0.595219</td>\n",
       "      <td>0.620760</td>\n",
       "    </tr>\n",
       "    <tr>\n",
       "      <th>Precision (micro)</th>\n",
       "      <td>0.671898</td>\n",
       "      <td>0.639051</td>\n",
       "      <td>0.660949</td>\n",
       "      <td>0.697080</td>\n",
       "      <td>0.360584</td>\n",
       "      <td>0.549635</td>\n",
       "      <td>0.697080</td>\n",
       "      <td>0.713869</td>\n",
       "    </tr>\n",
       "    <tr>\n",
       "      <th>Recall (macro)</th>\n",
       "      <td>0.487240</td>\n",
       "      <td>0.524940</td>\n",
       "      <td>0.464222</td>\n",
       "      <td>0.557927</td>\n",
       "      <td>0.408047</td>\n",
       "      <td>0.319211</td>\n",
       "      <td>0.547159</td>\n",
       "      <td>0.550908</td>\n",
       "    </tr>\n",
       "    <tr>\n",
       "      <th>Recall (micro)</th>\n",
       "      <td>0.671898</td>\n",
       "      <td>0.639051</td>\n",
       "      <td>0.660949</td>\n",
       "      <td>0.697080</td>\n",
       "      <td>0.360584</td>\n",
       "      <td>0.549635</td>\n",
       "      <td>0.697080</td>\n",
       "      <td>0.713869</td>\n",
       "    </tr>\n",
       "  </tbody>\n",
       "</table>\n",
       "</div>"
      ],
      "text/plain": [
       "                   Logistic Classification  Decision Tree Classification  \\\n",
       "Accuracy                          0.671898                      0.639051   \n",
       "F1 (macro)                        0.496528                      0.524387   \n",
       "F1 (micro)                        0.671898                      0.639051   \n",
       "Precision (macro)                 0.565525                      0.524363   \n",
       "Precision (micro)                 0.671898                      0.639051   \n",
       "Recall (macro)                    0.487240                      0.524940   \n",
       "Recall (micro)                    0.671898                      0.639051   \n",
       "\n",
       "                   Random Forest Classification  Extra Trees Classification  \\\n",
       "Accuracy                               0.660949                    0.697080   \n",
       "F1 (macro)                             0.486226                    0.576138   \n",
       "F1 (micro)                             0.660949                    0.697080   \n",
       "Precision (macro)                      0.597933                    0.603859   \n",
       "Precision (micro)                      0.660949                    0.697080   \n",
       "Recall (macro)                         0.464222                    0.557927   \n",
       "Recall (micro)                         0.660949                    0.697080   \n",
       "\n",
       "                   Naive Bayes Classification  \\\n",
       "Accuracy                             0.360584   \n",
       "F1 (macro)                           0.290211   \n",
       "F1 (micro)                           0.360584   \n",
       "Precision (macro)                    0.355717   \n",
       "Precision (micro)                    0.360584   \n",
       "Recall (macro)                       0.408047   \n",
       "Recall (micro)                       0.360584   \n",
       "\n",
       "                   Nearest Neighbors Classification  \\\n",
       "Accuracy                                   0.549635   \n",
       "F1 (macro)                                 0.322821   \n",
       "F1 (micro)                                 0.549635   \n",
       "Precision (macro)                          0.393611   \n",
       "Precision (micro)                          0.549635   \n",
       "Recall (macro)                             0.319211   \n",
       "Recall (micro)                             0.549635   \n",
       "\n",
       "                   Gradient Boosting Classification  \\\n",
       "Accuracy                                   0.697080   \n",
       "F1 (macro)                                 0.564894   \n",
       "F1 (micro)                                 0.697080   \n",
       "Precision (macro)                          0.595219   \n",
       "Precision (micro)                          0.697080   \n",
       "Recall (macro)                             0.547159   \n",
       "Recall (micro)                             0.697080   \n",
       "\n",
       "                   Multi-Layer Perceptron Classification  \n",
       "Accuracy                                        0.713869  \n",
       "F1 (macro)                                      0.556326  \n",
       "F1 (micro)                                      0.713869  \n",
       "Precision (macro)                               0.620760  \n",
       "Precision (micro)                               0.713869  \n",
       "Recall (macro)                                  0.550908  \n",
       "Recall (micro)                                  0.713869  "
      ]
     },
     "execution_count": 125,
     "metadata": {},
     "output_type": "execute_result"
    }
   ],
   "source": [
    "# Classifcation Summary\n",
    "print(\"Classification Summary with Categorical Features\\n\")\n",
    "class_metrics = pd.concat([lin_reg, dtc, rfc, etc, nbg, knn, gbc, mlp] , axis=1)\n",
    "class_metrics.sort_index()"
   ]
  },
  {
   "cell_type": "markdown",
   "metadata": {},
   "source": [
    "## 3. Modeling - Numeric Feature Set"
   ]
  },
  {
   "cell_type": "code",
   "execution_count": null,
   "metadata": {
    "collapsed": true
   },
   "outputs": [],
   "source": [
    "data = data[['Checkout_Month', 'Checkout_WeekDay', 'Checkout_Hour', 'Temperature', \n",
    "           'Apparent_Temperature', 'Cloud_Cover', 'Wind_Speed', 'Humidity', 'Visibility', 'Class_Label']]"
   ]
  },
  {
   "cell_type": "code",
   "execution_count": null,
   "metadata": {
    "collapsed": false
   },
   "outputs": [
    {
     "data": {
      "image/png": "[encoded data removed]",
      "text/plain": [
       "<matplotlib.figure.Figure at 0x28c1fce1160>"
      ]
     },
     "metadata": {},
     "output_type": "display_data"
    }
   ],
   "source": [
    "plt.figure(figsize=(12,8))\n",
    "ax = sns.heatmap(data.corr())\n",
    "plt.title(\"Feature Correlations\", fontsize=18)\n",
    "plt.xticks(fontsize=14)\n",
    "plt.yticks(fontsize=14)\n",
    "plt.show()"
   ]
  },
  {
   "cell_type": "code",
   "execution_count": null,
   "metadata": {
    "collapsed": false
   },
   "outputs": [
    {
     "name": "stdout",
     "output_type": "stream",
     "text": [
      "<class 'pandas.core.frame.DataFrame'>\n",
      "Int64Index: 6849 entries, 8 to 8783\n",
      "Data columns (total 10 columns):\n",
      "Checkout_Month          6849 non-null int32\n",
      "Checkout_WeekDay        6849 non-null int32\n",
      "Checkout_Hour           6849 non-null int64\n",
      "Temperature             6849 non-null float64\n",
      "Apparent_Temperature    6849 non-null float64\n",
      "Cloud_Cover             6849 non-null float64\n",
      "Wind_Speed              6849 non-null float64\n",
      "Humidity                6849 non-null float64\n",
      "Visibility              6849 non-null float64\n",
      "Class_Label             6849 non-null int64\n",
      "dtypes: float64(6), int32(2), int64(2)\n",
      "memory usage: 535.1 KB\n"
     ]
    }
   ],
   "source": [
    "data.info()"
   ]
  },
  {
   "cell_type": "code",
   "execution_count": null,
   "metadata": {
    "collapsed": false
   },
   "outputs": [],
   "source": [
    "array = data.values\n",
    "X = array[:,0:8]\n",
    "y = array[:,8]"
   ]
  },
  {
   "cell_type": "code",
   "execution_count": null,
   "metadata": {
    "collapsed": true
   },
   "outputs": [],
   "source": [
    "features = ['Checkout_Month', 'Checkout_WeekDay', 'Checkout_Hour',  \n",
    "            'Temperature', 'Apparent_Temperature', 'Cloud_Cover', 'Wind_Speed', 'Humidity', 'Visibility']\n",
    "X = data[features]\n",
    "y = data[\"Class_Label\"]\n",
    "X_train, X_test, y_train, y_test = train_test_split(X, y, test_size=0.4, random_state=0)"
   ]
  },
  {
   "cell_type": "code",
   "execution_count": null,
   "metadata": {
    "collapsed": true
   },
   "outputs": [],
   "source": [
    "def plot_feature_importances(model, plot_title):\n",
    "    n_features = X.shape[1]\n",
    "    plt.figure(figsize=(10,6))\n",
    "    feature_importance = model.feature_importances_\n",
    "    features_list = features\n",
    "    feature_importance, features_list = zip(*sorted(zip(feature_importance, features_list)))\n",
    "    plt.barh(range(len(features_list)), feature_importance, align='center')\n",
    "    plt.xticks(fontsize=14)\n",
    "    plt.yticks(np.arange(len(features_list)), features_list, fontsize=14)\n",
    "    plt.xlabel('Relative Importance', fontsize=16)\n",
    "    plt.ylabel('Feature', fontsize=16)\n",
    "    plt.title(plot_title + ' Features Importance', fontsize=20)\n",
    "    plt.show()"
   ]
  },
  {
   "cell_type": "markdown",
   "metadata": {},
   "source": [
    "#### Decision Tree Classification"
   ]
  },
  {
   "cell_type": "code",
   "execution_count": null,
   "metadata": {
    "collapsed": false
   },
   "outputs": [
    {
     "name": "stdout",
     "output_type": "stream",
     "text": [
      "Decision Tree Classification \n",
      "\n",
      "Accuracy on training set: 1.000\n",
      "Accuracy on test set: 0.657\n",
      "\n",
      "Confusion Matrix:\n",
      "[[1186  148   28    9    0]\n",
      " [ 140  168  115   27    3]\n",
      " [  22  123  165   94    3]\n",
      " [   8   48   81  217   34]\n",
      " [   2    2    2   51   64]]\n",
      "\n",
      "Classification Report:\n",
      "             precision    recall  f1-score   support\n",
      "\n",
      "          0       0.87      0.87      0.87      1371\n",
      "          1       0.34      0.37      0.36       453\n",
      "          2       0.42      0.41      0.41       407\n",
      "          3       0.55      0.56      0.55       388\n",
      "          4       0.62      0.53      0.57       121\n",
      "\n",
      "avg / total       0.66      0.66      0.66      2740\n",
      "\n",
      "Cross-validation scores:\n",
      "[ 0.64233577  0.64116788  0.64408759  0.63182482  0.65080292  0.64058394\n",
      "  0.64437956  0.64233577  0.6470073   0.63824818]\n"
     ]
    },
    {
     "data": {
      "image/png": "[encoded data removed]",
      "text/plain": [
       "<matplotlib.figure.Figure at 0x28c212af978>"
      ]
     },
     "metadata": {},
     "output_type": "display_data"
    },
    {
     "data": {
      "text/html": [
       "<div>\n",
       "<table border=\"1\" class=\"dataframe\">\n",
       "  <thead>\n",
       "    <tr style=\"text-align: right;\">\n",
       "      <th></th>\n",
       "      <th>Decision Tree Classification</th>\n",
       "    </tr>\n",
       "  </thead>\n",
       "  <tbody>\n",
       "    <tr>\n",
       "      <th>Accuracy</th>\n",
       "      <td>0.656934</td>\n",
       "    </tr>\n",
       "    <tr>\n",
       "      <th>F1 (macro)</th>\n",
       "      <td>0.552091</td>\n",
       "    </tr>\n",
       "    <tr>\n",
       "      <th>F1 (micro)</th>\n",
       "      <td>0.656934</td>\n",
       "    </tr>\n",
       "    <tr>\n",
       "      <th>Precision (macro)</th>\n",
       "      <td>0.559901</td>\n",
       "    </tr>\n",
       "    <tr>\n",
       "      <th>Precision (micro)</th>\n",
       "      <td>0.656934</td>\n",
       "    </tr>\n",
       "    <tr>\n",
       "      <th>Recall (macro)</th>\n",
       "      <td>0.545906</td>\n",
       "    </tr>\n",
       "    <tr>\n",
       "      <th>Recall (micro)</th>\n",
       "      <td>0.656934</td>\n",
       "    </tr>\n",
       "  </tbody>\n",
       "</table>\n",
       "</div>"
      ],
      "text/plain": [
       "                   Decision Tree Classification\n",
       "Accuracy                               0.656934\n",
       "F1 (macro)                             0.552091\n",
       "F1 (micro)                             0.656934\n",
       "Precision (macro)                      0.559901\n",
       "Precision (micro)                      0.656934\n",
       "Recall (macro)                         0.545906\n",
       "Recall (micro)                         0.656934"
      ]
     },
     "execution_count": 132,
     "metadata": {},
     "output_type": "execute_result"
    }
   ],
   "source": [
    "# Decision Tree Classifier\n",
    "clf = DecisionTreeClassifier(random_state=0)\n",
    "dtc, y_pred = perform_classification('Decision Tree Classification', clf, features)\n",
    "perform_cross_validation(clf)\n",
    "plot_feature_importances(clf, 'Decision Tree Classification')\n",
    "dtc.sort_index()"
   ]
  },
  {
   "cell_type": "markdown",
   "metadata": {},
   "source": [
    "#### Linear (Logistic Regression) Classification"
   ]
  },
  {
   "cell_type": "code",
   "execution_count": null,
   "metadata": {
    "collapsed": false
   },
   "outputs": [
    {
     "name": "stderr",
     "output_type": "stream",
     "text": [
      "C:\\Users\\jbhasin\\Anaconda3\\lib\\site-packages\\sklearn\\metrics\\classification.py:1113: UndefinedMetricWarning: F-score is ill-defined and being set to 0.0 in labels with no predicted samples.\n",
      "  'precision', 'predicted', average, warn_for)\n",
      "C:\\Users\\jbhasin\\Anaconda3\\lib\\site-packages\\sklearn\\metrics\\classification.py:1113: UndefinedMetricWarning: Precision is ill-defined and being set to 0.0 in labels with no predicted samples.\n",
      "  'precision', 'predicted', average, warn_for)\n",
      "C:\\Users\\jbhasin\\Anaconda3\\lib\\site-packages\\sklearn\\metrics\\classification.py:1113: UndefinedMetricWarning: Precision and F-score are ill-defined and being set to 0.0 in labels with no predicted samples.\n",
      "  'precision', 'predicted', average, warn_for)\n"
     ]
    },
    {
     "name": "stdout",
     "output_type": "stream",
     "text": [
      "Logistic Classification \n",
      "\n",
      "Accuracy on training set: 0.573\n",
      "Accuracy on test set: 0.577\n",
      "\n",
      "Confusion Matrix:\n",
      "[[1280   30   35   26    0]\n",
      " [ 266   62   72   53    0]\n",
      " [ 143   56  125   83    0]\n",
      " [ 133   49   92  114    0]\n",
      " [  20   10   40   51    0]]\n",
      "\n",
      "Classification Report:\n",
      "             precision    recall  f1-score   support\n",
      "\n",
      "          0       0.69      0.93      0.80      1371\n",
      "          1       0.30      0.14      0.19       453\n",
      "          2       0.34      0.31      0.32       407\n",
      "          3       0.35      0.29      0.32       388\n",
      "          4       0.00      0.00      0.00       121\n",
      "\n",
      "avg / total       0.50      0.58      0.52      2740\n",
      "\n",
      "Cross-validation scores:\n",
      "[ 0.58715328  0.56846715  0.56087591  0.5719708   0.56233577  0.56379562\n",
      "  0.57138686  0.56905109  0.56583942  0.56613139]\n"
     ]
    },
    {
     "data": {
      "text/html": [
       "<div>\n",
       "<table border=\"1\" class=\"dataframe\">\n",
       "  <thead>\n",
       "    <tr style=\"text-align: right;\">\n",
       "      <th></th>\n",
       "      <th>Logistic Classification</th>\n",
       "    </tr>\n",
       "  </thead>\n",
       "  <tbody>\n",
       "    <tr>\n",
       "      <th>Accuracy</th>\n",
       "      <td>0.577007</td>\n",
       "    </tr>\n",
       "    <tr>\n",
       "      <th>F1 (macro)</th>\n",
       "      <td>0.325555</td>\n",
       "    </tr>\n",
       "    <tr>\n",
       "      <th>F1 (micro)</th>\n",
       "      <td>0.577007</td>\n",
       "    </tr>\n",
       "    <tr>\n",
       "      <th>Precision (macro)</th>\n",
       "      <td>0.337289</td>\n",
       "    </tr>\n",
       "    <tr>\n",
       "      <th>Precision (micro)</th>\n",
       "      <td>0.577007</td>\n",
       "    </tr>\n",
       "    <tr>\n",
       "      <th>Recall (macro)</th>\n",
       "      <td>0.334286</td>\n",
       "    </tr>\n",
       "    <tr>\n",
       "      <th>Recall (micro)</th>\n",
       "      <td>0.577007</td>\n",
       "    </tr>\n",
       "  </tbody>\n",
       "</table>\n",
       "</div>"
      ],
      "text/plain": [
       "                   Logistic Classification\n",
       "Accuracy                          0.577007\n",
       "F1 (macro)                        0.325555\n",
       "F1 (micro)                        0.577007\n",
       "Precision (macro)                 0.337289\n",
       "Precision (micro)                 0.577007\n",
       "Recall (macro)                    0.334286\n",
       "Recall (micro)                    0.577007"
      ]
     },
     "execution_count": 133,
     "metadata": {},
     "output_type": "execute_result"
    }
   ],
   "source": [
    "# logistic regression\n",
    "from sklearn import linear_model\n",
    "clf = linear_model.LogisticRegression(random_state=0)\n",
    "lin_reg, y_pred = perform_classification('Logistic Classification', clf, features)\n",
    "perform_cross_validation(clf)\n",
    "lin_reg.sort_index()"
   ]
  },
  {
   "cell_type": "markdown",
   "metadata": {},
   "source": [
    "#### Random Forest Classification"
   ]
  },
  {
   "cell_type": "code",
   "execution_count": null,
   "metadata": {
    "collapsed": false
   },
   "outputs": [
    {
     "name": "stdout",
     "output_type": "stream",
     "text": [
      "Random Forest Classification \n",
      "\n",
      "Accuracy on training set: 0.989\n",
      "Accuracy on test set: 0.670\n",
      "\n",
      "Confusion Matrix:\n",
      "[[1280   71   13    7    0]\n",
      " [ 181  163   92   17    0]\n",
      " [  39  127  159   81    1]\n",
      " [  20   38  102  206   22]\n",
      " [   3    3    9   78   28]]\n",
      "\n",
      "Classification Report:\n",
      "             precision    recall  f1-score   support\n",
      "\n",
      "          0       0.84      0.93      0.88      1371\n",
      "          1       0.41      0.36      0.38       453\n",
      "          2       0.42      0.39      0.41       407\n",
      "          3       0.53      0.53      0.53       388\n",
      "          4       0.55      0.23      0.33       121\n",
      "\n",
      "avg / total       0.65      0.67      0.66      2740\n",
      "\n",
      "Cross-validation scores:\n",
      "[ 0.65781022  0.66919708  0.66773723  0.66335766  0.67211679  0.65781022\n",
      "  0.66160584  0.66218978  0.66218978  0.66160584]\n"
     ]
    },
    {
     "data": {
      "image/png": "[encoded data removed]",
      "text/plain": [
       "<matplotlib.figure.Figure at 0x28c1fe0c908>"
      ]
     },
     "metadata": {},
     "output_type": "display_data"
    },
    {
     "data": {
      "text/html": [
       "<div>\n",
       "<table border=\"1\" class=\"dataframe\">\n",
       "  <thead>\n",
       "    <tr style=\"text-align: right;\">\n",
       "      <th></th>\n",
       "      <th>Random Forest Classification</th>\n",
       "    </tr>\n",
       "  </thead>\n",
       "  <tbody>\n",
       "    <tr>\n",
       "      <th>Accuracy</th>\n",
       "      <td>0.670073</td>\n",
       "    </tr>\n",
       "    <tr>\n",
       "      <th>F1 (macro)</th>\n",
       "      <td>0.505670</td>\n",
       "    </tr>\n",
       "    <tr>\n",
       "      <th>F1 (micro)</th>\n",
       "      <td>0.670073</td>\n",
       "    </tr>\n",
       "    <tr>\n",
       "      <th>Precision (macro)</th>\n",
       "      <td>0.549700</td>\n",
       "    </tr>\n",
       "    <tr>\n",
       "      <th>Precision (micro)</th>\n",
       "      <td>0.670073</td>\n",
       "    </tr>\n",
       "    <tr>\n",
       "      <th>Recall (macro)</th>\n",
       "      <td>0.489289</td>\n",
       "    </tr>\n",
       "    <tr>\n",
       "      <th>Recall (micro)</th>\n",
       "      <td>0.670073</td>\n",
       "    </tr>\n",
       "  </tbody>\n",
       "</table>\n",
       "</div>"
      ],
      "text/plain": [
       "                   Random Forest Classification\n",
       "Accuracy                               0.670073\n",
       "F1 (macro)                             0.505670\n",
       "F1 (micro)                             0.670073\n",
       "Precision (macro)                      0.549700\n",
       "Precision (micro)                      0.670073\n",
       "Recall (macro)                         0.489289\n",
       "Recall (micro)                         0.670073"
      ]
     },
     "execution_count": 134,
     "metadata": {},
     "output_type": "execute_result"
    }
   ],
   "source": [
    "# Random Forest Classifier\n",
    "clf = RandomForestClassifier(random_state=0)\n",
    "rfc, y_pred = perform_classification('Random Forest Classification', clf, features)\n",
    "perform_cross_validation(clf)\n",
    "plot_feature_importances(clf, 'Random Forest Classification')\n",
    "rfc.sort_index()"
   ]
  },
  {
   "cell_type": "markdown",
   "metadata": {},
   "source": [
    "#### Extra Trees Classification"
   ]
  },
  {
   "cell_type": "code",
   "execution_count": null,
   "metadata": {
    "collapsed": false
   },
   "outputs": [
    {
     "name": "stdout",
     "output_type": "stream",
     "text": [
      "Extra Trees Classification \n",
      "\n",
      "Accuracy on training set: 1.000\n",
      "Accuracy on test set: 0.665\n",
      "\n",
      "Confusion Matrix:\n",
      "[[1284   61   18    7    1]\n",
      " [ 182  163   90   18    0]\n",
      " [  58  116  153   79    1]\n",
      " [  31   44  103  189   21]\n",
      " [   4    7    8   68   34]]\n",
      "\n",
      "Classification Report:\n",
      "             precision    recall  f1-score   support\n",
      "\n",
      "          0       0.82      0.94      0.88      1371\n",
      "          1       0.42      0.36      0.39       453\n",
      "          2       0.41      0.38      0.39       407\n",
      "          3       0.52      0.49      0.50       388\n",
      "          4       0.60      0.28      0.38       121\n",
      "\n",
      "avg / total       0.64      0.67      0.65      2740\n",
      "\n",
      "Cross-validation scores:\n",
      "[ 0.65489051  0.66189781  0.64905109  0.6750365   0.6610219   0.65430657\n",
      "  0.66715328  0.65605839  0.6610219   0.67328467]\n"
     ]
    },
    {
     "data": {
      "image/png": "[encoded data removed]",
      "text/plain": [
       "<matplotlib.figure.Figure at 0x28c2004f9e8>"
      ]
     },
     "metadata": {},
     "output_type": "display_data"
    },
    {
     "data": {
      "text/html": [
       "<div>\n",
       "<table border=\"1\" class=\"dataframe\">\n",
       "  <thead>\n",
       "    <tr style=\"text-align: right;\">\n",
       "      <th></th>\n",
       "      <th>Extra Trees Classification</th>\n",
       "    </tr>\n",
       "  </thead>\n",
       "  <tbody>\n",
       "    <tr>\n",
       "      <th>Accuracy</th>\n",
       "      <td>0.665328</td>\n",
       "    </tr>\n",
       "    <tr>\n",
       "      <th>F1 (macro)</th>\n",
       "      <td>0.508443</td>\n",
       "    </tr>\n",
       "    <tr>\n",
       "      <th>F1 (micro)</th>\n",
       "      <td>0.665328</td>\n",
       "    </tr>\n",
       "    <tr>\n",
       "      <th>Precision (macro)</th>\n",
       "      <td>0.554362</td>\n",
       "    </tr>\n",
       "    <tr>\n",
       "      <th>Precision (micro)</th>\n",
       "      <td>0.665328</td>\n",
       "    </tr>\n",
       "    <tr>\n",
       "      <th>Recall (macro)</th>\n",
       "      <td>0.488079</td>\n",
       "    </tr>\n",
       "    <tr>\n",
       "      <th>Recall (micro)</th>\n",
       "      <td>0.665328</td>\n",
       "    </tr>\n",
       "  </tbody>\n",
       "</table>\n",
       "</div>"
      ],
      "text/plain": [
       "                   Extra Trees Classification\n",
       "Accuracy                             0.665328\n",
       "F1 (macro)                           0.508443\n",
       "F1 (micro)                           0.665328\n",
       "Precision (macro)                    0.554362\n",
       "Precision (micro)                    0.665328\n",
       "Recall (macro)                       0.488079\n",
       "Recall (micro)                       0.665328"
      ]
     },
     "execution_count": 135,
     "metadata": {},
     "output_type": "execute_result"
    }
   ],
   "source": [
    "# Extra Trees Classifier\n",
    "clf = ExtraTreesClassifier(random_state=0)\n",
    "etc, y_pred = perform_classification('Extra Trees Classification', clf, features)\n",
    "perform_cross_validation(clf)\n",
    "plot_feature_importances(clf, 'Extra Trees Classification')\n",
    "etc.sort_index()"
   ]
  },
  {
   "cell_type": "markdown",
   "metadata": {},
   "source": [
    "#### Naive Bayes Classification"
   ]
  },
  {
   "cell_type": "code",
   "execution_count": null,
   "metadata": {
    "collapsed": false
   },
   "outputs": [
    {
     "name": "stdout",
     "output_type": "stream",
     "text": [
      "Naive Bayes Classification \n",
      "\n",
      "Accuracy on training set: 0.492\n",
      "Accuracy on test set: 0.500\n",
      "\n",
      "Confusion Matrix:\n",
      "[[973 147   1 248   2]\n",
      " [111  89   8 244   1]\n",
      " [ 46  54   7 293   7]\n",
      " [ 32  47   8 295   6]\n",
      " [  2   6   0 106   7]]\n",
      "\n",
      "Classification Report:\n",
      "             precision    recall  f1-score   support\n",
      "\n",
      "          0       0.84      0.71      0.77      1371\n",
      "          1       0.26      0.20      0.22       453\n",
      "          2       0.29      0.02      0.03       407\n",
      "          3       0.25      0.76      0.37       388\n",
      "          4       0.30      0.06      0.10       121\n",
      "\n",
      "avg / total       0.55      0.50      0.48      2740\n",
      "\n",
      "Cross-validation scores:\n",
      "[ 0.47678832  0.49167883  0.46014599  0.48291971  0.47941606  0.46452555\n",
      "  0.49489051  0.47270073  0.48729927  0.49021898]\n"
     ]
    },
    {
     "data": {
      "text/html": [
       "<div>\n",
       "<table border=\"1\" class=\"dataframe\">\n",
       "  <thead>\n",
       "    <tr style=\"text-align: right;\">\n",
       "      <th></th>\n",
       "      <th>Naive Bayes Classification</th>\n",
       "    </tr>\n",
       "  </thead>\n",
       "  <tbody>\n",
       "    <tr>\n",
       "      <th>Accuracy</th>\n",
       "      <td>0.500365</td>\n",
       "    </tr>\n",
       "    <tr>\n",
       "      <th>F1 (macro)</th>\n",
       "      <td>0.299163</td>\n",
       "    </tr>\n",
       "    <tr>\n",
       "      <th>F1 (micro)</th>\n",
       "      <td>0.500365</td>\n",
       "    </tr>\n",
       "    <tr>\n",
       "      <th>Precision (macro)</th>\n",
       "      <td>0.388027</td>\n",
       "    </tr>\n",
       "    <tr>\n",
       "      <th>Precision (micro)</th>\n",
       "      <td>0.500365</td>\n",
       "    </tr>\n",
       "    <tr>\n",
       "      <th>Recall (macro)</th>\n",
       "      <td>0.348306</td>\n",
       "    </tr>\n",
       "    <tr>\n",
       "      <th>Recall (micro)</th>\n",
       "      <td>0.500365</td>\n",
       "    </tr>\n",
       "  </tbody>\n",
       "</table>\n",
       "</div>"
      ],
      "text/plain": [
       "                   Naive Bayes Classification\n",
       "Accuracy                             0.500365\n",
       "F1 (macro)                           0.299163\n",
       "F1 (micro)                           0.500365\n",
       "Precision (macro)                    0.388027\n",
       "Precision (micro)                    0.500365\n",
       "Recall (macro)                       0.348306\n",
       "Recall (micro)                       0.500365"
      ]
     },
     "execution_count": 136,
     "metadata": {},
     "output_type": "execute_result"
    }
   ],
   "source": [
    "# Naive Bayes Classifier\n",
    "clf = naive_bayes.GaussianNB()\n",
    "nbg, y_pred = perform_classification('Naive Bayes Classification', clf, features)\n",
    "perform_cross_validation(clf)\n",
    "nbg.sort_index()"
   ]
  },
  {
   "cell_type": "markdown",
   "metadata": {},
   "source": [
    "#### Nearest Neighbors Classification"
   ]
  },
  {
   "cell_type": "code",
   "execution_count": null,
   "metadata": {
    "collapsed": false
   },
   "outputs": [
    {
     "name": "stdout",
     "output_type": "stream",
     "text": [
      "Nearest Neighbors Classification \n",
      "\n",
      "Accuracy on training set: 1.000\n",
      "Accuracy on test set: 0.590\n",
      "\n",
      "Confusion Matrix:\n",
      "[[1125  154   64   26    2]\n",
      " [ 151  139  102   55    6]\n",
      " [  57   94  154   87   15]\n",
      " [  23   57   98  161   49]\n",
      " [   5   12   16   51   37]]\n",
      "\n",
      "Classification Report:\n",
      "             precision    recall  f1-score   support\n",
      "\n",
      "          0       0.83      0.82      0.82      1371\n",
      "          1       0.30      0.31      0.31       453\n",
      "          2       0.35      0.38      0.37       407\n",
      "          3       0.42      0.41      0.42       388\n",
      "          4       0.34      0.31      0.32       121\n",
      "\n",
      "avg / total       0.59      0.59      0.59      2740\n",
      "\n",
      "Cross-validation scores:\n",
      "[ 0.59065693  0.57051095  0.58919708  0.58569343  0.57810219  0.58686131\n",
      "  0.58364964  0.58919708  0.58131387  0.58189781]\n"
     ]
    },
    {
     "data": {
      "text/html": [
       "<div>\n",
       "<table border=\"1\" class=\"dataframe\">\n",
       "  <thead>\n",
       "    <tr style=\"text-align: right;\">\n",
       "      <th></th>\n",
       "      <th>Nearest Neighbors Classification</th>\n",
       "    </tr>\n",
       "  </thead>\n",
       "  <tbody>\n",
       "    <tr>\n",
       "      <th>Accuracy</th>\n",
       "      <td>0.589781</td>\n",
       "    </tr>\n",
       "    <tr>\n",
       "      <th>F1 (macro)</th>\n",
       "      <td>0.447329</td>\n",
       "    </tr>\n",
       "    <tr>\n",
       "      <th>F1 (micro)</th>\n",
       "      <td>0.589781</td>\n",
       "    </tr>\n",
       "    <tr>\n",
       "      <th>Precision (macro)</th>\n",
       "      <td>0.449879</td>\n",
       "    </tr>\n",
       "    <tr>\n",
       "      <th>Precision (micro)</th>\n",
       "      <td>0.589781</td>\n",
       "    </tr>\n",
       "    <tr>\n",
       "      <th>Recall (macro)</th>\n",
       "      <td>0.445305</td>\n",
       "    </tr>\n",
       "    <tr>\n",
       "      <th>Recall (micro)</th>\n",
       "      <td>0.589781</td>\n",
       "    </tr>\n",
       "  </tbody>\n",
       "</table>\n",
       "</div>"
      ],
      "text/plain": [
       "                   Nearest Neighbors Classification\n",
       "Accuracy                                   0.589781\n",
       "F1 (macro)                                 0.447329\n",
       "F1 (micro)                                 0.589781\n",
       "Precision (macro)                          0.449879\n",
       "Precision (micro)                          0.589781\n",
       "Recall (macro)                             0.445305\n",
       "Recall (micro)                             0.589781"
      ]
     },
     "execution_count": 137,
     "metadata": {},
     "output_type": "execute_result"
    }
   ],
   "source": [
    "# Nearest Neighbors Classifier\n",
    "clf = KNeighborsClassifier(n_neighbors=1, n_jobs=-1)\n",
    "knn, y_pred = perform_classification('Nearest Neighbors Classification', clf, features)\n",
    "perform_cross_validation(clf)\n",
    "knn.sort_index()"
   ]
  },
  {
   "cell_type": "markdown",
   "metadata": {},
   "source": [
    "#### Gradient Boosting Classification"
   ]
  },
  {
   "cell_type": "code",
   "execution_count": null,
   "metadata": {
    "collapsed": false
   },
   "outputs": [
    {
     "name": "stdout",
     "output_type": "stream",
     "text": [
      "Gradient Boosting Classification \n",
      "\n",
      "Accuracy on training set: 0.789\n",
      "Accuracy on test set: 0.701\n",
      "\n",
      "Confusion Matrix:\n",
      "[[1293   59   14    4    1]\n",
      " [ 183  165   89   16    0]\n",
      " [  26  118  170   92    1]\n",
      " [   8   41   78  247   14]\n",
      " [   1    3    6   64   47]]\n",
      "\n",
      "Classification Report:\n",
      "             precision    recall  f1-score   support\n",
      "\n",
      "          0       0.86      0.94      0.90      1371\n",
      "          1       0.43      0.36      0.39       453\n",
      "          2       0.48      0.42      0.45       407\n",
      "          3       0.58      0.64      0.61       388\n",
      "          4       0.75      0.39      0.51       121\n",
      "\n",
      "avg / total       0.69      0.70      0.69      2740\n",
      "\n",
      "Cross-validation scores:\n",
      "[ 0.70306569  0.69985401  0.69226277  0.67883212  0.70189781  0.6940146\n",
      "  0.70160584  0.69781022  0.6989781   0.68963504]\n"
     ]
    },
    {
     "data": {
      "text/html": [
       "<div>\n",
       "<table border=\"1\" class=\"dataframe\">\n",
       "  <thead>\n",
       "    <tr style=\"text-align: right;\">\n",
       "      <th></th>\n",
       "      <th>Gradient Boosting Classification</th>\n",
       "    </tr>\n",
       "  </thead>\n",
       "  <tbody>\n",
       "    <tr>\n",
       "      <th>Accuracy</th>\n",
       "      <td>0.701460</td>\n",
       "    </tr>\n",
       "    <tr>\n",
       "      <th>F1 (macro)</th>\n",
       "      <td>0.571128</td>\n",
       "    </tr>\n",
       "    <tr>\n",
       "      <th>F1 (micro)</th>\n",
       "      <td>0.701460</td>\n",
       "    </tr>\n",
       "    <tr>\n",
       "      <th>Precision (macro)</th>\n",
       "      <td>0.617866</td>\n",
       "    </tr>\n",
       "    <tr>\n",
       "      <th>Precision (micro)</th>\n",
       "      <td>0.701460</td>\n",
       "    </tr>\n",
       "    <tr>\n",
       "      <th>Recall (macro)</th>\n",
       "      <td>0.550013</td>\n",
       "    </tr>\n",
       "    <tr>\n",
       "      <th>Recall (micro)</th>\n",
       "      <td>0.701460</td>\n",
       "    </tr>\n",
       "  </tbody>\n",
       "</table>\n",
       "</div>"
      ],
      "text/plain": [
       "                   Gradient Boosting Classification\n",
       "Accuracy                                   0.701460\n",
       "F1 (macro)                                 0.571128\n",
       "F1 (micro)                                 0.701460\n",
       "Precision (macro)                          0.617866\n",
       "Precision (micro)                          0.701460\n",
       "Recall (macro)                             0.550013\n",
       "Recall (micro)                             0.701460"
      ]
     },
     "execution_count": 138,
     "metadata": {},
     "output_type": "execute_result"
    }
   ],
   "source": [
    "# Gradient Boosting Classifier\n",
    "from sklearn.ensemble import GradientBoostingClassifier\n",
    "clf = GradientBoostingClassifier()\n",
    "gbc, y_pred = perform_classification('Gradient Boosting Classification', clf, features)\n",
    "perform_cross_validation(clf)\n",
    "gbc.sort_index()"
   ]
  },
  {
   "cell_type": "markdown",
   "metadata": {},
   "source": [
    "#### Multi-layer Perceptron Classification"
   ]
  },
  {
   "cell_type": "code",
   "execution_count": null,
   "metadata": {
    "collapsed": false
   },
   "outputs": [
    {
     "name": "stderr",
     "output_type": "stream",
     "text": [
      "C:\\Users\\jbhasin\\Anaconda3\\lib\\site-packages\\sklearn\\metrics\\classification.py:1113: UndefinedMetricWarning: F-score is ill-defined and being set to 0.0 in labels with no predicted samples.\n",
      "  'precision', 'predicted', average, warn_for)\n",
      "C:\\Users\\jbhasin\\Anaconda3\\lib\\site-packages\\sklearn\\metrics\\classification.py:1113: UndefinedMetricWarning: Precision is ill-defined and being set to 0.0 in labels with no predicted samples.\n",
      "  'precision', 'predicted', average, warn_for)\n",
      "C:\\Users\\jbhasin\\Anaconda3\\lib\\site-packages\\sklearn\\metrics\\classification.py:1113: UndefinedMetricWarning: Precision and F-score are ill-defined and being set to 0.0 in labels with no predicted samples.\n",
      "  'precision', 'predicted', average, warn_for)\n"
     ]
    },
    {
     "name": "stdout",
     "output_type": "stream",
     "text": [
      "Multi-Layer Perceptron Classification \n",
      "\n",
      "Accuracy on training set: 0.599\n",
      "Accuracy on test set: 0.607\n",
      "\n",
      "Confusion Matrix:\n",
      "[[1284   11   59   17    0]\n",
      " [ 217    9  190   37    0]\n",
      " [  77    1  271   58    0]\n",
      " [  74    5  211   98    0]\n",
      " [  10    0   81   30    0]]\n",
      "\n",
      "Classification Report:\n",
      "             precision    recall  f1-score   support\n",
      "\n",
      "          0       0.77      0.94      0.85      1371\n",
      "          1       0.35      0.02      0.04       453\n",
      "          2       0.33      0.67      0.44       407\n",
      "          3       0.41      0.25      0.31       388\n",
      "          4       0.00      0.00      0.00       121\n",
      "\n",
      "avg / total       0.55      0.61      0.54      2740\n",
      "\n",
      "Cross-validation scores:\n",
      "[ 0.59182482  0.59036496  0.57635036  0.59007299  0.59912409  0.57576642\n",
      "  0.57518248  0.56875912  0.5929927   0.57664234]\n"
     ]
    },
    {
     "data": {
      "text/html": [
       "<div>\n",
       "<table border=\"1\" class=\"dataframe\">\n",
       "  <thead>\n",
       "    <tr style=\"text-align: right;\">\n",
       "      <th></th>\n",
       "      <th>Multi-Layer Perceptron Classification</th>\n",
       "    </tr>\n",
       "  </thead>\n",
       "  <tbody>\n",
       "    <tr>\n",
       "      <th>Accuracy</th>\n",
       "      <td>0.606569</td>\n",
       "    </tr>\n",
       "    <tr>\n",
       "      <th>F1 (macro)</th>\n",
       "      <td>0.328199</td>\n",
       "    </tr>\n",
       "    <tr>\n",
       "      <th>F1 (micro)</th>\n",
       "      <td>0.606569</td>\n",
       "    </tr>\n",
       "    <tr>\n",
       "      <th>Precision (macro)</th>\n",
       "      <td>0.372159</td>\n",
       "    </tr>\n",
       "    <tr>\n",
       "      <th>Precision (micro)</th>\n",
       "      <td>0.606569</td>\n",
       "    </tr>\n",
       "    <tr>\n",
       "      <th>Recall (macro)</th>\n",
       "      <td>0.374967</td>\n",
       "    </tr>\n",
       "    <tr>\n",
       "      <th>Recall (micro)</th>\n",
       "      <td>0.606569</td>\n",
       "    </tr>\n",
       "  </tbody>\n",
       "</table>\n",
       "</div>"
      ],
      "text/plain": [
       "                   Multi-Layer Perceptron Classification\n",
       "Accuracy                                        0.606569\n",
       "F1 (macro)                                      0.328199\n",
       "F1 (micro)                                      0.606569\n",
       "Precision (macro)                               0.372159\n",
       "Precision (micro)                               0.606569\n",
       "Recall (macro)                                  0.374967\n",
       "Recall (micro)                                  0.606569"
      ]
     },
     "execution_count": 139,
     "metadata": {},
     "output_type": "execute_result"
    }
   ],
   "source": [
    "from sklearn.neural_network import MLPClassifier\n",
    "clf = MLPClassifier(random_state=0)\n",
    "mlp, y_pred = perform_classification('Multi-Layer Perceptron Classification', clf, features)\n",
    "perform_cross_validation(clf)\n",
    "mlp.sort_index()"
   ]
  },
  {
   "cell_type": "markdown",
   "metadata": {},
   "source": [
    "## Classification Summary with Numeric Feature Set"
   ]
  },
  {
   "cell_type": "code",
   "execution_count": null,
   "metadata": {
    "collapsed": false
   },
   "outputs": [
    {
     "name": "stdout",
     "output_type": "stream",
     "text": [
      "Classification Summary with Numeric Feature Set\n",
      "\n"
     ]
    },
    {
     "data": {
      "text/html": [
       "<div>\n",
       "<table border=\"1\" class=\"dataframe\">\n",
       "  <thead>\n",
       "    <tr style=\"text-align: right;\">\n",
       "      <th></th>\n",
       "      <th>Logistic Classification</th>\n",
       "      <th>Decision Tree Classification</th>\n",
       "      <th>Random Forest Classification</th>\n",
       "      <th>Extra Trees Classification</th>\n",
       "      <th>Naive Bayes Classification</th>\n",
       "      <th>Nearest Neighbors Classification</th>\n",
       "      <th>Gradient Boosting Classification</th>\n",
       "      <th>Multi-Layer Perceptron Classification</th>\n",
       "    </tr>\n",
       "  </thead>\n",
       "  <tbody>\n",
       "    <tr>\n",
       "      <th>Accuracy</th>\n",
       "      <td>0.577007</td>\n",
       "      <td>0.656934</td>\n",
       "      <td>0.670073</td>\n",
       "      <td>0.665328</td>\n",
       "      <td>0.500365</td>\n",
       "      <td>0.589781</td>\n",
       "      <td>0.701460</td>\n",
       "      <td>0.606569</td>\n",
       "    </tr>\n",
       "    <tr>\n",
       "      <th>F1 (macro)</th>\n",
       "      <td>0.325555</td>\n",
       "      <td>0.552091</td>\n",
       "      <td>0.505670</td>\n",
       "      <td>0.508443</td>\n",
       "      <td>0.299163</td>\n",
       "      <td>0.447329</td>\n",
       "      <td>0.571128</td>\n",
       "      <td>0.328199</td>\n",
       "    </tr>\n",
       "    <tr>\n",
       "      <th>F1 (micro)</th>\n",
       "      <td>0.577007</td>\n",
       "      <td>0.656934</td>\n",
       "      <td>0.670073</td>\n",
       "      <td>0.665328</td>\n",
       "      <td>0.500365</td>\n",
       "      <td>0.589781</td>\n",
       "      <td>0.701460</td>\n",
       "      <td>0.606569</td>\n",
       "    </tr>\n",
       "    <tr>\n",
       "      <th>Precision (macro)</th>\n",
       "      <td>0.337289</td>\n",
       "      <td>0.559901</td>\n",
       "      <td>0.549700</td>\n",
       "      <td>0.554362</td>\n",
       "      <td>0.388027</td>\n",
       "      <td>0.449879</td>\n",
       "      <td>0.617866</td>\n",
       "      <td>0.372159</td>\n",
       "    </tr>\n",
       "    <tr>\n",
       "      <th>Precision (micro)</th>\n",
       "      <td>0.577007</td>\n",
       "      <td>0.656934</td>\n",
       "      <td>0.670073</td>\n",
       "      <td>0.665328</td>\n",
       "      <td>0.500365</td>\n",
       "      <td>0.589781</td>\n",
       "      <td>0.701460</td>\n",
       "      <td>0.606569</td>\n",
       "    </tr>\n",
       "    <tr>\n",
       "      <th>Recall (macro)</th>\n",
       "      <td>0.334286</td>\n",
       "      <td>0.545906</td>\n",
       "      <td>0.489289</td>\n",
       "      <td>0.488079</td>\n",
       "      <td>0.348306</td>\n",
       "      <td>0.445305</td>\n",
       "      <td>0.550013</td>\n",
       "      <td>0.374967</td>\n",
       "    </tr>\n",
       "    <tr>\n",
       "      <th>Recall (micro)</th>\n",
       "      <td>0.577007</td>\n",
       "      <td>0.656934</td>\n",
       "      <td>0.670073</td>\n",
       "      <td>0.665328</td>\n",
       "      <td>0.500365</td>\n",
       "      <td>0.589781</td>\n",
       "      <td>0.701460</td>\n",
       "      <td>0.606569</td>\n",
       "    </tr>\n",
       "  </tbody>\n",
       "</table>\n",
       "</div>"
      ],
      "text/plain": [
       "                   Logistic Classification  Decision Tree Classification  \\\n",
       "Accuracy                          0.577007                      0.656934   \n",
       "F1 (macro)                        0.325555                      0.552091   \n",
       "F1 (micro)                        0.577007                      0.656934   \n",
       "Precision (macro)                 0.337289                      0.559901   \n",
       "Precision (micro)                 0.577007                      0.656934   \n",
       "Recall (macro)                    0.334286                      0.545906   \n",
       "Recall (micro)                    0.577007                      0.656934   \n",
       "\n",
       "                   Random Forest Classification  Extra Trees Classification  \\\n",
       "Accuracy                               0.670073                    0.665328   \n",
       "F1 (macro)                             0.505670                    0.508443   \n",
       "F1 (micro)                             0.670073                    0.665328   \n",
       "Precision (macro)                      0.549700                    0.554362   \n",
       "Precision (micro)                      0.670073                    0.665328   \n",
       "Recall (macro)                         0.489289                    0.488079   \n",
       "Recall (micro)                         0.670073                    0.665328   \n",
       "\n",
       "                   Naive Bayes Classification  \\\n",
       "Accuracy                             0.500365   \n",
       "F1 (macro)                           0.299163   \n",
       "F1 (micro)                           0.500365   \n",
       "Precision (macro)                    0.388027   \n",
       "Precision (micro)                    0.500365   \n",
       "Recall (macro)                       0.348306   \n",
       "Recall (micro)                       0.500365   \n",
       "\n",
       "                   Nearest Neighbors Classification  \\\n",
       "Accuracy                                   0.589781   \n",
       "F1 (macro)                                 0.447329   \n",
       "F1 (micro)                                 0.589781   \n",
       "Precision (macro)                          0.449879   \n",
       "Precision (micro)                          0.589781   \n",
       "Recall (macro)                             0.445305   \n",
       "Recall (micro)                             0.589781   \n",
       "\n",
       "                   Gradient Boosting Classification  \\\n",
       "Accuracy                                   0.701460   \n",
       "F1 (macro)                                 0.571128   \n",
       "F1 (micro)                                 0.701460   \n",
       "Precision (macro)                          0.617866   \n",
       "Precision (micro)                          0.701460   \n",
       "Recall (macro)                             0.550013   \n",
       "Recall (micro)                             0.701460   \n",
       "\n",
       "                   Multi-Layer Perceptron Classification  \n",
       "Accuracy                                        0.606569  \n",
       "F1 (macro)                                      0.328199  \n",
       "F1 (micro)                                      0.606569  \n",
       "Precision (macro)                               0.372159  \n",
       "Precision (micro)                               0.606569  \n",
       "Recall (macro)                                  0.374967  \n",
       "Recall (micro)                                  0.606569  "
      ]
     },
     "execution_count": 140,
     "metadata": {},
     "output_type": "execute_result"
    }
   ],
   "source": [
    "# Classifcation Summary\n",
    "print(\"Classification Summary with Numeric Feature Set\\n\")\n",
    "class_metrics = pd.concat([lin_reg, dtc, rfc, etc, nbg, knn, gbc, mlp] , axis=1)\n",
    "class_metrics.sort_index()"
   ]
  },
  {
   "cell_type": "markdown",
   "metadata": {
    "collapsed": true
   },
   "source": [
    "## 4. Summary\n",
    "\n",
    "The Decision Tree, Random Forest, Extra Trees and Nearest Neighbors models fit the data extremely well. The Logistic and Naive Bayes models don't fit well at all."
   ]
  }
 ],
 "metadata": {
  "anaconda-cloud": {},
  "kernelspec": {
   "display_name": "Python 3",
   "language": "python",
   "name": "python3"
  },
  "language_info": {
   "codemirror_mode": {
    "name": "ipython",
    "version": 3
   },
   "file_extension": ".py",
   "mimetype": "text/x-python",
   "name": "python",
   "nbconvert_exporter": "python",
   "pygments_lexer": "ipython3",
   "version": "3.6.0"
  }
 },
 "nbformat": 4,
 "nbformat_minor": 1
}
