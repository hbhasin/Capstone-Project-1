{
 "cells": [
  {
   "cell_type": "markdown",
   "metadata": {},
   "source": [
    "# Denver 2016 Bike Share Multi-Class Classification Modeling"
   ]
  },
  {
   "cell_type": "markdown",
   "metadata": {},
   "source": [
    "## 1. Introduction\n",
    "\n",
    "The data exploration performed on the Denver Trips dataset indicates weather variables have a significant impact on the number of checkouts. This section will focus on investigating the use of various classification models on the Trips data when combined with weather variables."
   ]
  },
  {
   "cell_type": "code",
   "execution_count": 1,
   "metadata": {
    "collapsed": false
   },
   "outputs": [],
   "source": [
    "# Import necessary libraries and functions that are needed for the modeling\n",
    "import pandas as pd\n",
    "import numpy as np\n",
    "import matplotlib.pyplot as plt\n",
    "from sklearn import model_selection\n",
    "from sklearn.tree import DecisionTreeClassifier, export_graphviz\n",
    "from sklearn import metrics\n",
    "from sklearn.ensemble import RandomForestClassifier, ExtraTreesClassifier\n",
    "from sklearn import naive_bayes\n",
    "from sklearn.neighbors import KNeighborsClassifier\n",
    "from sklearn.model_selection import ShuffleSplit\n",
    "from sklearn.model_selection import train_test_split\n",
    "from sklearn.model_selection import cross_val_score\n",
    "import seaborn as sns\n",
    "%matplotlib inline"
   ]
  },
  {
   "cell_type": "code",
   "execution_count": 2,
   "metadata": {
    "collapsed": false
   },
   "outputs": [
    {
     "data": {
      "text/html": [
       "<style>body {\n",
       "    margin: 0;\n",
       "    font-family: Helvetica;\n",
       "}\n",
       "table.dataframe {\n",
       "    border-collapse: collapse;\n",
       "    border: none;\n",
       "}\n",
       "table.dataframe tr {\n",
       "    border: none;\n",
       "}\n",
       "table.dataframe td, table.dataframe th {\n",
       "    margin: 0;\n",
       "    border: 1px solid white;\n",
       "    padding-left: 0.25em;\n",
       "    padding-right: 0.25em;\n",
       "}\n",
       "table.dataframe th:not(:empty) {\n",
       "    background-color: #fec;\n",
       "    text-align: left;\n",
       "    font-weight: normal;\n",
       "}\n",
       "table.dataframe tr:nth-child(2) th:empty {\n",
       "    border-left: none;\n",
       "    border-right: 1px dashed #888;\n",
       "}\n",
       "table.dataframe td {\n",
       "    border: 2px solid #ccf;\n",
       "    background-color: #f4f4ff;\n",
       "}\n",
       "h3 {\n",
       "    color: white;\n",
       "    background-color: black;\n",
       "    padding: 0.5em;\n",
       "}\n",
       "</style>"
      ],
      "text/plain": [
       "<IPython.core.display.HTML object>"
      ]
     },
     "execution_count": 2,
     "metadata": {},
     "output_type": "execute_result"
    }
   ],
   "source": [
    "# taken from Brandon Rhodes's Pandas Tutorial (https://github.com/brandon-rhodes)\n",
    "from IPython.core.display import HTML\n",
    "css = open('style-table.css').read() + open('style-notebook.css').read()\n",
    "HTML('<style>{}</style>'.format(css))"
   ]
  },
  {
   "cell_type": "code",
   "execution_count": 3,
   "metadata": {
    "collapsed": false
   },
   "outputs": [],
   "source": [
    "dF = pd.read_csv(\"data/2016_Denver_Bike_Trip_ML_Data.gz\", dtype = {'Bike_Number' : object}, compression=\"gzip\")"
   ]
  },
  {
   "cell_type": "code",
   "execution_count": 4,
   "metadata": {
    "collapsed": false
   },
   "outputs": [
    {
     "data": {
      "text/plain": [
       "(402962, 20)"
      ]
     },
     "execution_count": 4,
     "metadata": {},
     "output_type": "execute_result"
    }
   ],
   "source": [
    "dF.shape"
   ]
  },
  {
   "cell_type": "code",
   "execution_count": 5,
   "metadata": {
    "collapsed": false
   },
   "outputs": [
    {
     "data": {
      "text/html": [
       "<div>\n",
       "<table border=\"1\" class=\"dataframe\">\n",
       "  <thead>\n",
       "    <tr style=\"text-align: right;\">\n",
       "      <th></th>\n",
       "      <th>User_Program</th>\n",
       "      <th>User_ID</th>\n",
       "      <th>Membership_Type</th>\n",
       "      <th>Bike_Number</th>\n",
       "      <th>Checkout_Date</th>\n",
       "      <th>Checkout_Hour</th>\n",
       "      <th>Checkout_Kiosk</th>\n",
       "      <th>Return_Date</th>\n",
       "      <th>Return_Time</th>\n",
       "      <th>Return_Kiosk</th>\n",
       "      <th>Trip_Duration</th>\n",
       "      <th>Trip_Distance</th>\n",
       "      <th>Checkout_WeekDay</th>\n",
       "      <th>Checkout_Month</th>\n",
       "      <th>Apparent_Temperature</th>\n",
       "      <th>Cloud_Cover</th>\n",
       "      <th>Humidity</th>\n",
       "      <th>Temperature</th>\n",
       "      <th>Visibility</th>\n",
       "      <th>Wind_Speed</th>\n",
       "    </tr>\n",
       "  </thead>\n",
       "  <tbody>\n",
       "    <tr>\n",
       "      <th>0</th>\n",
       "      <td>Denver B-cycle</td>\n",
       "      <td>1052163</td>\n",
       "      <td>24-hour Kiosk Only (Denver B-cycle)</td>\n",
       "      <td>83</td>\n",
       "      <td>2016-01-01</td>\n",
       "      <td>23</td>\n",
       "      <td>Market Street Station</td>\n",
       "      <td>2016-01-01</td>\n",
       "      <td>23:23:00</td>\n",
       "      <td>19th &amp; Market</td>\n",
       "      <td>2</td>\n",
       "      <td>0.26</td>\n",
       "      <td>4</td>\n",
       "      <td>1</td>\n",
       "      <td>9.71</td>\n",
       "      <td>0.0</td>\n",
       "      <td>0.53</td>\n",
       "      <td>14.99</td>\n",
       "      <td>10.0</td>\n",
       "      <td>3.2</td>\n",
       "    </tr>\n",
       "  </tbody>\n",
       "</table>\n",
       "</div>"
      ],
      "text/plain": [
       "     User_Program  User_ID                      Membership_Type Bike_Number  \\\n",
       "0  Denver B-cycle  1052163  24-hour Kiosk Only (Denver B-cycle)          83   \n",
       "\n",
       "  Checkout_Date  Checkout_Hour         Checkout_Kiosk Return_Date Return_Time  \\\n",
       "0    2016-01-01             23  Market Street Station  2016-01-01    23:23:00   \n",
       "\n",
       "    Return_Kiosk  Trip_Duration  Trip_Distance  Checkout_WeekDay  \\\n",
       "0  19th & Market              2           0.26                 4   \n",
       "\n",
       "   Checkout_Month  Apparent_Temperature  Cloud_Cover  Humidity  Temperature  \\\n",
       "0               1                  9.71          0.0      0.53        14.99   \n",
       "\n",
       "   Visibility  Wind_Speed  \n",
       "0        10.0         3.2  "
      ]
     },
     "execution_count": 5,
     "metadata": {},
     "output_type": "execute_result"
    }
   ],
   "source": [
    "dF.head(1)"
   ]
  },
  {
   "cell_type": "code",
   "execution_count": 6,
   "metadata": {
    "collapsed": false
   },
   "outputs": [],
   "source": [
    "dF.drop(['User_Program'], axis = 1, inplace = True)\n",
    "dF.drop(['User_ID'], axis = 1, inplace = True)\n",
    "dF.drop(['Bike_Number'], axis = 1, inplace = True)\n",
    "dF.drop(['Checkout_Date'], axis = 1, inplace = True)\n",
    "dF.drop(['Checkout_Kiosk'], axis = 1, inplace = True)\n",
    "dF.drop(['Return_Date'], axis = 1, inplace = True)\n",
    "dF.drop(['Return_Kiosk'], axis = 1, inplace = True)\n",
    "dF.drop(['Return_Time'], axis = 1, inplace = True)\n",
    "#dF.drop(['Trip_Duration'], axis = 1, inplace = True)\n",
    "#dF.drop(['Trip_Distance'], axis = 1, inplace = True)\n",
    "dF.drop(['Membership_Type'], axis = 1, inplace = True)"
   ]
  },
  {
   "cell_type": "code",
   "execution_count": 7,
   "metadata": {
    "collapsed": false
   },
   "outputs": [
    {
     "name": "stdout",
     "output_type": "stream",
     "text": [
      "<class 'pandas.core.frame.DataFrame'>\n",
      "RangeIndex: 402962 entries, 0 to 402961\n",
      "Data columns (total 11 columns):\n",
      "Checkout_Hour           402962 non-null int64\n",
      "Trip_Duration           402962 non-null int64\n",
      "Trip_Distance           402962 non-null float64\n",
      "Checkout_WeekDay        402962 non-null int64\n",
      "Checkout_Month          402962 non-null int64\n",
      "Apparent_Temperature    402962 non-null float64\n",
      "Cloud_Cover             402962 non-null float64\n",
      "Humidity                402962 non-null float64\n",
      "Temperature             402962 non-null float64\n",
      "Visibility              402962 non-null float64\n",
      "Wind_Speed              402962 non-null float64\n",
      "dtypes: float64(7), int64(4)\n",
      "memory usage: 33.8 MB\n"
     ]
    }
   ],
   "source": [
    "dF.info()"
   ]
  },
  {
   "cell_type": "code",
   "execution_count": 8,
   "metadata": {
    "collapsed": false
   },
   "outputs": [],
   "source": [
    "# re-arrange columns in preparation for training and test data\n",
    "dF = dF[['Checkout_Month', 'Checkout_WeekDay', 'Cloud_Cover', 'Trip_Duration', 'Trip_Distance', 'Temperature', \n",
    "         'Apparent_Temperature', 'Wind_Speed', 'Humidity', 'Visibility', 'Checkout_Hour']]"
   ]
  },
  {
   "cell_type": "code",
   "execution_count": 9,
   "metadata": {
    "collapsed": false
   },
   "outputs": [
    {
     "name": "stdout",
     "output_type": "stream",
     "text": [
      "<class 'pandas.core.frame.DataFrame'>\n",
      "RangeIndex: 402962 entries, 0 to 402961\n",
      "Data columns (total 11 columns):\n",
      "Checkout_Month          402962 non-null int64\n",
      "Checkout_WeekDay        402962 non-null int64\n",
      "Cloud_Cover             402962 non-null float64\n",
      "Trip_Duration           402962 non-null int64\n",
      "Trip_Distance           402962 non-null float64\n",
      "Temperature             402962 non-null float64\n",
      "Apparent_Temperature    402962 non-null float64\n",
      "Wind_Speed              402962 non-null float64\n",
      "Humidity                402962 non-null float64\n",
      "Visibility              402962 non-null float64\n",
      "Checkout_Hour           402962 non-null int64\n",
      "dtypes: float64(7), int64(4)\n",
      "memory usage: 33.8 MB\n"
     ]
    }
   ],
   "source": [
    "dF.info()"
   ]
  },
  {
   "cell_type": "code",
   "execution_count": 10,
   "metadata": {
    "collapsed": false
   },
   "outputs": [],
   "source": [
    "dML = dF[~((dF.Checkout_Hour == 0)  | (dF.Checkout_Hour == 1)  | (dF.Checkout_Hour == 2)  | (dF.Checkout_Hour == 3)  |\n",
    "         (dF.Checkout_Hour == 4) | (dF.Checkout_Hour == 5))]"
   ]
  },
  {
   "cell_type": "code",
   "execution_count": 11,
   "metadata": {
    "collapsed": false
   },
   "outputs": [
    {
     "data": {
      "text/plain": [
       "(400407, 11)"
      ]
     },
     "execution_count": 11,
     "metadata": {},
     "output_type": "execute_result"
    }
   ],
   "source": [
    "dML.shape"
   ]
  },
  {
   "cell_type": "code",
   "execution_count": 12,
   "metadata": {
    "collapsed": false
   },
   "outputs": [
    {
     "name": "stdout",
     "output_type": "stream",
     "text": [
      "Before Coding:\n",
      "[39014, 36012, 31619, 30256, 28331, 28270, 28113, 25879, 24866, 24623, 20248, 19762, 16828, 13359, 11338, 9885, 7941, 4063, 2522, 33]\n",
      "\n",
      "After Coding:\n",
      "13    39014\n",
      "12    36012\n",
      "4     31652\n",
      "11    30256\n",
      "9     28331\n",
      "10    28270\n",
      "8     28113\n",
      "14    25879\n",
      "7     24866\n",
      "3     24623\n",
      "5     20248\n",
      "6     19762\n",
      "15    16828\n",
      "16    13359\n",
      "17    11338\n",
      "2      9885\n",
      "18     7941\n",
      "19     4063\n",
      "1      2522\n",
      "Name: Class_Label, dtype: int64\n"
     ]
    }
   ],
   "source": [
    "#Define a generic function using Pandas replace function\n",
    "def coding(col, codeDict):\n",
    "  colCoded = pd.Series(col, copy=True)\n",
    "  for key, value in codeDict.items():\n",
    "    colCoded.replace(key, value, inplace=True)\n",
    "  return colCoded\n",
    "\n",
    "data = dF.copy(deep=True)\n",
    "print('Before Coding:')\n",
    "print(pd.value_counts(data[\"Checkout_Hour\"]).tolist())\n",
    "data[\"Class_Label\"] = coding(data[\"Checkout_Hour\"], {5: 1,\n",
    "                                                     6: 2, 7: 3, 8: 4, 9: 5, 10: 6, 11: 7,\n",
    "                                                     12: 8, 13: 9, 14: 10, 15: 11, 16: 12, 17: 13,\n",
    "                                                     18: 14, 19: 15, 20: 16, 21: 17, 22: 18, 23: 19})\n",
    "print('\\nAfter Coding:')\n",
    "print(pd.value_counts(data[\"Class_Label\"]))"
   ]
  },
  {
   "cell_type": "code",
   "execution_count": 13,
   "metadata": {
    "collapsed": false
   },
   "outputs": [],
   "source": [
    "data = data[['Checkout_Month', 'Checkout_WeekDay', 'Cloud_Cover', 'Trip_Duration', 'Trip_Distance', 'Temperature', \n",
    "           'Apparent_Temperature', 'Wind_Speed', 'Humidity', 'Visibility', 'Class_Label', 'Checkout_Hour']]"
   ]
  },
  {
   "cell_type": "code",
   "execution_count": 14,
   "metadata": {
    "collapsed": false
   },
   "outputs": [],
   "source": [
    "array = data.values"
   ]
  },
  {
   "cell_type": "code",
   "execution_count": 15,
   "metadata": {
    "collapsed": false
   },
   "outputs": [],
   "source": [
    "X = array[:,0:10]"
   ]
  },
  {
   "cell_type": "code",
   "execution_count": 16,
   "metadata": {
    "collapsed": false
   },
   "outputs": [],
   "source": [
    "y = array[:,10]"
   ]
  },
  {
   "cell_type": "markdown",
   "metadata": {},
   "source": [
    "## Feature Correlations"
   ]
  },
  {
   "cell_type": "code",
   "execution_count": 17,
   "metadata": {
    "collapsed": false
   },
   "outputs": [
    {
     "data": {
      "image/png": "[encoded data removed]",
      "text/plain": [
       "<matplotlib.figure.Figure at 0x1cd21d7d4e0>"
      ]
     },
     "metadata": {},
     "output_type": "display_data"
    }
   ],
   "source": [
    "feature_corr = data.drop(['Class_Label'], axis = 1)\n",
    "plt.figure(figsize=(9,5))\n",
    "ax = sns.heatmap(feature_corr.corr())\n",
    "plt.title(\"Feature Correlations\", fontsize=18)\n",
    "plt.xticks(fontsize=14)\n",
    "plt.yticks(fontsize=14)\n",
    "plt.show()"
   ]
  },
  {
   "cell_type": "code",
   "execution_count": 18,
   "metadata": {
    "collapsed": false
   },
   "outputs": [],
   "source": [
    "features = [\"Checkout_Month\", \"Checkout_WeekDay\", 'Trip_Duration', 'Trip_Distance',  \n",
    "            'Cloud_Cover', 'Temperature', 'Apparent_Temperature', 'Wind_Speed', 'Humidity', 'Visibility']\n",
    "X = data[features]\n",
    "y = data[\"Class_Label\"]\n",
    "X_train, X_test, y_train, y_test = train_test_split(X, y, test_size=0.4, random_state=0)"
   ]
  },
  {
   "cell_type": "markdown",
   "metadata": {},
   "source": [
    "## 2. Modeling - All Features"
   ]
  },
  {
   "cell_type": "code",
   "execution_count": 19,
   "metadata": {
    "collapsed": false
   },
   "outputs": [],
   "source": [
    "def plot_feature_importances(model):\n",
    "    n_features = X.shape[1]\n",
    "    plt.figure(figsize=(10,5))\n",
    "    plt.barh(range(n_features), model.feature_importances_, align='center')\n",
    "    plt.yticks(np.arange(n_features), features, fontsize=14)\n",
    "    plt.xticks(fontsize=14)\n",
    "    plt.xlabel(\"Feature importance\", fontsize=16)\n",
    "    plt.ylabel(\"Feature\", fontsize=16)\n",
    "    plt.ylim(-1, n_features)"
   ]
  },
  {
   "cell_type": "code",
   "execution_count": 20,
   "metadata": {
    "collapsed": false
   },
   "outputs": [],
   "source": [
    "def get_class_metrics(model, actual, predicted):\n",
    "    class_metrics = {'Accuracy' : metrics.accuracy_score(actual, predicted),\n",
    "                         'F1 (macro)' : metrics.f1_score(actual, predicted, average='macro'),\n",
    "                         'F1 (micro)' : metrics.f1_score(actual, predicted, average='micro'),\n",
    "                         'Precision (macro)' : metrics.precision_score(actual, predicted,  average='macro'),\n",
    "                         'Precision (micro)' : metrics.precision_score(actual, predicted,  average='micro'),\n",
    "                         'Recall (macro)' : metrics.recall_score(actual, predicted,  average='macro'),\n",
    "                         'Recall (micro)' : metrics.recall_score(actual, predicted,  average='micro')}\n",
    "    dML_metrics = pd.DataFrame.from_dict(class_metrics, orient='index')\n",
    "    dML_metrics.columns = [model]\n",
    "    return dML_metrics"
   ]
  },
  {
   "cell_type": "code",
   "execution_count": 21,
   "metadata": {
    "collapsed": true
   },
   "outputs": [],
   "source": [
    "def perform_classification(model, clfr, features):   \n",
    " \n",
    "    clfr.fit(X_train, y_train)\n",
    "    ypred = clfr.predict(X_test)\n",
    "    got_metrics = get_class_metrics(model, y_test, ypred)\n",
    "    print(model,'\\n')\n",
    "    print(\"Accuracy on training set: {:.3f}\".format(clfr.score(X_train, y_train)))\n",
    "    print(\"Accuracy on test set: {:.3f}\".format(clfr.score(X_test, y_test)))\n",
    "    print('\\nConfusion Matrix:')\n",
    "    print(metrics.confusion_matrix(y_test, ypred))\n",
    "    print('\\nClassification Report:')\n",
    "    print(metrics.classification_report(y_test, ypred))\n",
    "    return got_metrics, ypred"
   ]
  },
  {
   "cell_type": "code",
   "execution_count": 22,
   "metadata": {
    "collapsed": true
   },
   "outputs": [],
   "source": [
    "def perform_cross_validation(clfr):\n",
    "    shuffle_split = ShuffleSplit(test_size=.5, train_size=.5, n_splits=10)\n",
    "    scores = cross_val_score(clfr, X, y, cv=shuffle_split)\n",
    "    print(\"Cross-validation scores:\\n{}\".format(scores))"
   ]
  },
  {
   "cell_type": "markdown",
   "metadata": {},
   "source": [
    "#### Decision Tree Classification"
   ]
  },
  {
   "cell_type": "code",
   "execution_count": 23,
   "metadata": {
    "collapsed": false
   },
   "outputs": [
    {
     "name": "stdout",
     "output_type": "stream",
     "text": [
      "Decision Tree Classification \n",
      "\n",
      "Accuracy on training set: 1.000\n",
      "Accuracy on test set: 0.999\n",
      "\n",
      "Confusion Matrix:\n",
      "[[ 1002    21    12     0     0     4     0     0     0     0     1     3\n",
      "      1     0     2     0     2     2     4]\n",
      " [    8  3908     4     1     1     0     0     2     0     0     0     0\n",
      "      1     0     0     0     2     0     2]\n",
      " [    1     1  9706     2     0     2     0     0     1     1     0     0\n",
      "      0     3     0     0     3     0     4]\n",
      " [    1     2     4 12705     2     0     0     0     0     0     0     0\n",
      "      3     2     0     2     1     0     1]\n",
      " [    0     0     3     3  8036     0     0     0     0     0     0     0\n",
      "      0     0     0     0     0     1     1]\n",
      " [    0     0     0     0     0  7948     0     0     0     0     0     0\n",
      "      0     0     0     0     1     4     0]\n",
      " [    0     0     0     0     0     0  9981     0     0     0     0     0\n",
      "      0     0     0     0     0     0     1]\n",
      " [    0     0     0     0     0     0     1 11185     0     0     0     0\n",
      "      0     0     1     0     0     0     0]\n",
      " [    0     0     0     0     0     0     0     0 11387     0     0     0\n",
      "      0     0     0     0     0     0     0]\n",
      " [    0     0     0     0     0     0     0     0     0 11379     0     0\n",
      "      0     0     1     0     0     0     0]\n",
      " [    0     0     0     0     0     0     0     0     0     0 12000     0\n",
      "      0     0     0     1     0     0     0]\n",
      " [    0     0     0     0     0     0     0     0     1     0     0 14459\n",
      "      0     0     0     0     0     0     0]\n",
      " [    0     0     0     0     0     2     0     0     0     0     0     0\n",
      "  15503     0     0     0     0     0     0]\n",
      " [    0     1     1     0     0     0     0     0     0     0     0     0\n",
      "      0 10443     0     0     0     0     1]\n",
      " [    0     1     1     0     0     0     0     0     0     3     0     0\n",
      "      0     0  6713     1     1     0     0]\n",
      " [    0     0     2     0     1     0     2     0     0     1     0     0\n",
      "      2     0     0  5285     0     0     2]\n",
      " [    0     0     0     3     1     0     0     0     0     0     0     0\n",
      "      0     0     0     0  4610     0     2]\n",
      " [    4     2     0     0     3     0     0     0     0     0     0     0\n",
      "      0     0     0     0     1  3144     1]\n",
      " [    4     5     0     0     0     0     0     0     0     0     0     0\n",
      "      0     2     0     0     1     4  1608]]\n",
      "\n",
      "Classification Report:\n",
      "             precision    recall  f1-score   support\n",
      "\n",
      "          1       0.98      0.95      0.97      1054\n",
      "          2       0.99      0.99      0.99      3929\n",
      "          3       1.00      1.00      1.00      9724\n",
      "          4       1.00      1.00      1.00     12723\n",
      "          5       1.00      1.00      1.00      8044\n",
      "          6       1.00      1.00      1.00      7953\n",
      "          7       1.00      1.00      1.00      9982\n",
      "          8       1.00      1.00      1.00     11187\n",
      "          9       1.00      1.00      1.00     11387\n",
      "         10       1.00      1.00      1.00     11380\n",
      "         11       1.00      1.00      1.00     12001\n",
      "         12       1.00      1.00      1.00     14460\n",
      "         13       1.00      1.00      1.00     15505\n",
      "         14       1.00      1.00      1.00     10446\n",
      "         15       1.00      1.00      1.00      6720\n",
      "         16       1.00      1.00      1.00      5295\n",
      "         17       1.00      1.00      1.00      4616\n",
      "         18       1.00      1.00      1.00      3155\n",
      "         19       0.99      0.99      0.99      1624\n",
      "\n",
      "avg / total       1.00      1.00      1.00    161185\n",
      "\n",
      "Cross-validation scores:\n",
      "[ 0.99857058  0.99831746  0.99846636  0.99843161  0.99839687  0.99836213\n",
      "  0.99847132  0.99841672  0.99834724  0.99838694]\n"
     ]
    },
    {
     "data": {
      "text/html": [
       "<div>\n",
       "<table border=\"1\" class=\"dataframe\">\n",
       "  <thead>\n",
       "    <tr style=\"text-align: right;\">\n",
       "      <th></th>\n",
       "      <th>Decision Tree Classification</th>\n",
       "    </tr>\n",
       "  </thead>\n",
       "  <tbody>\n",
       "    <tr>\n",
       "      <th>Accuracy</th>\n",
       "      <td>0.998865</td>\n",
       "    </tr>\n",
       "    <tr>\n",
       "      <th>F1 (macro)</th>\n",
       "      <td>0.996534</td>\n",
       "    </tr>\n",
       "    <tr>\n",
       "      <th>F1 (micro)</th>\n",
       "      <td>0.998865</td>\n",
       "    </tr>\n",
       "    <tr>\n",
       "      <th>Precision (macro)</th>\n",
       "      <td>0.997204</td>\n",
       "    </tr>\n",
       "    <tr>\n",
       "      <th>Precision (micro)</th>\n",
       "      <td>0.998865</td>\n",
       "    </tr>\n",
       "    <tr>\n",
       "      <th>Recall (macro)</th>\n",
       "      <td>0.995891</td>\n",
       "    </tr>\n",
       "    <tr>\n",
       "      <th>Recall (micro)</th>\n",
       "      <td>0.998865</td>\n",
       "    </tr>\n",
       "  </tbody>\n",
       "</table>\n",
       "</div>"
      ],
      "text/plain": [
       "                   Decision Tree Classification\n",
       "Accuracy                               0.998865\n",
       "F1 (macro)                             0.996534\n",
       "F1 (micro)                             0.998865\n",
       "Precision (macro)                      0.997204\n",
       "Precision (micro)                      0.998865\n",
       "Recall (macro)                         0.995891\n",
       "Recall (micro)                         0.998865"
      ]
     },
     "execution_count": 23,
     "metadata": {},
     "output_type": "execute_result"
    },
    {
     "data": {
      "image/png": "[encoded data removed]",
      "text/plain": [
       "<matplotlib.figure.Figure at 0x1cd211f3eb8>"
      ]
     },
     "metadata": {},
     "output_type": "display_data"
    }
   ],
   "source": [
    "# Decision Tree Classifier\n",
    "clf = DecisionTreeClassifier(random_state=0)\n",
    "dtc, y_pred = perform_classification('Decision Tree Classification', clf, features)\n",
    "perform_cross_validation(clf)\n",
    "plot_feature_importances(clf)\n",
    "dtc.sort_index()"
   ]
  },
  {
   "cell_type": "markdown",
   "metadata": {},
   "source": [
    "#### Linear (Logistic) Classification"
   ]
  },
  {
   "cell_type": "code",
   "execution_count": 24,
   "metadata": {
    "collapsed": false
   },
   "outputs": [
    {
     "name": "stderr",
     "output_type": "stream",
     "text": [
      "C:\\Users\\jbhasin\\Anaconda3\\lib\\site-packages\\sklearn\\metrics\\classification.py:1113: UndefinedMetricWarning: F-score is ill-defined and being set to 0.0 in labels with no predicted samples.\n",
      "  'precision', 'predicted', average, warn_for)\n",
      "C:\\Users\\jbhasin\\Anaconda3\\lib\\site-packages\\sklearn\\metrics\\classification.py:1113: UndefinedMetricWarning: Precision is ill-defined and being set to 0.0 in labels with no predicted samples.\n",
      "  'precision', 'predicted', average, warn_for)\n"
     ]
    },
    {
     "name": "stdout",
     "output_type": "stream",
     "text": [
      "Logistic Classification \n",
      "\n",
      "Accuracy on training set: 0.173\n",
      "Accuracy on test set: 0.171\n",
      "\n",
      "Confusion Matrix:\n",
      "[[   0    0  481  469    1   10    1    0    0    1    2   29   51    9\n",
      "     0    0    0    0    0]\n",
      " [   0    0 1362 1957  147   21    2    6    1    1    3  107  282   29\n",
      "     0    0   11    0    0]\n",
      " [   0    0 3595 4804   81   45   33   30    0    1   37  223  798   77\n",
      "     0    0    0    0    0]\n",
      " [   0    0 2263 7120   57  136  119  180   30    9   73  419 2200   80\n",
      "     0   32    4    1    0]\n",
      " [   0    0  528 2988  368  140  406  296   53   23  270  541 2212  146\n",
      "     0   14   59    0    0]\n",
      " [   0    0  281 2189   50  227  425  767  154   11  534 1098 2063   80\n",
      "     1   43   30    0    0]\n",
      " [   0    0   89 1805   58  219  389 1007  345   89 1312 1426 3032  180\n",
      "     0    0   31    0    0]\n",
      " [   0    0   33 1089   66   22  348 1259  416  192 2232 1228 3936  348\n",
      "     0    0   18    0    0]\n",
      " [   0    0   35 1146   49   26   84  706  661  201 2526 2273 3642   38\n",
      "     0    0    0    0    0]\n",
      " [   0    0   58  947   62    5   95  706  651  221 3106 2104 3282  143\n",
      "     0    0    0    0    0]\n",
      " [   0    0   68  747   50   18   20  648  400  253 3779 1696 3948  333\n",
      "     0    0   41    0    0]\n",
      " [   0    0  163 1783   26   50  229  584  634  142 2624 3354 4756  115\n",
      "     0    0    0    0    0]\n",
      " [   0    0  318 1926   67   34  217  534  444   10 2460 3016 6261  218\n",
      "     0    0    0    0    0]\n",
      " [   0    0  307 1259  113   81   34  876  148   34 2051  950 4206  356\n",
      "     0    0   31    0    0]\n",
      " [   0    0  337 1312   30  109   36  411  124   10  418 1291 2574   63\n",
      "     3    2    0    0    0]\n",
      " [   0    0  373 1407   38   79  325  300  112   30  154  544 1817   82\n",
      "     0   33    0    1    0]\n",
      " [   0    0  376 1418   91  127  178  365   29    2  127  265 1387  219\n",
      "     0   32    0    0    0]\n",
      " [   0    0  479 1472   15  122   74   50    9    6   12  315  555   15\n",
      "     1   12   18    0    0]\n",
      " [   0    0  279  795   20   69   16   26   20    4    7  149  209    5\n",
      "    20    4    0    1    0]]\n",
      "\n",
      "Classification Report:\n",
      "             precision    recall  f1-score   support\n",
      "\n",
      "          1       0.00      0.00      0.00      1054\n",
      "          2       0.00      0.00      0.00      3929\n",
      "          3       0.31      0.37      0.34      9724\n",
      "          4       0.19      0.56      0.29     12723\n",
      "          5       0.26      0.05      0.08      8044\n",
      "          6       0.15      0.03      0.05      7953\n",
      "          7       0.13      0.04      0.06      9982\n",
      "          8       0.14      0.11      0.13     11187\n",
      "          9       0.16      0.06      0.08     11387\n",
      "         10       0.18      0.02      0.04     11380\n",
      "         11       0.17      0.31      0.22     12001\n",
      "         12       0.16      0.23      0.19     14460\n",
      "         13       0.13      0.40      0.20     15505\n",
      "         14       0.14      0.03      0.05     10446\n",
      "         15       0.12      0.00      0.00      6720\n",
      "         16       0.19      0.01      0.01      5295\n",
      "         17       0.00      0.00      0.00      4616\n",
      "         18       0.00      0.00      0.00      3155\n",
      "         19       0.00      0.00      0.00      1624\n",
      "\n",
      "avg / total       0.16      0.17      0.13    161185\n",
      "\n"
     ]
    },
    {
     "name": "stderr",
     "output_type": "stream",
     "text": [
      "C:\\Users\\jbhasin\\Anaconda3\\lib\\site-packages\\sklearn\\metrics\\classification.py:1113: UndefinedMetricWarning: Precision and F-score are ill-defined and being set to 0.0 in labels with no predicted samples.\n",
      "  'precision', 'predicted', average, warn_for)\n"
     ]
    },
    {
     "name": "stdout",
     "output_type": "stream",
     "text": [
      "Cross-validation scores:\n",
      "[ 0.17028901  0.16394598  0.17113276  0.16932118  0.16890426  0.17202615\n",
      "  0.16935096  0.16755426  0.17126677  0.17220979]\n"
     ]
    },
    {
     "data": {
      "text/html": [
       "<div>\n",
       "<table border=\"1\" class=\"dataframe\">\n",
       "  <thead>\n",
       "    <tr style=\"text-align: right;\">\n",
       "      <th></th>\n",
       "      <th>Logistic Classification</th>\n",
       "    </tr>\n",
       "  </thead>\n",
       "  <tbody>\n",
       "    <tr>\n",
       "      <th>Accuracy</th>\n",
       "      <td>0.171393</td>\n",
       "    </tr>\n",
       "    <tr>\n",
       "      <th>F1 (macro)</th>\n",
       "      <td>0.091614</td>\n",
       "    </tr>\n",
       "    <tr>\n",
       "      <th>F1 (micro)</th>\n",
       "      <td>0.171393</td>\n",
       "    </tr>\n",
       "    <tr>\n",
       "      <th>Precision (macro)</th>\n",
       "      <td>0.128753</td>\n",
       "    </tr>\n",
       "    <tr>\n",
       "      <th>Precision (micro)</th>\n",
       "      <td>0.171393</td>\n",
       "    </tr>\n",
       "    <tr>\n",
       "      <th>Recall (macro)</th>\n",
       "      <td>0.117052</td>\n",
       "    </tr>\n",
       "    <tr>\n",
       "      <th>Recall (micro)</th>\n",
       "      <td>0.171393</td>\n",
       "    </tr>\n",
       "  </tbody>\n",
       "</table>\n",
       "</div>"
      ],
      "text/plain": [
       "                   Logistic Classification\n",
       "Accuracy                          0.171393\n",
       "F1 (macro)                        0.091614\n",
       "F1 (micro)                        0.171393\n",
       "Precision (macro)                 0.128753\n",
       "Precision (micro)                 0.171393\n",
       "Recall (macro)                    0.117052\n",
       "Recall (micro)                    0.171393"
      ]
     },
     "execution_count": 24,
     "metadata": {},
     "output_type": "execute_result"
    }
   ],
   "source": [
    "# logistic regression\n",
    "from sklearn import linear_model\n",
    "clf = linear_model.LogisticRegression(random_state=0)\n",
    "lin_reg, y_pred = perform_classification('Logistic Classification', clf, features)\n",
    "perform_cross_validation(clf)\n",
    "lin_reg.sort_index()"
   ]
  },
  {
   "cell_type": "markdown",
   "metadata": {},
   "source": [
    "#### Random Forest Classification"
   ]
  },
  {
   "cell_type": "code",
   "execution_count": 25,
   "metadata": {
    "collapsed": false
   },
   "outputs": [
    {
     "name": "stdout",
     "output_type": "stream",
     "text": [
      "Random Forest Classification \n",
      "\n",
      "Accuracy on training set: 1.000\n",
      "Accuracy on test set: 0.999\n",
      "\n",
      "Confusion Matrix:\n",
      "[[ 1016    16     6     5     0     1     0     1     0     0     1     0\n",
      "      0     1     4     0     0     3     0]\n",
      " [    7  3908     4     0     1     0     0     0     2     0     0     0\n",
      "      0     0     2     0     1     0     4]\n",
      " [    4     4  9712     3     1     0     0     0     0     0     0     0\n",
      "      0     0     0     0     0     0     0]\n",
      " [    6     3     4 12704     1     2     0     0     0     0     0     0\n",
      "      0     1     0     0     0     1     1]\n",
      " [    0     1     0     3  8040     0     0     0     0     0     0     0\n",
      "      0     0     0     0     0     0     0]\n",
      " [    0     0     0     0     4  7949     0     0     0     0     0     0\n",
      "      0     0     0     0     0     0     0]\n",
      " [    0     0     0     0     0     0  9982     0     0     0     0     0\n",
      "      0     0     0     0     0     0     0]\n",
      " [    0     0     0     0     0     0     0 11186     1     0     0     0\n",
      "      0     0     0     0     0     0     0]\n",
      " [    0     0     0     0     0     0     0     0 11387     0     0     0\n",
      "      0     0     0     0     0     0     0]\n",
      " [    0     0     0     0     0     0     0     0     0 11380     0     0\n",
      "      0     0     0     0     0     0     0]\n",
      " [    0     0     0     1     0     0     0     0     0     0 12000     0\n",
      "      0     0     0     0     0     0     0]\n",
      " [    0     0     0     0     0     0     0     0     0     0     0 14460\n",
      "      0     0     0     0     0     0     0]\n",
      " [    0     0     0     2     0     0     0     0     0     0     0     0\n",
      "  15503     0     0     0     0     0     0]\n",
      " [    0     0     0     0     1     0     0     0     0     0     0     0\n",
      "      0 10445     0     0     0     0     0]\n",
      " [    0     0     0     0     0     0     0     0     0     0     0     1\n",
      "      0     1  6717     1     0     0     0]\n",
      " [    0     2     0     2     1     0     0     0     0     0     0     0\n",
      "      0     0     1  5287     2     0     0]\n",
      " [    0     0     0     0     1     0     0     0     0     0     0     0\n",
      "      0     0     0     0  4614     0     1]\n",
      " [    0     2     0     1     1     0     0     0     0     0     0     0\n",
      "      0     0     1     0     0  3150     0]\n",
      " [    2     1     0     1     0     0     0     0     0     0     1     0\n",
      "      0     1     1     5     2     6  1604]]\n",
      "\n",
      "Classification Report:\n",
      "             precision    recall  f1-score   support\n",
      "\n",
      "          1       0.98      0.96      0.97      1054\n",
      "          2       0.99      0.99      0.99      3929\n",
      "          3       1.00      1.00      1.00      9724\n",
      "          4       1.00      1.00      1.00     12723\n",
      "          5       1.00      1.00      1.00      8044\n",
      "          6       1.00      1.00      1.00      7953\n",
      "          7       1.00      1.00      1.00      9982\n",
      "          8       1.00      1.00      1.00     11187\n",
      "          9       1.00      1.00      1.00     11387\n",
      "         10       1.00      1.00      1.00     11380\n",
      "         11       1.00      1.00      1.00     12001\n",
      "         12       1.00      1.00      1.00     14460\n",
      "         13       1.00      1.00      1.00     15505\n",
      "         14       1.00      1.00      1.00     10446\n",
      "         15       1.00      1.00      1.00      6720\n",
      "         16       1.00      1.00      1.00      5295\n",
      "         17       1.00      1.00      1.00      4616\n",
      "         18       1.00      1.00      1.00      3155\n",
      "         19       1.00      0.99      0.99      1624\n",
      "\n",
      "avg / total       1.00      1.00      1.00    161185\n",
      "\n",
      "Cross-validation scores:\n",
      "[ 0.99867978  0.99853584  0.9988386   0.99869963  0.99875919  0.99882867\n",
      "  0.99877904  0.99873934  0.99892794  0.99875919]\n"
     ]
    },
    {
     "data": {
      "text/html": [
       "<div>\n",
       "<table border=\"1\" class=\"dataframe\">\n",
       "  <thead>\n",
       "    <tr style=\"text-align: right;\">\n",
       "      <th></th>\n",
       "      <th>Random Forest Classification</th>\n",
       "    </tr>\n",
       "  </thead>\n",
       "  <tbody>\n",
       "    <tr>\n",
       "      <th>Accuracy</th>\n",
       "      <td>0.999125</td>\n",
       "    </tr>\n",
       "    <tr>\n",
       "      <th>F1 (macro)</th>\n",
       "      <td>0.997270</td>\n",
       "    </tr>\n",
       "    <tr>\n",
       "      <th>F1 (micro)</th>\n",
       "      <td>0.999125</td>\n",
       "    </tr>\n",
       "    <tr>\n",
       "      <th>Precision (macro)</th>\n",
       "      <td>0.997803</td>\n",
       "    </tr>\n",
       "    <tr>\n",
       "      <th>Precision (micro)</th>\n",
       "      <td>0.999125</td>\n",
       "    </tr>\n",
       "    <tr>\n",
       "      <th>Recall (macro)</th>\n",
       "      <td>0.996747</td>\n",
       "    </tr>\n",
       "    <tr>\n",
       "      <th>Recall (micro)</th>\n",
       "      <td>0.999125</td>\n",
       "    </tr>\n",
       "  </tbody>\n",
       "</table>\n",
       "</div>"
      ],
      "text/plain": [
       "                   Random Forest Classification\n",
       "Accuracy                               0.999125\n",
       "F1 (macro)                             0.997270\n",
       "F1 (micro)                             0.999125\n",
       "Precision (macro)                      0.997803\n",
       "Precision (micro)                      0.999125\n",
       "Recall (macro)                         0.996747\n",
       "Recall (micro)                         0.999125"
      ]
     },
     "execution_count": 25,
     "metadata": {},
     "output_type": "execute_result"
    },
    {
     "data": {
      "image/png": "[encoded data removed]",
      "text/plain": [
       "<matplotlib.figure.Figure at 0x1cd212a4e10>"
      ]
     },
     "metadata": {},
     "output_type": "display_data"
    }
   ],
   "source": [
    "# Random Forest Classifier\n",
    "clf = RandomForestClassifier(random_state=0)\n",
    "rfc, y_pred = perform_classification('Random Forest Classification', clf, features)\n",
    "perform_cross_validation(clf)\n",
    "plot_feature_importances(clf)\n",
    "rfc.sort_index()"
   ]
  },
  {
   "cell_type": "markdown",
   "metadata": {},
   "source": [
    "#### Extra Trees Classification"
   ]
  },
  {
   "cell_type": "code",
   "execution_count": 26,
   "metadata": {
    "collapsed": false
   },
   "outputs": [
    {
     "name": "stdout",
     "output_type": "stream",
     "text": [
      "Extra Trees Classification \n",
      "\n",
      "Accuracy on training set: 1.000\n",
      "Accuracy on test set: 0.999\n",
      "\n",
      "Confusion Matrix:\n",
      "[[ 1024    17     6     2     1     1     0     0     0     0     1     0\n",
      "      1     0     0     0     0     1     0]\n",
      " [    0  3917     8     1     0     1     0     2     0     0     0     0\n",
      "      0     0     0     0     0     0     0]\n",
      " [    0     5  9713     5     0     0     0     0     0     0     0     0\n",
      "      1     0     0     0     0     0     0]\n",
      " [    6     1     8 12705     0     0     0     1     0     0     0     1\n",
      "      0     1     0     0     0     0     0]\n",
      " [    0     0     0     3  8040     0     0     0     0     0     0     0\n",
      "      0     0     0     0     1     0     0]\n",
      " [    0     0     0     0     0  7949     0     0     0     0     0     0\n",
      "      0     0     0     0     0     4     0]\n",
      " [    0     0     0     0     0     0  9982     0     0     0     0     0\n",
      "      0     0     0     0     0     0     0]\n",
      " [    0     0     0     0     0     0     1 11186     0     0     0     0\n",
      "      0     0     0     0     0     0     0]\n",
      " [    0     0     0     0     0     0     0     0 11387     0     0     0\n",
      "      0     0     0     0     0     0     0]\n",
      " [    0     0     0     0     0     0     0     0     0 11380     0     0\n",
      "      0     0     0     0     0     0     0]\n",
      " [    0     0     0     0     0     0     0     0     0     0 12000     0\n",
      "      0     0     0     1     0     0     0]\n",
      " [    0     0     0     0     0     0     0     0     0     0     0 14460\n",
      "      0     0     0     0     0     0     0]\n",
      " [    0     0     0     0     0     0     0     0     0     0     0     2\n",
      "  15503     0     0     0     0     0     0]\n",
      " [    0     0     0     0     0     0     0     0     0     0     0     0\n",
      "      0 10445     0     0     0     0     1]\n",
      " [    0     0     0     0     0     0     0     0     0     0     0     0\n",
      "      0     2  6717     0     0     1     0]\n",
      " [    0     0     0     0     2     0     0     0     0     0     0     0\n",
      "      1     1     0  5287     4     0     0]\n",
      " [    0     0     0     0     1     0     0     0     0     0     0     0\n",
      "      0     0     0     0  4614     1     0]\n",
      " [    1     1     0     1     0     0     0     0     0     0     0     0\n",
      "      0     0     0     0     0  3152     0]\n",
      " [    0     2     1     3     0     0     0     0     0     0     0     0\n",
      "      0     2     3     0     0     4  1609]]\n",
      "\n",
      "Classification Report:\n",
      "             precision    recall  f1-score   support\n",
      "\n",
      "          1       0.99      0.97      0.98      1054\n",
      "          2       0.99      1.00      1.00      3929\n",
      "          3       1.00      1.00      1.00      9724\n",
      "          4       1.00      1.00      1.00     12723\n",
      "          5       1.00      1.00      1.00      8044\n",
      "          6       1.00      1.00      1.00      7953\n",
      "          7       1.00      1.00      1.00      9982\n",
      "          8       1.00      1.00      1.00     11187\n",
      "          9       1.00      1.00      1.00     11387\n",
      "         10       1.00      1.00      1.00     11380\n",
      "         11       1.00      1.00      1.00     12001\n",
      "         12       1.00      1.00      1.00     14460\n",
      "         13       1.00      1.00      1.00     15505\n",
      "         14       1.00      1.00      1.00     10446\n",
      "         15       1.00      1.00      1.00      6720\n",
      "         16       1.00      1.00      1.00      5295\n",
      "         17       1.00      1.00      1.00      4616\n",
      "         18       1.00      1.00      1.00      3155\n",
      "         19       1.00      0.99      1.00      1624\n",
      "\n",
      "avg / total       1.00      1.00      1.00    161185\n",
      "\n",
      "Cross-validation scores:\n",
      "[ 0.99897261  0.99895772  0.99892794  0.99895772  0.99877408  0.99897757\n",
      "  0.99873437  0.99879889  0.99895772  0.9990818 ]\n"
     ]
    },
    {
     "data": {
      "text/html": [
       "<div>\n",
       "<table border=\"1\" class=\"dataframe\">\n",
       "  <thead>\n",
       "    <tr style=\"text-align: right;\">\n",
       "      <th></th>\n",
       "      <th>Extra Trees Classification</th>\n",
       "    </tr>\n",
       "  </thead>\n",
       "  <tbody>\n",
       "    <tr>\n",
       "      <th>Accuracy</th>\n",
       "      <td>0.999287</td>\n",
       "    </tr>\n",
       "    <tr>\n",
       "      <th>F1 (macro)</th>\n",
       "      <td>0.998073</td>\n",
       "    </tr>\n",
       "    <tr>\n",
       "      <th>F1 (micro)</th>\n",
       "      <td>0.999287</td>\n",
       "    </tr>\n",
       "    <tr>\n",
       "      <th>Precision (macro)</th>\n",
       "      <td>0.998689</td>\n",
       "    </tr>\n",
       "    <tr>\n",
       "      <th>Precision (micro)</th>\n",
       "      <td>0.999287</td>\n",
       "    </tr>\n",
       "    <tr>\n",
       "      <th>Recall (macro)</th>\n",
       "      <td>0.997472</td>\n",
       "    </tr>\n",
       "    <tr>\n",
       "      <th>Recall (micro)</th>\n",
       "      <td>0.999287</td>\n",
       "    </tr>\n",
       "  </tbody>\n",
       "</table>\n",
       "</div>"
      ],
      "text/plain": [
       "                   Extra Trees Classification\n",
       "Accuracy                             0.999287\n",
       "F1 (macro)                           0.998073\n",
       "F1 (micro)                           0.999287\n",
       "Precision (macro)                    0.998689\n",
       "Precision (micro)                    0.999287\n",
       "Recall (macro)                       0.997472\n",
       "Recall (micro)                       0.999287"
      ]
     },
     "execution_count": 26,
     "metadata": {},
     "output_type": "execute_result"
    },
    {
     "data": {
      "image/png": "[encoded data removed]",
      "text/plain": [
       "<matplotlib.figure.Figure at 0x1cd30aa9f98>"
      ]
     },
     "metadata": {},
     "output_type": "display_data"
    }
   ],
   "source": [
    "# Extra Trees Classifier\n",
    "clf = ExtraTreesClassifier(random_state=0)\n",
    "etc, y_pred = perform_classification('Extra Trees Classification', clf, features)\n",
    "perform_cross_validation(clf)\n",
    "plot_feature_importances(clf)\n",
    "etc.sort_index()"
   ]
  },
  {
   "cell_type": "markdown",
   "metadata": {},
   "source": [
    "#### Naive Bayes Classification"
   ]
  },
  {
   "cell_type": "code",
   "execution_count": 27,
   "metadata": {
    "collapsed": false
   },
   "outputs": [
    {
     "name": "stderr",
     "output_type": "stream",
     "text": [
      "C:\\Users\\jbhasin\\Anaconda3\\lib\\site-packages\\sklearn\\metrics\\classification.py:1113: UndefinedMetricWarning: F-score is ill-defined and being set to 0.0 in labels with no predicted samples.\n",
      "  'precision', 'predicted', average, warn_for)\n",
      "C:\\Users\\jbhasin\\Anaconda3\\lib\\site-packages\\sklearn\\metrics\\classification.py:1113: UndefinedMetricWarning: Precision is ill-defined and being set to 0.0 in labels with no predicted samples.\n",
      "  'precision', 'predicted', average, warn_for)\n"
     ]
    },
    {
     "name": "stdout",
     "output_type": "stream",
     "text": [
      "Naive Bayes Classification \n",
      "\n",
      "Accuracy on training set: 0.135\n",
      "Accuracy on test set: 0.134\n",
      "\n",
      "Confusion Matrix:\n",
      "[[   0   34  808   13    7    0    1    0    0    0    1   62   21    0\n",
      "     0  103    0    0    4]\n",
      " [   0  292 2820   85   36    0    3    0    0    0    4  131  122    0\n",
      "     0  413   21    1    1]\n",
      " [   0  174 6854  294   61    3    1    0    0    0    7  282  246    1\n",
      "     8 1643  120    1   29]\n",
      " [   0  279 7057  454   53    6   11    2   17   12   23 1409  998    6\n",
      "     0 2231  136    1   28]\n",
      " [   0  470 2472  182   99   11   16   28   28   37   41 1691 1024   32\n",
      "     0 1714  199    0    0]\n",
      " [   0  124 1786  126   91   17   24   67  119   75   67 3072 1021    8\n",
      "    15 1235  106    0    0]\n",
      " [   0  175 1444  140   88   10   15   73  191  183  110 5136 1125    7\n",
      "    51 1173   61    0    0]\n",
      " [   0  251 1105   96   72    7   10  272  156  356  139 6628 1039   46\n",
      "     0  638  372    0    0]\n",
      " [   0  100 1076  113   46    1   10  141  172  366  128 7428 1155   10\n",
      "     3  508  130    0    0]\n",
      " [   0  124  976   72   61    4    6  318  145  297  135 7640 1046    6\n",
      "    41  295  214    0    0]\n",
      " [   0  235  985   60   64    3    9  433   90  400  126 7768 1203   20\n",
      "    40  164  401    0    0]\n",
      " [   0  125 1954  120   41    3    6   60  108  267   84 9487 1410   33\n",
      "     0  670   61    1   30]\n",
      " [   0  269 2204  124   74    2    4  106   90  174  107 9555 1919   33\n",
      "    51  679  114    0    0]\n",
      " [   0  256 1466  116   73    2    0  554   41  127   71 5243 1492   47\n",
      "    30  636  292    0    0]\n",
      " [   0   40 1317   91   32    2    3   30   45   53   67 3414  685    6\n",
      "     0  773  153    2    7]\n",
      " [   0   60 1362   47   37    2    2   43   51   25   54 1647  584   15\n",
      "     0 1305   59    1    1]\n",
      " [   0  225 1366   45   39    0    1  112   12   10   39  875  452   21\n",
      "    10 1180  226    0    3]\n",
      " [   0   16 1233   26   25    4    4    2   22    4   27  626  201    2\n",
      "     0  888   65    1    9]\n",
      " [   0   16  695   24   27    8    5    0    2    0    8  256   88    0\n",
      "     0  471   17    1    6]]\n",
      "\n",
      "Classification Report:\n"
     ]
    },
    {
     "name": "stderr",
     "output_type": "stream",
     "text": [
      "C:\\Users\\jbhasin\\Anaconda3\\lib\\site-packages\\sklearn\\metrics\\classification.py:1113: UndefinedMetricWarning: Precision and F-score are ill-defined and being set to 0.0 in labels with no predicted samples.\n",
      "  'precision', 'predicted', average, warn_for)\n"
     ]
    },
    {
     "name": "stdout",
     "output_type": "stream",
     "text": [
      "             precision    recall  f1-score   support\n",
      "\n",
      "          1       0.00      0.00      0.00      1054\n",
      "          2       0.09      0.07      0.08      3929\n",
      "          3       0.18      0.70      0.28      9724\n",
      "          4       0.20      0.04      0.06     12723\n",
      "          5       0.10      0.01      0.02      8044\n",
      "          6       0.20      0.00      0.00      7953\n",
      "          7       0.11      0.00      0.00      9982\n",
      "          8       0.12      0.02      0.04     11187\n",
      "          9       0.13      0.02      0.03     11387\n",
      "         10       0.12      0.03      0.04     11380\n",
      "         11       0.10      0.01      0.02     12001\n",
      "         12       0.13      0.66      0.22     14460\n",
      "         13       0.12      0.12      0.12     15505\n",
      "         14       0.16      0.00      0.01     10446\n",
      "         15       0.00      0.00      0.00      6720\n",
      "         16       0.08      0.25      0.12      5295\n",
      "         17       0.08      0.05      0.06      4616\n",
      "         18       0.11      0.00      0.00      3155\n",
      "         19       0.05      0.00      0.01      1624\n",
      "\n",
      "avg / total       0.13      0.13      0.07    161185\n",
      "\n",
      "Cross-validation scores:\n",
      "[ 0.13849941  0.13759114  0.13825621  0.14344777  0.13507973  0.13551154\n",
      "  0.14181982  0.13294058  0.14057901  0.13443948]\n"
     ]
    },
    {
     "data": {
      "text/html": [
       "<div>\n",
       "<table border=\"1\" class=\"dataframe\">\n",
       "  <thead>\n",
       "    <tr style=\"text-align: right;\">\n",
       "      <th></th>\n",
       "      <th>Naive Bayes Classification</th>\n",
       "    </tr>\n",
       "  </thead>\n",
       "  <tbody>\n",
       "    <tr>\n",
       "      <th>Accuracy</th>\n",
       "      <td>0.133939</td>\n",
       "    </tr>\n",
       "    <tr>\n",
       "      <th>F1 (macro)</th>\n",
       "      <td>0.058921</td>\n",
       "    </tr>\n",
       "    <tr>\n",
       "      <th>F1 (micro)</th>\n",
       "      <td>0.133939</td>\n",
       "    </tr>\n",
       "    <tr>\n",
       "      <th>Precision (macro)</th>\n",
       "      <td>0.110323</td>\n",
       "    </tr>\n",
       "    <tr>\n",
       "      <th>Precision (micro)</th>\n",
       "      <td>0.133939</td>\n",
       "    </tr>\n",
       "    <tr>\n",
       "      <th>Recall (macro)</th>\n",
       "      <td>0.104769</td>\n",
       "    </tr>\n",
       "    <tr>\n",
       "      <th>Recall (micro)</th>\n",
       "      <td>0.133939</td>\n",
       "    </tr>\n",
       "  </tbody>\n",
       "</table>\n",
       "</div>"
      ],
      "text/plain": [
       "                   Naive Bayes Classification\n",
       "Accuracy                             0.133939\n",
       "F1 (macro)                           0.058921\n",
       "F1 (micro)                           0.133939\n",
       "Precision (macro)                    0.110323\n",
       "Precision (micro)                    0.133939\n",
       "Recall (macro)                       0.104769\n",
       "Recall (micro)                       0.133939"
      ]
     },
     "execution_count": 27,
     "metadata": {},
     "output_type": "execute_result"
    }
   ],
   "source": [
    "# Naive Bayes Classifier\n",
    "clf = naive_bayes.GaussianNB()\n",
    "nbg, y_pred = perform_classification('Naive Bayes Classification', clf, features)\n",
    "perform_cross_validation(clf)\n",
    "nbg.sort_index()"
   ]
  },
  {
   "cell_type": "markdown",
   "metadata": {},
   "source": [
    "#### Nearest Neighbors Classification"
   ]
  },
  {
   "cell_type": "code",
   "execution_count": 28,
   "metadata": {
    "collapsed": false
   },
   "outputs": [
    {
     "name": "stdout",
     "output_type": "stream",
     "text": [
      "Nearest Neighbors Classification \n",
      "\n",
      "Accuracy on training set: 1.000\n",
      "Accuracy on test set: 0.822\n",
      "\n",
      "Confusion Matrix:\n",
      "[[  494   189   101    59    30    11    18    11     6     8     3     6\n",
      "     18    13    17    11    17    25    17]\n",
      " [   70  3066   249   129    69    37    18    20    11    12    12    13\n",
      "     27    48    13    26    37    31    41]\n",
      " [   29   204  8707   181   101    57    41    22    23    17    27    36\n",
      "     37    49    38    42    50    30    33]\n",
      " [   13    88   160 11494   162    88    72    57    48    35    28    41\n",
      "     47    68    56    65    83    76    42]\n",
      " [    9    38   129   205  6493   145    89    59    90    67    60    75\n",
      "    132    67    90   106    80    57    53]\n",
      " [    9    38    72    95   173  6211   216   136    83   107    86   113\n",
      "    103   114   122    82   114    53    26]\n",
      " [    3    24    51   102   106   159  8196   218   123   120   135   153\n",
      "    178   106    94   103    60    28    23]\n",
      " [    5    19    39    71    56   122   204  9377   260   211   160   182\n",
      "    133   104    98    57    46    32    11]\n",
      " [    5    19    38    57    87   116   196   220  9297   342   231   180\n",
      "    211   110   123    66    56    18    15]\n",
      " [    1    12    29    45    98   104   138   206   379  9085   453   244\n",
      "    216   147    74    76    36    25    12]\n",
      " [    0    14    23    38    70    55   118   182   195   404  9758   593\n",
      "    240   143    61    41    39    17    10]\n",
      " [    6    10    49    45    64    87    94   160   133   217   591 12318\n",
      "    388   138    66    37    38    15     4]\n",
      " [    3    27    36    35   100    62   113   100   176   185   210   369\n",
      "  13715   166    81    69    33    13    12]\n",
      " [    5    23    55    61    66    78    91   119   111   144   120   164\n",
      "    232  8930   105    37    68    24    13]\n",
      " [    9    26    39    74   102   102   126    95   127    75    67    91\n",
      "    123   157  5253   121    59    57    17]\n",
      " [   10    30    61   127   129   102   111    87    65    63    74    41\n",
      "    111    61   123  3923   107    42    28]\n",
      " [   11    58   109   133    86    86    93    70    54    51    46    61\n",
      "     49    66    79   118  3290   116    40]\n",
      " [   15    37    77   150    82    90    30    39    27    34    28    22\n",
      "     31    44    44    56   147  2125    77]\n",
      " [   21    32    67   113    68    48    33    32    24    15    17    24\n",
      "     32    24    36    45    60    92   841]]\n",
      "\n",
      "Classification Report:\n",
      "             precision    recall  f1-score   support\n",
      "\n",
      "          1       0.69      0.47      0.56      1054\n",
      "          2       0.78      0.78      0.78      3929\n",
      "          3       0.86      0.90      0.88      9724\n",
      "          4       0.87      0.90      0.89     12723\n",
      "          5       0.80      0.81      0.80      8044\n",
      "          6       0.80      0.78      0.79      7953\n",
      "          7       0.82      0.82      0.82      9982\n",
      "          8       0.84      0.84      0.84     11187\n",
      "          9       0.83      0.82      0.82     11387\n",
      "         10       0.81      0.80      0.80     11380\n",
      "         11       0.81      0.81      0.81     12001\n",
      "         12       0.84      0.85      0.84     14460\n",
      "         13       0.86      0.88      0.87     15505\n",
      "         14       0.85      0.85      0.85     10446\n",
      "         15       0.80      0.78      0.79      6720\n",
      "         16       0.77      0.74      0.76      5295\n",
      "         17       0.74      0.71      0.73      4616\n",
      "         18       0.74      0.67      0.70      3155\n",
      "         19       0.64      0.52      0.57      1624\n",
      "\n",
      "avg / total       0.82      0.82      0.82    161185\n",
      "\n",
      "Cross-validation scores:\n",
      "[ 0.79807029  0.79708757  0.79779235  0.79785191  0.79803555  0.79825889\n",
      "  0.79784198  0.79703793  0.79721661  0.79821422]\n"
     ]
    },
    {
     "data": {
      "text/html": [
       "<div>\n",
       "<table border=\"1\" class=\"dataframe\">\n",
       "  <thead>\n",
       "    <tr style=\"text-align: right;\">\n",
       "      <th></th>\n",
       "      <th>Nearest Neighbors Classification</th>\n",
       "    </tr>\n",
       "  </thead>\n",
       "  <tbody>\n",
       "    <tr>\n",
       "      <th>Accuracy</th>\n",
       "      <td>0.822490</td>\n",
       "    </tr>\n",
       "    <tr>\n",
       "      <th>F1 (macro)</th>\n",
       "      <td>0.784425</td>\n",
       "    </tr>\n",
       "    <tr>\n",
       "      <th>F1 (micro)</th>\n",
       "      <td>0.822490</td>\n",
       "    </tr>\n",
       "    <tr>\n",
       "      <th>Precision (macro)</th>\n",
       "      <td>0.796228</td>\n",
       "    </tr>\n",
       "    <tr>\n",
       "      <th>Precision (micro)</th>\n",
       "      <td>0.822490</td>\n",
       "    </tr>\n",
       "    <tr>\n",
       "      <th>Recall (macro)</th>\n",
       "      <td>0.775852</td>\n",
       "    </tr>\n",
       "    <tr>\n",
       "      <th>Recall (micro)</th>\n",
       "      <td>0.822490</td>\n",
       "    </tr>\n",
       "  </tbody>\n",
       "</table>\n",
       "</div>"
      ],
      "text/plain": [
       "                   Nearest Neighbors Classification\n",
       "Accuracy                                   0.822490\n",
       "F1 (macro)                                 0.784425\n",
       "F1 (micro)                                 0.822490\n",
       "Precision (macro)                          0.796228\n",
       "Precision (micro)                          0.822490\n",
       "Recall (macro)                             0.775852\n",
       "Recall (micro)                             0.822490"
      ]
     },
     "execution_count": 28,
     "metadata": {},
     "output_type": "execute_result"
    }
   ],
   "source": [
    "# Nearest Neighbors Classifier\n",
    "clf = KNeighborsClassifier(n_neighbors=1, n_jobs=-1)\n",
    "knn, y_pred = perform_classification('Nearest Neighbors Classification', clf, features)\n",
    "perform_cross_validation(clf)\n",
    "knn.sort_index()"
   ]
  },
  {
   "cell_type": "markdown",
   "metadata": {},
   "source": [
    "## Classification Summary - All Features"
   ]
  },
  {
   "cell_type": "code",
   "execution_count": 29,
   "metadata": {
    "collapsed": false,
    "scrolled": true
   },
   "outputs": [
    {
     "name": "stdout",
     "output_type": "stream",
     "text": [
      "Classification Summary before Feature Selection\n",
      "\n"
     ]
    },
    {
     "data": {
      "text/html": [
       "<div>\n",
       "<table border=\"1\" class=\"dataframe\">\n",
       "  <thead>\n",
       "    <tr style=\"text-align: right;\">\n",
       "      <th></th>\n",
       "      <th>Decision Tree Classification</th>\n",
       "      <th>Logistic Classification</th>\n",
       "      <th>Random Forest Classification</th>\n",
       "      <th>Extra Trees Classification</th>\n",
       "      <th>Naive Bayes Classification</th>\n",
       "      <th>Nearest Neighbors Classification</th>\n",
       "    </tr>\n",
       "  </thead>\n",
       "  <tbody>\n",
       "    <tr>\n",
       "      <th>Accuracy</th>\n",
       "      <td>0.998865</td>\n",
       "      <td>0.171393</td>\n",
       "      <td>0.999125</td>\n",
       "      <td>0.999287</td>\n",
       "      <td>0.133939</td>\n",
       "      <td>0.822490</td>\n",
       "    </tr>\n",
       "    <tr>\n",
       "      <th>F1 (macro)</th>\n",
       "      <td>0.996534</td>\n",
       "      <td>0.091614</td>\n",
       "      <td>0.997270</td>\n",
       "      <td>0.998073</td>\n",
       "      <td>0.058921</td>\n",
       "      <td>0.784425</td>\n",
       "    </tr>\n",
       "    <tr>\n",
       "      <th>F1 (micro)</th>\n",
       "      <td>0.998865</td>\n",
       "      <td>0.171393</td>\n",
       "      <td>0.999125</td>\n",
       "      <td>0.999287</td>\n",
       "      <td>0.133939</td>\n",
       "      <td>0.822490</td>\n",
       "    </tr>\n",
       "    <tr>\n",
       "      <th>Precision (macro)</th>\n",
       "      <td>0.997204</td>\n",
       "      <td>0.128753</td>\n",
       "      <td>0.997803</td>\n",
       "      <td>0.998689</td>\n",
       "      <td>0.110323</td>\n",
       "      <td>0.796228</td>\n",
       "    </tr>\n",
       "    <tr>\n",
       "      <th>Precision (micro)</th>\n",
       "      <td>0.998865</td>\n",
       "      <td>0.171393</td>\n",
       "      <td>0.999125</td>\n",
       "      <td>0.999287</td>\n",
       "      <td>0.133939</td>\n",
       "      <td>0.822490</td>\n",
       "    </tr>\n",
       "    <tr>\n",
       "      <th>Recall (macro)</th>\n",
       "      <td>0.995891</td>\n",
       "      <td>0.117052</td>\n",
       "      <td>0.996747</td>\n",
       "      <td>0.997472</td>\n",
       "      <td>0.104769</td>\n",
       "      <td>0.775852</td>\n",
       "    </tr>\n",
       "    <tr>\n",
       "      <th>Recall (micro)</th>\n",
       "      <td>0.998865</td>\n",
       "      <td>0.171393</td>\n",
       "      <td>0.999125</td>\n",
       "      <td>0.999287</td>\n",
       "      <td>0.133939</td>\n",
       "      <td>0.822490</td>\n",
       "    </tr>\n",
       "  </tbody>\n",
       "</table>\n",
       "</div>"
      ],
      "text/plain": [
       "                   Decision Tree Classification  Logistic Classification  \\\n",
       "Accuracy                               0.998865                 0.171393   \n",
       "F1 (macro)                             0.996534                 0.091614   \n",
       "F1 (micro)                             0.998865                 0.171393   \n",
       "Precision (macro)                      0.997204                 0.128753   \n",
       "Precision (micro)                      0.998865                 0.171393   \n",
       "Recall (macro)                         0.995891                 0.117052   \n",
       "Recall (micro)                         0.998865                 0.171393   \n",
       "\n",
       "                   Random Forest Classification  Extra Trees Classification  \\\n",
       "Accuracy                               0.999125                    0.999287   \n",
       "F1 (macro)                             0.997270                    0.998073   \n",
       "F1 (micro)                             0.999125                    0.999287   \n",
       "Precision (macro)                      0.997803                    0.998689   \n",
       "Precision (micro)                      0.999125                    0.999287   \n",
       "Recall (macro)                         0.996747                    0.997472   \n",
       "Recall (micro)                         0.999125                    0.999287   \n",
       "\n",
       "                   Naive Bayes Classification  \\\n",
       "Accuracy                             0.133939   \n",
       "F1 (macro)                           0.058921   \n",
       "F1 (micro)                           0.133939   \n",
       "Precision (macro)                    0.110323   \n",
       "Precision (micro)                    0.133939   \n",
       "Recall (macro)                       0.104769   \n",
       "Recall (micro)                       0.133939   \n",
       "\n",
       "                   Nearest Neighbors Classification  \n",
       "Accuracy                                   0.822490  \n",
       "F1 (macro)                                 0.784425  \n",
       "F1 (micro)                                 0.822490  \n",
       "Precision (macro)                          0.796228  \n",
       "Precision (micro)                          0.822490  \n",
       "Recall (macro)                             0.775852  \n",
       "Recall (micro)                             0.822490  "
      ]
     },
     "execution_count": 29,
     "metadata": {},
     "output_type": "execute_result"
    }
   ],
   "source": [
    "# Classifcation Summary\n",
    "print(\"Classification Summary before Feature Selection\\n\")\n",
    "class_metrics = pd.concat([dtc, lin_reg, rfc, etc, nbg, knn] , axis=1)\n",
    "class_metrics.sort_index()"
   ]
  },
  {
   "cell_type": "markdown",
   "metadata": {},
   "source": [
    "## 3. Modeling - Selected Features"
   ]
  },
  {
   "cell_type": "code",
   "execution_count": 30,
   "metadata": {
    "collapsed": true
   },
   "outputs": [],
   "source": [
    "dF.drop(['Trip_Duration'], axis = 1, inplace = True)\n",
    "dF.drop(['Trip_Distance'], axis = 1, inplace = True)"
   ]
  },
  {
   "cell_type": "code",
   "execution_count": 31,
   "metadata": {
    "collapsed": true
   },
   "outputs": [],
   "source": [
    "#Define a generic function using Pandas replace function\n",
    "def coding(col, codeDict):\n",
    "  colCoded = pd.Series(col, copy=True)\n",
    "  for key, value in codeDict.items():\n",
    "    colCoded.replace(key, value, inplace=True)\n",
    "  return colCoded\n",
    "data = dF.copy(deep=True)\n",
    "data[\"Class_Label\"] = coding(data[\"Checkout_Hour\"], {5: 1,\n",
    "                                                     6: 2, 7: 3, 8: 4, 9: 5, 10: 6, 11: 7,\n",
    "                                                     12: 8, 13: 9, 14: 10, 15: 11, 16: 12, 17: 13,\n",
    "                                                     18: 14, 19: 15, 20: 16, 21: 17, 22: 18, 23: 19})"
   ]
  },
  {
   "cell_type": "code",
   "execution_count": 32,
   "metadata": {
    "collapsed": true
   },
   "outputs": [],
   "source": [
    "data = data[['Checkout_Month', 'Checkout_WeekDay', 'Cloud_Cover', 'Temperature', \n",
    "           'Apparent_Temperature', 'Wind_Speed', 'Humidity', 'Visibility', 'Class_Label', 'Checkout_Hour']]"
   ]
  },
  {
   "cell_type": "code",
   "execution_count": 33,
   "metadata": {
    "collapsed": false
   },
   "outputs": [],
   "source": [
    "array = data.values\n",
    "X = array[:,0:8]\n",
    "y = array[:,8]"
   ]
  },
  {
   "cell_type": "code",
   "execution_count": 34,
   "metadata": {
    "collapsed": true
   },
   "outputs": [],
   "source": [
    "features = [\"Checkout_Month\", \"Checkout_WeekDay\",   \n",
    "            'Cloud_Cover', 'Temperature', 'Apparent_Temperature', 'Wind_Speed', 'Humidity', 'Visibility']\n",
    "X = data[features]\n",
    "y = data[\"Class_Label\"]\n",
    "X_train, X_test, y_train, y_test = train_test_split(X, y, test_size=0.4, random_state=0)"
   ]
  },
  {
   "cell_type": "markdown",
   "metadata": {},
   "source": [
    "#### Decision Tree Classification"
   ]
  },
  {
   "cell_type": "code",
   "execution_count": 35,
   "metadata": {
    "collapsed": false
   },
   "outputs": [
    {
     "name": "stdout",
     "output_type": "stream",
     "text": [
      "Decision Tree Classification \n",
      "\n",
      "Accuracy on training set: 1.000\n",
      "Accuracy on test set: 0.999\n",
      "\n",
      "Confusion Matrix:\n",
      "[[ 1025     2    10     0     2     4     0     0     0     1     2     3\n",
      "      0     0     1     0     2     2     0]\n",
      " [    2  3915     6     1     1     1     0     0     0     0     0     0\n",
      "      1     0     0     0     1     0     1]\n",
      " [    0     1  9713     3     0     2     0     0     1     0     0     0\n",
      "      0     4     0     0     0     0     0]\n",
      " [    3     1     3 12708     2     0     0     0     0     0     0     0\n",
      "      5     0     0     0     0     0     1]\n",
      " [    0     0     3     1  8040     0     0     0     0     0     0     0\n",
      "      0     0     0     0     0     0     0]\n",
      " [    0     0     0     0     0  7949     0     0     0     0     0     0\n",
      "      0     0     0     0     0     4     0]\n",
      " [    0     0     0     0     0     0  9982     0     0     0     0     0\n",
      "      0     0     0     0     0     0     0]\n",
      " [    0     0     0     0     0     0     0 11186     0     0     0     0\n",
      "      1     0     0     0     0     0     0]\n",
      " [    0     0     0     0     0     0     0     0 11387     0     0     0\n",
      "      0     0     0     0     0     0     0]\n",
      " [    0     0     0     0     0     0     0     0     0 11380     0     0\n",
      "      0     0     0     0     0     0     0]\n",
      " [    0     0     0     0     0     0     0     0     0     0 12000     0\n",
      "      0     0     0     1     0     0     0]\n",
      " [    0     0     0     0     0     0     0     0     0     0     0 14460\n",
      "      0     0     0     0     0     0     0]\n",
      " [    0     0     0     2     0     0     0     0     0     0     0     0\n",
      "  15503     0     0     0     0     0     0]\n",
      " [    0     0     0     0     0     0     0     0     0     0     0     0\n",
      "      0 10445     0     0     0     0     1]\n",
      " [    0     0     0     0     0     1     0     0     0     0     0     0\n",
      "      0     0  6717     1     1     0     0]\n",
      " [    0     0     2     0     1     0     0     0     0     0     0     2\n",
      "      1     0     0  5289     0     0     0]\n",
      " [    0     0     0     0     0     0     0     0     0     0     0     0\n",
      "      0     0     0     0  4614     1     1]\n",
      " [    0     1     0     0     0     1     0     0     0     0     0     0\n",
      "      0     0     0     0     1  3152     0]\n",
      " [    0     1     2     2     0     0     0     2     0     0     0     0\n",
      "      0     2     0     0     0     3  1612]]\n",
      "\n",
      "Classification Report:\n",
      "             precision    recall  f1-score   support\n",
      "\n",
      "          1       1.00      0.97      0.98      1054\n",
      "          2       1.00      1.00      1.00      3929\n",
      "          3       1.00      1.00      1.00      9724\n",
      "          4       1.00      1.00      1.00     12723\n",
      "          5       1.00      1.00      1.00      8044\n",
      "          6       1.00      1.00      1.00      7953\n",
      "          7       1.00      1.00      1.00      9982\n",
      "          8       1.00      1.00      1.00     11187\n",
      "          9       1.00      1.00      1.00     11387\n",
      "         10       1.00      1.00      1.00     11380\n",
      "         11       1.00      1.00      1.00     12001\n",
      "         12       1.00      1.00      1.00     14460\n",
      "         13       1.00      1.00      1.00     15505\n",
      "         14       1.00      1.00      1.00     10446\n",
      "         15       1.00      1.00      1.00      6720\n",
      "         16       1.00      1.00      1.00      5295\n",
      "         17       1.00      1.00      1.00      4616\n",
      "         18       1.00      1.00      1.00      3155\n",
      "         19       1.00      0.99      1.00      1624\n",
      "\n",
      "avg / total       1.00      1.00      1.00    161185\n",
      "\n",
      "Cross-validation scores:\n",
      "[ 0.99876415  0.99900239  0.99908676  0.99889816  0.99905202  0.99905202\n",
      "  0.9989329   0.99890809  0.99876415  0.99867978]\n"
     ]
    },
    {
     "data": {
      "text/html": [
       "<div>\n",
       "<table border=\"1\" class=\"dataframe\">\n",
       "  <thead>\n",
       "    <tr style=\"text-align: right;\">\n",
       "      <th></th>\n",
       "      <th>Decision Tree Classification</th>\n",
       "    </tr>\n",
       "  </thead>\n",
       "  <tbody>\n",
       "    <tr>\n",
       "      <th>Accuracy</th>\n",
       "      <td>0.999330</td>\n",
       "    </tr>\n",
       "    <tr>\n",
       "      <th>F1 (macro)</th>\n",
       "      <td>0.998256</td>\n",
       "    </tr>\n",
       "    <tr>\n",
       "      <th>F1 (micro)</th>\n",
       "      <td>0.999330</td>\n",
       "    </tr>\n",
       "    <tr>\n",
       "      <th>Precision (macro)</th>\n",
       "      <td>0.998903</td>\n",
       "    </tr>\n",
       "    <tr>\n",
       "      <th>Precision (micro)</th>\n",
       "      <td>0.999330</td>\n",
       "    </tr>\n",
       "    <tr>\n",
       "      <th>Recall (macro)</th>\n",
       "      <td>0.997624</td>\n",
       "    </tr>\n",
       "    <tr>\n",
       "      <th>Recall (micro)</th>\n",
       "      <td>0.999330</td>\n",
       "    </tr>\n",
       "  </tbody>\n",
       "</table>\n",
       "</div>"
      ],
      "text/plain": [
       "                   Decision Tree Classification\n",
       "Accuracy                               0.999330\n",
       "F1 (macro)                             0.998256\n",
       "F1 (micro)                             0.999330\n",
       "Precision (macro)                      0.998903\n",
       "Precision (micro)                      0.999330\n",
       "Recall (macro)                         0.997624\n",
       "Recall (micro)                         0.999330"
      ]
     },
     "execution_count": 35,
     "metadata": {},
     "output_type": "execute_result"
    },
    {
     "data": {
      "image/png": "[encoded data removed]",
      "text/plain": [
       "<matplotlib.figure.Figure at 0x1cd296d2c18>"
      ]
     },
     "metadata": {},
     "output_type": "display_data"
    }
   ],
   "source": [
    "# Decision Tree Classifier\n",
    "clf = DecisionTreeClassifier(random_state=0)\n",
    "dtc, y_pred = perform_classification('Decision Tree Classification', clf, features)\n",
    "perform_cross_validation(clf)\n",
    "plot_feature_importances(clf)\n",
    "dtc.sort_index()"
   ]
  },
  {
   "cell_type": "markdown",
   "metadata": {},
   "source": [
    "#### Linear (Logistic Regression) Classification"
   ]
  },
  {
   "cell_type": "code",
   "execution_count": 36,
   "metadata": {
    "collapsed": false
   },
   "outputs": [
    {
     "name": "stderr",
     "output_type": "stream",
     "text": [
      "C:\\Users\\jbhasin\\Anaconda3\\lib\\site-packages\\sklearn\\metrics\\classification.py:1113: UndefinedMetricWarning: F-score is ill-defined and being set to 0.0 in labels with no predicted samples.\n",
      "  'precision', 'predicted', average, warn_for)\n",
      "C:\\Users\\jbhasin\\Anaconda3\\lib\\site-packages\\sklearn\\metrics\\classification.py:1113: UndefinedMetricWarning: Precision is ill-defined and being set to 0.0 in labels with no predicted samples.\n",
      "  'precision', 'predicted', average, warn_for)\n"
     ]
    },
    {
     "name": "stdout",
     "output_type": "stream",
     "text": [
      "Logistic Classification \n",
      "\n",
      "Accuracy on training set: 0.171\n",
      "Accuracy on test set: 0.170\n",
      "\n",
      "Confusion Matrix:\n",
      "[[   0    0  479  474    0    9    0    0    0    0    3   34   46    9\n",
      "     0    0    0    0    0]\n",
      " [   0    0 1356 1974  141   19    0    6    1    0    3  104  285   29\n",
      "     0    0   11    0    0]\n",
      " [   0    0 3622 4788   76   38   33   29    0    1   37  214  809   77\n",
      "     0    0    0    0    0]\n",
      " [   0    0 2310 7056   87  106  131  232   35    0   73  401 2217   41\n",
      "     0   33    0    1    0]\n",
      " [   0    0  561 2944  356  218  350  291   77    0  282  550 2195  147\n",
      "     0   13   60    0    0]\n",
      " [   0    0  239 2280   43  223  410  798  127   41  488 1156 2001   77\n",
      "     0   40   30    0    0]\n",
      " [   0    0  114 1794   55  232  360  990  297   84 1320 1452 3070  183\n",
      "     0    0   31    0    0]\n",
      " [   0    0   37 1056   67   15  354 1204  410  182 2306 1193 3976  387\n",
      "     0    0    0    0    0]\n",
      " [   0    0   36 1167   42    9   82  667  669   92 2766 2163 3655   39\n",
      "     0    0    0    0    0]\n",
      " [   0    0   65  942   54    0  128  562  679  168 3256 2078 3338  110\n",
      "     0    0    0    0    0]\n",
      " [   0    0   46  781   43    0   19  644  414  237 3843 1661 3948  324\n",
      "     0    0   41    0    0]\n",
      " [   0    0  163 1773   42   11  258  504  701  139 2823 3312 4624  110\n",
      "     0    0    0    0    0]\n",
      " [   0    0  315 1912  108    8  295  512  443    0 2581 2899 6212  220\n",
      "     0    0    0    0    0]\n",
      " [   0    0  316 1240  110   78   34  870  177   20 2091  938 4182  388\n",
      "     0    0    2    0    0]\n",
      " [   0    0  342 1308   27  100   33  408  172    0  425 1239 2602   64\n",
      "     0    0    0    0    0]\n",
      " [   0    0  385 1428   32  110  343  301  117   26  152  523 1761   84\n",
      "     0   33    0    0    0]\n",
      " [   0    0  364 1473   80  143  142  380   32    0  120  254 1385  211\n",
      "     0   32    0    0    0]\n",
      " [   0    0  464 1500    9  113   67   56   17    0   12  310  560   15\n",
      "     0   11   21    0    0]\n",
      " [   0    0  285  795   19   63   13   29   20    1    7  158  209    5\n",
      "    20    0    0    0    0]]\n",
      "\n",
      "Classification Report:\n",
      "             precision    recall  f1-score   support\n",
      "\n",
      "          1       0.00      0.00      0.00      1054\n",
      "          2       0.00      0.00      0.00      3929\n",
      "          3       0.31      0.37      0.34      9724\n",
      "          4       0.19      0.55      0.29     12723\n",
      "          5       0.26      0.04      0.08      8044\n",
      "          6       0.15      0.03      0.05      7953\n",
      "          7       0.12      0.04      0.06      9982\n",
      "          8       0.14      0.11      0.12     11187\n",
      "          9       0.15      0.06      0.08     11387\n",
      "         10       0.17      0.01      0.03     11380\n",
      "         11       0.17      0.32      0.22     12001\n",
      "         12       0.16      0.23      0.19     14460\n",
      "         13       0.13      0.40      0.20     15505\n",
      "         14       0.15      0.04      0.06     10446\n",
      "         15       0.00      0.00      0.00      6720\n",
      "         16       0.20      0.01      0.01      5295\n",
      "         17       0.00      0.00      0.00      4616\n",
      "         18       0.00      0.00      0.00      3155\n",
      "         19       0.00      0.00      0.00      1624\n",
      "\n",
      "avg / total       0.15      0.17      0.13    161185\n",
      "\n"
     ]
    },
    {
     "name": "stderr",
     "output_type": "stream",
     "text": [
      "C:\\Users\\jbhasin\\Anaconda3\\lib\\site-packages\\sklearn\\metrics\\classification.py:1113: UndefinedMetricWarning: Precision and F-score are ill-defined and being set to 0.0 in labels with no predicted samples.\n",
      "  'precision', 'predicted', average, warn_for)\n"
     ]
    },
    {
     "name": "stdout",
     "output_type": "stream",
     "text": [
      "Cross-validation scores:\n",
      "[ 0.17051732  0.17358957  0.16767338  0.17150501  0.16949489  0.16920206\n",
      "  0.17019471  0.17106328  0.17193184  0.17186732]\n"
     ]
    },
    {
     "data": {
      "text/html": [
       "<div>\n",
       "<table border=\"1\" class=\"dataframe\">\n",
       "  <thead>\n",
       "    <tr style=\"text-align: right;\">\n",
       "      <th></th>\n",
       "      <th>Logistic Classification</th>\n",
       "    </tr>\n",
       "  </thead>\n",
       "  <tbody>\n",
       "    <tr>\n",
       "      <th>Accuracy</th>\n",
       "      <td>0.170276</td>\n",
       "    </tr>\n",
       "    <tr>\n",
       "      <th>F1 (macro)</th>\n",
       "      <td>0.090561</td>\n",
       "    </tr>\n",
       "    <tr>\n",
       "      <th>F1 (micro)</th>\n",
       "      <td>0.170276</td>\n",
       "    </tr>\n",
       "    <tr>\n",
       "      <th>Precision (macro)</th>\n",
       "      <td>0.121817</td>\n",
       "    </tr>\n",
       "    <tr>\n",
       "      <th>Precision (micro)</th>\n",
       "      <td>0.170276</td>\n",
       "    </tr>\n",
       "    <tr>\n",
       "      <th>Recall (macro)</th>\n",
       "      <td>0.116308</td>\n",
       "    </tr>\n",
       "    <tr>\n",
       "      <th>Recall (micro)</th>\n",
       "      <td>0.170276</td>\n",
       "    </tr>\n",
       "  </tbody>\n",
       "</table>\n",
       "</div>"
      ],
      "text/plain": [
       "                   Logistic Classification\n",
       "Accuracy                          0.170276\n",
       "F1 (macro)                        0.090561\n",
       "F1 (micro)                        0.170276\n",
       "Precision (macro)                 0.121817\n",
       "Precision (micro)                 0.170276\n",
       "Recall (macro)                    0.116308\n",
       "Recall (micro)                    0.170276"
      ]
     },
     "execution_count": 36,
     "metadata": {},
     "output_type": "execute_result"
    }
   ],
   "source": [
    "# logistic regression\n",
    "from sklearn import linear_model\n",
    "clf = linear_model.LogisticRegression(random_state=0)\n",
    "lin_reg, y_pred = perform_classification('Logistic Classification', clf, features)\n",
    "perform_cross_validation(clf)\n",
    "lin_reg.sort_index()"
   ]
  },
  {
   "cell_type": "markdown",
   "metadata": {},
   "source": [
    "#### Random Forest Classification"
   ]
  },
  {
   "cell_type": "code",
   "execution_count": 37,
   "metadata": {
    "collapsed": false
   },
   "outputs": [
    {
     "name": "stdout",
     "output_type": "stream",
     "text": [
      "Random Forest Classification \n",
      "\n",
      "Accuracy on training set: 1.000\n",
      "Accuracy on test set: 0.999\n",
      "\n",
      "Confusion Matrix:\n",
      "[[ 1024    19     2     1     1     1     1     1     0     0     0     0\n",
      "      0     0     0     1     0     2     1]\n",
      " [    2  3916     6     0     0     0     0     2     0     0     0     0\n",
      "      0     0     0     0     0     0     3]\n",
      " [    0     8  9712     3     1     0     0     0     0     0     0     0\n",
      "      0     0     0     0     0     0     0]\n",
      " [    8     2     2 12706     0     0     2     0     0     0     0     0\n",
      "      0     1     0     0     0     0     2]\n",
      " [    0     0     0     0  8040     0     0     0     0     0     0     0\n",
      "      0     0     0     3     1     0     0]\n",
      " [    0     0     0     0     4  7949     0     0     0     0     0     0\n",
      "      0     0     0     0     0     0     0]\n",
      " [    0     0     0     0     0     0  9982     0     0     0     0     0\n",
      "      0     0     0     0     0     0     0]\n",
      " [    0     0     0     0     0     0     0 11186     1     0     0     0\n",
      "      0     0     0     0     0     0     0]\n",
      " [    0     0     0     0     0     0     0     0 11387     0     0     0\n",
      "      0     0     0     0     0     0     0]\n",
      " [    0     0     0     0     0     0     0     0     0 11380     0     0\n",
      "      0     0     0     0     0     0     0]\n",
      " [    0     0     0     1     0     0     0     0     0     0 12000     0\n",
      "      0     0     0     0     0     0     0]\n",
      " [    0     0     0     0     0     0     0     0     0     0     0 14460\n",
      "      0     0     0     0     0     0     0]\n",
      " [    0     0     0     0     0     0     0     0     0     0     0     0\n",
      "  15503     0     0     0     2     0     0]\n",
      " [    0     0     0     0     0     0     0     0     0     0     0     0\n",
      "      0 10445     0     0     0     0     1]\n",
      " [    0     0     0     0     0     0     0     1     0     0     0     0\n",
      "      0     1  6717     1     0     0     0]\n",
      " [    0     2     0     2     1     0     0     0     0     0     0     0\n",
      "      1     0     0  5287     2     0     0]\n",
      " [    0     0     1     0     0     0     0     0     0     0     0     0\n",
      "      0     0     0     0  4614     0     1]\n",
      " [    0     1     1     1     0     0     0     0     0     0     0     0\n",
      "      0     0     0     0     0  3152     0]\n",
      " [    2     1     2     1     1     0     0     0     0     0     0     0\n",
      "      0     0     0     0     4     2  1611]]\n",
      "\n",
      "Classification Report:\n",
      "             precision    recall  f1-score   support\n",
      "\n",
      "          1       0.99      0.97      0.98      1054\n",
      "          2       0.99      1.00      0.99      3929\n",
      "          3       1.00      1.00      1.00      9724\n",
      "          4       1.00      1.00      1.00     12723\n",
      "          5       1.00      1.00      1.00      8044\n",
      "          6       1.00      1.00      1.00      7953\n",
      "          7       1.00      1.00      1.00      9982\n",
      "          8       1.00      1.00      1.00     11187\n",
      "          9       1.00      1.00      1.00     11387\n",
      "         10       1.00      1.00      1.00     11380\n",
      "         11       1.00      1.00      1.00     12001\n",
      "         12       1.00      1.00      1.00     14460\n",
      "         13       1.00      1.00      1.00     15505\n",
      "         14       1.00      1.00      1.00     10446\n",
      "         15       1.00      1.00      1.00      6720\n",
      "         16       1.00      1.00      1.00      5295\n",
      "         17       1.00      1.00      1.00      4616\n",
      "         18       1.00      1.00      1.00      3155\n",
      "         19       1.00      0.99      0.99      1624\n",
      "\n",
      "avg / total       1.00      1.00      1.00    161185\n",
      "\n",
      "Cross-validation scores:\n",
      "[ 0.99895772  0.99881875  0.99891305  0.99889816  0.99899246  0.99892298\n",
      "  0.99904706  0.99907187  0.99872445  0.99877904]\n"
     ]
    },
    {
     "data": {
      "text/html": [
       "<div>\n",
       "<table border=\"1\" class=\"dataframe\">\n",
       "  <thead>\n",
       "    <tr style=\"text-align: right;\">\n",
       "      <th></th>\n",
       "      <th>Random Forest Classification</th>\n",
       "    </tr>\n",
       "  </thead>\n",
       "  <tbody>\n",
       "    <tr>\n",
       "      <th>Accuracy</th>\n",
       "      <td>0.999293</td>\n",
       "    </tr>\n",
       "    <tr>\n",
       "      <th>F1 (macro)</th>\n",
       "      <td>0.997880</td>\n",
       "    </tr>\n",
       "    <tr>\n",
       "      <th>F1 (micro)</th>\n",
       "      <td>0.999293</td>\n",
       "    </tr>\n",
       "    <tr>\n",
       "      <th>Precision (macro)</th>\n",
       "      <td>0.998247</td>\n",
       "    </tr>\n",
       "    <tr>\n",
       "      <th>Precision (micro)</th>\n",
       "      <td>0.999293</td>\n",
       "    </tr>\n",
       "    <tr>\n",
       "      <th>Recall (macro)</th>\n",
       "      <td>0.997522</td>\n",
       "    </tr>\n",
       "    <tr>\n",
       "      <th>Recall (micro)</th>\n",
       "      <td>0.999293</td>\n",
       "    </tr>\n",
       "  </tbody>\n",
       "</table>\n",
       "</div>"
      ],
      "text/plain": [
       "                   Random Forest Classification\n",
       "Accuracy                               0.999293\n",
       "F1 (macro)                             0.997880\n",
       "F1 (micro)                             0.999293\n",
       "Precision (macro)                      0.998247\n",
       "Precision (micro)                      0.999293\n",
       "Recall (macro)                         0.997522\n",
       "Recall (micro)                         0.999293"
      ]
     },
     "execution_count": 37,
     "metadata": {},
     "output_type": "execute_result"
    },
    {
     "data": {
      "image/png": "[encoded data removed]",
      "text/plain": [
       "<matplotlib.figure.Figure at 0x1cd30a39588>"
      ]
     },
     "metadata": {},
     "output_type": "display_data"
    }
   ],
   "source": [
    "# Random Forest Classifier\n",
    "clf = RandomForestClassifier(random_state=0)\n",
    "rfc, y_pred = perform_classification('Random Forest Classification', clf, features)\n",
    "perform_cross_validation(clf)\n",
    "plot_feature_importances(clf)\n",
    "rfc.sort_index()"
   ]
  },
  {
   "cell_type": "markdown",
   "metadata": {},
   "source": [
    "#### Extra Trees Classification"
   ]
  },
  {
   "cell_type": "code",
   "execution_count": 38,
   "metadata": {
    "collapsed": false
   },
   "outputs": [
    {
     "name": "stdout",
     "output_type": "stream",
     "text": [
      "Extra Trees Classification \n",
      "\n",
      "Accuracy on training set: 1.000\n",
      "Accuracy on test set: 0.999\n",
      "\n",
      "Confusion Matrix:\n",
      "[[ 1022    14     5     5     1     1     2     0     0     0     0     0\n",
      "      1     0     0     0     0     1     2]\n",
      " [    2  3915     5     0     0     0     0     0     0     0     0     2\n",
      "      0     0     0     0     1     0     4]\n",
      " [    0     8  9713     3     0     0     0     0     0     0     0     0\n",
      "      0     0     0     0     0     0     0]\n",
      " [    8     0     4 12705     0     0     0     0     0     1     0     0\n",
      "      0     2     0     0     3     0     0]\n",
      " [    1     0     0     0  8040     3     0     0     0     0     0     0\n",
      "      0     0     0     0     0     0     0]\n",
      " [    0     0     0     0     4  7949     0     0     0     0     0     0\n",
      "      0     0     0     0     0     0     0]\n",
      " [    0     0     0     0     0     0  9982     0     0     0     0     0\n",
      "      0     0     0     0     0     0     0]\n",
      " [    0     0     0     0     0     0     1 11186     0     0     0     0\n",
      "      0     0     0     0     0     0     0]\n",
      " [    0     0     0     0     0     0     0     0 11387     0     0     0\n",
      "      0     0     0     0     0     0     0]\n",
      " [    0     0     0     0     0     0     0     0     0 11380     0     0\n",
      "      0     0     0     0     0     0     0]\n",
      " [    0     0     0     0     0     0     0     0     0     1 12000     0\n",
      "      0     0     0     0     0     0     0]\n",
      " [    0     0     0     0     0     0     0     0     0     0     0 14460\n",
      "      0     0     0     0     0     0     0]\n",
      " [    0     0     0     0     0     0     0     0     0     0     0     2\n",
      "  15503     0     0     0     0     0     0]\n",
      " [    0     0     0     0     0     0     0     0     0     0     0     0\n",
      "      0 10446     0     0     0     0     0]\n",
      " [    0     0     0     0     0     0     0     0     0     0     0     0\n",
      "      0     1  6717     1     1     0     0]\n",
      " [    0     0     0     2     0     0     0     0     0     2     0     0\n",
      "      1     1     0  5287     0     0     2]\n",
      " [    0     0     1     0     1     0     0     0     0     0     0     0\n",
      "      0     0     0     0  4614     0     0]\n",
      " [    0     1     0     1     0     0     0     0     0     0     0     0\n",
      "      0     0     0     0     0  3152     1]\n",
      " [    3     2     0     1     0     0     0     0     0     0     0     0\n",
      "      0     2     3     0     0     2  1611]]\n",
      "\n",
      "Classification Report:\n",
      "             precision    recall  f1-score   support\n",
      "\n",
      "          1       0.99      0.97      0.98      1054\n",
      "          2       0.99      1.00      1.00      3929\n",
      "          3       1.00      1.00      1.00      9724\n",
      "          4       1.00      1.00      1.00     12723\n",
      "          5       1.00      1.00      1.00      8044\n",
      "          6       1.00      1.00      1.00      7953\n",
      "          7       1.00      1.00      1.00      9982\n",
      "          8       1.00      1.00      1.00     11187\n",
      "          9       1.00      1.00      1.00     11387\n",
      "         10       1.00      1.00      1.00     11380\n",
      "         11       1.00      1.00      1.00     12001\n",
      "         12       1.00      1.00      1.00     14460\n",
      "         13       1.00      1.00      1.00     15505\n",
      "         14       1.00      1.00      1.00     10446\n",
      "         15       1.00      1.00      1.00      6720\n",
      "         16       1.00      1.00      1.00      5295\n",
      "         17       1.00      1.00      1.00      4616\n",
      "         18       1.00      1.00      1.00      3155\n",
      "         19       0.99      0.99      0.99      1624\n",
      "\n",
      "avg / total       1.00      1.00      1.00    161185\n",
      "\n",
      "Cross-validation scores:\n",
      "[ 0.99903713  0.9990272   0.99893787  0.99867481  0.99886838  0.99897261\n",
      "  0.99887334  0.99881875  0.9986897   0.99884356]\n"
     ]
    },
    {
     "data": {
      "text/html": [
       "<div>\n",
       "<table border=\"1\" class=\"dataframe\">\n",
       "  <thead>\n",
       "    <tr style=\"text-align: right;\">\n",
       "      <th></th>\n",
       "      <th>Extra Trees Classification</th>\n",
       "    </tr>\n",
       "  </thead>\n",
       "  <tbody>\n",
       "    <tr>\n",
       "      <th>Accuracy</th>\n",
       "      <td>0.999280</td>\n",
       "    </tr>\n",
       "    <tr>\n",
       "      <th>F1 (macro)</th>\n",
       "      <td>0.997823</td>\n",
       "    </tr>\n",
       "    <tr>\n",
       "      <th>F1 (micro)</th>\n",
       "      <td>0.999280</td>\n",
       "    </tr>\n",
       "    <tr>\n",
       "      <th>Precision (macro)</th>\n",
       "      <td>0.998240</td>\n",
       "    </tr>\n",
       "    <tr>\n",
       "      <th>Precision (micro)</th>\n",
       "      <td>0.999280</td>\n",
       "    </tr>\n",
       "    <tr>\n",
       "      <th>Recall (macro)</th>\n",
       "      <td>0.997415</td>\n",
       "    </tr>\n",
       "    <tr>\n",
       "      <th>Recall (micro)</th>\n",
       "      <td>0.999280</td>\n",
       "    </tr>\n",
       "  </tbody>\n",
       "</table>\n",
       "</div>"
      ],
      "text/plain": [
       "                   Extra Trees Classification\n",
       "Accuracy                             0.999280\n",
       "F1 (macro)                           0.997823\n",
       "F1 (micro)                           0.999280\n",
       "Precision (macro)                    0.998240\n",
       "Precision (micro)                    0.999280\n",
       "Recall (macro)                       0.997415\n",
       "Recall (micro)                       0.999280"
      ]
     },
     "execution_count": 38,
     "metadata": {},
     "output_type": "execute_result"
    },
    {
     "data": {
      "image/png": "[encoded data removed]",
      "text/plain": [
       "<matplotlib.figure.Figure at 0x1cd21206668>"
      ]
     },
     "metadata": {},
     "output_type": "display_data"
    }
   ],
   "source": [
    "# Extra Trees Classifier\n",
    "clf = ExtraTreesClassifier(random_state=0)\n",
    "etc, y_pred = perform_classification('Extra Trees Classification', clf, features)\n",
    "perform_cross_validation(clf)\n",
    "plot_feature_importances(clf)\n",
    "etc.sort_index()"
   ]
  },
  {
   "cell_type": "markdown",
   "metadata": {},
   "source": [
    "#### Naive Bayes Classification"
   ]
  },
  {
   "cell_type": "code",
   "execution_count": 39,
   "metadata": {
    "collapsed": false
   },
   "outputs": [
    {
     "name": "stderr",
     "output_type": "stream",
     "text": [
      "C:\\Users\\jbhasin\\Anaconda3\\lib\\site-packages\\sklearn\\metrics\\classification.py:1113: UndefinedMetricWarning: F-score is ill-defined and being set to 0.0 in labels with no predicted samples.\n",
      "  'precision', 'predicted', average, warn_for)\n",
      "C:\\Users\\jbhasin\\Anaconda3\\lib\\site-packages\\sklearn\\metrics\\classification.py:1113: UndefinedMetricWarning: Precision is ill-defined and being set to 0.0 in labels with no predicted samples.\n",
      "  'precision', 'predicted', average, warn_for)\n"
     ]
    },
    {
     "name": "stdout",
     "output_type": "stream",
     "text": [
      "Naive Bayes Classification \n",
      "\n",
      "Accuracy on training set: 0.150\n",
      "Accuracy on test set: 0.148\n",
      "\n",
      "Confusion Matrix:\n",
      "[[   0   13  607  200    5    0    0    0    0    0    0    9   79    0\n",
      "     0  131    0   10    0]\n",
      " [   0  230 2052  666   38    1    0    0    1    1    0   57  213    0\n",
      "     0  628   35    7    0]\n",
      " [   0  121 5143 1545   16    6    0    0    5    7    0  108  530    0\n",
      "    35 2040  142   26    0]\n",
      " [   0  236 4529 2734    3  108   35   74  190  233    0  206 1740   55\n",
      "     0 2424  142   14    0]\n",
      " [   0  323 1345 1088  269   47  137   24   64  841    0  266 1648   82\n",
      "     0 1781  129    0    0]\n",
      " [   0  100  826  972  101   45  336   43  430 1459    0  572 1710   34\n",
      "     0 1238   87    0    0]\n",
      " [   0  136  631  849  100  135  311  178  680 2640   52  853 2318   59\n",
      "     0 1006   34    0    0]\n",
      " [   0  167  351  846  233   80  138  328  255 4062  294  965 2481  182\n",
      "     0  650  155    0    0]\n",
      " [   0   54  435  648   50  111  148  210  694 4145  222 1527 2438  108\n",
      "     0  526   71    0    0]\n",
      " [   0   77  418  489  150  117   60  127  498 4682  395 1416 2399  118\n",
      "     0  320  114    0    0]\n",
      " [   0  158  401  636  183  106   53  390  378 4598  665 1449 2527  160\n",
      "     0  140  157    0    0]\n",
      " [   0  118  902 1111   15   21   67  153  692 4088  332 2834 3166  135\n",
      "     0  774   20   32    0]\n",
      " [   0  207 1075 1086  134   27  156  210  529 3787  387 2664 4392   66\n",
      "     0  699   86    0    0]\n",
      " [   0  195  731  813  226   21   12  737  124 2547  616  917 2502  249\n",
      "    32  598  126    0    0]\n",
      " [   0   40  673  590   89   23   74  134  261 1471   61  732 1611   20\n",
      "     0  848   78   15    0]\n",
      " [   0   53  735  581   13   13   28  134  177  813   25  341 1082   29\n",
      "     0 1212   43   16    0]\n",
      " [   0  102  650  642  192   36   72  211    7  419    0  104  803  141\n",
      "     0 1112  125    0    0]\n",
      " [   0   16  728  448   15   14   72   22   27  145    0  175  431    0\n",
      "     0  986   57   19    0]\n",
      " [   0   12  413  223   14   14   28    0   41   34    0   66  191    0\n",
      "     0  547   23   18    0]]\n",
      "\n",
      "Classification Report:\n"
     ]
    },
    {
     "name": "stderr",
     "output_type": "stream",
     "text": [
      "C:\\Users\\jbhasin\\Anaconda3\\lib\\site-packages\\sklearn\\metrics\\classification.py:1113: UndefinedMetricWarning: Precision and F-score are ill-defined and being set to 0.0 in labels with no predicted samples.\n",
      "  'precision', 'predicted', average, warn_for)\n"
     ]
    },
    {
     "name": "stdout",
     "output_type": "stream",
     "text": [
      "             precision    recall  f1-score   support\n",
      "\n",
      "          1       0.00      0.00      0.00      1054\n",
      "          2       0.10      0.06      0.07      3929\n",
      "          3       0.23      0.53      0.32      9724\n",
      "          4       0.17      0.21      0.19     12723\n",
      "          5       0.15      0.03      0.05      8044\n",
      "          6       0.05      0.01      0.01      7953\n",
      "          7       0.18      0.03      0.05      9982\n",
      "          8       0.11      0.03      0.05     11187\n",
      "          9       0.14      0.06      0.08     11387\n",
      "         10       0.13      0.41      0.20     11380\n",
      "         11       0.22      0.06      0.09     12001\n",
      "         12       0.19      0.20      0.19     14460\n",
      "         13       0.14      0.28      0.18     15505\n",
      "         14       0.17      0.02      0.04     10446\n",
      "         15       0.00      0.00      0.00      6720\n",
      "         16       0.07      0.23      0.11      5295\n",
      "         17       0.08      0.03      0.04      4616\n",
      "         18       0.12      0.01      0.01      3155\n",
      "         19       0.00      0.00      0.00      1624\n",
      "\n",
      "avg / total       0.14      0.15      0.11    161185\n",
      "\n",
      "Cross-validation scores:\n",
      "[ 0.15221286  0.14781046  0.14972131  0.14531891  0.15022756  0.14716524\n",
      "  0.14873859  0.14673344  0.15061966  0.15143363]\n"
     ]
    },
    {
     "data": {
      "text/html": [
       "<div>\n",
       "<table border=\"1\" class=\"dataframe\">\n",
       "  <thead>\n",
       "    <tr style=\"text-align: right;\">\n",
       "      <th></th>\n",
       "      <th>Naive Bayes Classification</th>\n",
       "    </tr>\n",
       "  </thead>\n",
       "  <tbody>\n",
       "    <tr>\n",
       "      <th>Accuracy</th>\n",
       "      <td>0.148475</td>\n",
       "    </tr>\n",
       "    <tr>\n",
       "      <th>F1 (macro)</th>\n",
       "      <td>0.088862</td>\n",
       "    </tr>\n",
       "    <tr>\n",
       "      <th>F1 (micro)</th>\n",
       "      <td>0.148475</td>\n",
       "    </tr>\n",
       "    <tr>\n",
       "      <th>Precision (macro)</th>\n",
       "      <td>0.117142</td>\n",
       "    </tr>\n",
       "    <tr>\n",
       "      <th>Precision (micro)</th>\n",
       "      <td>0.148475</td>\n",
       "    </tr>\n",
       "    <tr>\n",
       "      <th>Recall (macro)</th>\n",
       "      <td>0.115514</td>\n",
       "    </tr>\n",
       "    <tr>\n",
       "      <th>Recall (micro)</th>\n",
       "      <td>0.148475</td>\n",
       "    </tr>\n",
       "  </tbody>\n",
       "</table>\n",
       "</div>"
      ],
      "text/plain": [
       "                   Naive Bayes Classification\n",
       "Accuracy                             0.148475\n",
       "F1 (macro)                           0.088862\n",
       "F1 (micro)                           0.148475\n",
       "Precision (macro)                    0.117142\n",
       "Precision (micro)                    0.148475\n",
       "Recall (macro)                       0.115514\n",
       "Recall (micro)                       0.148475"
      ]
     },
     "execution_count": 39,
     "metadata": {},
     "output_type": "execute_result"
    }
   ],
   "source": [
    "# Naive Bayes Classifier\n",
    "clf = naive_bayes.GaussianNB()\n",
    "nbg, y_pred = perform_classification('Naive Bayes Classification', clf, features)\n",
    "perform_cross_validation(clf)\n",
    "nbg.sort_index()"
   ]
  },
  {
   "cell_type": "markdown",
   "metadata": {},
   "source": [
    "#### Nearest Neighbors Classification"
   ]
  },
  {
   "cell_type": "code",
   "execution_count": 40,
   "metadata": {
    "collapsed": false
   },
   "outputs": [
    {
     "name": "stdout",
     "output_type": "stream",
     "text": [
      "Nearest Neighbors Classification \n",
      "\n",
      "Accuracy on training set: 1.000\n",
      "Accuracy on test set: 0.999\n",
      "\n",
      "Confusion Matrix:\n",
      "[[ 1022     9     3     2     1     4     4     0     1     0     0     0\n",
      "      5     0     0     2     0     1     0]\n",
      " [    3  3915     5     0     0     0     0     0     0     1     1     0\n",
      "      0     0     1     1     0     0     2]\n",
      " [    0     5  9713     4     2     0     0     0     0     0     0     0\n",
      "      0     0     0     0     0     0     0]\n",
      " [    4     0     6 12706     1     0     2     0     0     0     0     2\n",
      "      0     0     0     1     0     1     0]\n",
      " [    0     0     0     0  8040     0     0     0     0     0     0     0\n",
      "      0     0     0     4     0     0     0]\n",
      " [    0     0     0     0     0  7949     0     0     0     0     0     0\n",
      "      0     0     0     0     0     0     4]\n",
      " [    0     0     0     0     0     0  9982     0     0     0     0     0\n",
      "      0     0     0     0     0     0     0]\n",
      " [    0     0     0     0     0     0     0 11186     1     0     0     0\n",
      "      0     0     0     0     0     0     0]\n",
      " [    0     0     0     0     0     0     0     0 11387     0     0     0\n",
      "      0     0     0     0     0     0     0]\n",
      " [    0     0     0     0     0     0     0     0     0 11380     0     0\n",
      "      0     0     0     0     0     0     0]\n",
      " [    0     0     0     0     0     0     0     0     0     1 12000     0\n",
      "      0     0     0     0     0     0     0]\n",
      " [    0     0     0     0     0     0     0     0     0     0     0 14460\n",
      "      0     0     0     0     0     0     0]\n",
      " [    0     0     0     0     0     0     0     2     0     0     0     0\n",
      "  15503     0     0     0     0     0     0]\n",
      " [    0     0     0     0     0     0     0     0     0     0     0     0\n",
      "      0 10445     0     0     0     1     0]\n",
      " [    0     0     0     0     0     0     0     0     0     0     0     0\n",
      "      0     1  6717     1     1     0     0]\n",
      " [    0     0     0     0     0     0     0     0     0     0     0     0\n",
      "      0     0     5  5287     3     0     0]\n",
      " [    0     0     0     0     0     0     0     0     0     0     0     0\n",
      "      0     0     0     0  4614     0     2]\n",
      " [    0     1     0     0     0     0     0     0     0     0     0     0\n",
      "      0     0     0     0     0  3153     1]\n",
      " [    1     0     0     0     1     0     0     0     0     0     0     0\n",
      "      2     1     0     2     4     2  1611]]\n",
      "\n",
      "Classification Report:\n",
      "             precision    recall  f1-score   support\n",
      "\n",
      "          1       0.99      0.97      0.98      1054\n",
      "          2       1.00      1.00      1.00      3929\n",
      "          3       1.00      1.00      1.00      9724\n",
      "          4       1.00      1.00      1.00     12723\n",
      "          5       1.00      1.00      1.00      8044\n",
      "          6       1.00      1.00      1.00      7953\n",
      "          7       1.00      1.00      1.00      9982\n",
      "          8       1.00      1.00      1.00     11187\n",
      "          9       1.00      1.00      1.00     11387\n",
      "         10       1.00      1.00      1.00     11380\n",
      "         11       1.00      1.00      1.00     12001\n",
      "         12       1.00      1.00      1.00     14460\n",
      "         13       1.00      1.00      1.00     15505\n",
      "         14       1.00      1.00      1.00     10446\n",
      "         15       1.00      1.00      1.00      6720\n",
      "         16       1.00      1.00      1.00      5295\n",
      "         17       1.00      1.00      1.00      4616\n",
      "         18       1.00      1.00      1.00      3155\n",
      "         19       0.99      0.99      0.99      1624\n",
      "\n",
      "avg / total       1.00      1.00      1.00    161185\n",
      "\n",
      "Cross-validation scores:\n",
      "[ 0.99897261  0.99903217  0.99862022  0.99886838  0.99897757  0.99904706\n",
      "  0.99913639  0.99918106  0.99908676  0.99896268]\n"
     ]
    },
    {
     "data": {
      "text/html": [
       "<div>\n",
       "<table border=\"1\" class=\"dataframe\">\n",
       "  <thead>\n",
       "    <tr style=\"text-align: right;\">\n",
       "      <th></th>\n",
       "      <th>Nearest Neighbors Classification</th>\n",
       "    </tr>\n",
       "  </thead>\n",
       "  <tbody>\n",
       "    <tr>\n",
       "      <th>Accuracy</th>\n",
       "      <td>0.999287</td>\n",
       "    </tr>\n",
       "    <tr>\n",
       "      <th>F1 (macro)</th>\n",
       "      <td>0.997960</td>\n",
       "    </tr>\n",
       "    <tr>\n",
       "      <th>F1 (micro)</th>\n",
       "      <td>0.999287</td>\n",
       "    </tr>\n",
       "    <tr>\n",
       "      <th>Precision (macro)</th>\n",
       "      <td>0.998502</td>\n",
       "    </tr>\n",
       "    <tr>\n",
       "      <th>Precision (micro)</th>\n",
       "      <td>0.999287</td>\n",
       "    </tr>\n",
       "    <tr>\n",
       "      <th>Recall (macro)</th>\n",
       "      <td>0.997431</td>\n",
       "    </tr>\n",
       "    <tr>\n",
       "      <th>Recall (micro)</th>\n",
       "      <td>0.999287</td>\n",
       "    </tr>\n",
       "  </tbody>\n",
       "</table>\n",
       "</div>"
      ],
      "text/plain": [
       "                   Nearest Neighbors Classification\n",
       "Accuracy                                   0.999287\n",
       "F1 (macro)                                 0.997960\n",
       "F1 (micro)                                 0.999287\n",
       "Precision (macro)                          0.998502\n",
       "Precision (micro)                          0.999287\n",
       "Recall (macro)                             0.997431\n",
       "Recall (micro)                             0.999287"
      ]
     },
     "execution_count": 40,
     "metadata": {},
     "output_type": "execute_result"
    }
   ],
   "source": [
    "# Nearest Neighbors Classifier\n",
    "clf = KNeighborsClassifier(n_neighbors=1, n_jobs=-1)\n",
    "knn, y_pred = perform_classification('Nearest Neighbors Classification', clf, features)\n",
    "perform_cross_validation(clf)\n",
    "knn.sort_index()"
   ]
  },
  {
   "cell_type": "markdown",
   "metadata": {},
   "source": [
    "## Classification - Selected Features"
   ]
  },
  {
   "cell_type": "code",
   "execution_count": 41,
   "metadata": {
    "collapsed": false
   },
   "outputs": [
    {
     "name": "stdout",
     "output_type": "stream",
     "text": [
      "Classification Summary after Feature Selection\n",
      "\n"
     ]
    },
    {
     "data": {
      "text/html": [
       "<div>\n",
       "<table border=\"1\" class=\"dataframe\">\n",
       "  <thead>\n",
       "    <tr style=\"text-align: right;\">\n",
       "      <th></th>\n",
       "      <th>Decision Tree Classification</th>\n",
       "      <th>Logistic Classification</th>\n",
       "      <th>Random Forest Classification</th>\n",
       "      <th>Extra Trees Classification</th>\n",
       "      <th>Naive Bayes Classification</th>\n",
       "      <th>Nearest Neighbors Classification</th>\n",
       "    </tr>\n",
       "  </thead>\n",
       "  <tbody>\n",
       "    <tr>\n",
       "      <th>Accuracy</th>\n",
       "      <td>0.999330</td>\n",
       "      <td>0.170276</td>\n",
       "      <td>0.999293</td>\n",
       "      <td>0.999280</td>\n",
       "      <td>0.148475</td>\n",
       "      <td>0.999287</td>\n",
       "    </tr>\n",
       "    <tr>\n",
       "      <th>F1 (macro)</th>\n",
       "      <td>0.998256</td>\n",
       "      <td>0.090561</td>\n",
       "      <td>0.997880</td>\n",
       "      <td>0.997823</td>\n",
       "      <td>0.088862</td>\n",
       "      <td>0.997960</td>\n",
       "    </tr>\n",
       "    <tr>\n",
       "      <th>F1 (micro)</th>\n",
       "      <td>0.999330</td>\n",
       "      <td>0.170276</td>\n",
       "      <td>0.999293</td>\n",
       "      <td>0.999280</td>\n",
       "      <td>0.148475</td>\n",
       "      <td>0.999287</td>\n",
       "    </tr>\n",
       "    <tr>\n",
       "      <th>Precision (macro)</th>\n",
       "      <td>0.998903</td>\n",
       "      <td>0.121817</td>\n",
       "      <td>0.998247</td>\n",
       "      <td>0.998240</td>\n",
       "      <td>0.117142</td>\n",
       "      <td>0.998502</td>\n",
       "    </tr>\n",
       "    <tr>\n",
       "      <th>Precision (micro)</th>\n",
       "      <td>0.999330</td>\n",
       "      <td>0.170276</td>\n",
       "      <td>0.999293</td>\n",
       "      <td>0.999280</td>\n",
       "      <td>0.148475</td>\n",
       "      <td>0.999287</td>\n",
       "    </tr>\n",
       "    <tr>\n",
       "      <th>Recall (macro)</th>\n",
       "      <td>0.997624</td>\n",
       "      <td>0.116308</td>\n",
       "      <td>0.997522</td>\n",
       "      <td>0.997415</td>\n",
       "      <td>0.115514</td>\n",
       "      <td>0.997431</td>\n",
       "    </tr>\n",
       "    <tr>\n",
       "      <th>Recall (micro)</th>\n",
       "      <td>0.999330</td>\n",
       "      <td>0.170276</td>\n",
       "      <td>0.999293</td>\n",
       "      <td>0.999280</td>\n",
       "      <td>0.148475</td>\n",
       "      <td>0.999287</td>\n",
       "    </tr>\n",
       "  </tbody>\n",
       "</table>\n",
       "</div>"
      ],
      "text/plain": [
       "                   Decision Tree Classification  Logistic Classification  \\\n",
       "Accuracy                               0.999330                 0.170276   \n",
       "F1 (macro)                             0.998256                 0.090561   \n",
       "F1 (micro)                             0.999330                 0.170276   \n",
       "Precision (macro)                      0.998903                 0.121817   \n",
       "Precision (micro)                      0.999330                 0.170276   \n",
       "Recall (macro)                         0.997624                 0.116308   \n",
       "Recall (micro)                         0.999330                 0.170276   \n",
       "\n",
       "                   Random Forest Classification  Extra Trees Classification  \\\n",
       "Accuracy                               0.999293                    0.999280   \n",
       "F1 (macro)                             0.997880                    0.997823   \n",
       "F1 (micro)                             0.999293                    0.999280   \n",
       "Precision (macro)                      0.998247                    0.998240   \n",
       "Precision (micro)                      0.999293                    0.999280   \n",
       "Recall (macro)                         0.997522                    0.997415   \n",
       "Recall (micro)                         0.999293                    0.999280   \n",
       "\n",
       "                   Naive Bayes Classification  \\\n",
       "Accuracy                             0.148475   \n",
       "F1 (macro)                           0.088862   \n",
       "F1 (micro)                           0.148475   \n",
       "Precision (macro)                    0.117142   \n",
       "Precision (micro)                    0.148475   \n",
       "Recall (macro)                       0.115514   \n",
       "Recall (micro)                       0.148475   \n",
       "\n",
       "                   Nearest Neighbors Classification  \n",
       "Accuracy                                   0.999287  \n",
       "F1 (macro)                                 0.997960  \n",
       "F1 (micro)                                 0.999287  \n",
       "Precision (macro)                          0.998502  \n",
       "Precision (micro)                          0.999287  \n",
       "Recall (macro)                             0.997431  \n",
       "Recall (micro)                             0.999287  "
      ]
     },
     "execution_count": 41,
     "metadata": {},
     "output_type": "execute_result"
    }
   ],
   "source": [
    "# Classifcation Summary\n",
    "print(\"Classification Summary after Feature Selection\\n\")\n",
    "class_metrics = pd.concat([dtc, lin_reg, rfc, etc, nbg, knn] , axis=1)\n",
    "class_metrics.sort_index()"
   ]
  },
  {
   "cell_type": "markdown",
   "metadata": {
    "collapsed": true
   },
   "source": [
    "## 4. Summary\n",
    "\n",
    "The Decision Tree, Random Forest, Extra Trees and Nearest Neighbors models fit the data extremely well. The Logistic and Naive Bayes models don't fit well at all."
   ]
  }
 ],
 "metadata": {
  "anaconda-cloud": {},
  "kernelspec": {
   "display_name": "Python 3",
   "language": "python",
   "name": "python3"
  },
  "language_info": {
   "codemirror_mode": {
    "name": "ipython",
    "version": 3
   },
   "file_extension": ".py",
   "mimetype": "text/x-python",
   "name": "python",
   "nbconvert_exporter": "python",
   "pygments_lexer": "ipython3",
   "version": "3.6.0"
  }
 },
 "nbformat": 4,
 "nbformat_minor": 1
}
