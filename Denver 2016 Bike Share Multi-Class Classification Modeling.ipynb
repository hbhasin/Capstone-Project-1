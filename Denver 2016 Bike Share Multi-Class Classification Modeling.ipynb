{
 "cells": [
  {
   "cell_type": "markdown",
   "metadata": {},
   "source": [
    "# Denver 2016 Bike Share Multi-Class Classification Modeling"
   ]
  },
  {
   "cell_type": "markdown",
   "metadata": {},
   "source": [
    "## 1. Introduction\n",
    "\n",
    "The data exploration performed on the Denver Trips dataset indicates weather variables have a significant impact on the number of checkouts. This section will focus on investigating the use of various classification models on the Trips data when combined with weather variables."
   ]
  },
  {
   "cell_type": "code",
   "execution_count": 1,
   "metadata": {
    "collapsed": false
   },
   "outputs": [],
   "source": [
    "# Import necessary libraries and functions that are needed for the modeling\n",
    "import pandas as pd\n",
    "import numpy as np\n",
    "import matplotlib.pyplot as plt\n",
    "from sklearn.tree import DecisionTreeClassifier, export_graphviz\n",
    "from sklearn.ensemble import RandomForestClassifier, ExtraTreesClassifier, GradientBoostingClassifier\n",
    "from sklearn import linear_model, naive_bayes\n",
    "from sklearn.neighbors import KNeighborsClassifier\n",
    "from sklearn.neural_network import MLPClassifier\n",
    "from sklearn.model_selection import ShuffleSplit, train_test_split, cross_val_score\n",
    "from sklearn import metrics\n",
    "import seaborn as sns\n",
    "from timeit import default_timer as timer\n",
    "%matplotlib inline"
   ]
  },
  {
   "cell_type": "code",
   "execution_count": 2,
   "metadata": {
    "collapsed": false
   },
   "outputs": [
    {
     "data": {
      "text/html": [
       "<style>body {\n",
       "    margin: 0;\n",
       "    font-family: Helvetica;\n",
       "}\n",
       "table.dataframe {\n",
       "    border-collapse: collapse;\n",
       "    border: none;\n",
       "}\n",
       "table.dataframe tr {\n",
       "    border: none;\n",
       "}\n",
       "table.dataframe td, table.dataframe th {\n",
       "    margin: 0;\n",
       "    border: 1px solid white;\n",
       "    padding-left: 0.25em;\n",
       "    padding-right: 0.25em;\n",
       "}\n",
       "table.dataframe th:not(:empty) {\n",
       "    background-color: #fec;\n",
       "    text-align: left;\n",
       "    font-weight: normal;\n",
       "}\n",
       "table.dataframe tr:nth-child(2) th:empty {\n",
       "    border-left: none;\n",
       "    border-right: 1px dashed #888;\n",
       "}\n",
       "table.dataframe td {\n",
       "    border: 2px solid #ccf;\n",
       "    background-color: #f4f4ff;\n",
       "}\n",
       "h3 {\n",
       "    color: white;\n",
       "    background-color: black;\n",
       "    padding: 0.5em;\n",
       "}\n",
       "</style>"
      ],
      "text/plain": [
       "<IPython.core.display.HTML object>"
      ]
     },
     "execution_count": 2,
     "metadata": {},
     "output_type": "execute_result"
    }
   ],
   "source": [
    "# taken from Brandon Rhodes's Pandas Tutorial (https://github.com/brandon-rhodes)\n",
    "from IPython.core.display import HTML\n",
    "css = open('style-table.css').read() + open('style-notebook.css').read()\n",
    "HTML('<style>{}</style>'.format(css))"
   ]
  },
  {
   "cell_type": "code",
   "execution_count": 3,
   "metadata": {
    "collapsed": false
   },
   "outputs": [],
   "source": [
    "dF = pd.read_csv(\"data/2016_Denver_Bike_Trip_ML_Data.gz\", dtype = {'Bike_Number' : object}, compression=\"gzip\")"
   ]
  },
  {
   "cell_type": "code",
   "execution_count": 4,
   "metadata": {
    "collapsed": false
   },
   "outputs": [
    {
     "data": {
      "text/plain": [
       "(402965, 14)"
      ]
     },
     "execution_count": 4,
     "metadata": {},
     "output_type": "execute_result"
    }
   ],
   "source": [
    "dF.shape"
   ]
  },
  {
   "cell_type": "code",
   "execution_count": 5,
   "metadata": {
    "collapsed": false
   },
   "outputs": [
    {
     "data": {
      "text/html": [
       "<div>\n",
       "<table border=\"1\" class=\"dataframe\">\n",
       "  <thead>\n",
       "    <tr style=\"text-align: right;\">\n",
       "      <th></th>\n",
       "      <th>User_Program</th>\n",
       "      <th>User_ID</th>\n",
       "      <th>Membership_Type</th>\n",
       "      <th>Bike_Number</th>\n",
       "      <th>Checkout_Date</th>\n",
       "      <th>Checkout_Hour</th>\n",
       "      <th>Checkout_Kiosk</th>\n",
       "      <th>Return_Date</th>\n",
       "      <th>Return_Time</th>\n",
       "      <th>Return_Kiosk</th>\n",
       "      <th>Trip_Duration</th>\n",
       "      <th>Trip_Distance</th>\n",
       "      <th>Checkout_WeekDay</th>\n",
       "      <th>Checkout_Month</th>\n",
       "    </tr>\n",
       "  </thead>\n",
       "  <tbody>\n",
       "    <tr>\n",
       "      <th>0</th>\n",
       "      <td>Denver B-cycle</td>\n",
       "      <td>1052163</td>\n",
       "      <td>24-hour Kiosk Only (Denver B-cycle)</td>\n",
       "      <td>83</td>\n",
       "      <td>2016-01-01</td>\n",
       "      <td>23</td>\n",
       "      <td>Market Street Station</td>\n",
       "      <td>2016-01-01</td>\n",
       "      <td>23:23:00</td>\n",
       "      <td>19th &amp; Market</td>\n",
       "      <td>2</td>\n",
       "      <td>0.26</td>\n",
       "      <td>4</td>\n",
       "      <td>1</td>\n",
       "    </tr>\n",
       "  </tbody>\n",
       "</table>\n",
       "</div>"
      ],
      "text/plain": [
       "     User_Program  User_ID                      Membership_Type Bike_Number  \\\n",
       "0  Denver B-cycle  1052163  24-hour Kiosk Only (Denver B-cycle)          83   \n",
       "\n",
       "  Checkout_Date  Checkout_Hour         Checkout_Kiosk Return_Date Return_Time  \\\n",
       "0    2016-01-01             23  Market Street Station  2016-01-01    23:23:00   \n",
       "\n",
       "    Return_Kiosk  Trip_Duration  Trip_Distance  Checkout_WeekDay  \\\n",
       "0  19th & Market              2           0.26                 4   \n",
       "\n",
       "   Checkout_Month  \n",
       "0               1  "
      ]
     },
     "execution_count": 5,
     "metadata": {},
     "output_type": "execute_result"
    }
   ],
   "source": [
    "dF.head(1)"
   ]
  },
  {
   "cell_type": "code",
   "execution_count": 6,
   "metadata": {
    "collapsed": false
   },
   "outputs": [],
   "source": [
    "dF.drop(['User_Program'], axis = 1, inplace = True)\n",
    "dF.drop(['Membership_Type'], axis = 1, inplace = True)\n",
    "dF.drop(['User_ID'], axis = 1, inplace = True)\n",
    "dF.drop(['Bike_Number'], axis = 1, inplace = True)\n",
    "dF.drop(['Checkout_Kiosk'], axis = 1, inplace = True)\n",
    "dF.drop(['Return_Date'], axis = 1, inplace = True)\n",
    "dF.drop(['Return_Kiosk'], axis = 1, inplace = True)\n",
    "dF.drop(['Return_Time'], axis = 1, inplace = True)\n",
    "dF.drop(['Trip_Duration'], axis = 1, inplace = True)\n",
    "dF.drop(['Trip_Distance'], axis = 1, inplace = True)"
   ]
  },
  {
   "cell_type": "code",
   "execution_count": 7,
   "metadata": {
    "collapsed": false
   },
   "outputs": [
    {
     "name": "stdout",
     "output_type": "stream",
     "text": [
      "<class 'pandas.core.frame.DataFrame'>\n",
      "RangeIndex: 402965 entries, 0 to 402964\n",
      "Data columns (total 4 columns):\n",
      "Checkout_Date       402965 non-null object\n",
      "Checkout_Hour       402965 non-null int64\n",
      "Checkout_WeekDay    402965 non-null int64\n",
      "Checkout_Month      402965 non-null int64\n",
      "dtypes: int64(3), object(1)\n",
      "memory usage: 12.3+ MB\n"
     ]
    }
   ],
   "source": [
    "dF.info()"
   ]
  },
  {
   "cell_type": "code",
   "execution_count": 8,
   "metadata": {
    "collapsed": false
   },
   "outputs": [],
   "source": [
    "# re-arrange columns in preparation for training and test data\n",
    "dF = dF[['Checkout_Date', 'Checkout_Month', 'Checkout_WeekDay', 'Checkout_Hour']]"
   ]
  },
  {
   "cell_type": "code",
   "execution_count": 9,
   "metadata": {
    "collapsed": false
   },
   "outputs": [
    {
     "name": "stdout",
     "output_type": "stream",
     "text": [
      "<class 'pandas.core.frame.DataFrame'>\n",
      "RangeIndex: 402965 entries, 0 to 402964\n",
      "Data columns (total 4 columns):\n",
      "Checkout_Date       402965 non-null object\n",
      "Checkout_Month      402965 non-null int64\n",
      "Checkout_WeekDay    402965 non-null int64\n",
      "Checkout_Hour       402965 non-null int64\n",
      "dtypes: int64(3), object(1)\n",
      "memory usage: 12.3+ MB\n"
     ]
    }
   ],
   "source": [
    "dF.info()"
   ]
  },
  {
   "cell_type": "code",
   "execution_count": 10,
   "metadata": {
    "collapsed": true
   },
   "outputs": [],
   "source": [
    "# Load the 2016 Weather data into a dataframe\n",
    "dW = pd.read_csv(\"data/Denver_2016_Hourly_Weather_Forecast.csv\")"
   ]
  },
  {
   "cell_type": "code",
   "execution_count": 11,
   "metadata": {
    "collapsed": true
   },
   "outputs": [],
   "source": [
    "dW.rename(columns = {'Hour': 'Checkout_Hour'}, inplace = True)"
   ]
  },
  {
   "cell_type": "code",
   "execution_count": 12,
   "metadata": {
    "collapsed": true
   },
   "outputs": [],
   "source": [
    "dW['Checkout_WeekDay'] = pd.DatetimeIndex(dW['Date']).weekday"
   ]
  },
  {
   "cell_type": "code",
   "execution_count": 13,
   "metadata": {
    "collapsed": true
   },
   "outputs": [],
   "source": [
    "dW['Checkout_Month'] = pd.DatetimeIndex(dW['Date']).month"
   ]
  },
  {
   "cell_type": "code",
   "execution_count": 14,
   "metadata": {
    "collapsed": true
   },
   "outputs": [],
   "source": [
    "dFW = dF.groupby(['Checkout_Date', 'Checkout_Month', 'Checkout_WeekDay', \n",
    "                  'Checkout_Hour']).size().to_frame(name = 'Number_Of_Checkouts').reset_index()"
   ]
  },
  {
   "cell_type": "code",
   "execution_count": 15,
   "metadata": {
    "collapsed": true
   },
   "outputs": [],
   "source": [
    "dT = pd.merge(dW, dFW, how='left', left_on=['Date', 'Checkout_Hour'], \n",
    "              right_on=['Checkout_Date', 'Checkout_Hour'])"
   ]
  },
  {
   "cell_type": "code",
   "execution_count": 16,
   "metadata": {
    "collapsed": false
   },
   "outputs": [
    {
     "data": {
      "text/plain": [
       "True"
      ]
     },
     "execution_count": 16,
     "metadata": {},
     "output_type": "execute_result"
    }
   ],
   "source": [
    "dT.isnull().values.any()"
   ]
  },
  {
   "cell_type": "code",
   "execution_count": 17,
   "metadata": {
    "collapsed": true
   },
   "outputs": [],
   "source": [
    "nan_rows = dT[dT.isnull().T.any().T]"
   ]
  },
  {
   "cell_type": "code",
   "execution_count": 18,
   "metadata": {
    "collapsed": true
   },
   "outputs": [],
   "source": [
    "dT = dT.drop(dT.index[nan_rows.index])"
   ]
  },
  {
   "cell_type": "code",
   "execution_count": 19,
   "metadata": {
    "collapsed": false
   },
   "outputs": [
    {
     "data": {
      "text/plain": [
       "False"
      ]
     },
     "execution_count": 19,
     "metadata": {},
     "output_type": "execute_result"
    }
   ],
   "source": [
    "dT.isnull().values.any()"
   ]
  },
  {
   "cell_type": "code",
   "execution_count": 20,
   "metadata": {
    "collapsed": true
   },
   "outputs": [],
   "source": [
    "dT.drop(['Date', 'Checkout_WeekDay_y', 'Checkout_Month_y'], axis = 1, inplace = True)\n",
    "dT.rename(columns = {'cloudCover': 'Cloud_Cover', 'temperature': 'Temperature', 'apparentTemperature' : 'Apparent_Temperature',\n",
    "                     'windSpeed' : 'Wind_Speed', 'humidity' : 'Humidity', 'visibility' : 'Visibility',\n",
    "                     'Checkout_WeekDay_x': 'Checkout_WeekDay', 'Checkout_Month_x': 'Checkout_Month'}, inplace = True)"
   ]
  },
  {
   "cell_type": "code",
   "execution_count": 21,
   "metadata": {
    "collapsed": false
   },
   "outputs": [],
   "source": [
    "dT = dT[~((dT.Checkout_Hour == 0)  | (dT.Checkout_Hour == 1)  | (dT.Checkout_Hour == 2)  | (dT.Checkout_Hour == 3)  |\n",
    "         (dT.Checkout_Hour == 4))]"
   ]
  },
  {
   "cell_type": "code",
   "execution_count": 22,
   "metadata": {
    "collapsed": false
   },
   "outputs": [
    {
     "data": {
      "text/plain": [
       "(6849, 11)"
      ]
     },
     "execution_count": 22,
     "metadata": {},
     "output_type": "execute_result"
    }
   ],
   "source": [
    "dT.shape"
   ]
  },
  {
   "cell_type": "code",
   "execution_count": 23,
   "metadata": {
    "collapsed": false
   },
   "outputs": [
    {
     "data": {
      "text/plain": [
       "252.0"
      ]
     },
     "execution_count": 23,
     "metadata": {},
     "output_type": "execute_result"
    }
   ],
   "source": [
    "dT['Number_Of_Checkouts'].max()"
   ]
  },
  {
   "cell_type": "code",
   "execution_count": 24,
   "metadata": {
    "collapsed": false
   },
   "outputs": [
    {
     "name": "stdout",
     "output_type": "stream",
     "text": [
      "<class 'pandas.core.frame.DataFrame'>\n",
      "Int64Index: 6849 entries, 8 to 8783\n",
      "Data columns (total 11 columns):\n",
      "Checkout_Hour           6849 non-null int64\n",
      "Apparent_Temperature    6849 non-null float64\n",
      "Cloud_Cover             6849 non-null float64\n",
      "Humidity                6849 non-null float64\n",
      "Temperature             6849 non-null float64\n",
      "Visibility              6849 non-null float64\n",
      "Wind_Speed              6849 non-null float64\n",
      "Checkout_WeekDay        6849 non-null int32\n",
      "Checkout_Month          6849 non-null int32\n",
      "Checkout_Date           6849 non-null object\n",
      "Number_Of_Checkouts     6849 non-null float64\n",
      "dtypes: float64(7), int32(2), int64(1), object(1)\n",
      "memory usage: 588.6+ KB\n"
     ]
    }
   ],
   "source": [
    "dT.info()"
   ]
  },
  {
   "cell_type": "code",
   "execution_count": 26,
   "metadata": {
    "collapsed": false
   },
   "outputs": [],
   "source": [
    "dT.rename(columns = {'cloudCover': 'Cloud_Cover', 'temperature': 'Temperature', 'apparentTemperature' : 'Apparent_Temperature',\n",
    "                     'windSpeed' : 'Wind_Speed', 'humidity' : 'Humidity', 'visibility' : 'Visibility'}, inplace = True)"
   ]
  },
  {
   "cell_type": "code",
   "execution_count": 27,
   "metadata": {
    "collapsed": true
   },
   "outputs": [],
   "source": [
    "dT = dT[['Checkout_Date', 'Checkout_Month', 'Checkout_WeekDay', 'Checkout_Hour', 'Temperature', 'Apparent_Temperature',\n",
    "             'Cloud_Cover', 'Humidity', 'Wind_Speed', 'Visibility', 'Number_Of_Checkouts']]"
   ]
  },
  {
   "cell_type": "markdown",
   "metadata": {},
   "source": [
    "### Convert the numeric Calendar and Clock columns into categorical columns"
   ]
  },
  {
   "cell_type": "code",
   "execution_count": 28,
   "metadata": {
    "collapsed": false
   },
   "outputs": [],
   "source": [
    "month_dummies = pd.get_dummies(dT.Checkout_Month, prefix='month')"
   ]
  },
  {
   "cell_type": "code",
   "execution_count": 29,
   "metadata": {
    "collapsed": true
   },
   "outputs": [],
   "source": [
    "weekday_dummies = pd.get_dummies(dT.Checkout_WeekDay, prefix='weekday')"
   ]
  },
  {
   "cell_type": "code",
   "execution_count": 30,
   "metadata": {
    "collapsed": true
   },
   "outputs": [],
   "source": [
    "hour_dummies = pd.get_dummies(dT.Checkout_Hour, prefix='hour')"
   ]
  },
  {
   "cell_type": "code",
   "execution_count": 31,
   "metadata": {
    "collapsed": true
   },
   "outputs": [],
   "source": [
    "data = pd.concat([dT, month_dummies, weekday_dummies, hour_dummies], axis=1)"
   ]
  },
  {
   "cell_type": "code",
   "execution_count": 32,
   "metadata": {
    "collapsed": false
   },
   "outputs": [],
   "source": [
    "data = data[['Checkout_Month', 'Checkout_WeekDay', 'Checkout_Hour',\n",
    "             'month_1', 'month_2', 'month_3', 'month_4', 'month_5', 'month_6', 'month_7', 'month_8',\n",
    "             'month_9', 'month_10', 'month_11', 'month_12',\n",
    "             'weekday_0', 'weekday_1', 'weekday_2', 'weekday_3', 'weekday_4', 'weekday_5', 'weekday_6',\n",
    "             'hour_5', 'hour_6', 'hour_7', 'hour_8', 'hour_9', 'hour_10', 'hour_11', 'hour_12', 'hour_13',\n",
    "             'hour_14', 'hour_15', 'hour_16', 'hour_17',\n",
    "             'hour_18', 'hour_19', 'hour_20', 'hour_21', 'hour_22', 'hour_23',\n",
    "             'Temperature', 'Apparent_Temperature', 'Cloud_Cover', 'Wind_Speed', 'Humidity', 'Visibility',\n",
    "             'Number_Of_Checkouts']]"
   ]
  },
  {
   "cell_type": "code",
   "execution_count": 33,
   "metadata": {
    "collapsed": false
   },
   "outputs": [],
   "source": [
    "data['Number_Of_Checkouts'] = data[['Number_Of_Checkouts']].astype('int32')"
   ]
  },
  {
   "cell_type": "markdown",
   "metadata": {},
   "source": [
    "### Create a Class_Label column for a 4-class classification "
   ]
  },
  {
   "cell_type": "code",
   "execution_count": 34,
   "metadata": {
    "collapsed": false
   },
   "outputs": [],
   "source": [
    "data['Class_Label'] = data['Number_Of_Checkouts'].map(lambda x: 0 if ((x >= 1) & (x <= 50)) \n",
    "                                                else 1 if ((x >= 51)  & (x <= 100)) \n",
    "                                                else 2 if ((x >= 101)  & (x <= 150)) \n",
    "                                                else 3)"
   ]
  },
  {
   "cell_type": "code",
   "execution_count": 35,
   "metadata": {
    "collapsed": false
   },
   "outputs": [
    {
     "data": {
      "text/html": [
       "<div>\n",
       "<table border=\"1\" class=\"dataframe\">\n",
       "  <thead>\n",
       "    <tr style=\"text-align: right;\">\n",
       "      <th></th>\n",
       "      <th>Checkout_Month</th>\n",
       "      <th>Checkout_WeekDay</th>\n",
       "      <th>Checkout_Hour</th>\n",
       "      <th>month_1</th>\n",
       "      <th>month_2</th>\n",
       "      <th>month_3</th>\n",
       "      <th>month_4</th>\n",
       "      <th>month_5</th>\n",
       "      <th>month_6</th>\n",
       "      <th>month_7</th>\n",
       "      <th>...</th>\n",
       "      <th>hour_22</th>\n",
       "      <th>hour_23</th>\n",
       "      <th>Temperature</th>\n",
       "      <th>Apparent_Temperature</th>\n",
       "      <th>Cloud_Cover</th>\n",
       "      <th>Wind_Speed</th>\n",
       "      <th>Humidity</th>\n",
       "      <th>Visibility</th>\n",
       "      <th>Number_Of_Checkouts</th>\n",
       "      <th>Class_Label</th>\n",
       "    </tr>\n",
       "  </thead>\n",
       "  <tbody>\n",
       "    <tr>\n",
       "      <th>8</th>\n",
       "      <td>1</td>\n",
       "      <td>4</td>\n",
       "      <td>8</td>\n",
       "      <td>1</td>\n",
       "      <td>0</td>\n",
       "      <td>0</td>\n",
       "      <td>0</td>\n",
       "      <td>0</td>\n",
       "      <td>0</td>\n",
       "      <td>0</td>\n",
       "      <td>...</td>\n",
       "      <td>0</td>\n",
       "      <td>0</td>\n",
       "      <td>6.63</td>\n",
       "      <td>-5.68</td>\n",
       "      <td>0.00</td>\n",
       "      <td>7.61</td>\n",
       "      <td>0.73</td>\n",
       "      <td>10.00</td>\n",
       "      <td>3</td>\n",
       "      <td>0</td>\n",
       "    </tr>\n",
       "    <tr>\n",
       "      <th>9</th>\n",
       "      <td>1</td>\n",
       "      <td>4</td>\n",
       "      <td>9</td>\n",
       "      <td>1</td>\n",
       "      <td>0</td>\n",
       "      <td>0</td>\n",
       "      <td>0</td>\n",
       "      <td>0</td>\n",
       "      <td>0</td>\n",
       "      <td>0</td>\n",
       "      <td>...</td>\n",
       "      <td>0</td>\n",
       "      <td>0</td>\n",
       "      <td>13.85</td>\n",
       "      <td>4.28</td>\n",
       "      <td>0.08</td>\n",
       "      <td>6.33</td>\n",
       "      <td>0.64</td>\n",
       "      <td>10.00</td>\n",
       "      <td>8</td>\n",
       "      <td>0</td>\n",
       "    </tr>\n",
       "    <tr>\n",
       "      <th>10</th>\n",
       "      <td>1</td>\n",
       "      <td>4</td>\n",
       "      <td>10</td>\n",
       "      <td>1</td>\n",
       "      <td>0</td>\n",
       "      <td>0</td>\n",
       "      <td>0</td>\n",
       "      <td>0</td>\n",
       "      <td>0</td>\n",
       "      <td>0</td>\n",
       "      <td>...</td>\n",
       "      <td>0</td>\n",
       "      <td>0</td>\n",
       "      <td>19.73</td>\n",
       "      <td>9.49</td>\n",
       "      <td>0.16</td>\n",
       "      <td>8.55</td>\n",
       "      <td>0.54</td>\n",
       "      <td>10.00</td>\n",
       "      <td>7</td>\n",
       "      <td>0</td>\n",
       "    </tr>\n",
       "    <tr>\n",
       "      <th>11</th>\n",
       "      <td>1</td>\n",
       "      <td>4</td>\n",
       "      <td>11</td>\n",
       "      <td>1</td>\n",
       "      <td>0</td>\n",
       "      <td>0</td>\n",
       "      <td>0</td>\n",
       "      <td>0</td>\n",
       "      <td>0</td>\n",
       "      <td>0</td>\n",
       "      <td>...</td>\n",
       "      <td>0</td>\n",
       "      <td>0</td>\n",
       "      <td>25.91</td>\n",
       "      <td>19.04</td>\n",
       "      <td>0.16</td>\n",
       "      <td>5.93</td>\n",
       "      <td>0.42</td>\n",
       "      <td>10.00</td>\n",
       "      <td>22</td>\n",
       "      <td>0</td>\n",
       "    </tr>\n",
       "    <tr>\n",
       "      <th>12</th>\n",
       "      <td>1</td>\n",
       "      <td>4</td>\n",
       "      <td>12</td>\n",
       "      <td>1</td>\n",
       "      <td>0</td>\n",
       "      <td>0</td>\n",
       "      <td>0</td>\n",
       "      <td>0</td>\n",
       "      <td>0</td>\n",
       "      <td>0</td>\n",
       "      <td>...</td>\n",
       "      <td>0</td>\n",
       "      <td>0</td>\n",
       "      <td>29.53</td>\n",
       "      <td>23.17</td>\n",
       "      <td>0.16</td>\n",
       "      <td>6.15</td>\n",
       "      <td>0.37</td>\n",
       "      <td>9.97</td>\n",
       "      <td>13</td>\n",
       "      <td>0</td>\n",
       "    </tr>\n",
       "  </tbody>\n",
       "</table>\n",
       "<p>5 rows × 49 columns</p>\n",
       "</div>"
      ],
      "text/plain": [
       "    Checkout_Month  Checkout_WeekDay  Checkout_Hour  month_1  month_2  \\\n",
       "8                1                 4              8        1        0   \n",
       "9                1                 4              9        1        0   \n",
       "10               1                 4             10        1        0   \n",
       "11               1                 4             11        1        0   \n",
       "12               1                 4             12        1        0   \n",
       "\n",
       "    month_3  month_4  month_5  month_6  month_7     ...       hour_22  \\\n",
       "8         0        0        0        0        0     ...             0   \n",
       "9         0        0        0        0        0     ...             0   \n",
       "10        0        0        0        0        0     ...             0   \n",
       "11        0        0        0        0        0     ...             0   \n",
       "12        0        0        0        0        0     ...             0   \n",
       "\n",
       "    hour_23  Temperature  Apparent_Temperature  Cloud_Cover  Wind_Speed  \\\n",
       "8         0         6.63                 -5.68         0.00        7.61   \n",
       "9         0        13.85                  4.28         0.08        6.33   \n",
       "10        0        19.73                  9.49         0.16        8.55   \n",
       "11        0        25.91                 19.04         0.16        5.93   \n",
       "12        0        29.53                 23.17         0.16        6.15   \n",
       "\n",
       "    Humidity  Visibility  Number_Of_Checkouts  Class_Label  \n",
       "8       0.73       10.00                    3            0  \n",
       "9       0.64       10.00                    8            0  \n",
       "10      0.54       10.00                    7            0  \n",
       "11      0.42       10.00                   22            0  \n",
       "12      0.37        9.97                   13            0  \n",
       "\n",
       "[5 rows x 49 columns]"
      ]
     },
     "execution_count": 35,
     "metadata": {},
     "output_type": "execute_result"
    }
   ],
   "source": [
    "data.head()"
   ]
  },
  {
   "cell_type": "markdown",
   "metadata": {},
   "source": [
    "### Keep 10 samples aside for use in prediction on unseen samples"
   ]
  },
  {
   "cell_type": "code",
   "execution_count": 36,
   "metadata": {
    "collapsed": true
   },
   "outputs": [],
   "source": [
    "dUT = data.sample(n=10, random_state=123)"
   ]
  },
  {
   "cell_type": "code",
   "execution_count": 37,
   "metadata": {
    "collapsed": true
   },
   "outputs": [],
   "source": [
    "del_rows = dUT.index"
   ]
  },
  {
   "cell_type": "code",
   "execution_count": 38,
   "metadata": {
    "collapsed": true
   },
   "outputs": [],
   "source": [
    "data.drop(del_rows, axis=0, inplace=True)"
   ]
  },
  {
   "cell_type": "code",
   "execution_count": 39,
   "metadata": {
    "collapsed": true
   },
   "outputs": [
    {
     "name": "stdout",
     "output_type": "stream",
     "text": [
      "<class 'pandas.core.frame.DataFrame'>\n",
      "Int64Index: 6839 entries, 8 to 8783\n",
      "Data columns (total 49 columns):\n",
      "Checkout_Month          6839 non-null int32\n",
      "Checkout_WeekDay        6839 non-null int32\n",
      "Checkout_Hour           6839 non-null int64\n",
      "month_1                 6839 non-null uint8\n",
      "month_2                 6839 non-null uint8\n",
      "month_3                 6839 non-null uint8\n",
      "month_4                 6839 non-null uint8\n",
      "month_5                 6839 non-null uint8\n",
      "month_6                 6839 non-null uint8\n",
      "month_7                 6839 non-null uint8\n",
      "month_8                 6839 non-null uint8\n",
      "month_9                 6839 non-null uint8\n",
      "month_10                6839 non-null uint8\n",
      "month_11                6839 non-null uint8\n",
      "month_12                6839 non-null uint8\n",
      "weekday_0               6839 non-null uint8\n",
      "weekday_1               6839 non-null uint8\n",
      "weekday_2               6839 non-null uint8\n",
      "weekday_3               6839 non-null uint8\n",
      "weekday_4               6839 non-null uint8\n",
      "weekday_5               6839 non-null uint8\n",
      "weekday_6               6839 non-null uint8\n",
      "hour_5                  6839 non-null uint8\n",
      "hour_6                  6839 non-null uint8\n",
      "hour_7                  6839 non-null uint8\n",
      "hour_8                  6839 non-null uint8\n",
      "hour_9                  6839 non-null uint8\n",
      "hour_10                 6839 non-null uint8\n",
      "hour_11                 6839 non-null uint8\n",
      "hour_12                 6839 non-null uint8\n",
      "hour_13                 6839 non-null uint8\n",
      "hour_14                 6839 non-null uint8\n",
      "hour_15                 6839 non-null uint8\n",
      "hour_16                 6839 non-null uint8\n",
      "hour_17                 6839 non-null uint8\n",
      "hour_18                 6839 non-null uint8\n",
      "hour_19                 6839 non-null uint8\n",
      "hour_20                 6839 non-null uint8\n",
      "hour_21                 6839 non-null uint8\n",
      "hour_22                 6839 non-null uint8\n",
      "hour_23                 6839 non-null uint8\n",
      "Temperature             6839 non-null float64\n",
      "Apparent_Temperature    6839 non-null float64\n",
      "Cloud_Cover             6839 non-null float64\n",
      "Wind_Speed              6839 non-null float64\n",
      "Humidity                6839 non-null float64\n",
      "Visibility              6839 non-null float64\n",
      "Number_Of_Checkouts     6839 non-null int32\n",
      "Class_Label             6839 non-null int64\n",
      "dtypes: float64(6), int32(3), int64(2), uint8(38)\n",
      "memory usage: 814.8 KB\n"
     ]
    }
   ],
   "source": [
    "data.info()"
   ]
  },
  {
   "cell_type": "code",
   "execution_count": 40,
   "metadata": {
    "collapsed": false
   },
   "outputs": [],
   "source": [
    "data = data[['Checkout_Month', 'Checkout_WeekDay', 'Checkout_Hour',\n",
    "             'month_1', 'month_2', 'month_3', 'month_4', 'month_5', 'month_6', 'month_7', 'month_8',\n",
    "             'month_9', 'month_10', 'month_11', 'month_12',\n",
    "             'weekday_0', 'weekday_1', 'weekday_2', 'weekday_3', 'weekday_4', 'weekday_5', 'weekday_6',\n",
    "             'hour_5', 'hour_6', 'hour_7', 'hour_8', 'hour_9', 'hour_10', 'hour_11', 'hour_12', 'hour_13',\n",
    "             'hour_14', 'hour_15', 'hour_16', 'hour_17',\n",
    "             'hour_18', 'hour_19', 'hour_20', 'hour_21', 'hour_22', 'hour_23',\n",
    "             'Temperature', 'Apparent_Temperature', 'Cloud_Cover', 'Wind_Speed', 'Humidity', 'Visibility',\n",
    "             'Class_Label']]"
   ]
  },
  {
   "cell_type": "code",
   "execution_count": 42,
   "metadata": {
    "collapsed": false
   },
   "outputs": [],
   "source": [
    "array = data.values"
   ]
  },
  {
   "cell_type": "code",
   "execution_count": 43,
   "metadata": {
    "collapsed": false
   },
   "outputs": [
    {
     "data": {
      "text/plain": [
       "array([  1.  ,   0.  ,   0.  ,   0.  ,   0.  ,   0.  ,   0.  ,   0.  ,\n",
       "         0.  ,   0.  ,   0.  ,   0.  ,   0.  ,   0.  ,   0.  ,   0.  ,\n",
       "         1.  ,   0.  ,   0.  ,   0.  ,   0.  ,   0.  ,   1.  ,   0.  ,\n",
       "         0.  ,   0.  ,   0.  ,   0.  ,   0.  ,   0.  ,   0.  ,   0.  ,\n",
       "         0.  ,   0.  ,   0.  ,   0.  ,   0.  ,   0.  ,   6.63,  -5.68,\n",
       "         0.  ,   7.61,   0.73,  10.  ])"
      ]
     },
     "execution_count": 43,
     "metadata": {},
     "output_type": "execute_result"
    }
   ],
   "source": [
    "X = array[:,3:47]\n",
    "X[0]"
   ]
  },
  {
   "cell_type": "code",
   "execution_count": 44,
   "metadata": {
    "collapsed": false
   },
   "outputs": [
    {
     "data": {
      "text/plain": [
       "0.0"
      ]
     },
     "execution_count": 44,
     "metadata": {},
     "output_type": "execute_result"
    }
   ],
   "source": [
    "y = array[:,47]\n",
    "y[0]"
   ]
  },
  {
   "cell_type": "markdown",
   "metadata": {},
   "source": [
    "## Feature Correlations"
   ]
  },
  {
   "cell_type": "code",
   "execution_count": 45,
   "metadata": {
    "collapsed": false
   },
   "outputs": [
    {
     "data": {
      "image/png": "[encoded data removed]",
      "text/plain": [
       "<matplotlib.figure.Figure at 0x201f64d7438>"
      ]
     },
     "metadata": {},
     "output_type": "display_data"
    }
   ],
   "source": [
    "plt.figure(figsize=(18,10))\n",
    "ax = sns.heatmap(data.corr())\n",
    "plt.title(\"Feature Correlations\", fontsize=18)\n",
    "plt.xticks(fontsize=14)\n",
    "plt.yticks(fontsize=14)\n",
    "plt.show()"
   ]
  },
  {
   "cell_type": "code",
   "execution_count": 46,
   "metadata": {
    "collapsed": false
   },
   "outputs": [],
   "source": [
    "features = ['month_1', 'month_2', 'month_3', 'month_4', 'month_5', 'month_6', 'month_7', 'month_8',\n",
    "             'month_9', 'month_10', 'month_11', 'month_12',\n",
    "             'weekday_0', 'weekday_1', 'weekday_2', 'weekday_3', 'weekday_4', 'weekday_5', 'weekday_6',\n",
    "             'hour_5', 'hour_6', 'hour_7', 'hour_8', 'hour_9', 'hour_10', 'hour_11', 'hour_12', 'hour_13',\n",
    "             'hour_14', 'hour_15', 'hour_16', 'hour_17',\n",
    "             'hour_18', 'hour_19', 'hour_20', 'hour_21', 'hour_22', 'hour_23',\n",
    "             'Temperature', 'Apparent_Temperature', 'Cloud_Cover', 'Wind_Speed', 'Humidity', 'Visibility']\n",
    "X = data[features]\n",
    "y = data[\"Class_Label\"]\n",
    "X_train, X_test, y_train, y_test = train_test_split(X, y, test_size=0.3, random_state=0, stratify=y)"
   ]
  },
  {
   "cell_type": "markdown",
   "metadata": {},
   "source": [
    "## 2. Modeling - Categorical Feature Set"
   ]
  },
  {
   "cell_type": "code",
   "execution_count": 47,
   "metadata": {
    "collapsed": false
   },
   "outputs": [],
   "source": [
    "def plot_feature_importances(model, plot_title):\n",
    "    n_features = X.shape[1]\n",
    "    plt.figure(figsize=(10,14))\n",
    "    feature_importance = model.feature_importances_\n",
    "    features_list = features\n",
    "    feature_importance, features_list = zip(*sorted(zip(feature_importance, features_list)))\n",
    "    plt.barh(range(len(features_list)), feature_importance, align='center')\n",
    "    plt.xticks(fontsize=14)\n",
    "    plt.yticks(np.arange(len(features_list)), features_list, fontsize=14)\n",
    "    plt.xlabel('Relative Importance', fontsize=16)\n",
    "    plt.ylabel('Feature', fontsize=16)\n",
    "    plt.title(plot_title + ' Features Importance', fontsize=20)\n",
    "    plt.show()"
   ]
  },
  {
   "cell_type": "code",
   "execution_count": 48,
   "metadata": {
    "collapsed": false
   },
   "outputs": [],
   "source": [
    "def get_class_metrics(model, actual, predicted):\n",
    "    class_metrics = {'Accuracy' : metrics.accuracy_score(actual, predicted),\n",
    "                         'F1 (macro)' : metrics.f1_score(actual, predicted, average='macro'),\n",
    "                         'F1 (micro)' : metrics.f1_score(actual, predicted, average='micro'),\n",
    "                         'Precision (macro)' : metrics.precision_score(actual, predicted,  average='macro'),\n",
    "                         'Precision (micro)' : metrics.precision_score(actual, predicted,  average='micro'),\n",
    "                         'Recall (macro)' : metrics.recall_score(actual, predicted,  average='macro'),\n",
    "                         'Recall (micro)' : metrics.recall_score(actual, predicted,  average='micro')}\n",
    "    dML_metrics = pd.DataFrame.from_dict(class_metrics, orient='index')\n",
    "    dML_metrics.columns = [model]\n",
    "    return dML_metrics"
   ]
  },
  {
   "cell_type": "code",
   "execution_count": 49,
   "metadata": {
    "collapsed": true
   },
   "outputs": [],
   "source": [
    "def perform_classification(model, clfr):   \n",
    " \n",
    "    clfr.fit(X_train, y_train)\n",
    "    ypred = clfr.predict(X_test)\n",
    "    got_metrics = get_class_metrics(model, y_test, ypred)\n",
    "    print(model,'\\n')\n",
    "    print(\"Accuracy on training set: {:.3f}\".format(clfr.score(X_train, y_train)))\n",
    "    print(\"Accuracy on test set: {:.3f}\".format(clfr.score(X_test, y_test)))\n",
    "    print('\\nConfusion Matrix:')\n",
    "    print(metrics.confusion_matrix(y_test, ypred))\n",
    "    print('\\nClassification Report:')\n",
    "    print(metrics.classification_report(y_test, ypred))\n",
    "    return got_metrics"
   ]
  },
  {
   "cell_type": "code",
   "execution_count": 50,
   "metadata": {
    "collapsed": false
   },
   "outputs": [],
   "source": [
    "from sklearn.model_selection import StratifiedShuffleSplit\n",
    "def perform_cross_validation(model, clfr):\n",
    "    shuffle_split = StratifiedShuffleSplit(test_size=.5, train_size=.5, n_splits=5)\n",
    "    scores = cross_val_score(clfr, X, y, cv=shuffle_split)\n",
    "    print(\"Cross-validation scores:\\n{}\".format(scores))\n",
    "    print(\"Cross-validation accuracy: %0.2f (+/- %0.2f)\" % (scores.mean(), scores.std() * 2) + \" @ 95% CI\")\n",
    "    #print(\"Cross-validation scores mean: {:.3f}\".format(scores.mean()))\n",
    "    xv_metrics = {'Cross Validation' : scores.mean()}\n",
    "    dXV_metrics = pd.DataFrame.from_dict(xv_metrics, orient='index')\n",
    "    dXV_metrics.columns = [model]\n",
    "    return dXV_metrics"
   ]
  },
  {
   "cell_type": "code",
   "execution_count": 51,
   "metadata": {
    "collapsed": true
   },
   "outputs": [],
   "source": [
    "def get_execution_time_metrics(model, et):\n",
    "    et_metrics = {'Execution Time (sec)' : et}\n",
    "    dET_metrics = pd.DataFrame.from_dict(et_metrics, orient='index')\n",
    "    dET_metrics.columns = [model]\n",
    "    return dET_metrics"
   ]
  },
  {
   "cell_type": "markdown",
   "metadata": {},
   "source": [
    "#### Decision Tree Classification"
   ]
  },
  {
   "cell_type": "code",
   "execution_count": 52,
   "metadata": {
    "collapsed": false
   },
   "outputs": [
    {
     "name": "stdout",
     "output_type": "stream",
     "text": [
      "Decision Tree Classification \n",
      "\n",
      "Accuracy on training set: 1.000\n",
      "Accuracy on test set: 0.730\n",
      "\n",
      "Confusion Matrix:\n",
      "[[880 124  15   0]\n",
      " [130 422  99  12]\n",
      " [  8  98 146  33]\n",
      " [  2   4  29  50]]\n",
      "\n",
      "Classification Report:\n",
      "             precision    recall  f1-score   support\n",
      "\n",
      "          0       0.86      0.86      0.86      1019\n",
      "          1       0.65      0.64      0.64       663\n",
      "          2       0.51      0.51      0.51       285\n",
      "          3       0.53      0.59      0.56        85\n",
      "\n",
      "avg / total       0.73      0.73      0.73      2052\n",
      "\n",
      "Cross-validation scores:\n",
      "[ 0.72222222  0.70994152  0.72105263  0.71666667  0.71461988]\n",
      "Cross-validation accuracy: 0.72 (+/- 0.01) @ 95% CI\n",
      "\n",
      "Execution Time (sec): 0.305\n"
     ]
    },
    {
     "data": {
      "image/png": "[encoded data removed]",
      "text/plain": [
       "<matplotlib.figure.Figure at 0x201f23137f0>"
      ]
     },
     "metadata": {},
     "output_type": "display_data"
    },
    {
     "data": {
      "text/html": [
       "<div>\n",
       "<table border=\"1\" class=\"dataframe\">\n",
       "  <thead>\n",
       "    <tr style=\"text-align: right;\">\n",
       "      <th></th>\n",
       "      <th>Decision Tree Classification</th>\n",
       "    </tr>\n",
       "  </thead>\n",
       "  <tbody>\n",
       "    <tr>\n",
       "      <th>Accuracy</th>\n",
       "      <td>0.730019</td>\n",
       "    </tr>\n",
       "    <tr>\n",
       "      <th>F1 (macro)</th>\n",
       "      <td>0.642804</td>\n",
       "    </tr>\n",
       "    <tr>\n",
       "      <th>F1 (micro)</th>\n",
       "      <td>0.730019</td>\n",
       "    </tr>\n",
       "    <tr>\n",
       "      <th>Precision (macro)</th>\n",
       "      <td>0.636371</td>\n",
       "    </tr>\n",
       "    <tr>\n",
       "      <th>Precision (micro)</th>\n",
       "      <td>0.730019</td>\n",
       "    </tr>\n",
       "    <tr>\n",
       "      <th>Recall (macro)</th>\n",
       "      <td>0.650152</td>\n",
       "    </tr>\n",
       "    <tr>\n",
       "      <th>Recall (micro)</th>\n",
       "      <td>0.730019</td>\n",
       "    </tr>\n",
       "  </tbody>\n",
       "</table>\n",
       "</div>"
      ],
      "text/plain": [
       "                   Decision Tree Classification\n",
       "Accuracy                               0.730019\n",
       "F1 (macro)                             0.642804\n",
       "F1 (micro)                             0.730019\n",
       "Precision (macro)                      0.636371\n",
       "Precision (micro)                      0.730019\n",
       "Recall (macro)                         0.650152\n",
       "Recall (micro)                         0.730019"
      ]
     },
     "execution_count": 52,
     "metadata": {},
     "output_type": "execute_result"
    }
   ],
   "source": [
    "# Decision Tree Classifier\n",
    "class_model = 'Decision Tree Classification'\n",
    "start = timer()\n",
    "clf = DecisionTreeClassifier(random_state=0)\n",
    "dtc = perform_classification(class_model, clf)\n",
    "dtc_xv = perform_cross_validation(class_model, clf)\n",
    "end = timer()\n",
    "et = end - start\n",
    "print(\"\\nExecution Time (sec): {:.3f}\".format(et))\n",
    "dtc_et = get_execution_time_metrics(class_model, et)\n",
    "plot_feature_importances(clf, class_model)\n",
    "dtc.sort_index()"
   ]
  },
  {
   "cell_type": "markdown",
   "metadata": {},
   "source": [
    "#### Linear (Logistic) Classification"
   ]
  },
  {
   "cell_type": "code",
   "execution_count": 53,
   "metadata": {
    "collapsed": false
   },
   "outputs": [
    {
     "name": "stdout",
     "output_type": "stream",
     "text": [
      "Logistic Classification \n",
      "\n",
      "Accuracy on training set: 0.731\n",
      "Accuracy on test set: 0.728\n",
      "\n",
      "Confusion Matrix:\n",
      "[[901  91  26   1]\n",
      " [156 479  20   8]\n",
      " [ 18 159  96  12]\n",
      " [  0  39  28  18]]\n",
      "\n",
      "Classification Report:\n",
      "             precision    recall  f1-score   support\n",
      "\n",
      "          0       0.84      0.88      0.86      1019\n",
      "          1       0.62      0.72      0.67       663\n",
      "          2       0.56      0.34      0.42       285\n",
      "          3       0.46      0.21      0.29        85\n",
      "\n",
      "avg / total       0.72      0.73      0.71      2052\n",
      "\n",
      "Cross-validation scores:\n",
      "[ 0.72602339  0.72660819  0.71929825  0.72368421  0.72222222]\n",
      "Cross-validation accuracy: 0.72 (+/- 0.01) @ 95% CI\n",
      "\n",
      "Execution Time (sec): 14.113\n"
     ]
    },
    {
     "data": {
      "text/html": [
       "<div>\n",
       "<table border=\"1\" class=\"dataframe\">\n",
       "  <thead>\n",
       "    <tr style=\"text-align: right;\">\n",
       "      <th></th>\n",
       "      <th>Logistic Classification</th>\n",
       "    </tr>\n",
       "  </thead>\n",
       "  <tbody>\n",
       "    <tr>\n",
       "      <th>Accuracy</th>\n",
       "      <td>0.728070</td>\n",
       "    </tr>\n",
       "    <tr>\n",
       "      <th>F1 (macro)</th>\n",
       "      <td>0.560579</td>\n",
       "    </tr>\n",
       "    <tr>\n",
       "      <th>F1 (micro)</th>\n",
       "      <td>0.728070</td>\n",
       "    </tr>\n",
       "    <tr>\n",
       "      <th>Precision (macro)</th>\n",
       "      <td>0.622020</td>\n",
       "    </tr>\n",
       "    <tr>\n",
       "      <th>Precision (micro)</th>\n",
       "      <td>0.728070</td>\n",
       "    </tr>\n",
       "    <tr>\n",
       "      <th>Recall (macro)</th>\n",
       "      <td>0.538820</td>\n",
       "    </tr>\n",
       "    <tr>\n",
       "      <th>Recall (micro)</th>\n",
       "      <td>0.728070</td>\n",
       "    </tr>\n",
       "  </tbody>\n",
       "</table>\n",
       "</div>"
      ],
      "text/plain": [
       "                   Logistic Classification\n",
       "Accuracy                          0.728070\n",
       "F1 (macro)                        0.560579\n",
       "F1 (micro)                        0.728070\n",
       "Precision (macro)                 0.622020\n",
       "Precision (micro)                 0.728070\n",
       "Recall (macro)                    0.538820\n",
       "Recall (micro)                    0.728070"
      ]
     },
     "execution_count": 53,
     "metadata": {},
     "output_type": "execute_result"
    }
   ],
   "source": [
    "# logistic regression\n",
    "class_model = 'Logistic Classification'\n",
    "start = timer()\n",
    "#clf = linear_model.LogisticRegression(random_state=0)\n",
    "clf = linear_model.LogisticRegression(C=1.0, solver='lbfgs', random_state=0, multi_class='ovr', n_jobs=-1)\n",
    "lin_reg = perform_classification(class_model, clf)\n",
    "lin_reg_xv = perform_cross_validation(class_model, clf)\n",
    "end = timer()\n",
    "et = end - start\n",
    "print(\"\\nExecution Time (sec): {:.3f}\".format((end - start)))\n",
    "lin_reg_et = get_execution_time_metrics(class_model, et)\n",
    "lin_reg.sort_index()"
   ]
  },
  {
   "cell_type": "markdown",
   "metadata": {},
   "source": [
    "#### Random Forest Classification"
   ]
  },
  {
   "cell_type": "code",
   "execution_count": 54,
   "metadata": {
    "collapsed": false
   },
   "outputs": [
    {
     "name": "stdout",
     "output_type": "stream",
     "text": [
      "Random Forest Classification \n",
      "\n",
      "Accuracy on training set: 1.000\n",
      "Accuracy on test set: 0.786\n",
      "\n",
      "Confusion Matrix:\n",
      "[[924  90   5   0]\n",
      " [111 514  35   3]\n",
      " [  9 117 140  19]\n",
      " [  2   9  39  35]]\n",
      "\n",
      "Classification Report:\n",
      "             precision    recall  f1-score   support\n",
      "\n",
      "          0       0.88      0.91      0.89      1019\n",
      "          1       0.70      0.78      0.74       663\n",
      "          2       0.64      0.49      0.56       285\n",
      "          3       0.61      0.41      0.49        85\n",
      "\n",
      "avg / total       0.78      0.79      0.78      2052\n",
      "\n",
      "Cross-validation scores:\n",
      "[ 0.77690058  0.78391813  0.78040936  0.78421053  0.7874269 ]\n",
      "Cross-validation accuracy: 0.78 (+/- 0.01) @ 95% CI\n",
      "\n",
      "Execution Time (sec): 3.769\n"
     ]
    },
    {
     "data": {
      "image/png": "[encoded data removed]",
      "text/plain": [
       "<matplotlib.figure.Figure at 0x201f74326a0>"
      ]
     },
     "metadata": {},
     "output_type": "display_data"
    },
    {
     "data": {
      "text/html": [
       "<div>\n",
       "<table border=\"1\" class=\"dataframe\">\n",
       "  <thead>\n",
       "    <tr style=\"text-align: right;\">\n",
       "      <th></th>\n",
       "      <th>Random Forest Classification</th>\n",
       "    </tr>\n",
       "  </thead>\n",
       "  <tbody>\n",
       "    <tr>\n",
       "      <th>Accuracy</th>\n",
       "      <td>0.786062</td>\n",
       "    </tr>\n",
       "    <tr>\n",
       "      <th>F1 (macro)</th>\n",
       "      <td>0.670351</td>\n",
       "    </tr>\n",
       "    <tr>\n",
       "      <th>F1 (micro)</th>\n",
       "      <td>0.786062</td>\n",
       "    </tr>\n",
       "    <tr>\n",
       "      <th>Precision (macro)</th>\n",
       "      <td>0.710195</td>\n",
       "    </tr>\n",
       "    <tr>\n",
       "      <th>Precision (micro)</th>\n",
       "      <td>0.786062</td>\n",
       "    </tr>\n",
       "    <tr>\n",
       "      <th>Recall (macro)</th>\n",
       "      <td>0.646257</td>\n",
       "    </tr>\n",
       "    <tr>\n",
       "      <th>Recall (micro)</th>\n",
       "      <td>0.786062</td>\n",
       "    </tr>\n",
       "  </tbody>\n",
       "</table>\n",
       "</div>"
      ],
      "text/plain": [
       "                   Random Forest Classification\n",
       "Accuracy                               0.786062\n",
       "F1 (macro)                             0.670351\n",
       "F1 (micro)                             0.786062\n",
       "Precision (macro)                      0.710195\n",
       "Precision (micro)                      0.786062\n",
       "Recall (macro)                         0.646257\n",
       "Recall (micro)                         0.786062"
      ]
     },
     "execution_count": 54,
     "metadata": {},
     "output_type": "execute_result"
    }
   ],
   "source": [
    "# Random Forest Classifier\n",
    "class_model = 'Random Forest Classification'\n",
    "start = timer() \n",
    "clf = RandomForestClassifier(n_estimators=150, max_features='auto', max_depth=None, random_state=0, n_jobs=-1)\n",
    "rfc = perform_classification(class_model, clf)\n",
    "rfc_xv = perform_cross_validation(class_model, clf)\n",
    "end = timer()\n",
    "et = end - start\n",
    "print(\"\\nExecution Time (sec): {:.3f}\".format((end - start)))\n",
    "rfc_et = get_execution_time_metrics(class_model, et)\n",
    "plot_feature_importances(clf, class_model)\n",
    "rfc.sort_index()"
   ]
  },
  {
   "cell_type": "markdown",
   "metadata": {},
   "source": [
    "#### Extra Trees Classification"
   ]
  },
  {
   "cell_type": "code",
   "execution_count": 55,
   "metadata": {
    "collapsed": false
   },
   "outputs": [
    {
     "name": "stdout",
     "output_type": "stream",
     "text": [
      "Extra Trees Classification \n",
      "\n",
      "Accuracy on training set: 1.000\n",
      "Accuracy on test set: 0.806\n",
      "\n",
      "Confusion Matrix:\n",
      "[[933  83   3   0]\n",
      " [ 83 523  54   3]\n",
      " [  5  96 152  32]\n",
      " [  0   3  36  46]]\n",
      "\n",
      "Classification Report:\n",
      "             precision    recall  f1-score   support\n",
      "\n",
      "          0       0.91      0.92      0.91      1019\n",
      "          1       0.74      0.79      0.76       663\n",
      "          2       0.62      0.53      0.57       285\n",
      "          3       0.57      0.54      0.55        85\n",
      "\n",
      "avg / total       0.80      0.81      0.80      2052\n",
      "\n",
      "Cross-validation scores:\n",
      "[ 0.80614035  0.79298246  0.80643275  0.79795322  0.79853801]\n",
      "Cross-validation accuracy: 0.80 (+/- 0.01) @ 95% CI\n",
      "\n",
      "Execution Time (sec): 3.374\n"
     ]
    },
    {
     "data": {
      "image/png": "[encoded data removed]",
      "text/plain": [
       "<matplotlib.figure.Figure at 0x201f6b85b00>"
      ]
     },
     "metadata": {},
     "output_type": "display_data"
    },
    {
     "data": {
      "text/html": [
       "<div>\n",
       "<table border=\"1\" class=\"dataframe\">\n",
       "  <thead>\n",
       "    <tr style=\"text-align: right;\">\n",
       "      <th></th>\n",
       "      <th>Extra Trees Classification</th>\n",
       "    </tr>\n",
       "  </thead>\n",
       "  <tbody>\n",
       "    <tr>\n",
       "      <th>Accuracy</th>\n",
       "      <td>0.806043</td>\n",
       "    </tr>\n",
       "    <tr>\n",
       "      <th>F1 (macro)</th>\n",
       "      <td>0.701782</td>\n",
       "    </tr>\n",
       "    <tr>\n",
       "      <th>F1 (micro)</th>\n",
       "      <td>0.806043</td>\n",
       "    </tr>\n",
       "    <tr>\n",
       "      <th>Precision (macro)</th>\n",
       "      <td>0.710991</td>\n",
       "    </tr>\n",
       "    <tr>\n",
       "      <th>Precision (micro)</th>\n",
       "      <td>0.806043</td>\n",
       "    </tr>\n",
       "    <tr>\n",
       "      <th>Recall (macro)</th>\n",
       "      <td>0.694738</td>\n",
       "    </tr>\n",
       "    <tr>\n",
       "      <th>Recall (micro)</th>\n",
       "      <td>0.806043</td>\n",
       "    </tr>\n",
       "  </tbody>\n",
       "</table>\n",
       "</div>"
      ],
      "text/plain": [
       "                   Extra Trees Classification\n",
       "Accuracy                             0.806043\n",
       "F1 (macro)                           0.701782\n",
       "F1 (micro)                           0.806043\n",
       "Precision (macro)                    0.710991\n",
       "Precision (micro)                    0.806043\n",
       "Recall (macro)                       0.694738\n",
       "Recall (micro)                       0.806043"
      ]
     },
     "execution_count": 55,
     "metadata": {},
     "output_type": "execute_result"
    }
   ],
   "source": [
    "# Extra Trees Classifier\n",
    "class_model = 'Extra Trees Classification'\n",
    "start = timer() \n",
    "clf = ExtraTreesClassifier(n_estimators=150, max_features='auto', max_depth=None, random_state=0, n_jobs=-1)\n",
    "etc = perform_classification(class_model, clf)\n",
    "etc_xv = perform_cross_validation(class_model, clf)\n",
    "end = timer()\n",
    "et = end - start\n",
    "print(\"\\nExecution Time (sec): {:.3f}\".format((end - start)))\n",
    "etc_et = get_execution_time_metrics(class_model, et)\n",
    "plot_feature_importances(clf, 'Random Forest Classification')\n",
    "etc.sort_index()"
   ]
  },
  {
   "cell_type": "markdown",
   "metadata": {},
   "source": [
    "#### Naive Bayes Classification"
   ]
  },
  {
   "cell_type": "code",
   "execution_count": 56,
   "metadata": {
    "collapsed": false
   },
   "outputs": [
    {
     "name": "stdout",
     "output_type": "stream",
     "text": [
      "Naive Bayes Classification \n",
      "\n",
      "Accuracy on training set: 0.456\n",
      "Accuracy on test set: 0.457\n",
      "\n",
      "Confusion Matrix:\n",
      "[[547 330  45  97]\n",
      " [ 18 271  67 307]\n",
      " [  2  18  36 229]\n",
      " [  1   0   0  84]]\n",
      "\n",
      "Classification Report:\n",
      "             precision    recall  f1-score   support\n",
      "\n",
      "          0       0.96      0.54      0.69      1019\n",
      "          1       0.44      0.41      0.42       663\n",
      "          2       0.24      0.13      0.17       285\n",
      "          3       0.12      0.99      0.21        85\n",
      "\n",
      "avg / total       0.66      0.46      0.51      2052\n",
      "\n",
      "Cross-validation scores:\n",
      "[ 0.46374269  0.44035088  0.4371345   0.46374269  0.44298246]\n",
      "Cross-validation accuracy: 0.45 (+/- 0.02) @ 95% CI\n",
      "\n",
      "Execution Time (sec): 0.182\n"
     ]
    },
    {
     "data": {
      "text/html": [
       "<div>\n",
       "<table border=\"1\" class=\"dataframe\">\n",
       "  <thead>\n",
       "    <tr style=\"text-align: right;\">\n",
       "      <th></th>\n",
       "      <th>Naive Bayes Classification</th>\n",
       "    </tr>\n",
       "  </thead>\n",
       "  <tbody>\n",
       "    <tr>\n",
       "      <th>Accuracy</th>\n",
       "      <td>0.457115</td>\n",
       "    </tr>\n",
       "    <tr>\n",
       "      <th>F1 (macro)</th>\n",
       "      <td>0.371971</td>\n",
       "    </tr>\n",
       "    <tr>\n",
       "      <th>F1 (micro)</th>\n",
       "      <td>0.457115</td>\n",
       "    </tr>\n",
       "    <tr>\n",
       "      <th>Precision (macro)</th>\n",
       "      <td>0.440307</td>\n",
       "    </tr>\n",
       "    <tr>\n",
       "      <th>Precision (micro)</th>\n",
       "      <td>0.457115</td>\n",
       "    </tr>\n",
       "    <tr>\n",
       "      <th>Recall (macro)</th>\n",
       "      <td>0.515025</td>\n",
       "    </tr>\n",
       "    <tr>\n",
       "      <th>Recall (micro)</th>\n",
       "      <td>0.457115</td>\n",
       "    </tr>\n",
       "  </tbody>\n",
       "</table>\n",
       "</div>"
      ],
      "text/plain": [
       "                   Naive Bayes Classification\n",
       "Accuracy                             0.457115\n",
       "F1 (macro)                           0.371971\n",
       "F1 (micro)                           0.457115\n",
       "Precision (macro)                    0.440307\n",
       "Precision (micro)                    0.457115\n",
       "Recall (macro)                       0.515025\n",
       "Recall (micro)                       0.457115"
      ]
     },
     "execution_count": 56,
     "metadata": {},
     "output_type": "execute_result"
    }
   ],
   "source": [
    "# Naive Bayes Classifier\n",
    "class_model = 'Naive Bayes Classification'\n",
    "start = timer()\n",
    "clf = naive_bayes.GaussianNB()\n",
    "nbg = perform_classification(class_model, clf)\n",
    "nbg_xv = perform_cross_validation(class_model, clf)\n",
    "end = timer()\n",
    "et = end - start\n",
    "print(\"\\nExecution Time (sec): {:.3f}\".format((end - start)))\n",
    "nbg_et = get_execution_time_metrics(class_model, et)\n",
    "nbg.sort_index()"
   ]
  },
  {
   "cell_type": "markdown",
   "metadata": {},
   "source": [
    "#### Nearest Neighbors Classification"
   ]
  },
  {
   "cell_type": "code",
   "execution_count": 57,
   "metadata": {
    "collapsed": false
   },
   "outputs": [
    {
     "name": "stdout",
     "output_type": "stream",
     "text": [
      "Nearest Neighbors Classification \n",
      "\n",
      "Accuracy on training set: 0.798\n",
      "Accuracy on test set: 0.640\n",
      "\n",
      "Confusion Matrix:\n",
      "[[915  97   7   0]\n",
      " [274 337  50   2]\n",
      " [ 70 153  58   4]\n",
      " [ 16  36  30   3]]\n",
      "\n",
      "Classification Report:\n",
      "             precision    recall  f1-score   support\n",
      "\n",
      "          0       0.72      0.90      0.80      1019\n",
      "          1       0.54      0.51      0.52       663\n",
      "          2       0.40      0.20      0.27       285\n",
      "          3       0.33      0.04      0.06        85\n",
      "\n",
      "avg / total       0.60      0.64      0.61      2052\n",
      "\n",
      "Cross-validation scores:\n",
      "[ 0.62076023  0.62777778  0.62719298  0.62280702  0.62602339]\n",
      "Cross-validation accuracy: 0.62 (+/- 0.01) @ 95% CI\n",
      "\n",
      "Execution Time (sec): 0.977\n"
     ]
    },
    {
     "data": {
      "text/html": [
       "<div>\n",
       "<table border=\"1\" class=\"dataframe\">\n",
       "  <thead>\n",
       "    <tr style=\"text-align: right;\">\n",
       "      <th></th>\n",
       "      <th>Nearest Neighbors Classification</th>\n",
       "    </tr>\n",
       "  </thead>\n",
       "  <tbody>\n",
       "    <tr>\n",
       "      <th>Accuracy</th>\n",
       "      <td>0.639864</td>\n",
       "    </tr>\n",
       "    <tr>\n",
       "      <th>F1 (macro)</th>\n",
       "      <td>0.413859</td>\n",
       "    </tr>\n",
       "    <tr>\n",
       "      <th>F1 (micro)</th>\n",
       "      <td>0.639864</td>\n",
       "    </tr>\n",
       "    <tr>\n",
       "      <th>Precision (macro)</th>\n",
       "      <td>0.497978</td>\n",
       "    </tr>\n",
       "    <tr>\n",
       "      <th>Precision (micro)</th>\n",
       "      <td>0.639864</td>\n",
       "    </tr>\n",
       "    <tr>\n",
       "      <th>Recall (macro)</th>\n",
       "      <td>0.411259</td>\n",
       "    </tr>\n",
       "    <tr>\n",
       "      <th>Recall (micro)</th>\n",
       "      <td>0.639864</td>\n",
       "    </tr>\n",
       "  </tbody>\n",
       "</table>\n",
       "</div>"
      ],
      "text/plain": [
       "                   Nearest Neighbors Classification\n",
       "Accuracy                                   0.639864\n",
       "F1 (macro)                                 0.413859\n",
       "F1 (micro)                                 0.639864\n",
       "Precision (macro)                          0.497978\n",
       "Precision (micro)                          0.639864\n",
       "Recall (macro)                             0.411259\n",
       "Recall (micro)                             0.639864"
      ]
     },
     "execution_count": 57,
     "metadata": {},
     "output_type": "execute_result"
    }
   ],
   "source": [
    "# Nearest Neighbors Classifier\n",
    "class_model = 'Nearest Neighbors Classification'\n",
    "start = timer()\n",
    "clf = KNeighborsClassifier(n_neighbors=2, n_jobs=-1)\n",
    "knn = perform_classification(class_model, clf)\n",
    "knn_xv = perform_cross_validation(class_model, clf)\n",
    "end = timer()\n",
    "et = end - start\n",
    "print(\"\\nExecution Time (sec): {:.3f}\".format((end - start)))\n",
    "knn_et = get_execution_time_metrics(class_model, et)\n",
    "knn.sort_index()"
   ]
  },
  {
   "cell_type": "markdown",
   "metadata": {},
   "source": [
    "#### Gradient Boosting Classification"
   ]
  },
  {
   "cell_type": "code",
   "execution_count": 58,
   "metadata": {
    "collapsed": false
   },
   "outputs": [
    {
     "name": "stdout",
     "output_type": "stream",
     "text": [
      "Gradient Boosting Classification \n",
      "\n",
      "Accuracy on training set: 1.000\n",
      "Accuracy on test set: 0.756\n",
      "\n",
      "Confusion Matrix:\n",
      "[[901 113   5   0]\n",
      " [116 480  63   4]\n",
      " [ 20 114 133  18]\n",
      " [  2   7  38  38]]\n",
      "\n",
      "Classification Report:\n",
      "             precision    recall  f1-score   support\n",
      "\n",
      "          0       0.87      0.88      0.88      1019\n",
      "          1       0.67      0.72      0.70       663\n",
      "          2       0.56      0.47      0.51       285\n",
      "          3       0.63      0.45      0.52        85\n",
      "\n",
      "avg / total       0.75      0.76      0.75      2052\n",
      "\n",
      "Cross-validation scores:\n",
      "[ 0.76081871  0.74385965  0.73391813  0.75263158  0.74649123]\n",
      "Cross-validation accuracy: 0.75 (+/- 0.02) @ 95% CI\n",
      "\n",
      "Execution Time (sec): 109.658\n"
     ]
    },
    {
     "data": {
      "image/png": "[encoded data removed]",
      "text/plain": [
       "<matplotlib.figure.Figure at 0x201fc3b65f8>"
      ]
     },
     "metadata": {},
     "output_type": "display_data"
    },
    {
     "data": {
      "text/html": [
       "<div>\n",
       "<table border=\"1\" class=\"dataframe\">\n",
       "  <thead>\n",
       "    <tr style=\"text-align: right;\">\n",
       "      <th></th>\n",
       "      <th>Gradient Boosting Classification</th>\n",
       "    </tr>\n",
       "  </thead>\n",
       "  <tbody>\n",
       "    <tr>\n",
       "      <th>Accuracy</th>\n",
       "      <td>0.756335</td>\n",
       "    </tr>\n",
       "    <tr>\n",
       "      <th>F1 (macro)</th>\n",
       "      <td>0.651137</td>\n",
       "    </tr>\n",
       "    <tr>\n",
       "      <th>F1 (micro)</th>\n",
       "      <td>0.756335</td>\n",
       "    </tr>\n",
       "    <tr>\n",
       "      <th>Precision (macro)</th>\n",
       "      <td>0.682317</td>\n",
       "    </tr>\n",
       "    <tr>\n",
       "      <th>Precision (micro)</th>\n",
       "      <td>0.756335</td>\n",
       "    </tr>\n",
       "    <tr>\n",
       "      <th>Recall (macro)</th>\n",
       "      <td>0.630477</td>\n",
       "    </tr>\n",
       "    <tr>\n",
       "      <th>Recall (micro)</th>\n",
       "      <td>0.756335</td>\n",
       "    </tr>\n",
       "  </tbody>\n",
       "</table>\n",
       "</div>"
      ],
      "text/plain": [
       "                   Gradient Boosting Classification\n",
       "Accuracy                                   0.756335\n",
       "F1 (macro)                                 0.651137\n",
       "F1 (micro)                                 0.756335\n",
       "Precision (macro)                          0.682317\n",
       "Precision (micro)                          0.756335\n",
       "Recall (macro)                             0.630477\n",
       "Recall (micro)                             0.756335"
      ]
     },
     "execution_count": 58,
     "metadata": {},
     "output_type": "execute_result"
    }
   ],
   "source": [
    "# Gradient Boosting Classifier\n",
    "class_model = 'Gradient Boosting Classification'\n",
    "#clf = GradientBoostingClassifier()\n",
    "start = timer()\n",
    "clf = GradientBoostingClassifier(n_estimators=150, max_features='auto', max_depth=None, random_state=0)\n",
    "gbc = perform_classification(class_model, clf)\n",
    "gbc_xv = perform_cross_validation(class_model, clf)\n",
    "end = timer()\n",
    "et = end - start\n",
    "print(\"\\nExecution Time (sec): {:.3f}\".format((end - start)))\n",
    "gbc_et = get_execution_time_metrics(class_model, et)\n",
    "plot_feature_importances(clf, class_model)\n",
    "gbc.sort_index()"
   ]
  },
  {
   "cell_type": "markdown",
   "metadata": {},
   "source": [
    "#### Multi-layer Perceptron Classification"
   ]
  },
  {
   "cell_type": "code",
   "execution_count": 59,
   "metadata": {
    "collapsed": false
   },
   "outputs": [
    {
     "name": "stdout",
     "output_type": "stream",
     "text": [
      "Multi-Layer Perception Classification \n",
      "\n",
      "Accuracy on training set: 0.804\n",
      "Accuracy on test set: 0.791\n",
      "\n",
      "Confusion Matrix:\n",
      "[[917  96   4   2]\n",
      " [ 78 535  44   6]\n",
      " [  2 118 154  11]\n",
      " [  0  11  56  18]]\n",
      "\n",
      "Classification Report:\n",
      "             precision    recall  f1-score   support\n",
      "\n",
      "          0       0.92      0.90      0.91      1019\n",
      "          1       0.70      0.81      0.75       663\n",
      "          2       0.60      0.54      0.57       285\n",
      "          3       0.49      0.21      0.30        85\n",
      "\n",
      "avg / total       0.79      0.79      0.79      2052\n",
      "\n",
      "Cross-validation scores:\n",
      "[ 0.75877193  0.75789474  0.74327485  0.77397661  0.72836257]\n",
      "Cross-validation accuracy: 0.75 (+/- 0.03) @ 95% CI\n",
      "\n",
      "Execution Time (sec): 8.583\n"
     ]
    },
    {
     "data": {
      "text/html": [
       "<div>\n",
       "<table border=\"1\" class=\"dataframe\">\n",
       "  <thead>\n",
       "    <tr style=\"text-align: right;\">\n",
       "      <th></th>\n",
       "      <th>Multi-Layer Perception Classification</th>\n",
       "    </tr>\n",
       "  </thead>\n",
       "  <tbody>\n",
       "    <tr>\n",
       "      <th>Accuracy</th>\n",
       "      <td>0.791423</td>\n",
       "    </tr>\n",
       "    <tr>\n",
       "      <th>F1 (macro)</th>\n",
       "      <td>0.630989</td>\n",
       "    </tr>\n",
       "    <tr>\n",
       "      <th>F1 (micro)</th>\n",
       "      <td>0.791423</td>\n",
       "    </tr>\n",
       "    <tr>\n",
       "      <th>Precision (macro)</th>\n",
       "      <td>0.676773</td>\n",
       "    </tr>\n",
       "    <tr>\n",
       "      <th>Precision (micro)</th>\n",
       "      <td>0.791423</td>\n",
       "    </tr>\n",
       "    <tr>\n",
       "      <th>Recall (macro)</th>\n",
       "      <td>0.614739</td>\n",
       "    </tr>\n",
       "    <tr>\n",
       "      <th>Recall (micro)</th>\n",
       "      <td>0.791423</td>\n",
       "    </tr>\n",
       "  </tbody>\n",
       "</table>\n",
       "</div>"
      ],
      "text/plain": [
       "                   Multi-Layer Perception Classification\n",
       "Accuracy                                        0.791423\n",
       "F1 (macro)                                      0.630989\n",
       "F1 (micro)                                      0.791423\n",
       "Precision (macro)                               0.676773\n",
       "Precision (micro)                               0.791423\n",
       "Recall (macro)                                  0.614739\n",
       "Recall (micro)                                  0.791423"
      ]
     },
     "execution_count": 59,
     "metadata": {},
     "output_type": "execute_result"
    }
   ],
   "source": [
    "# Multi-Layer Perceptron Classification\n",
    "class_model = 'Multi-Layer Perception Classification'\n",
    "start = timer()\n",
    "clf = MLPClassifier(random_state=0)\n",
    "mlp = perform_classification(class_model, clf)\n",
    "mlp_xv = perform_cross_validation(class_model, clf)\n",
    "end = timer()\n",
    "et = end - start\n",
    "print(\"\\nExecution Time (sec): {:.3f}\".format((end - start)))\n",
    "mlp_et = get_execution_time_metrics(class_model, et)\n",
    "mlp.sort_index()"
   ]
  },
  {
   "cell_type": "markdown",
   "metadata": {},
   "source": [
    "## Classification Summary with Categorical Feature Set"
   ]
  },
  {
   "cell_type": "code",
   "execution_count": 60,
   "metadata": {
    "collapsed": false,
    "scrolled": true
   },
   "outputs": [],
   "source": [
    "class_metrics = pd.concat([lin_reg, dtc, rfc, etc, nbg, knn, gbc, mlp] , axis=1)"
   ]
  },
  {
   "cell_type": "code",
   "execution_count": 61,
   "metadata": {
    "collapsed": false
   },
   "outputs": [],
   "source": [
    "xv_metrics = pd.concat([lin_reg_xv, dtc_xv, rfc_xv, etc_xv, nbg_xv, knn_xv, gbc_xv, mlp_xv], axis = 1)"
   ]
  },
  {
   "cell_type": "code",
   "execution_count": 62,
   "metadata": {
    "collapsed": false
   },
   "outputs": [],
   "source": [
    "et_metrics = pd.concat([lin_reg_et, dtc_et, rfc_et, etc_et, nbg_et, knn_et, gbc_et, mlp_et], axis = 1)"
   ]
  },
  {
   "cell_type": "code",
   "execution_count": 63,
   "metadata": {
    "collapsed": false
   },
   "outputs": [
    {
     "name": "stdout",
     "output_type": "stream",
     "text": [
      "Classification Summary with Categorical Features\n",
      "\n"
     ]
    },
    {
     "data": {
      "text/html": [
       "<div>\n",
       "<table border=\"1\" class=\"dataframe\">\n",
       "  <thead>\n",
       "    <tr style=\"text-align: right;\">\n",
       "      <th></th>\n",
       "      <th>Logistic Classification</th>\n",
       "      <th>Decision Tree Classification</th>\n",
       "      <th>Random Forest Classification</th>\n",
       "      <th>Extra Trees Classification</th>\n",
       "      <th>Naive Bayes Classification</th>\n",
       "      <th>Nearest Neighbors Classification</th>\n",
       "      <th>Gradient Boosting Classification</th>\n",
       "      <th>Multi-Layer Perception Classification</th>\n",
       "    </tr>\n",
       "  </thead>\n",
       "  <tbody>\n",
       "    <tr>\n",
       "      <th>Accuracy</th>\n",
       "      <td>0.728070</td>\n",
       "      <td>0.730019</td>\n",
       "      <td>0.786062</td>\n",
       "      <td>0.806043</td>\n",
       "      <td>0.457115</td>\n",
       "      <td>0.639864</td>\n",
       "      <td>0.756335</td>\n",
       "      <td>0.791423</td>\n",
       "    </tr>\n",
       "    <tr>\n",
       "      <th>F1 (macro)</th>\n",
       "      <td>0.560579</td>\n",
       "      <td>0.642804</td>\n",
       "      <td>0.670351</td>\n",
       "      <td>0.701782</td>\n",
       "      <td>0.371971</td>\n",
       "      <td>0.413859</td>\n",
       "      <td>0.651137</td>\n",
       "      <td>0.630989</td>\n",
       "    </tr>\n",
       "    <tr>\n",
       "      <th>F1 (micro)</th>\n",
       "      <td>0.728070</td>\n",
       "      <td>0.730019</td>\n",
       "      <td>0.786062</td>\n",
       "      <td>0.806043</td>\n",
       "      <td>0.457115</td>\n",
       "      <td>0.639864</td>\n",
       "      <td>0.756335</td>\n",
       "      <td>0.791423</td>\n",
       "    </tr>\n",
       "    <tr>\n",
       "      <th>Precision (macro)</th>\n",
       "      <td>0.622020</td>\n",
       "      <td>0.636371</td>\n",
       "      <td>0.710195</td>\n",
       "      <td>0.710991</td>\n",
       "      <td>0.440307</td>\n",
       "      <td>0.497978</td>\n",
       "      <td>0.682317</td>\n",
       "      <td>0.676773</td>\n",
       "    </tr>\n",
       "    <tr>\n",
       "      <th>Precision (micro)</th>\n",
       "      <td>0.728070</td>\n",
       "      <td>0.730019</td>\n",
       "      <td>0.786062</td>\n",
       "      <td>0.806043</td>\n",
       "      <td>0.457115</td>\n",
       "      <td>0.639864</td>\n",
       "      <td>0.756335</td>\n",
       "      <td>0.791423</td>\n",
       "    </tr>\n",
       "    <tr>\n",
       "      <th>Recall (macro)</th>\n",
       "      <td>0.538820</td>\n",
       "      <td>0.650152</td>\n",
       "      <td>0.646257</td>\n",
       "      <td>0.694738</td>\n",
       "      <td>0.515025</td>\n",
       "      <td>0.411259</td>\n",
       "      <td>0.630477</td>\n",
       "      <td>0.614739</td>\n",
       "    </tr>\n",
       "    <tr>\n",
       "      <th>Recall (micro)</th>\n",
       "      <td>0.728070</td>\n",
       "      <td>0.730019</td>\n",
       "      <td>0.786062</td>\n",
       "      <td>0.806043</td>\n",
       "      <td>0.457115</td>\n",
       "      <td>0.639864</td>\n",
       "      <td>0.756335</td>\n",
       "      <td>0.791423</td>\n",
       "    </tr>\n",
       "    <tr>\n",
       "      <th>Cross Validation</th>\n",
       "      <td>0.723567</td>\n",
       "      <td>0.716901</td>\n",
       "      <td>0.782573</td>\n",
       "      <td>0.800409</td>\n",
       "      <td>0.449591</td>\n",
       "      <td>0.624912</td>\n",
       "      <td>0.747544</td>\n",
       "      <td>0.752456</td>\n",
       "    </tr>\n",
       "    <tr>\n",
       "      <th>Execution Time (sec)</th>\n",
       "      <td>14.112561</td>\n",
       "      <td>0.305439</td>\n",
       "      <td>3.768788</td>\n",
       "      <td>3.373617</td>\n",
       "      <td>0.181900</td>\n",
       "      <td>0.976621</td>\n",
       "      <td>109.657515</td>\n",
       "      <td>8.583196</td>\n",
       "    </tr>\n",
       "  </tbody>\n",
       "</table>\n",
       "</div>"
      ],
      "text/plain": [
       "                      Logistic Classification  Decision Tree Classification  \\\n",
       "Accuracy                             0.728070                      0.730019   \n",
       "F1 (macro)                           0.560579                      0.642804   \n",
       "F1 (micro)                           0.728070                      0.730019   \n",
       "Precision (macro)                    0.622020                      0.636371   \n",
       "Precision (micro)                    0.728070                      0.730019   \n",
       "Recall (macro)                       0.538820                      0.650152   \n",
       "Recall (micro)                       0.728070                      0.730019   \n",
       "Cross Validation                     0.723567                      0.716901   \n",
       "Execution Time (sec)                14.112561                      0.305439   \n",
       "\n",
       "                      Random Forest Classification  \\\n",
       "Accuracy                                  0.786062   \n",
       "F1 (macro)                                0.670351   \n",
       "F1 (micro)                                0.786062   \n",
       "Precision (macro)                         0.710195   \n",
       "Precision (micro)                         0.786062   \n",
       "Recall (macro)                            0.646257   \n",
       "Recall (micro)                            0.786062   \n",
       "Cross Validation                          0.782573   \n",
       "Execution Time (sec)                      3.768788   \n",
       "\n",
       "                      Extra Trees Classification  Naive Bayes Classification  \\\n",
       "Accuracy                                0.806043                    0.457115   \n",
       "F1 (macro)                              0.701782                    0.371971   \n",
       "F1 (micro)                              0.806043                    0.457115   \n",
       "Precision (macro)                       0.710991                    0.440307   \n",
       "Precision (micro)                       0.806043                    0.457115   \n",
       "Recall (macro)                          0.694738                    0.515025   \n",
       "Recall (micro)                          0.806043                    0.457115   \n",
       "Cross Validation                        0.800409                    0.449591   \n",
       "Execution Time (sec)                    3.373617                    0.181900   \n",
       "\n",
       "                      Nearest Neighbors Classification  \\\n",
       "Accuracy                                      0.639864   \n",
       "F1 (macro)                                    0.413859   \n",
       "F1 (micro)                                    0.639864   \n",
       "Precision (macro)                             0.497978   \n",
       "Precision (micro)                             0.639864   \n",
       "Recall (macro)                                0.411259   \n",
       "Recall (micro)                                0.639864   \n",
       "Cross Validation                              0.624912   \n",
       "Execution Time (sec)                          0.976621   \n",
       "\n",
       "                      Gradient Boosting Classification  \\\n",
       "Accuracy                                      0.756335   \n",
       "F1 (macro)                                    0.651137   \n",
       "F1 (micro)                                    0.756335   \n",
       "Precision (macro)                             0.682317   \n",
       "Precision (micro)                             0.756335   \n",
       "Recall (macro)                                0.630477   \n",
       "Recall (micro)                                0.756335   \n",
       "Cross Validation                              0.747544   \n",
       "Execution Time (sec)                        109.657515   \n",
       "\n",
       "                      Multi-Layer Perception Classification  \n",
       "Accuracy                                           0.791423  \n",
       "F1 (macro)                                         0.630989  \n",
       "F1 (micro)                                         0.791423  \n",
       "Precision (macro)                                  0.676773  \n",
       "Precision (micro)                                  0.791423  \n",
       "Recall (macro)                                     0.614739  \n",
       "Recall (micro)                                     0.791423  \n",
       "Cross Validation                                   0.752456  \n",
       "Execution Time (sec)                               8.583196  "
      ]
     },
     "execution_count": 63,
     "metadata": {},
     "output_type": "execute_result"
    }
   ],
   "source": [
    "final_metrics = pd.concat([class_metrics, xv_metrics, et_metrics])\n",
    "print(\"Classification Summary with Categorical Features\\n\")\n",
    "final_metrics"
   ]
  },
  {
   "cell_type": "markdown",
   "metadata": {},
   "source": [
    "The Extra Trees model attained the highest accuracy in classifying the four classes. The Naïve Bayes model performed the poorest."
   ]
  },
  {
   "cell_type": "markdown",
   "metadata": {},
   "source": [
    "## 3. Modeling - Numerical Feature Set"
   ]
  },
  {
   "cell_type": "code",
   "execution_count": 64,
   "metadata": {
    "collapsed": true
   },
   "outputs": [],
   "source": [
    "data = data[['Checkout_Month', 'Checkout_WeekDay', 'Checkout_Hour', 'Temperature', \n",
    "           'Apparent_Temperature', 'Cloud_Cover', 'Wind_Speed', 'Humidity', 'Visibility', 'Class_Label']]"
   ]
  },
  {
   "cell_type": "code",
   "execution_count": 65,
   "metadata": {
    "collapsed": false
   },
   "outputs": [
    {
     "data": {
      "image/png": "[encoded data removed]",
      "text/plain": [
       "<matplotlib.figure.Figure at 0x201f8fa9208>"
      ]
     },
     "metadata": {},
     "output_type": "display_data"
    }
   ],
   "source": [
    "plt.figure(figsize=(12,8))\n",
    "ax = sns.heatmap(data.corr())\n",
    "plt.title(\"Feature Correlations\", fontsize=18)\n",
    "plt.xticks(fontsize=14)\n",
    "plt.yticks(fontsize=14)\n",
    "plt.show()"
   ]
  },
  {
   "cell_type": "code",
   "execution_count": 66,
   "metadata": {
    "collapsed": false
   },
   "outputs": [
    {
     "name": "stdout",
     "output_type": "stream",
     "text": [
      "<class 'pandas.core.frame.DataFrame'>\n",
      "Int64Index: 6839 entries, 8 to 8783\n",
      "Data columns (total 10 columns):\n",
      "Checkout_Month          6839 non-null int32\n",
      "Checkout_WeekDay        6839 non-null int32\n",
      "Checkout_Hour           6839 non-null int64\n",
      "Temperature             6839 non-null float64\n",
      "Apparent_Temperature    6839 non-null float64\n",
      "Cloud_Cover             6839 non-null float64\n",
      "Wind_Speed              6839 non-null float64\n",
      "Humidity                6839 non-null float64\n",
      "Visibility              6839 non-null float64\n",
      "Class_Label             6839 non-null int64\n",
      "dtypes: float64(6), int32(2), int64(2)\n",
      "memory usage: 534.3 KB\n"
     ]
    }
   ],
   "source": [
    "data.info()"
   ]
  },
  {
   "cell_type": "code",
   "execution_count": 67,
   "metadata": {
    "collapsed": false
   },
   "outputs": [],
   "source": [
    "array = data.values\n",
    "X = array[:,0:8]\n",
    "y = array[:,8]"
   ]
  },
  {
   "cell_type": "code",
   "execution_count": 68,
   "metadata": {
    "collapsed": false
   },
   "outputs": [],
   "source": [
    "features = ['Checkout_Month', 'Checkout_WeekDay', 'Checkout_Hour',  \n",
    "            'Temperature', 'Apparent_Temperature', 'Cloud_Cover', 'Wind_Speed', 'Humidity', 'Visibility']\n",
    "X = data[features]\n",
    "y = data[\"Class_Label\"]\n",
    "X_train, X_test, y_train, y_test = train_test_split(X, y, test_size=0.3, random_state=0, stratify=y)"
   ]
  },
  {
   "cell_type": "code",
   "execution_count": 69,
   "metadata": {
    "collapsed": true
   },
   "outputs": [],
   "source": [
    "def plot_feature_importances(model, plot_title):\n",
    "    n_features = X.shape[1]\n",
    "    plt.figure(figsize=(10,6))\n",
    "    feature_importance = model.feature_importances_\n",
    "    features_list = features\n",
    "    feature_importance, features_list = zip(*sorted(zip(feature_importance, features_list)))\n",
    "    plt.barh(range(len(features_list)), feature_importance, align='center')\n",
    "    plt.xticks(fontsize=14)\n",
    "    plt.yticks(np.arange(len(features_list)), features_list, fontsize=14)\n",
    "    plt.xlabel('Relative Importance', fontsize=16)\n",
    "    plt.ylabel('Feature', fontsize=16)\n",
    "    plt.title(plot_title + ' Features Importance', fontsize=20)\n",
    "    plt.show()"
   ]
  },
  {
   "cell_type": "markdown",
   "metadata": {},
   "source": [
    "#### Decision Tree Classification"
   ]
  },
  {
   "cell_type": "code",
   "execution_count": 70,
   "metadata": {
    "collapsed": false
   },
   "outputs": [
    {
     "name": "stdout",
     "output_type": "stream",
     "text": [
      "Decision Tree Classification \n",
      "\n",
      "Accuracy on training set: 1.000\n",
      "Accuracy on test set: 0.732\n",
      "\n",
      "Confusion Matrix:\n",
      "[[883 125  11   0]\n",
      " [128 429 100   6]\n",
      " [  5  90 149  41]\n",
      " [  0   7  36  42]]\n",
      "\n",
      "Classification Report:\n",
      "             precision    recall  f1-score   support\n",
      "\n",
      "          0       0.87      0.87      0.87      1019\n",
      "          1       0.66      0.65      0.65       663\n",
      "          2       0.50      0.52      0.51       285\n",
      "          3       0.47      0.49      0.48        85\n",
      "\n",
      "avg / total       0.73      0.73      0.73      2052\n",
      "\n",
      "Cross-validation scores:\n",
      "[ 0.72163743  0.73567251  0.73830409  0.73070175  0.73567251]\n",
      "Cross-validation accuracy: 0.73 (+/- 0.01) @ 95% CI\n",
      "\n",
      "Execution Time (sec): 0.191\n"
     ]
    },
    {
     "data": {
      "image/png": "[encoded data removed]",
      "text/plain": [
       "<matplotlib.figure.Figure at 0x201fc09e128>"
      ]
     },
     "metadata": {},
     "output_type": "display_data"
    },
    {
     "data": {
      "text/html": [
       "<div>\n",
       "<table border=\"1\" class=\"dataframe\">\n",
       "  <thead>\n",
       "    <tr style=\"text-align: right;\">\n",
       "      <th></th>\n",
       "      <th>Decision Tree Classification</th>\n",
       "    </tr>\n",
       "  </thead>\n",
       "  <tbody>\n",
       "    <tr>\n",
       "      <th>Accuracy</th>\n",
       "      <td>0.732456</td>\n",
       "    </tr>\n",
       "    <tr>\n",
       "      <th>F1 (macro)</th>\n",
       "      <td>0.629112</td>\n",
       "    </tr>\n",
       "    <tr>\n",
       "      <th>F1 (micro)</th>\n",
       "      <td>0.732456</td>\n",
       "    </tr>\n",
       "    <tr>\n",
       "      <th>Precision (macro)</th>\n",
       "      <td>0.625842</td>\n",
       "    </tr>\n",
       "    <tr>\n",
       "      <th>Precision (micro)</th>\n",
       "      <td>0.732456</td>\n",
       "    </tr>\n",
       "    <tr>\n",
       "      <th>Recall (macro)</th>\n",
       "      <td>0.632630</td>\n",
       "    </tr>\n",
       "    <tr>\n",
       "      <th>Recall (micro)</th>\n",
       "      <td>0.732456</td>\n",
       "    </tr>\n",
       "  </tbody>\n",
       "</table>\n",
       "</div>"
      ],
      "text/plain": [
       "                   Decision Tree Classification\n",
       "Accuracy                               0.732456\n",
       "F1 (macro)                             0.629112\n",
       "F1 (micro)                             0.732456\n",
       "Precision (macro)                      0.625842\n",
       "Precision (micro)                      0.732456\n",
       "Recall (macro)                         0.632630\n",
       "Recall (micro)                         0.732456"
      ]
     },
     "execution_count": 70,
     "metadata": {},
     "output_type": "execute_result"
    }
   ],
   "source": [
    "# Decision Tree Classifier\n",
    "class_model = 'Decision Tree Classification'\n",
    "start = timer()\n",
    "clf = DecisionTreeClassifier(random_state=0)\n",
    "dtc = perform_classification(class_model, clf)\n",
    "dtc_xv = perform_cross_validation(class_model, clf)\n",
    "end = timer()\n",
    "et = end - start\n",
    "print(\"\\nExecution Time (sec): {:.3f}\".format(et))\n",
    "dtc_et = get_execution_time_metrics(class_model, et)\n",
    "plot_feature_importances(clf, class_model)\n",
    "dtc.sort_index()"
   ]
  },
  {
   "cell_type": "markdown",
   "metadata": {},
   "source": [
    "#### Linear (Logistic Regression) Classification"
   ]
  },
  {
   "cell_type": "code",
   "execution_count": 71,
   "metadata": {
    "collapsed": false
   },
   "outputs": [
    {
     "name": "stderr",
     "output_type": "stream",
     "text": [
      "C:\\Users\\jbhasin\\Anaconda3\\lib\\site-packages\\sklearn\\metrics\\classification.py:1113: UndefinedMetricWarning: F-score is ill-defined and being set to 0.0 in labels with no predicted samples.\n",
      "  'precision', 'predicted', average, warn_for)\n",
      "C:\\Users\\jbhasin\\Anaconda3\\lib\\site-packages\\sklearn\\metrics\\classification.py:1113: UndefinedMetricWarning: Precision is ill-defined and being set to 0.0 in labels with no predicted samples.\n",
      "  'precision', 'predicted', average, warn_for)\n",
      "C:\\Users\\jbhasin\\Anaconda3\\lib\\site-packages\\sklearn\\metrics\\classification.py:1113: UndefinedMetricWarning: Precision and F-score are ill-defined and being set to 0.0 in labels with no predicted samples.\n",
      "  'precision', 'predicted', average, warn_for)\n"
     ]
    },
    {
     "name": "stdout",
     "output_type": "stream",
     "text": [
      "Logistic Classification \n",
      "\n",
      "Accuracy on training set: 0.644\n",
      "Accuracy on test set: 0.640\n",
      "\n",
      "Confusion Matrix:\n",
      "[[875 144   0   0]\n",
      " [224 439   0   0]\n",
      " [ 56 229   0   0]\n",
      " [  4  81   0   0]]\n",
      "\n",
      "Classification Report:\n",
      "             precision    recall  f1-score   support\n",
      "\n",
      "          0       0.75      0.86      0.80      1019\n",
      "          1       0.49      0.66      0.56       663\n",
      "          2       0.00      0.00      0.00       285\n",
      "          3       0.00      0.00      0.00        85\n",
      "\n",
      "avg / total       0.53      0.64      0.58      2052\n",
      "\n",
      "Cross-validation scores:\n",
      "[ 0.64532164  0.6377193   0.64005848  0.63976608  0.64736842]\n",
      "Cross-validation accuracy: 0.64 (+/- 0.01) @ 95% CI\n",
      "\n",
      "Execution Time (sec): 12.177\n"
     ]
    },
    {
     "data": {
      "text/html": [
       "<div>\n",
       "<table border=\"1\" class=\"dataframe\">\n",
       "  <thead>\n",
       "    <tr style=\"text-align: right;\">\n",
       "      <th></th>\n",
       "      <th>Logistic Classification</th>\n",
       "    </tr>\n",
       "  </thead>\n",
       "  <tbody>\n",
       "    <tr>\n",
       "      <th>Accuracy</th>\n",
       "      <td>0.640351</td>\n",
       "    </tr>\n",
       "    <tr>\n",
       "      <th>F1 (macro)</th>\n",
       "      <td>0.341939</td>\n",
       "    </tr>\n",
       "    <tr>\n",
       "      <th>F1 (micro)</th>\n",
       "      <td>0.640351</td>\n",
       "    </tr>\n",
       "    <tr>\n",
       "      <th>Precision (macro)</th>\n",
       "      <td>0.311641</td>\n",
       "    </tr>\n",
       "    <tr>\n",
       "      <th>Precision (micro)</th>\n",
       "      <td>0.640351</td>\n",
       "    </tr>\n",
       "    <tr>\n",
       "      <th>Recall (macro)</th>\n",
       "      <td>0.380207</td>\n",
       "    </tr>\n",
       "    <tr>\n",
       "      <th>Recall (micro)</th>\n",
       "      <td>0.640351</td>\n",
       "    </tr>\n",
       "  </tbody>\n",
       "</table>\n",
       "</div>"
      ],
      "text/plain": [
       "                   Logistic Classification\n",
       "Accuracy                          0.640351\n",
       "F1 (macro)                        0.341939\n",
       "F1 (micro)                        0.640351\n",
       "Precision (macro)                 0.311641\n",
       "Precision (micro)                 0.640351\n",
       "Recall (macro)                    0.380207\n",
       "Recall (micro)                    0.640351"
      ]
     },
     "execution_count": 71,
     "metadata": {},
     "output_type": "execute_result"
    }
   ],
   "source": [
    "# logistic regression\n",
    "class_model = 'Logistic Classification'\n",
    "start = timer()\n",
    "#clf = linear_model.LogisticRegression(random_state=0)\n",
    "clf = linear_model.LogisticRegression(C=1.0, solver='lbfgs', random_state=0, multi_class='ovr', n_jobs=-1)\n",
    "lin_reg = perform_classification(class_model, clf)\n",
    "lin_reg_xv = perform_cross_validation(class_model, clf)\n",
    "end = timer()\n",
    "et = end - start\n",
    "print(\"\\nExecution Time (sec): {:.3f}\".format((end - start)))\n",
    "lin_reg_et = get_execution_time_metrics(class_model, et)\n",
    "lin_reg.sort_index()"
   ]
  },
  {
   "cell_type": "markdown",
   "metadata": {},
   "source": [
    "#### Random Forest Classification"
   ]
  },
  {
   "cell_type": "code",
   "execution_count": 72,
   "metadata": {
    "collapsed": false
   },
   "outputs": [
    {
     "name": "stdout",
     "output_type": "stream",
     "text": [
      "Random Forest Classification \n",
      "\n",
      "Accuracy on training set: 1.000\n",
      "Accuracy on test set: 0.793\n",
      "\n",
      "Confusion Matrix:\n",
      "[[926  92   1   0]\n",
      " [104 520  38   1]\n",
      " [  4 117 151  13]\n",
      " [  1   7  46  31]]\n",
      "\n",
      "Classification Report:\n",
      "             precision    recall  f1-score   support\n",
      "\n",
      "          0       0.89      0.91      0.90      1019\n",
      "          1       0.71      0.78      0.74       663\n",
      "          2       0.64      0.53      0.58       285\n",
      "          3       0.69      0.36      0.48        85\n",
      "\n",
      "avg / total       0.79      0.79      0.79      2052\n",
      "\n",
      "Cross-validation scores:\n",
      "[ 0.79210526  0.78421053  0.79093567  0.78830409  0.78976608]\n",
      "Cross-validation accuracy: 0.79 (+/- 0.01) @ 95% CI\n",
      "\n",
      "Execution Time (sec): 3.941\n"
     ]
    },
    {
     "data": {
      "image/png": "[encoded data removed]",
      "text/plain": [
       "<matplotlib.figure.Figure at 0x201fc284e48>"
      ]
     },
     "metadata": {},
     "output_type": "display_data"
    },
    {
     "data": {
      "text/html": [
       "<div>\n",
       "<table border=\"1\" class=\"dataframe\">\n",
       "  <thead>\n",
       "    <tr style=\"text-align: right;\">\n",
       "      <th></th>\n",
       "      <th>Random Forest Classification</th>\n",
       "    </tr>\n",
       "  </thead>\n",
       "  <tbody>\n",
       "    <tr>\n",
       "      <th>Accuracy</th>\n",
       "      <td>0.793372</td>\n",
       "    </tr>\n",
       "    <tr>\n",
       "      <th>F1 (macro)</th>\n",
       "      <td>0.675405</td>\n",
       "    </tr>\n",
       "    <tr>\n",
       "      <th>F1 (micro)</th>\n",
       "      <td>0.793372</td>\n",
       "    </tr>\n",
       "    <tr>\n",
       "      <th>Precision (macro)</th>\n",
       "      <td>0.732482</td>\n",
       "    </tr>\n",
       "    <tr>\n",
       "      <th>Precision (micro)</th>\n",
       "      <td>0.793372</td>\n",
       "    </tr>\n",
       "    <tr>\n",
       "      <th>Recall (macro)</th>\n",
       "      <td>0.646895</td>\n",
       "    </tr>\n",
       "    <tr>\n",
       "      <th>Recall (micro)</th>\n",
       "      <td>0.793372</td>\n",
       "    </tr>\n",
       "  </tbody>\n",
       "</table>\n",
       "</div>"
      ],
      "text/plain": [
       "                   Random Forest Classification\n",
       "Accuracy                               0.793372\n",
       "F1 (macro)                             0.675405\n",
       "F1 (micro)                             0.793372\n",
       "Precision (macro)                      0.732482\n",
       "Precision (micro)                      0.793372\n",
       "Recall (macro)                         0.646895\n",
       "Recall (micro)                         0.793372"
      ]
     },
     "execution_count": 72,
     "metadata": {},
     "output_type": "execute_result"
    }
   ],
   "source": [
    "# Random Forest Classifier\n",
    "class_model = 'Random Forest Classification'\n",
    "start = timer() \n",
    "clf = RandomForestClassifier(n_estimators=150, max_features='auto', max_depth=None, random_state=0, n_jobs=-1)\n",
    "rfc = perform_classification(class_model, clf)\n",
    "rfc_xv = perform_cross_validation(class_model, clf)\n",
    "end = timer()\n",
    "et = end - start\n",
    "print(\"\\nExecution Time (sec): {:.3f}\".format((end - start)))\n",
    "rfc_et = get_execution_time_metrics(class_model, et)\n",
    "plot_feature_importances(clf, class_model)\n",
    "rfc.sort_index()"
   ]
  },
  {
   "cell_type": "markdown",
   "metadata": {},
   "source": [
    "#### Extra Trees Classification"
   ]
  },
  {
   "cell_type": "code",
   "execution_count": 73,
   "metadata": {
    "collapsed": false
   },
   "outputs": [
    {
     "name": "stdout",
     "output_type": "stream",
     "text": [
      "Extra Trees Classification \n",
      "\n",
      "Accuracy on training set: 1.000\n",
      "Accuracy on test set: 0.792\n",
      "\n",
      "Confusion Matrix:\n",
      "[[935  82   2   0]\n",
      " [115 506  41   1]\n",
      " [ 14 107 147  17]\n",
      " [  1   7  40  37]]\n",
      "\n",
      "Classification Report:\n",
      "             precision    recall  f1-score   support\n",
      "\n",
      "          0       0.88      0.92      0.90      1019\n",
      "          1       0.72      0.76      0.74       663\n",
      "          2       0.64      0.52      0.57       285\n",
      "          3       0.67      0.44      0.53        85\n",
      "\n",
      "avg / total       0.79      0.79      0.79      2052\n",
      "\n",
      "Cross-validation scores:\n",
      "[ 0.77894737  0.78625731  0.78450292  0.77426901  0.77777778]\n",
      "Cross-validation accuracy: 0.78 (+/- 0.01) @ 95% CI\n",
      "\n",
      "Execution Time (sec): 3.225\n"
     ]
    },
    {
     "data": {
      "image/png": "[encoded data removed]",
      "text/plain": [
       "<matplotlib.figure.Figure at 0x201f698e278>"
      ]
     },
     "metadata": {},
     "output_type": "display_data"
    },
    {
     "data": {
      "text/html": [
       "<div>\n",
       "<table border=\"1\" class=\"dataframe\">\n",
       "  <thead>\n",
       "    <tr style=\"text-align: right;\">\n",
       "      <th></th>\n",
       "      <th>Extra Trees Classification</th>\n",
       "    </tr>\n",
       "  </thead>\n",
       "  <tbody>\n",
       "    <tr>\n",
       "      <th>Accuracy</th>\n",
       "      <td>0.791910</td>\n",
       "    </tr>\n",
       "    <tr>\n",
       "      <th>F1 (macro)</th>\n",
       "      <td>0.684538</td>\n",
       "    </tr>\n",
       "    <tr>\n",
       "      <th>F1 (micro)</th>\n",
       "      <td>0.791910</td>\n",
       "    </tr>\n",
       "    <tr>\n",
       "      <th>Precision (macro)</th>\n",
       "      <td>0.727647</td>\n",
       "    </tr>\n",
       "    <tr>\n",
       "      <th>Precision (micro)</th>\n",
       "      <td>0.791910</td>\n",
       "    </tr>\n",
       "    <tr>\n",
       "      <th>Recall (macro)</th>\n",
       "      <td>0.657962</td>\n",
       "    </tr>\n",
       "    <tr>\n",
       "      <th>Recall (micro)</th>\n",
       "      <td>0.791910</td>\n",
       "    </tr>\n",
       "  </tbody>\n",
       "</table>\n",
       "</div>"
      ],
      "text/plain": [
       "                   Extra Trees Classification\n",
       "Accuracy                             0.791910\n",
       "F1 (macro)                           0.684538\n",
       "F1 (micro)                           0.791910\n",
       "Precision (macro)                    0.727647\n",
       "Precision (micro)                    0.791910\n",
       "Recall (macro)                       0.657962\n",
       "Recall (micro)                       0.791910"
      ]
     },
     "execution_count": 73,
     "metadata": {},
     "output_type": "execute_result"
    }
   ],
   "source": [
    "# Extra Trees Classifier\n",
    "class_model = 'Extra Trees Classification'\n",
    "start = timer() \n",
    "clf = ExtraTreesClassifier(n_estimators=150, max_features='auto', max_depth=None, random_state=0, n_jobs=-1)\n",
    "etc = perform_classification(class_model, clf)\n",
    "etc_xv = perform_cross_validation(class_model, clf)\n",
    "end = timer()\n",
    "et = end - start\n",
    "print(\"\\nExecution Time (sec): {:.3f}\".format((end - start)))\n",
    "etc_et = get_execution_time_metrics(class_model, et)\n",
    "plot_feature_importances(clf, 'Random Forest Classification')\n",
    "etc.sort_index()"
   ]
  },
  {
   "cell_type": "markdown",
   "metadata": {},
   "source": [
    "#### Naive Bayes Classification"
   ]
  },
  {
   "cell_type": "code",
   "execution_count": 74,
   "metadata": {
    "collapsed": false
   },
   "outputs": [
    {
     "name": "stdout",
     "output_type": "stream",
     "text": [
      "Naive Bayes Classification \n",
      "\n",
      "Accuracy on training set: 0.529\n",
      "Accuracy on test set: 0.504\n",
      "\n",
      "Confusion Matrix:\n",
      "[[676 224 112   7]\n",
      " [116 188 311  48]\n",
      " [ 25  78 159  23]\n",
      " [  1  12  60  12]]\n",
      "\n",
      "Classification Report:\n",
      "             precision    recall  f1-score   support\n",
      "\n",
      "          0       0.83      0.66      0.74      1019\n",
      "          1       0.37      0.28      0.32       663\n",
      "          2       0.25      0.56      0.34       285\n",
      "          3       0.13      0.14      0.14        85\n",
      "\n",
      "avg / total       0.57      0.50      0.52      2052\n",
      "\n",
      "Cross-validation scores:\n",
      "[ 0.51374269  0.54444444  0.48976608  0.52660819  0.54590643]\n",
      "Cross-validation accuracy: 0.52 (+/- 0.04) @ 95% CI\n",
      "\n",
      "Execution Time (sec): 0.099\n"
     ]
    },
    {
     "data": {
      "text/html": [
       "<div>\n",
       "<table border=\"1\" class=\"dataframe\">\n",
       "  <thead>\n",
       "    <tr style=\"text-align: right;\">\n",
       "      <th></th>\n",
       "      <th>Naive Bayes Classification</th>\n",
       "    </tr>\n",
       "  </thead>\n",
       "  <tbody>\n",
       "    <tr>\n",
       "      <th>Accuracy</th>\n",
       "      <td>0.504386</td>\n",
       "    </tr>\n",
       "    <tr>\n",
       "      <th>F1 (macro)</th>\n",
       "      <td>0.384729</td>\n",
       "    </tr>\n",
       "    <tr>\n",
       "      <th>F1 (micro)</th>\n",
       "      <td>0.504386</td>\n",
       "    </tr>\n",
       "    <tr>\n",
       "      <th>Precision (macro)</th>\n",
       "      <td>0.395476</td>\n",
       "    </tr>\n",
       "    <tr>\n",
       "      <th>Precision (micro)</th>\n",
       "      <td>0.504386</td>\n",
       "    </tr>\n",
       "    <tr>\n",
       "      <th>Recall (macro)</th>\n",
       "      <td>0.411507</td>\n",
       "    </tr>\n",
       "    <tr>\n",
       "      <th>Recall (micro)</th>\n",
       "      <td>0.504386</td>\n",
       "    </tr>\n",
       "  </tbody>\n",
       "</table>\n",
       "</div>"
      ],
      "text/plain": [
       "                   Naive Bayes Classification\n",
       "Accuracy                             0.504386\n",
       "F1 (macro)                           0.384729\n",
       "F1 (micro)                           0.504386\n",
       "Precision (macro)                    0.395476\n",
       "Precision (micro)                    0.504386\n",
       "Recall (macro)                       0.411507\n",
       "Recall (micro)                       0.504386"
      ]
     },
     "execution_count": 74,
     "metadata": {},
     "output_type": "execute_result"
    }
   ],
   "source": [
    "# Naive Bayes Classifier\n",
    "class_model = 'Naive Bayes Classification'\n",
    "start = timer()\n",
    "clf = naive_bayes.GaussianNB()\n",
    "nbg = perform_classification(class_model, clf)\n",
    "nbg_xv = perform_cross_validation(class_model, clf)\n",
    "end = timer()\n",
    "et = end - start\n",
    "print(\"\\nExecution Time (sec): {:.3f}\".format((end - start)))\n",
    "nbg_et = get_execution_time_metrics(class_model, et)\n",
    "nbg.sort_index()"
   ]
  },
  {
   "cell_type": "markdown",
   "metadata": {},
   "source": [
    "#### Nearest Neighbors Classification"
   ]
  },
  {
   "cell_type": "code",
   "execution_count": 75,
   "metadata": {
    "collapsed": false
   },
   "outputs": [
    {
     "name": "stdout",
     "output_type": "stream",
     "text": [
      "Nearest Neighbors Classification \n",
      "\n",
      "Accuracy on training set: 0.838\n",
      "Accuracy on test set: 0.688\n",
      "\n",
      "Confusion Matrix:\n",
      "[[935  78   6   0]\n",
      " [228 391  43   1]\n",
      " [ 33 164  83   5]\n",
      " [  5  34  43   3]]\n",
      "\n",
      "Classification Report:\n",
      "             precision    recall  f1-score   support\n",
      "\n",
      "          0       0.78      0.92      0.84      1019\n",
      "          1       0.59      0.59      0.59       663\n",
      "          2       0.47      0.29      0.36       285\n",
      "          3       0.33      0.04      0.06        85\n",
      "\n",
      "avg / total       0.66      0.69      0.66      2052\n",
      "\n",
      "Cross-validation scores:\n",
      "[ 0.68421053  0.67368421  0.69444444  0.68625731  0.6877193 ]\n",
      "Cross-validation accuracy: 0.69 (+/- 0.01) @ 95% CI\n",
      "\n",
      "Execution Time (sec): 0.934\n"
     ]
    },
    {
     "data": {
      "text/html": [
       "<div>\n",
       "<table border=\"1\" class=\"dataframe\">\n",
       "  <thead>\n",
       "    <tr style=\"text-align: right;\">\n",
       "      <th></th>\n",
       "      <th>Nearest Neighbors Classification</th>\n",
       "    </tr>\n",
       "  </thead>\n",
       "  <tbody>\n",
       "    <tr>\n",
       "      <th>Accuracy</th>\n",
       "      <td>0.688109</td>\n",
       "    </tr>\n",
       "    <tr>\n",
       "      <th>F1 (macro)</th>\n",
       "      <td>0.463753</td>\n",
       "    </tr>\n",
       "    <tr>\n",
       "      <th>F1 (micro)</th>\n",
       "      <td>0.688109</td>\n",
       "    </tr>\n",
       "    <tr>\n",
       "      <th>Precision (macro)</th>\n",
       "      <td>0.543086</td>\n",
       "    </tr>\n",
       "    <tr>\n",
       "      <th>Precision (micro)</th>\n",
       "      <td>0.688109</td>\n",
       "    </tr>\n",
       "    <tr>\n",
       "      <th>Recall (macro)</th>\n",
       "      <td>0.458458</td>\n",
       "    </tr>\n",
       "    <tr>\n",
       "      <th>Recall (micro)</th>\n",
       "      <td>0.688109</td>\n",
       "    </tr>\n",
       "  </tbody>\n",
       "</table>\n",
       "</div>"
      ],
      "text/plain": [
       "                   Nearest Neighbors Classification\n",
       "Accuracy                                   0.688109\n",
       "F1 (macro)                                 0.463753\n",
       "F1 (micro)                                 0.688109\n",
       "Precision (macro)                          0.543086\n",
       "Precision (micro)                          0.688109\n",
       "Recall (macro)                             0.458458\n",
       "Recall (micro)                             0.688109"
      ]
     },
     "execution_count": 75,
     "metadata": {},
     "output_type": "execute_result"
    }
   ],
   "source": [
    "# Nearest Neighbors Classifier\n",
    "class_model = 'Nearest Neighbors Classification'\n",
    "start = timer()\n",
    "clf = KNeighborsClassifier(n_neighbors=2, n_jobs=-1)\n",
    "knn = perform_classification(class_model, clf)\n",
    "knn_xv = perform_cross_validation(class_model, clf)\n",
    "end = timer()\n",
    "et = end - start\n",
    "print(\"\\nExecution Time (sec): {:.3f}\".format((end - start)))\n",
    "knn_et = get_execution_time_metrics(class_model, et)\n",
    "knn.sort_index()"
   ]
  },
  {
   "cell_type": "markdown",
   "metadata": {},
   "source": [
    "#### Gradient Boosting Classification"
   ]
  },
  {
   "cell_type": "code",
   "execution_count": 76,
   "metadata": {
    "collapsed": false
   },
   "outputs": [
    {
     "name": "stdout",
     "output_type": "stream",
     "text": [
      "Gradient Boosting Classification \n",
      "\n",
      "Accuracy on training set: 1.000\n",
      "Accuracy on test set: 0.760\n",
      "\n",
      "Confusion Matrix:\n",
      "[[911 104   3   1]\n",
      " [118 471  70   4]\n",
      " [ 12 102 138  33]\n",
      " [  1   7  37  40]]\n",
      "\n",
      "Classification Report:\n",
      "             precision    recall  f1-score   support\n",
      "\n",
      "          0       0.87      0.89      0.88      1019\n",
      "          1       0.69      0.71      0.70       663\n",
      "          2       0.56      0.48      0.52       285\n",
      "          3       0.51      0.47      0.49        85\n",
      "\n",
      "avg / total       0.76      0.76      0.76      2052\n",
      "\n",
      "Cross-validation scores:\n",
      "[ 0.75409357  0.7619883   0.76842105  0.76666667  0.75906433]\n",
      "Cross-validation accuracy: 0.76 (+/- 0.01) @ 95% CI\n",
      "\n",
      "Execution Time (sec): 60.607\n"
     ]
    },
    {
     "data": {
      "image/png": "[encoded data removed]",
      "text/plain": [
       "<matplotlib.figure.Figure at 0x201fc22a400>"
      ]
     },
     "metadata": {},
     "output_type": "display_data"
    },
    {
     "data": {
      "text/html": [
       "<div>\n",
       "<table border=\"1\" class=\"dataframe\">\n",
       "  <thead>\n",
       "    <tr style=\"text-align: right;\">\n",
       "      <th></th>\n",
       "      <th>Gradient Boosting Classification</th>\n",
       "    </tr>\n",
       "  </thead>\n",
       "  <tbody>\n",
       "    <tr>\n",
       "      <th>Accuracy</th>\n",
       "      <td>0.760234</td>\n",
       "    </tr>\n",
       "    <tr>\n",
       "      <th>F1 (macro)</th>\n",
       "      <td>0.647997</td>\n",
       "    </tr>\n",
       "    <tr>\n",
       "      <th>F1 (micro)</th>\n",
       "      <td>0.760234</td>\n",
       "    </tr>\n",
       "    <tr>\n",
       "      <th>Precision (macro)</th>\n",
       "      <td>0.658037</td>\n",
       "    </tr>\n",
       "    <tr>\n",
       "      <th>Precision (micro)</th>\n",
       "      <td>0.760234</td>\n",
       "    </tr>\n",
       "    <tr>\n",
       "      <th>Recall (macro)</th>\n",
       "      <td>0.639805</td>\n",
       "    </tr>\n",
       "    <tr>\n",
       "      <th>Recall (micro)</th>\n",
       "      <td>0.760234</td>\n",
       "    </tr>\n",
       "  </tbody>\n",
       "</table>\n",
       "</div>"
      ],
      "text/plain": [
       "                   Gradient Boosting Classification\n",
       "Accuracy                                   0.760234\n",
       "F1 (macro)                                 0.647997\n",
       "F1 (micro)                                 0.760234\n",
       "Precision (macro)                          0.658037\n",
       "Precision (micro)                          0.760234\n",
       "Recall (macro)                             0.639805\n",
       "Recall (micro)                             0.760234"
      ]
     },
     "execution_count": 76,
     "metadata": {},
     "output_type": "execute_result"
    }
   ],
   "source": [
    "# Gradient Boosting Classifier\n",
    "class_model = 'Gradient Boosting Classification'\n",
    "#clf = GradientBoostingClassifier()\n",
    "start = timer()\n",
    "clf = GradientBoostingClassifier(n_estimators=150, max_features='auto', max_depth=None, random_state=0)\n",
    "gbc = perform_classification(class_model, clf)\n",
    "gbc_xv = perform_cross_validation(class_model, clf)\n",
    "end = timer()\n",
    "et = end - start\n",
    "print(\"\\nExecution Time (sec): {:.3f}\".format((end - start)))\n",
    "gbc_et = get_execution_time_metrics(class_model, et)\n",
    "plot_feature_importances(clf, class_model)\n",
    "gbc.sort_index()"
   ]
  },
  {
   "cell_type": "markdown",
   "metadata": {},
   "source": [
    "#### Multi-layer Perceptron Classification"
   ]
  },
  {
   "cell_type": "code",
   "execution_count": 77,
   "metadata": {
    "collapsed": false
   },
   "outputs": [
    {
     "name": "stderr",
     "output_type": "stream",
     "text": [
      "C:\\Users\\jbhasin\\Anaconda3\\lib\\site-packages\\sklearn\\metrics\\classification.py:1113: UndefinedMetricWarning: F-score is ill-defined and being set to 0.0 in labels with no predicted samples.\n",
      "  'precision', 'predicted', average, warn_for)\n",
      "C:\\Users\\jbhasin\\Anaconda3\\lib\\site-packages\\sklearn\\metrics\\classification.py:1113: UndefinedMetricWarning: Precision is ill-defined and being set to 0.0 in labels with no predicted samples.\n",
      "  'precision', 'predicted', average, warn_for)\n",
      "C:\\Users\\jbhasin\\Anaconda3\\lib\\site-packages\\sklearn\\metrics\\classification.py:1113: UndefinedMetricWarning: Precision and F-score are ill-defined and being set to 0.0 in labels with no predicted samples.\n",
      "  'precision', 'predicted', average, warn_for)\n"
     ]
    },
    {
     "name": "stdout",
     "output_type": "stream",
     "text": [
      "Multi-Layer Perception Classification \n",
      "\n",
      "Accuracy on training set: 0.689\n",
      "Accuracy on test set: 0.687\n",
      "\n",
      "Confusion Matrix:\n",
      "[[873 142   4   0]\n",
      " [144 478  41   0]\n",
      " [ 24 202  59   0]\n",
      " [  0  57  28   0]]\n",
      "\n",
      "Classification Report:\n",
      "             precision    recall  f1-score   support\n",
      "\n",
      "          0       0.84      0.86      0.85      1019\n",
      "          1       0.54      0.72      0.62       663\n",
      "          2       0.45      0.21      0.28       285\n",
      "          3       0.00      0.00      0.00        85\n",
      "\n",
      "avg / total       0.65      0.69      0.66      2052\n",
      "\n",
      "Cross-validation scores:\n",
      "[ 0.67660819  0.66432749  0.68128655  0.66461988  0.63538012]\n",
      "Cross-validation accuracy: 0.66 (+/- 0.03) @ 95% CI\n",
      "\n",
      "Execution Time (sec): 3.477\n"
     ]
    },
    {
     "data": {
      "text/html": [
       "<div>\n",
       "<table border=\"1\" class=\"dataframe\">\n",
       "  <thead>\n",
       "    <tr style=\"text-align: right;\">\n",
       "      <th></th>\n",
       "      <th>Multi-Layer Perception Classification</th>\n",
       "    </tr>\n",
       "  </thead>\n",
       "  <tbody>\n",
       "    <tr>\n",
       "      <th>Accuracy</th>\n",
       "      <td>0.687135</td>\n",
       "    </tr>\n",
       "    <tr>\n",
       "      <th>F1 (macro)</th>\n",
       "      <td>0.437630</td>\n",
       "    </tr>\n",
       "    <tr>\n",
       "      <th>F1 (micro)</th>\n",
       "      <td>0.687135</td>\n",
       "    </tr>\n",
       "    <tr>\n",
       "      <th>Precision (macro)</th>\n",
       "      <td>0.457347</td>\n",
       "    </tr>\n",
       "    <tr>\n",
       "      <th>Precision (micro)</th>\n",
       "      <td>0.687135</td>\n",
       "    </tr>\n",
       "    <tr>\n",
       "      <th>Recall (macro)</th>\n",
       "      <td>0.446176</td>\n",
       "    </tr>\n",
       "    <tr>\n",
       "      <th>Recall (micro)</th>\n",
       "      <td>0.687135</td>\n",
       "    </tr>\n",
       "  </tbody>\n",
       "</table>\n",
       "</div>"
      ],
      "text/plain": [
       "                   Multi-Layer Perception Classification\n",
       "Accuracy                                        0.687135\n",
       "F1 (macro)                                      0.437630\n",
       "F1 (micro)                                      0.687135\n",
       "Precision (macro)                               0.457347\n",
       "Precision (micro)                               0.687135\n",
       "Recall (macro)                                  0.446176\n",
       "Recall (micro)                                  0.687135"
      ]
     },
     "execution_count": 77,
     "metadata": {},
     "output_type": "execute_result"
    }
   ],
   "source": [
    "# Multi-Layer Perceptron Classification\n",
    "class_model = 'Multi-Layer Perception Classification'\n",
    "start = timer()\n",
    "clf = MLPClassifier(random_state=0)\n",
    "mlp = perform_classification(class_model, clf)\n",
    "mlp_xv = perform_cross_validation(class_model, clf)\n",
    "end = timer()\n",
    "et = end - start\n",
    "print(\"\\nExecution Time (sec): {:.3f}\".format((end - start)))\n",
    "mlp_et = get_execution_time_metrics(class_model, et)\n",
    "mlp.sort_index()"
   ]
  },
  {
   "cell_type": "markdown",
   "metadata": {},
   "source": [
    "## Classification Summary with Numerical Feature Set"
   ]
  },
  {
   "cell_type": "code",
   "execution_count": 78,
   "metadata": {
    "collapsed": false
   },
   "outputs": [],
   "source": [
    "class_metrics = pd.concat([lin_reg, dtc, rfc, etc, nbg, knn, gbc, mlp] , axis=1)"
   ]
  },
  {
   "cell_type": "code",
   "execution_count": 79,
   "metadata": {
    "collapsed": false
   },
   "outputs": [],
   "source": [
    "xv_metrics = pd.concat([lin_reg_xv, dtc_xv, rfc_xv, etc_xv, nbg_xv, knn_xv, gbc_xv, mlp_xv], axis = 1)"
   ]
  },
  {
   "cell_type": "code",
   "execution_count": 80,
   "metadata": {
    "collapsed": false
   },
   "outputs": [],
   "source": [
    "et_metrics = pd.concat([lin_reg_et, dtc_et, rfc_et, etc_et, nbg_et, knn_et, gbc_et, mlp_et], axis = 1)"
   ]
  },
  {
   "cell_type": "code",
   "execution_count": 81,
   "metadata": {
    "collapsed": false
   },
   "outputs": [
    {
     "name": "stdout",
     "output_type": "stream",
     "text": [
      "Classification Summary with Numerical Feature Set\n",
      "\n"
     ]
    },
    {
     "data": {
      "text/html": [
       "<div>\n",
       "<table border=\"1\" class=\"dataframe\">\n",
       "  <thead>\n",
       "    <tr style=\"text-align: right;\">\n",
       "      <th></th>\n",
       "      <th>Logistic Classification</th>\n",
       "      <th>Decision Tree Classification</th>\n",
       "      <th>Random Forest Classification</th>\n",
       "      <th>Extra Trees Classification</th>\n",
       "      <th>Naive Bayes Classification</th>\n",
       "      <th>Nearest Neighbors Classification</th>\n",
       "      <th>Gradient Boosting Classification</th>\n",
       "      <th>Multi-Layer Perception Classification</th>\n",
       "    </tr>\n",
       "  </thead>\n",
       "  <tbody>\n",
       "    <tr>\n",
       "      <th>Accuracy</th>\n",
       "      <td>0.640351</td>\n",
       "      <td>0.732456</td>\n",
       "      <td>0.793372</td>\n",
       "      <td>0.791910</td>\n",
       "      <td>0.504386</td>\n",
       "      <td>0.688109</td>\n",
       "      <td>0.760234</td>\n",
       "      <td>0.687135</td>\n",
       "    </tr>\n",
       "    <tr>\n",
       "      <th>F1 (macro)</th>\n",
       "      <td>0.341939</td>\n",
       "      <td>0.629112</td>\n",
       "      <td>0.675405</td>\n",
       "      <td>0.684538</td>\n",
       "      <td>0.384729</td>\n",
       "      <td>0.463753</td>\n",
       "      <td>0.647997</td>\n",
       "      <td>0.437630</td>\n",
       "    </tr>\n",
       "    <tr>\n",
       "      <th>F1 (micro)</th>\n",
       "      <td>0.640351</td>\n",
       "      <td>0.732456</td>\n",
       "      <td>0.793372</td>\n",
       "      <td>0.791910</td>\n",
       "      <td>0.504386</td>\n",
       "      <td>0.688109</td>\n",
       "      <td>0.760234</td>\n",
       "      <td>0.687135</td>\n",
       "    </tr>\n",
       "    <tr>\n",
       "      <th>Precision (macro)</th>\n",
       "      <td>0.311641</td>\n",
       "      <td>0.625842</td>\n",
       "      <td>0.732482</td>\n",
       "      <td>0.727647</td>\n",
       "      <td>0.395476</td>\n",
       "      <td>0.543086</td>\n",
       "      <td>0.658037</td>\n",
       "      <td>0.457347</td>\n",
       "    </tr>\n",
       "    <tr>\n",
       "      <th>Precision (micro)</th>\n",
       "      <td>0.640351</td>\n",
       "      <td>0.732456</td>\n",
       "      <td>0.793372</td>\n",
       "      <td>0.791910</td>\n",
       "      <td>0.504386</td>\n",
       "      <td>0.688109</td>\n",
       "      <td>0.760234</td>\n",
       "      <td>0.687135</td>\n",
       "    </tr>\n",
       "    <tr>\n",
       "      <th>Recall (macro)</th>\n",
       "      <td>0.380207</td>\n",
       "      <td>0.632630</td>\n",
       "      <td>0.646895</td>\n",
       "      <td>0.657962</td>\n",
       "      <td>0.411507</td>\n",
       "      <td>0.458458</td>\n",
       "      <td>0.639805</td>\n",
       "      <td>0.446176</td>\n",
       "    </tr>\n",
       "    <tr>\n",
       "      <th>Recall (micro)</th>\n",
       "      <td>0.640351</td>\n",
       "      <td>0.732456</td>\n",
       "      <td>0.793372</td>\n",
       "      <td>0.791910</td>\n",
       "      <td>0.504386</td>\n",
       "      <td>0.688109</td>\n",
       "      <td>0.760234</td>\n",
       "      <td>0.687135</td>\n",
       "    </tr>\n",
       "    <tr>\n",
       "      <th>Cross Validation</th>\n",
       "      <td>0.642047</td>\n",
       "      <td>0.732398</td>\n",
       "      <td>0.789064</td>\n",
       "      <td>0.780351</td>\n",
       "      <td>0.524094</td>\n",
       "      <td>0.685263</td>\n",
       "      <td>0.762047</td>\n",
       "      <td>0.664444</td>\n",
       "    </tr>\n",
       "    <tr>\n",
       "      <th>Execution Time (sec)</th>\n",
       "      <td>12.176589</td>\n",
       "      <td>0.191000</td>\n",
       "      <td>3.940537</td>\n",
       "      <td>3.225180</td>\n",
       "      <td>0.099354</td>\n",
       "      <td>0.933640</td>\n",
       "      <td>60.607182</td>\n",
       "      <td>3.476683</td>\n",
       "    </tr>\n",
       "  </tbody>\n",
       "</table>\n",
       "</div>"
      ],
      "text/plain": [
       "                      Logistic Classification  Decision Tree Classification  \\\n",
       "Accuracy                             0.640351                      0.732456   \n",
       "F1 (macro)                           0.341939                      0.629112   \n",
       "F1 (micro)                           0.640351                      0.732456   \n",
       "Precision (macro)                    0.311641                      0.625842   \n",
       "Precision (micro)                    0.640351                      0.732456   \n",
       "Recall (macro)                       0.380207                      0.632630   \n",
       "Recall (micro)                       0.640351                      0.732456   \n",
       "Cross Validation                     0.642047                      0.732398   \n",
       "Execution Time (sec)                12.176589                      0.191000   \n",
       "\n",
       "                      Random Forest Classification  \\\n",
       "Accuracy                                  0.793372   \n",
       "F1 (macro)                                0.675405   \n",
       "F1 (micro)                                0.793372   \n",
       "Precision (macro)                         0.732482   \n",
       "Precision (micro)                         0.793372   \n",
       "Recall (macro)                            0.646895   \n",
       "Recall (micro)                            0.793372   \n",
       "Cross Validation                          0.789064   \n",
       "Execution Time (sec)                      3.940537   \n",
       "\n",
       "                      Extra Trees Classification  Naive Bayes Classification  \\\n",
       "Accuracy                                0.791910                    0.504386   \n",
       "F1 (macro)                              0.684538                    0.384729   \n",
       "F1 (micro)                              0.791910                    0.504386   \n",
       "Precision (macro)                       0.727647                    0.395476   \n",
       "Precision (micro)                       0.791910                    0.504386   \n",
       "Recall (macro)                          0.657962                    0.411507   \n",
       "Recall (micro)                          0.791910                    0.504386   \n",
       "Cross Validation                        0.780351                    0.524094   \n",
       "Execution Time (sec)                    3.225180                    0.099354   \n",
       "\n",
       "                      Nearest Neighbors Classification  \\\n",
       "Accuracy                                      0.688109   \n",
       "F1 (macro)                                    0.463753   \n",
       "F1 (micro)                                    0.688109   \n",
       "Precision (macro)                             0.543086   \n",
       "Precision (micro)                             0.688109   \n",
       "Recall (macro)                                0.458458   \n",
       "Recall (micro)                                0.688109   \n",
       "Cross Validation                              0.685263   \n",
       "Execution Time (sec)                          0.933640   \n",
       "\n",
       "                      Gradient Boosting Classification  \\\n",
       "Accuracy                                      0.760234   \n",
       "F1 (macro)                                    0.647997   \n",
       "F1 (micro)                                    0.760234   \n",
       "Precision (macro)                             0.658037   \n",
       "Precision (micro)                             0.760234   \n",
       "Recall (macro)                                0.639805   \n",
       "Recall (micro)                                0.760234   \n",
       "Cross Validation                              0.762047   \n",
       "Execution Time (sec)                         60.607182   \n",
       "\n",
       "                      Multi-Layer Perception Classification  \n",
       "Accuracy                                           0.687135  \n",
       "F1 (macro)                                         0.437630  \n",
       "F1 (micro)                                         0.687135  \n",
       "Precision (macro)                                  0.457347  \n",
       "Precision (micro)                                  0.687135  \n",
       "Recall (macro)                                     0.446176  \n",
       "Recall (micro)                                     0.687135  \n",
       "Cross Validation                                   0.664444  \n",
       "Execution Time (sec)                               3.476683  "
      ]
     },
     "execution_count": 81,
     "metadata": {},
     "output_type": "execute_result"
    }
   ],
   "source": [
    "final_metrics = pd.concat([class_metrics, xv_metrics, et_metrics])\n",
    "print(\"Classification Summary with Numerical Feature Set\\n\")\n",
    "final_metrics"
   ]
  },
  {
   "cell_type": "markdown",
   "metadata": {},
   "source": [
    "## Test Random Forest Classifier on Unseen Samples"
   ]
  },
  {
   "cell_type": "code",
   "execution_count": 82,
   "metadata": {
    "collapsed": false
   },
   "outputs": [
    {
     "name": "stdout",
     "output_type": "stream",
     "text": [
      "predicted = [1 0 0 2 1 0 0 0 1 0]\n",
      "actual =    [1 0 1 2 1 0 0 1 1 0]\n"
     ]
    }
   ],
   "source": [
    "dUT = dUT[['Checkout_Month', 'Checkout_WeekDay', 'Checkout_Hour', 'Temperature', 'Apparent_Temperature',\n",
    "             'Cloud_Cover', 'Wind_Speed', 'Humidity', 'Visibility', 'Number_Of_Checkouts']]\n",
    "features = ['Checkout_Month', 'Checkout_WeekDay', 'Checkout_Hour',  \n",
    "                 'Temperature', 'Apparent_Temperature', 'Cloud_Cover', 'Wind_Speed', 'Humidity', 'Visibility']\n",
    "dUT['Class_Label'] = dUT['Number_Of_Checkouts'].map(lambda x: 0 if ((x >= 1) & (x <= 50)) \n",
    "                                                else 1 if ((x >= 51)  & (x <= 100)) \n",
    "                                                else 2 if ((x >= 101)  & (x <= 150)) \n",
    "                                                else 3)\n",
    "pred_X = dUT[features]\n",
    "act_y = dUT['Class_Label']\n",
    "pred_array = dUT.values\n",
    "pred_X_array = pred_array[:,0:9]\n",
    "act_y_array = pred_array[:,10].astype(int)\n",
    "\n",
    "rfc = RandomForestClassifier(n_estimators=150, max_features='auto', max_depth=None, random_state=0, n_jobs=-1)\n",
    "rfc.fit(X, y)\n",
    "pred = rfc.predict(pred_X_array)\n",
    "print('predicted =', pred)\n",
    "print('actual =   ', act_y_array)"
   ]
  },
  {
   "cell_type": "markdown",
   "metadata": {
    "collapsed": true
   },
   "source": [
    "## 4. Summary\n",
    "\n",
    "The Random Forest and the Extra Trees classifers achieved the highest accuracy and the Naïve Bayes the lowest."
   ]
  }
 ],
 "metadata": {
  "anaconda-cloud": {},
  "kernelspec": {
   "display_name": "Python 3",
   "language": "python",
   "name": "python3"
  },
  "language_info": {
   "codemirror_mode": {
    "name": "ipython",
    "version": 3
   },
   "file_extension": ".py",
   "mimetype": "text/x-python",
   "name": "python",
   "nbconvert_exporter": "python",
   "pygments_lexer": "ipython3",
   "version": "3.6.0"
  }
 },
 "nbformat": 4,
 "nbformat_minor": 1
}
