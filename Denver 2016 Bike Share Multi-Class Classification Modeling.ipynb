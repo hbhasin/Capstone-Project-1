{
 "cells": [
  {
   "cell_type": "markdown",
   "metadata": {},
   "source": [
    "# Denver 2016 Bike Share Multi-Class Classification Modeling"
   ]
  },
  {
   "cell_type": "markdown",
   "metadata": {},
   "source": [
    "## 1. Introduction\n",
    "\n",
    "The data exploration performed on the Denver Trips dataset indicates weather variables have a significant impact on the number of checkouts. This section will focus on investigating the use of various classification models on the Trips data when combined with weather variables."
   ]
  },
  {
   "cell_type": "code",
   "execution_count": 1,
   "metadata": {
    "collapsed": false
   },
   "outputs": [],
   "source": [
    "# Import necessary libraries and functions that are needed for the modeling\n",
    "import pandas as pd\n",
    "import numpy as np\n",
    "import matplotlib.pyplot as plt\n",
    "from sklearn.tree import DecisionTreeClassifier, export_graphviz\n",
    "from sklearn.ensemble import RandomForestClassifier, ExtraTreesClassifier, GradientBoostingClassifier\n",
    "from sklearn import linear_model, naive_bayes\n",
    "from sklearn.neighbors import KNeighborsClassifier\n",
    "from sklearn.neural_network import MLPClassifier\n",
    "from sklearn.model_selection import ShuffleSplit, train_test_split, cross_val_score\n",
    "from sklearn import metrics\n",
    "import seaborn as sns\n",
    "from timeit import default_timer as timer\n",
    "%matplotlib inline"
   ]
  },
  {
   "cell_type": "code",
   "execution_count": 2,
   "metadata": {
    "collapsed": false
   },
   "outputs": [
    {
     "data": {
      "text/html": [
       "<style>body {\n",
       "    margin: 0;\n",
       "    font-family: Helvetica;\n",
       "}\n",
       "table.dataframe {\n",
       "    border-collapse: collapse;\n",
       "    border: none;\n",
       "}\n",
       "table.dataframe tr {\n",
       "    border: none;\n",
       "}\n",
       "table.dataframe td, table.dataframe th {\n",
       "    margin: 0;\n",
       "    border: 1px solid white;\n",
       "    padding-left: 0.25em;\n",
       "    padding-right: 0.25em;\n",
       "}\n",
       "table.dataframe th:not(:empty) {\n",
       "    background-color: #fec;\n",
       "    text-align: left;\n",
       "    font-weight: normal;\n",
       "}\n",
       "table.dataframe tr:nth-child(2) th:empty {\n",
       "    border-left: none;\n",
       "    border-right: 1px dashed #888;\n",
       "}\n",
       "table.dataframe td {\n",
       "    border: 2px solid #ccf;\n",
       "    background-color: #f4f4ff;\n",
       "}\n",
       "h3 {\n",
       "    color: white;\n",
       "    background-color: black;\n",
       "    padding: 0.5em;\n",
       "}\n",
       "</style>"
      ],
      "text/plain": [
       "<IPython.core.display.HTML object>"
      ]
     },
     "execution_count": 2,
     "metadata": {},
     "output_type": "execute_result"
    }
   ],
   "source": [
    "# taken from Brandon Rhodes's Pandas Tutorial (https://github.com/brandon-rhodes)\n",
    "from IPython.core.display import HTML\n",
    "css = open('style-table.css').read() + open('style-notebook.css').read()\n",
    "HTML('<style>{}</style>'.format(css))"
   ]
  },
  {
   "cell_type": "code",
   "execution_count": 3,
   "metadata": {
    "collapsed": false
   },
   "outputs": [],
   "source": [
    "dF = pd.read_csv(\"data/2016_Denver_Bike_Trip_ML_Data.gz\", dtype = {'Bike_Number' : object}, compression=\"gzip\")"
   ]
  },
  {
   "cell_type": "code",
   "execution_count": 4,
   "metadata": {
    "collapsed": false
   },
   "outputs": [
    {
     "data": {
      "text/plain": [
       "(402965, 14)"
      ]
     },
     "execution_count": 4,
     "metadata": {},
     "output_type": "execute_result"
    }
   ],
   "source": [
    "dF.shape"
   ]
  },
  {
   "cell_type": "code",
   "execution_count": 5,
   "metadata": {
    "collapsed": false
   },
   "outputs": [
    {
     "data": {
      "text/html": [
       "<div>\n",
       "<table border=\"1\" class=\"dataframe\">\n",
       "  <thead>\n",
       "    <tr style=\"text-align: right;\">\n",
       "      <th></th>\n",
       "      <th>User_Program</th>\n",
       "      <th>User_ID</th>\n",
       "      <th>Membership_Type</th>\n",
       "      <th>Bike_Number</th>\n",
       "      <th>Checkout_Date</th>\n",
       "      <th>Checkout_Hour</th>\n",
       "      <th>Checkout_Kiosk</th>\n",
       "      <th>Return_Date</th>\n",
       "      <th>Return_Time</th>\n",
       "      <th>Return_Kiosk</th>\n",
       "      <th>Trip_Duration</th>\n",
       "      <th>Trip_Distance</th>\n",
       "      <th>Checkout_WeekDay</th>\n",
       "      <th>Checkout_Month</th>\n",
       "    </tr>\n",
       "  </thead>\n",
       "  <tbody>\n",
       "    <tr>\n",
       "      <th>0</th>\n",
       "      <td>Denver B-cycle</td>\n",
       "      <td>1052163</td>\n",
       "      <td>24-hour Kiosk Only (Denver B-cycle)</td>\n",
       "      <td>83</td>\n",
       "      <td>2016-01-01</td>\n",
       "      <td>23</td>\n",
       "      <td>Market Street Station</td>\n",
       "      <td>2016-01-01</td>\n",
       "      <td>23:23:00</td>\n",
       "      <td>19th &amp; Market</td>\n",
       "      <td>2</td>\n",
       "      <td>0.26</td>\n",
       "      <td>4</td>\n",
       "      <td>1</td>\n",
       "    </tr>\n",
       "  </tbody>\n",
       "</table>\n",
       "</div>"
      ],
      "text/plain": [
       "     User_Program  User_ID                      Membership_Type Bike_Number  \\\n",
       "0  Denver B-cycle  1052163  24-hour Kiosk Only (Denver B-cycle)          83   \n",
       "\n",
       "  Checkout_Date  Checkout_Hour         Checkout_Kiosk Return_Date Return_Time  \\\n",
       "0    2016-01-01             23  Market Street Station  2016-01-01    23:23:00   \n",
       "\n",
       "    Return_Kiosk  Trip_Duration  Trip_Distance  Checkout_WeekDay  \\\n",
       "0  19th & Market              2           0.26                 4   \n",
       "\n",
       "   Checkout_Month  \n",
       "0               1  "
      ]
     },
     "execution_count": 5,
     "metadata": {},
     "output_type": "execute_result"
    }
   ],
   "source": [
    "dF.head(1)"
   ]
  },
  {
   "cell_type": "code",
   "execution_count": 6,
   "metadata": {
    "collapsed": false
   },
   "outputs": [],
   "source": [
    "dF.drop(['User_Program'], axis = 1, inplace = True)\n",
    "dF.drop(['Membership_Type'], axis = 1, inplace = True)\n",
    "dF.drop(['User_ID'], axis = 1, inplace = True)\n",
    "dF.drop(['Bike_Number'], axis = 1, inplace = True)\n",
    "dF.drop(['Checkout_Kiosk'], axis = 1, inplace = True)\n",
    "dF.drop(['Return_Date'], axis = 1, inplace = True)\n",
    "dF.drop(['Return_Kiosk'], axis = 1, inplace = True)\n",
    "dF.drop(['Return_Time'], axis = 1, inplace = True)\n",
    "dF.drop(['Trip_Duration'], axis = 1, inplace = True)\n",
    "dF.drop(['Trip_Distance'], axis = 1, inplace = True)"
   ]
  },
  {
   "cell_type": "code",
   "execution_count": 7,
   "metadata": {
    "collapsed": false
   },
   "outputs": [
    {
     "name": "stdout",
     "output_type": "stream",
     "text": [
      "<class 'pandas.core.frame.DataFrame'>\n",
      "RangeIndex: 402965 entries, 0 to 402964\n",
      "Data columns (total 4 columns):\n",
      "Checkout_Date       402965 non-null object\n",
      "Checkout_Hour       402965 non-null int64\n",
      "Checkout_WeekDay    402965 non-null int64\n",
      "Checkout_Month      402965 non-null int64\n",
      "dtypes: int64(3), object(1)\n",
      "memory usage: 12.3+ MB\n"
     ]
    }
   ],
   "source": [
    "dF.info()"
   ]
  },
  {
   "cell_type": "code",
   "execution_count": 8,
   "metadata": {
    "collapsed": false
   },
   "outputs": [],
   "source": [
    "# re-arrange columns in preparation for training and test data\n",
    "dF = dF[['Checkout_Date', 'Checkout_Month', 'Checkout_WeekDay', 'Checkout_Hour']]"
   ]
  },
  {
   "cell_type": "code",
   "execution_count": 9,
   "metadata": {
    "collapsed": false
   },
   "outputs": [
    {
     "name": "stdout",
     "output_type": "stream",
     "text": [
      "<class 'pandas.core.frame.DataFrame'>\n",
      "RangeIndex: 402965 entries, 0 to 402964\n",
      "Data columns (total 4 columns):\n",
      "Checkout_Date       402965 non-null object\n",
      "Checkout_Month      402965 non-null int64\n",
      "Checkout_WeekDay    402965 non-null int64\n",
      "Checkout_Hour       402965 non-null int64\n",
      "dtypes: int64(3), object(1)\n",
      "memory usage: 12.3+ MB\n"
     ]
    }
   ],
   "source": [
    "dF.info()"
   ]
  },
  {
   "cell_type": "code",
   "execution_count": 10,
   "metadata": {
    "collapsed": true
   },
   "outputs": [],
   "source": [
    "dW = pd.read_csv(\"data/Denver_2016_Hourly_Weather_Forecast.csv\")"
   ]
  },
  {
   "cell_type": "code",
   "execution_count": 11,
   "metadata": {
    "collapsed": true
   },
   "outputs": [],
   "source": [
    "dW.rename(columns = {'Hour': 'Checkout_Hour'}, inplace = True)"
   ]
  },
  {
   "cell_type": "code",
   "execution_count": 12,
   "metadata": {
    "collapsed": true
   },
   "outputs": [],
   "source": [
    "dW['Checkout_WeekDay'] = pd.DatetimeIndex(dW['Date']).weekday"
   ]
  },
  {
   "cell_type": "code",
   "execution_count": 13,
   "metadata": {
    "collapsed": true
   },
   "outputs": [],
   "source": [
    "dW['Checkout_Month'] = pd.DatetimeIndex(dW['Date']).month"
   ]
  },
  {
   "cell_type": "code",
   "execution_count": 14,
   "metadata": {
    "collapsed": true
   },
   "outputs": [],
   "source": [
    "dFW = dF.groupby(['Checkout_Date', 'Checkout_Month', 'Checkout_WeekDay', \n",
    "                  'Checkout_Hour']).size().to_frame(name = 'Number_Of_Checkouts').reset_index()"
   ]
  },
  {
   "cell_type": "code",
   "execution_count": 15,
   "metadata": {
    "collapsed": true
   },
   "outputs": [],
   "source": [
    "dT = pd.merge(dW, dFW, how='left', left_on=['Date', 'Checkout_Hour'], \n",
    "              right_on=['Checkout_Date', 'Checkout_Hour'])"
   ]
  },
  {
   "cell_type": "code",
   "execution_count": 16,
   "metadata": {
    "collapsed": false
   },
   "outputs": [
    {
     "data": {
      "text/plain": [
       "True"
      ]
     },
     "execution_count": 16,
     "metadata": {},
     "output_type": "execute_result"
    }
   ],
   "source": [
    "dT.isnull().values.any()"
   ]
  },
  {
   "cell_type": "code",
   "execution_count": 17,
   "metadata": {
    "collapsed": true
   },
   "outputs": [],
   "source": [
    "nan_rows = dT[dT.isnull().T.any().T]"
   ]
  },
  {
   "cell_type": "code",
   "execution_count": 18,
   "metadata": {
    "collapsed": true
   },
   "outputs": [],
   "source": [
    "dT = dT.drop(dT.index[nan_rows.index])"
   ]
  },
  {
   "cell_type": "code",
   "execution_count": 19,
   "metadata": {
    "collapsed": false
   },
   "outputs": [
    {
     "data": {
      "text/plain": [
       "False"
      ]
     },
     "execution_count": 19,
     "metadata": {},
     "output_type": "execute_result"
    }
   ],
   "source": [
    "dT.isnull().values.any()"
   ]
  },
  {
   "cell_type": "code",
   "execution_count": 20,
   "metadata": {
    "collapsed": true
   },
   "outputs": [],
   "source": [
    "dT.drop(['Date', 'Checkout_WeekDay_y', 'Checkout_Month_y'], axis = 1, inplace = True)\n",
    "dT.rename(columns = {'cloudCover': 'Cloud_Cover', 'temperature': 'Temperature', 'apparentTemperature' : 'Apparent_Temperature',\n",
    "                     'windSpeed' : 'Wind_Speed', 'humidity' : 'Humidity', 'visibility' : 'Visibility',\n",
    "                     'Checkout_WeekDay_x': 'Checkout_WeekDay', 'Checkout_Month_x': 'Checkout_Month'}, inplace = True)"
   ]
  },
  {
   "cell_type": "code",
   "execution_count": 21,
   "metadata": {
    "collapsed": false
   },
   "outputs": [],
   "source": [
    "dT = dT[~((dT.Checkout_Hour == 0)  | (dT.Checkout_Hour == 1)  | (dT.Checkout_Hour == 2)  | (dT.Checkout_Hour == 3)  |\n",
    "         (dT.Checkout_Hour == 4))]"
   ]
  },
  {
   "cell_type": "code",
   "execution_count": 22,
   "metadata": {
    "collapsed": false
   },
   "outputs": [
    {
     "data": {
      "text/plain": [
       "(6849, 11)"
      ]
     },
     "execution_count": 22,
     "metadata": {},
     "output_type": "execute_result"
    }
   ],
   "source": [
    "dT.shape"
   ]
  },
  {
   "cell_type": "code",
   "execution_count": 23,
   "metadata": {
    "collapsed": false
   },
   "outputs": [
    {
     "data": {
      "text/plain": [
       "252.0"
      ]
     },
     "execution_count": 23,
     "metadata": {},
     "output_type": "execute_result"
    }
   ],
   "source": [
    "dT['Number_Of_Checkouts'].max()"
   ]
  },
  {
   "cell_type": "code",
   "execution_count": 24,
   "metadata": {
    "collapsed": false
   },
   "outputs": [
    {
     "name": "stdout",
     "output_type": "stream",
     "text": [
      "<class 'pandas.core.frame.DataFrame'>\n",
      "Int64Index: 6849 entries, 8 to 8783\n",
      "Data columns (total 11 columns):\n",
      "Checkout_Hour           6849 non-null int64\n",
      "Apparent_Temperature    6849 non-null float64\n",
      "Cloud_Cover             6849 non-null float64\n",
      "Humidity                6849 non-null float64\n",
      "Temperature             6849 non-null float64\n",
      "Visibility              6849 non-null float64\n",
      "Wind_Speed              6849 non-null float64\n",
      "Checkout_WeekDay        6849 non-null int32\n",
      "Checkout_Month          6849 non-null int32\n",
      "Checkout_Date           6849 non-null object\n",
      "Number_Of_Checkouts     6849 non-null float64\n",
      "dtypes: float64(7), int32(2), int64(1), object(1)\n",
      "memory usage: 588.6+ KB\n"
     ]
    }
   ],
   "source": [
    "dT.info()"
   ]
  },
  {
   "cell_type": "code",
   "execution_count": 25,
   "metadata": {
    "collapsed": true
   },
   "outputs": [],
   "source": [
    "#data = dML.copy(deep=True)"
   ]
  },
  {
   "cell_type": "code",
   "execution_count": 26,
   "metadata": {
    "collapsed": false
   },
   "outputs": [],
   "source": [
    "dT.rename(columns = {'cloudCover': 'Cloud_Cover', 'temperature': 'Temperature', 'apparentTemperature' : 'Apparent_Temperature',\n",
    "                     'windSpeed' : 'Wind_Speed', 'humidity' : 'Humidity', 'visibility' : 'Visibility'}, inplace = True)"
   ]
  },
  {
   "cell_type": "code",
   "execution_count": 27,
   "metadata": {
    "collapsed": true
   },
   "outputs": [],
   "source": [
    "dT = dT[['Checkout_Date', 'Checkout_Month', 'Checkout_WeekDay', 'Checkout_Hour', 'Temperature', 'Apparent_Temperature',\n",
    "             'Cloud_Cover', 'Humidity', 'Wind_Speed', 'Visibility', 'Number_Of_Checkouts']]"
   ]
  },
  {
   "cell_type": "code",
   "execution_count": 28,
   "metadata": {
    "collapsed": false
   },
   "outputs": [],
   "source": [
    "month_dummies = pd.get_dummies(dT.Checkout_Month, prefix='month')"
   ]
  },
  {
   "cell_type": "code",
   "execution_count": 29,
   "metadata": {
    "collapsed": true
   },
   "outputs": [],
   "source": [
    "weekday_dummies = pd.get_dummies(dT.Checkout_WeekDay, prefix='weekday')"
   ]
  },
  {
   "cell_type": "code",
   "execution_count": 30,
   "metadata": {
    "collapsed": true
   },
   "outputs": [],
   "source": [
    "hour_dummies = pd.get_dummies(dT.Checkout_Hour, prefix='hour')"
   ]
  },
  {
   "cell_type": "code",
   "execution_count": 31,
   "metadata": {
    "collapsed": true
   },
   "outputs": [],
   "source": [
    "data = pd.concat([dT, month_dummies, weekday_dummies, hour_dummies], axis=1)"
   ]
  },
  {
   "cell_type": "code",
   "execution_count": 32,
   "metadata": {
    "collapsed": false
   },
   "outputs": [],
   "source": [
    "data = data[['Checkout_Month', 'Checkout_WeekDay', 'Checkout_Hour',\n",
    "             'month_1', 'month_2', 'month_3', 'month_4', 'month_5', 'month_6', 'month_7', 'month_8',\n",
    "             'month_9', 'month_10', 'month_11', 'month_12',\n",
    "             'weekday_0', 'weekday_1', 'weekday_2', 'weekday_3', 'weekday_4', 'weekday_5', 'weekday_6',\n",
    "             'hour_5', 'hour_6', 'hour_7', 'hour_8', 'hour_9', 'hour_10', 'hour_11', 'hour_12', 'hour_13',\n",
    "             'hour_14', 'hour_15', 'hour_16', 'hour_17',\n",
    "             'hour_18', 'hour_19', 'hour_20', 'hour_21', 'hour_22', 'hour_23',\n",
    "             'Temperature', 'Apparent_Temperature', 'Cloud_Cover', 'Wind_Speed', 'Humidity', 'Visibility',\n",
    "             'Number_Of_Checkouts']]"
   ]
  },
  {
   "cell_type": "code",
   "execution_count": 33,
   "metadata": {
    "collapsed": false
   },
   "outputs": [],
   "source": [
    "data['Number_Of_Checkouts'] = data[['Number_Of_Checkouts']].astype('int32')"
   ]
  },
  {
   "cell_type": "code",
   "execution_count": 34,
   "metadata": {
    "collapsed": false
   },
   "outputs": [],
   "source": [
    "data['Class_Label'] = data['Number_Of_Checkouts'].map(lambda x: 0 if ((x >= 1) & (x <= 50)) \n",
    "                                                else 1 if ((x >= 51)  & (x <= 75)) \n",
    "                                                else 2 if ((x >= 76)  & (x <= 100)) \n",
    "                                                else 3 if ((x >= 101)  & (x <= 150))\n",
    "                                                else 4)"
   ]
  },
  {
   "cell_type": "code",
   "execution_count": 35,
   "metadata": {
    "collapsed": false
   },
   "outputs": [
    {
     "data": {
      "text/html": [
       "<div>\n",
       "<table border=\"1\" class=\"dataframe\">\n",
       "  <thead>\n",
       "    <tr style=\"text-align: right;\">\n",
       "      <th></th>\n",
       "      <th>Checkout_Month</th>\n",
       "      <th>Checkout_WeekDay</th>\n",
       "      <th>Checkout_Hour</th>\n",
       "      <th>month_1</th>\n",
       "      <th>month_2</th>\n",
       "      <th>month_3</th>\n",
       "      <th>month_4</th>\n",
       "      <th>month_5</th>\n",
       "      <th>month_6</th>\n",
       "      <th>month_7</th>\n",
       "      <th>...</th>\n",
       "      <th>hour_22</th>\n",
       "      <th>hour_23</th>\n",
       "      <th>Temperature</th>\n",
       "      <th>Apparent_Temperature</th>\n",
       "      <th>Cloud_Cover</th>\n",
       "      <th>Wind_Speed</th>\n",
       "      <th>Humidity</th>\n",
       "      <th>Visibility</th>\n",
       "      <th>Number_Of_Checkouts</th>\n",
       "      <th>Class_Label</th>\n",
       "    </tr>\n",
       "  </thead>\n",
       "  <tbody>\n",
       "    <tr>\n",
       "      <th>8</th>\n",
       "      <td>1</td>\n",
       "      <td>4</td>\n",
       "      <td>8</td>\n",
       "      <td>1</td>\n",
       "      <td>0</td>\n",
       "      <td>0</td>\n",
       "      <td>0</td>\n",
       "      <td>0</td>\n",
       "      <td>0</td>\n",
       "      <td>0</td>\n",
       "      <td>...</td>\n",
       "      <td>0</td>\n",
       "      <td>0</td>\n",
       "      <td>6.63</td>\n",
       "      <td>-5.68</td>\n",
       "      <td>0.00</td>\n",
       "      <td>7.61</td>\n",
       "      <td>0.73</td>\n",
       "      <td>10.00</td>\n",
       "      <td>3</td>\n",
       "      <td>0</td>\n",
       "    </tr>\n",
       "    <tr>\n",
       "      <th>9</th>\n",
       "      <td>1</td>\n",
       "      <td>4</td>\n",
       "      <td>9</td>\n",
       "      <td>1</td>\n",
       "      <td>0</td>\n",
       "      <td>0</td>\n",
       "      <td>0</td>\n",
       "      <td>0</td>\n",
       "      <td>0</td>\n",
       "      <td>0</td>\n",
       "      <td>...</td>\n",
       "      <td>0</td>\n",
       "      <td>0</td>\n",
       "      <td>13.85</td>\n",
       "      <td>4.28</td>\n",
       "      <td>0.08</td>\n",
       "      <td>6.33</td>\n",
       "      <td>0.64</td>\n",
       "      <td>10.00</td>\n",
       "      <td>8</td>\n",
       "      <td>0</td>\n",
       "    </tr>\n",
       "    <tr>\n",
       "      <th>10</th>\n",
       "      <td>1</td>\n",
       "      <td>4</td>\n",
       "      <td>10</td>\n",
       "      <td>1</td>\n",
       "      <td>0</td>\n",
       "      <td>0</td>\n",
       "      <td>0</td>\n",
       "      <td>0</td>\n",
       "      <td>0</td>\n",
       "      <td>0</td>\n",
       "      <td>...</td>\n",
       "      <td>0</td>\n",
       "      <td>0</td>\n",
       "      <td>19.73</td>\n",
       "      <td>9.49</td>\n",
       "      <td>0.16</td>\n",
       "      <td>8.55</td>\n",
       "      <td>0.54</td>\n",
       "      <td>10.00</td>\n",
       "      <td>7</td>\n",
       "      <td>0</td>\n",
       "    </tr>\n",
       "    <tr>\n",
       "      <th>11</th>\n",
       "      <td>1</td>\n",
       "      <td>4</td>\n",
       "      <td>11</td>\n",
       "      <td>1</td>\n",
       "      <td>0</td>\n",
       "      <td>0</td>\n",
       "      <td>0</td>\n",
       "      <td>0</td>\n",
       "      <td>0</td>\n",
       "      <td>0</td>\n",
       "      <td>...</td>\n",
       "      <td>0</td>\n",
       "      <td>0</td>\n",
       "      <td>25.91</td>\n",
       "      <td>19.04</td>\n",
       "      <td>0.16</td>\n",
       "      <td>5.93</td>\n",
       "      <td>0.42</td>\n",
       "      <td>10.00</td>\n",
       "      <td>22</td>\n",
       "      <td>0</td>\n",
       "    </tr>\n",
       "    <tr>\n",
       "      <th>12</th>\n",
       "      <td>1</td>\n",
       "      <td>4</td>\n",
       "      <td>12</td>\n",
       "      <td>1</td>\n",
       "      <td>0</td>\n",
       "      <td>0</td>\n",
       "      <td>0</td>\n",
       "      <td>0</td>\n",
       "      <td>0</td>\n",
       "      <td>0</td>\n",
       "      <td>...</td>\n",
       "      <td>0</td>\n",
       "      <td>0</td>\n",
       "      <td>29.53</td>\n",
       "      <td>23.17</td>\n",
       "      <td>0.16</td>\n",
       "      <td>6.15</td>\n",
       "      <td>0.37</td>\n",
       "      <td>9.97</td>\n",
       "      <td>13</td>\n",
       "      <td>0</td>\n",
       "    </tr>\n",
       "  </tbody>\n",
       "</table>\n",
       "<p>5 rows × 49 columns</p>\n",
       "</div>"
      ],
      "text/plain": [
       "    Checkout_Month  Checkout_WeekDay  Checkout_Hour  month_1  month_2  \\\n",
       "8                1                 4              8        1        0   \n",
       "9                1                 4              9        1        0   \n",
       "10               1                 4             10        1        0   \n",
       "11               1                 4             11        1        0   \n",
       "12               1                 4             12        1        0   \n",
       "\n",
       "    month_3  month_4  month_5  month_6  month_7     ...       hour_22  \\\n",
       "8         0        0        0        0        0     ...             0   \n",
       "9         0        0        0        0        0     ...             0   \n",
       "10        0        0        0        0        0     ...             0   \n",
       "11        0        0        0        0        0     ...             0   \n",
       "12        0        0        0        0        0     ...             0   \n",
       "\n",
       "    hour_23  Temperature  Apparent_Temperature  Cloud_Cover  Wind_Speed  \\\n",
       "8         0         6.63                 -5.68         0.00        7.61   \n",
       "9         0        13.85                  4.28         0.08        6.33   \n",
       "10        0        19.73                  9.49         0.16        8.55   \n",
       "11        0        25.91                 19.04         0.16        5.93   \n",
       "12        0        29.53                 23.17         0.16        6.15   \n",
       "\n",
       "    Humidity  Visibility  Number_Of_Checkouts  Class_Label  \n",
       "8       0.73       10.00                    3            0  \n",
       "9       0.64       10.00                    8            0  \n",
       "10      0.54       10.00                    7            0  \n",
       "11      0.42       10.00                   22            0  \n",
       "12      0.37        9.97                   13            0  \n",
       "\n",
       "[5 rows x 49 columns]"
      ]
     },
     "execution_count": 35,
     "metadata": {},
     "output_type": "execute_result"
    }
   ],
   "source": [
    "data.head()"
   ]
  },
  {
   "cell_type": "code",
   "execution_count": 36,
   "metadata": {
    "collapsed": true
   },
   "outputs": [],
   "source": [
    "dUT = data.sample(n=10, random_state=123)"
   ]
  },
  {
   "cell_type": "code",
   "execution_count": 37,
   "metadata": {
    "collapsed": true
   },
   "outputs": [],
   "source": [
    "del_rows = dUT.index"
   ]
  },
  {
   "cell_type": "code",
   "execution_count": 38,
   "metadata": {
    "collapsed": true
   },
   "outputs": [],
   "source": [
    "data.drop(del_rows, axis=0, inplace=True)"
   ]
  },
  {
   "cell_type": "code",
   "execution_count": 39,
   "metadata": {
    "collapsed": false
   },
   "outputs": [
    {
     "name": "stdout",
     "output_type": "stream",
     "text": [
      "<class 'pandas.core.frame.DataFrame'>\n",
      "Int64Index: 6839 entries, 8 to 8783\n",
      "Data columns (total 49 columns):\n",
      "Checkout_Month          6839 non-null int32\n",
      "Checkout_WeekDay        6839 non-null int32\n",
      "Checkout_Hour           6839 non-null int64\n",
      "month_1                 6839 non-null uint8\n",
      "month_2                 6839 non-null uint8\n",
      "month_3                 6839 non-null uint8\n",
      "month_4                 6839 non-null uint8\n",
      "month_5                 6839 non-null uint8\n",
      "month_6                 6839 non-null uint8\n",
      "month_7                 6839 non-null uint8\n",
      "month_8                 6839 non-null uint8\n",
      "month_9                 6839 non-null uint8\n",
      "month_10                6839 non-null uint8\n",
      "month_11                6839 non-null uint8\n",
      "month_12                6839 non-null uint8\n",
      "weekday_0               6839 non-null uint8\n",
      "weekday_1               6839 non-null uint8\n",
      "weekday_2               6839 non-null uint8\n",
      "weekday_3               6839 non-null uint8\n",
      "weekday_4               6839 non-null uint8\n",
      "weekday_5               6839 non-null uint8\n",
      "weekday_6               6839 non-null uint8\n",
      "hour_5                  6839 non-null uint8\n",
      "hour_6                  6839 non-null uint8\n",
      "hour_7                  6839 non-null uint8\n",
      "hour_8                  6839 non-null uint8\n",
      "hour_9                  6839 non-null uint8\n",
      "hour_10                 6839 non-null uint8\n",
      "hour_11                 6839 non-null uint8\n",
      "hour_12                 6839 non-null uint8\n",
      "hour_13                 6839 non-null uint8\n",
      "hour_14                 6839 non-null uint8\n",
      "hour_15                 6839 non-null uint8\n",
      "hour_16                 6839 non-null uint8\n",
      "hour_17                 6839 non-null uint8\n",
      "hour_18                 6839 non-null uint8\n",
      "hour_19                 6839 non-null uint8\n",
      "hour_20                 6839 non-null uint8\n",
      "hour_21                 6839 non-null uint8\n",
      "hour_22                 6839 non-null uint8\n",
      "hour_23                 6839 non-null uint8\n",
      "Temperature             6839 non-null float64\n",
      "Apparent_Temperature    6839 non-null float64\n",
      "Cloud_Cover             6839 non-null float64\n",
      "Wind_Speed              6839 non-null float64\n",
      "Humidity                6839 non-null float64\n",
      "Visibility              6839 non-null float64\n",
      "Number_Of_Checkouts     6839 non-null int32\n",
      "Class_Label             6839 non-null int64\n",
      "dtypes: float64(6), int32(3), int64(2), uint8(38)\n",
      "memory usage: 814.8 KB\n"
     ]
    }
   ],
   "source": [
    "data.info()"
   ]
  },
  {
   "cell_type": "code",
   "execution_count": 40,
   "metadata": {
    "collapsed": false
   },
   "outputs": [],
   "source": [
    "data = data[['Checkout_Month', 'Checkout_WeekDay', 'Checkout_Hour',\n",
    "             'month_1', 'month_2', 'month_3', 'month_4', 'month_5', 'month_6', 'month_7', 'month_8',\n",
    "             'month_9', 'month_10', 'month_11', 'month_12',\n",
    "             'weekday_0', 'weekday_1', 'weekday_2', 'weekday_3', 'weekday_4', 'weekday_5', 'weekday_6',\n",
    "             'hour_5', 'hour_6', 'hour_7', 'hour_8', 'hour_9', 'hour_10', 'hour_11', 'hour_12', 'hour_13',\n",
    "             'hour_14', 'hour_15', 'hour_16', 'hour_17',\n",
    "             'hour_18', 'hour_19', 'hour_20', 'hour_21', 'hour_22', 'hour_23',\n",
    "             'Temperature', 'Apparent_Temperature', 'Cloud_Cover', 'Wind_Speed', 'Humidity', 'Visibility',\n",
    "             'Class_Label']]"
   ]
  },
  {
   "cell_type": "code",
   "execution_count": 41,
   "metadata": {
    "collapsed": false
   },
   "outputs": [
    {
     "name": "stdout",
     "output_type": "stream",
     "text": [
      "<class 'pandas.core.frame.DataFrame'>\n",
      "Int64Index: 6839 entries, 8 to 8783\n",
      "Data columns (total 48 columns):\n",
      "Checkout_Month          6839 non-null int32\n",
      "Checkout_WeekDay        6839 non-null int32\n",
      "Checkout_Hour           6839 non-null int64\n",
      "month_1                 6839 non-null uint8\n",
      "month_2                 6839 non-null uint8\n",
      "month_3                 6839 non-null uint8\n",
      "month_4                 6839 non-null uint8\n",
      "month_5                 6839 non-null uint8\n",
      "month_6                 6839 non-null uint8\n",
      "month_7                 6839 non-null uint8\n",
      "month_8                 6839 non-null uint8\n",
      "month_9                 6839 non-null uint8\n",
      "month_10                6839 non-null uint8\n",
      "month_11                6839 non-null uint8\n",
      "month_12                6839 non-null uint8\n",
      "weekday_0               6839 non-null uint8\n",
      "weekday_1               6839 non-null uint8\n",
      "weekday_2               6839 non-null uint8\n",
      "weekday_3               6839 non-null uint8\n",
      "weekday_4               6839 non-null uint8\n",
      "weekday_5               6839 non-null uint8\n",
      "weekday_6               6839 non-null uint8\n",
      "hour_5                  6839 non-null uint8\n",
      "hour_6                  6839 non-null uint8\n",
      "hour_7                  6839 non-null uint8\n",
      "hour_8                  6839 non-null uint8\n",
      "hour_9                  6839 non-null uint8\n",
      "hour_10                 6839 non-null uint8\n",
      "hour_11                 6839 non-null uint8\n",
      "hour_12                 6839 non-null uint8\n",
      "hour_13                 6839 non-null uint8\n",
      "hour_14                 6839 non-null uint8\n",
      "hour_15                 6839 non-null uint8\n",
      "hour_16                 6839 non-null uint8\n",
      "hour_17                 6839 non-null uint8\n",
      "hour_18                 6839 non-null uint8\n",
      "hour_19                 6839 non-null uint8\n",
      "hour_20                 6839 non-null uint8\n",
      "hour_21                 6839 non-null uint8\n",
      "hour_22                 6839 non-null uint8\n",
      "hour_23                 6839 non-null uint8\n",
      "Temperature             6839 non-null float64\n",
      "Apparent_Temperature    6839 non-null float64\n",
      "Cloud_Cover             6839 non-null float64\n",
      "Wind_Speed              6839 non-null float64\n",
      "Humidity                6839 non-null float64\n",
      "Visibility              6839 non-null float64\n",
      "Class_Label             6839 non-null int64\n",
      "dtypes: float64(6), int32(2), int64(2), uint8(38)\n",
      "memory usage: 788.1 KB\n"
     ]
    }
   ],
   "source": [
    "data.info()"
   ]
  },
  {
   "cell_type": "code",
   "execution_count": 42,
   "metadata": {
    "collapsed": false
   },
   "outputs": [],
   "source": [
    "array = data.values"
   ]
  },
  {
   "cell_type": "code",
   "execution_count": 43,
   "metadata": {
    "collapsed": false
   },
   "outputs": [
    {
     "data": {
      "text/plain": [
       "array([  1.  ,   0.  ,   0.  ,   0.  ,   0.  ,   0.  ,   0.  ,   0.  ,\n",
       "         0.  ,   0.  ,   0.  ,   0.  ,   0.  ,   0.  ,   0.  ,   0.  ,\n",
       "         1.  ,   0.  ,   0.  ,   0.  ,   0.  ,   0.  ,   1.  ,   0.  ,\n",
       "         0.  ,   0.  ,   0.  ,   0.  ,   0.  ,   0.  ,   0.  ,   0.  ,\n",
       "         0.  ,   0.  ,   0.  ,   0.  ,   0.  ,   0.  ,   6.63,  -5.68,\n",
       "         0.  ,   7.61,   0.73,  10.  ])"
      ]
     },
     "execution_count": 43,
     "metadata": {},
     "output_type": "execute_result"
    }
   ],
   "source": [
    "X = array[:,3:47]\n",
    "X[0]"
   ]
  },
  {
   "cell_type": "code",
   "execution_count": 44,
   "metadata": {
    "collapsed": false
   },
   "outputs": [
    {
     "data": {
      "text/plain": [
       "0.0"
      ]
     },
     "execution_count": 44,
     "metadata": {},
     "output_type": "execute_result"
    }
   ],
   "source": [
    "y = array[:,47]\n",
    "y[0]"
   ]
  },
  {
   "cell_type": "markdown",
   "metadata": {},
   "source": [
    "## Feature Correlations"
   ]
  },
  {
   "cell_type": "code",
   "execution_count": 45,
   "metadata": {
    "collapsed": false
   },
   "outputs": [
    {
     "data": {
      "image/png": "[encoded data removed]",
      "text/plain": [
       "<matplotlib.figure.Figure at 0x20f27e852e8>"
      ]
     },
     "metadata": {},
     "output_type": "display_data"
    }
   ],
   "source": [
    "plt.figure(figsize=(18,10))\n",
    "ax = sns.heatmap(data.corr())\n",
    "plt.title(\"Feature Correlations\", fontsize=18)\n",
    "plt.xticks(fontsize=14)\n",
    "plt.yticks(fontsize=14)\n",
    "plt.show()"
   ]
  },
  {
   "cell_type": "code",
   "execution_count": 46,
   "metadata": {
    "collapsed": false
   },
   "outputs": [],
   "source": [
    "features = ['month_1', 'month_2', 'month_3', 'month_4', 'month_5', 'month_6', 'month_7', 'month_8',\n",
    "             'month_9', 'month_10', 'month_11', 'month_12',\n",
    "             'weekday_0', 'weekday_1', 'weekday_2', 'weekday_3', 'weekday_4', 'weekday_5', 'weekday_6',\n",
    "             'hour_5', 'hour_6', 'hour_7', 'hour_8', 'hour_9', 'hour_10', 'hour_11', 'hour_12', 'hour_13',\n",
    "             'hour_14', 'hour_15', 'hour_16', 'hour_17',\n",
    "             'hour_18', 'hour_19', 'hour_20', 'hour_21', 'hour_22', 'hour_23',\n",
    "             'Temperature', 'Apparent_Temperature', 'Cloud_Cover', 'Wind_Speed', 'Humidity', 'Visibility']\n",
    "X = data[features]\n",
    "y = data[\"Class_Label\"]\n",
    "X_train, X_test, y_train, y_test = train_test_split(X, y, test_size=0.3, random_state=0, stratify=y)"
   ]
  },
  {
   "cell_type": "markdown",
   "metadata": {},
   "source": [
    "## 2. Modeling - Categorical Feature Set"
   ]
  },
  {
   "cell_type": "code",
   "execution_count": 47,
   "metadata": {
    "collapsed": false
   },
   "outputs": [],
   "source": [
    "def plot_feature_importances(model, plot_title):\n",
    "    n_features = X.shape[1]\n",
    "    plt.figure(figsize=(10,14))\n",
    "    feature_importance = model.feature_importances_\n",
    "    features_list = features\n",
    "    feature_importance, features_list = zip(*sorted(zip(feature_importance, features_list)))\n",
    "    plt.barh(range(len(features_list)), feature_importance, align='center')\n",
    "    plt.xticks(fontsize=14)\n",
    "    plt.yticks(np.arange(len(features_list)), features_list, fontsize=14)\n",
    "    plt.xlabel('Relative Importance', fontsize=16)\n",
    "    plt.ylabel('Feature', fontsize=16)\n",
    "    plt.title(plot_title + ' Features Importance', fontsize=20)\n",
    "    plt.show()"
   ]
  },
  {
   "cell_type": "code",
   "execution_count": 48,
   "metadata": {
    "collapsed": false
   },
   "outputs": [],
   "source": [
    "def get_class_metrics(model, actual, predicted):\n",
    "    class_metrics = {'Accuracy' : metrics.accuracy_score(actual, predicted),\n",
    "                         'F1 (macro)' : metrics.f1_score(actual, predicted, average='macro'),\n",
    "                         'F1 (micro)' : metrics.f1_score(actual, predicted, average='micro'),\n",
    "                         'Precision (macro)' : metrics.precision_score(actual, predicted,  average='macro'),\n",
    "                         'Precision (micro)' : metrics.precision_score(actual, predicted,  average='micro'),\n",
    "                         'Recall (macro)' : metrics.recall_score(actual, predicted,  average='macro'),\n",
    "                         'Recall (micro)' : metrics.recall_score(actual, predicted,  average='micro')}\n",
    "    dML_metrics = pd.DataFrame.from_dict(class_metrics, orient='index')\n",
    "    dML_metrics.columns = [model]\n",
    "    return dML_metrics"
   ]
  },
  {
   "cell_type": "code",
   "execution_count": 49,
   "metadata": {
    "collapsed": true
   },
   "outputs": [],
   "source": [
    "def perform_classification(model, clfr):   \n",
    " \n",
    "    clfr.fit(X_train, y_train)\n",
    "    ypred = clfr.predict(X_test)\n",
    "    got_metrics = get_class_metrics(model, y_test, ypred)\n",
    "    print(model,'\\n')\n",
    "    print(\"Accuracy on training set: {:.3f}\".format(clfr.score(X_train, y_train)))\n",
    "    print(\"Accuracy on test set: {:.3f}\".format(clfr.score(X_test, y_test)))\n",
    "    print('\\nConfusion Matrix:')\n",
    "    print(metrics.confusion_matrix(y_test, ypred))\n",
    "    print('\\nClassification Report:')\n",
    "    print(metrics.classification_report(y_test, ypred))\n",
    "    return got_metrics"
   ]
  },
  {
   "cell_type": "code",
   "execution_count": 50,
   "metadata": {
    "collapsed": false
   },
   "outputs": [],
   "source": [
    "from sklearn.model_selection import StratifiedShuffleSplit\n",
    "def perform_cross_validation(model, clfr):\n",
    "    shuffle_split = StratifiedShuffleSplit(test_size=.5, train_size=.5, n_splits=5)\n",
    "    scores = cross_val_score(clfr, X, y, cv=shuffle_split)\n",
    "    print(\"Cross-validation scores:\\n{}\".format(scores))\n",
    "    print(\"Cross-validation scores mean: {:.3f}\".format(scores.mean()))\n",
    "    xv_metrics = {'Cross Validation' : scores.mean()}\n",
    "    dXV_metrics = pd.DataFrame.from_dict(xv_metrics, orient='index')\n",
    "    dXV_metrics.columns = [model]\n",
    "    return dXV_metrics"
   ]
  },
  {
   "cell_type": "code",
   "execution_count": 51,
   "metadata": {
    "collapsed": true
   },
   "outputs": [],
   "source": [
    "def get_execution_time_metrics(model, et):\n",
    "    et_metrics = {'Execution Time (sec)' : et}\n",
    "    dET_metrics = pd.DataFrame.from_dict(et_metrics, orient='index')\n",
    "    dET_metrics.columns = [model]\n",
    "    return dET_metrics"
   ]
  },
  {
   "cell_type": "markdown",
   "metadata": {},
   "source": [
    "#### Decision Tree Classification"
   ]
  },
  {
   "cell_type": "code",
   "execution_count": 52,
   "metadata": {
    "collapsed": false
   },
   "outputs": [
    {
     "name": "stdout",
     "output_type": "stream",
     "text": [
      "Decision Tree Classification \n",
      "\n",
      "Accuracy on training set: 1.000\n",
      "Accuracy on test set: 0.641\n",
      "\n",
      "Confusion Matrix:\n",
      "[[856 127  27   8   1]\n",
      " [ 88 132 106  24   1]\n",
      " [ 20  77 147  62   6]\n",
      " [  7  28  81 135  34]\n",
      " [  0   1   4  35  45]]\n",
      "\n",
      "Classification Report:\n",
      "             precision    recall  f1-score   support\n",
      "\n",
      "          0       0.88      0.84      0.86      1019\n",
      "          1       0.36      0.38      0.37       351\n",
      "          2       0.40      0.47      0.43       312\n",
      "          3       0.51      0.47      0.49       285\n",
      "          4       0.52      0.53      0.52        85\n",
      "\n",
      "avg / total       0.65      0.64      0.65      2052\n",
      "\n",
      "Cross-validation scores:\n",
      "[ 0.62076023  0.63625731  0.64824561  0.65146199  0.63888889]\n",
      "Cross-validation scores mean: 0.639\n",
      "\n",
      "Execution Time (sec): 0.337\n"
     ]
    },
    {
     "data": {
      "image/png": "[encoded data removed]",
      "text/plain": [
       "<matplotlib.figure.Figure at 0x20f28304e80>"
      ]
     },
     "metadata": {},
     "output_type": "display_data"
    },
    {
     "data": {
      "text/html": [
       "<div>\n",
       "<table border=\"1\" class=\"dataframe\">\n",
       "  <thead>\n",
       "    <tr style=\"text-align: right;\">\n",
       "      <th></th>\n",
       "      <th>Decision Tree Classification</th>\n",
       "    </tr>\n",
       "  </thead>\n",
       "  <tbody>\n",
       "    <tr>\n",
       "      <th>Accuracy</th>\n",
       "      <td>0.640838</td>\n",
       "    </tr>\n",
       "    <tr>\n",
       "      <th>F1 (macro)</th>\n",
       "      <td>0.535669</td>\n",
       "    </tr>\n",
       "    <tr>\n",
       "      <th>F1 (micro)</th>\n",
       "      <td>0.640838</td>\n",
       "    </tr>\n",
       "    <tr>\n",
       "      <th>Precision (macro)</th>\n",
       "      <td>0.534911</td>\n",
       "    </tr>\n",
       "    <tr>\n",
       "      <th>Precision (micro)</th>\n",
       "      <td>0.640838</td>\n",
       "    </tr>\n",
       "    <tr>\n",
       "      <th>Recall (macro)</th>\n",
       "      <td>0.538071</td>\n",
       "    </tr>\n",
       "    <tr>\n",
       "      <th>Recall (micro)</th>\n",
       "      <td>0.640838</td>\n",
       "    </tr>\n",
       "  </tbody>\n",
       "</table>\n",
       "</div>"
      ],
      "text/plain": [
       "                   Decision Tree Classification\n",
       "Accuracy                               0.640838\n",
       "F1 (macro)                             0.535669\n",
       "F1 (micro)                             0.640838\n",
       "Precision (macro)                      0.534911\n",
       "Precision (micro)                      0.640838\n",
       "Recall (macro)                         0.538071\n",
       "Recall (micro)                         0.640838"
      ]
     },
     "execution_count": 52,
     "metadata": {},
     "output_type": "execute_result"
    }
   ],
   "source": [
    "# Decision Tree Classifier\n",
    "class_model = 'Decision Tree Classification'\n",
    "start = timer()\n",
    "clf = DecisionTreeClassifier(random_state=0)\n",
    "dtc = perform_classification(class_model, clf)\n",
    "dtc_xv = perform_cross_validation(class_model, clf)\n",
    "end = timer()\n",
    "et = end - start\n",
    "print(\"\\nExecution Time (sec): {:.3f}\".format(et))\n",
    "dtc_et = get_execution_time_metrics(class_model, et)\n",
    "plot_feature_importances(clf, class_model)\n",
    "dtc.sort_index()"
   ]
  },
  {
   "cell_type": "markdown",
   "metadata": {},
   "source": [
    "#### Linear (Logistic) Classification"
   ]
  },
  {
   "cell_type": "code",
   "execution_count": 53,
   "metadata": {
    "collapsed": false
   },
   "outputs": [
    {
     "name": "stdout",
     "output_type": "stream",
     "text": [
      "Logistic Classification \n",
      "\n",
      "Accuracy on training set: 0.668\n",
      "Accuracy on test set: 0.662\n",
      "\n",
      "Confusion Matrix:\n",
      "[[941  43   5  29   1]\n",
      " [165  99  62  24   1]\n",
      " [ 50  62 132  64   4]\n",
      " [ 31   8  65 168  13]\n",
      " [  2   1   4  59  19]]\n",
      "\n",
      "Classification Report:\n",
      "             precision    recall  f1-score   support\n",
      "\n",
      "          0       0.79      0.92      0.85      1019\n",
      "          1       0.46      0.28      0.35       351\n",
      "          2       0.49      0.42      0.46       312\n",
      "          3       0.49      0.59      0.53       285\n",
      "          4       0.50      0.22      0.31        85\n",
      "\n",
      "avg / total       0.64      0.66      0.64      2052\n",
      "\n",
      "Cross-validation scores:\n",
      "[ 0.64766082  0.65672515  0.65906433  0.65906433  0.6505848 ]\n",
      "Cross-validation scores mean: 0.655\n",
      "\n",
      "Execution Time (sec): 15.990\n"
     ]
    },
    {
     "data": {
      "text/html": [
       "<div>\n",
       "<table border=\"1\" class=\"dataframe\">\n",
       "  <thead>\n",
       "    <tr style=\"text-align: right;\">\n",
       "      <th></th>\n",
       "      <th>Logistic Classification</th>\n",
       "    </tr>\n",
       "  </thead>\n",
       "  <tbody>\n",
       "    <tr>\n",
       "      <th>Accuracy</th>\n",
       "      <td>0.662281</td>\n",
       "    </tr>\n",
       "    <tr>\n",
       "      <th>F1 (macro)</th>\n",
       "      <td>0.500343</td>\n",
       "    </tr>\n",
       "    <tr>\n",
       "      <th>F1 (micro)</th>\n",
       "      <td>0.662281</td>\n",
       "    </tr>\n",
       "    <tr>\n",
       "      <th>Precision (macro)</th>\n",
       "      <td>0.547424</td>\n",
       "    </tr>\n",
       "    <tr>\n",
       "      <th>Precision (micro)</th>\n",
       "      <td>0.662281</td>\n",
       "    </tr>\n",
       "    <tr>\n",
       "      <th>Recall (macro)</th>\n",
       "      <td>0.488317</td>\n",
       "    </tr>\n",
       "    <tr>\n",
       "      <th>Recall (micro)</th>\n",
       "      <td>0.662281</td>\n",
       "    </tr>\n",
       "  </tbody>\n",
       "</table>\n",
       "</div>"
      ],
      "text/plain": [
       "                   Logistic Classification\n",
       "Accuracy                          0.662281\n",
       "F1 (macro)                        0.500343\n",
       "F1 (micro)                        0.662281\n",
       "Precision (macro)                 0.547424\n",
       "Precision (micro)                 0.662281\n",
       "Recall (macro)                    0.488317\n",
       "Recall (micro)                    0.662281"
      ]
     },
     "execution_count": 53,
     "metadata": {},
     "output_type": "execute_result"
    }
   ],
   "source": [
    "# logistic regression\n",
    "class_model = 'Logistic Classification'\n",
    "start = timer()\n",
    "#clf = linear_model.LogisticRegression(random_state=0)\n",
    "clf = linear_model.LogisticRegression(C=1.0, solver='lbfgs', random_state=0, multi_class='ovr', n_jobs=-1)\n",
    "lin_reg = perform_classification(class_model, clf)\n",
    "lin_reg_xv = perform_cross_validation(class_model, clf)\n",
    "end = timer()\n",
    "et = end - start\n",
    "print(\"\\nExecution Time (sec): {:.3f}\".format((end - start)))\n",
    "lin_reg_et = get_execution_time_metrics(class_model, et)\n",
    "lin_reg.sort_index()"
   ]
  },
  {
   "cell_type": "markdown",
   "metadata": {},
   "source": [
    "#### Random Forest Classification"
   ]
  },
  {
   "cell_type": "code",
   "execution_count": 54,
   "metadata": {
    "collapsed": false
   },
   "outputs": [
    {
     "name": "stdout",
     "output_type": "stream",
     "text": [
      "Random Forest Classification \n",
      "\n",
      "Accuracy on training set: 1.000\n",
      "Accuracy on test set: 0.706\n",
      "\n",
      "Confusion Matrix:\n",
      "[[949  57  10   3   0]\n",
      " [110 130  96  14   1]\n",
      " [ 21  68 170  52   1]\n",
      " [ 11  14  78 165  17]\n",
      " [  2   0   3  46  34]]\n",
      "\n",
      "Classification Report:\n",
      "             precision    recall  f1-score   support\n",
      "\n",
      "          0       0.87      0.93      0.90      1019\n",
      "          1       0.48      0.37      0.42       351\n",
      "          2       0.48      0.54      0.51       312\n",
      "          3       0.59      0.58      0.58       285\n",
      "          4       0.64      0.40      0.49        85\n",
      "\n",
      "avg / total       0.69      0.71      0.70      2052\n",
      "\n",
      "Cross-validation scores:\n",
      "[ 0.68596491  0.70467836  0.6997076   0.69561404  0.68947368]\n",
      "Cross-validation scores mean: 0.695\n",
      "\n",
      "Execution Time (sec): 4.064\n"
     ]
    },
    {
     "data": {
      "image/png": "[encoded data removed]",
      "text/plain": [
       "<matplotlib.figure.Figure at 0x20f2833eb70>"
      ]
     },
     "metadata": {},
     "output_type": "display_data"
    },
    {
     "data": {
      "text/html": [
       "<div>\n",
       "<table border=\"1\" class=\"dataframe\">\n",
       "  <thead>\n",
       "    <tr style=\"text-align: right;\">\n",
       "      <th></th>\n",
       "      <th>Random Forest Classification</th>\n",
       "    </tr>\n",
       "  </thead>\n",
       "  <tbody>\n",
       "    <tr>\n",
       "      <th>Accuracy</th>\n",
       "      <td>0.705653</td>\n",
       "    </tr>\n",
       "    <tr>\n",
       "      <th>F1 (macro)</th>\n",
       "      <td>0.580615</td>\n",
       "    </tr>\n",
       "    <tr>\n",
       "      <th>F1 (micro)</th>\n",
       "      <td>0.705653</td>\n",
       "    </tr>\n",
       "    <tr>\n",
       "      <th>Precision (macro)</th>\n",
       "      <td>0.611702</td>\n",
       "    </tr>\n",
       "    <tr>\n",
       "      <th>Precision (micro)</th>\n",
       "      <td>0.705653</td>\n",
       "    </tr>\n",
       "    <tr>\n",
       "      <th>Recall (macro)</th>\n",
       "      <td>0.565099</td>\n",
       "    </tr>\n",
       "    <tr>\n",
       "      <th>Recall (micro)</th>\n",
       "      <td>0.705653</td>\n",
       "    </tr>\n",
       "  </tbody>\n",
       "</table>\n",
       "</div>"
      ],
      "text/plain": [
       "                   Random Forest Classification\n",
       "Accuracy                               0.705653\n",
       "F1 (macro)                             0.580615\n",
       "F1 (micro)                             0.705653\n",
       "Precision (macro)                      0.611702\n",
       "Precision (micro)                      0.705653\n",
       "Recall (macro)                         0.565099\n",
       "Recall (micro)                         0.705653"
      ]
     },
     "execution_count": 54,
     "metadata": {},
     "output_type": "execute_result"
    }
   ],
   "source": [
    "# Random Forest Classifier\n",
    "class_model = 'Random Forest Classification'\n",
    "start = timer() \n",
    "clf = RandomForestClassifier(n_estimators=150, max_features='auto', max_depth=None, random_state=0, n_jobs=-1)\n",
    "rfc = perform_classification(class_model, clf)\n",
    "rfc_xv = perform_cross_validation(class_model, clf)\n",
    "end = timer()\n",
    "et = end - start\n",
    "print(\"\\nExecution Time (sec): {:.3f}\".format((end - start)))\n",
    "rfc_et = get_execution_time_metrics(class_model, et)\n",
    "plot_feature_importances(clf, class_model)\n",
    "rfc.sort_index()"
   ]
  },
  {
   "cell_type": "markdown",
   "metadata": {},
   "source": [
    "#### Extra Trees Classification"
   ]
  },
  {
   "cell_type": "code",
   "execution_count": 55,
   "metadata": {
    "collapsed": false
   },
   "outputs": [
    {
     "name": "stdout",
     "output_type": "stream",
     "text": [
      "Extra Trees Classification \n",
      "\n",
      "Accuracy on training set: 1.000\n",
      "Accuracy on test set: 0.713\n",
      "\n",
      "Confusion Matrix:\n",
      "[[947  62   7   3   0]\n",
      " [ 99 138 100  13   1]\n",
      " [ 14  70 167  58   3]\n",
      " [  4  10  78 168  25]\n",
      " [  0   1   0  41  43]]\n",
      "\n",
      "Classification Report:\n",
      "             precision    recall  f1-score   support\n",
      "\n",
      "          0       0.89      0.93      0.91      1019\n",
      "          1       0.49      0.39      0.44       351\n",
      "          2       0.47      0.54      0.50       312\n",
      "          3       0.59      0.59      0.59       285\n",
      "          4       0.60      0.51      0.55        85\n",
      "\n",
      "avg / total       0.71      0.71      0.71      2052\n",
      "\n",
      "Cross-validation scores:\n",
      "[ 0.70994152  0.70906433  0.70964912  0.70497076  0.70877193]\n",
      "Cross-validation scores mean: 0.708\n",
      "\n",
      "Execution Time (sec): 3.655\n"
     ]
    },
    {
     "data": {
      "image/png": "[encoded data removed]",
      "text/plain": [
       "<matplotlib.figure.Figure at 0x20f2839aac8>"
      ]
     },
     "metadata": {},
     "output_type": "display_data"
    },
    {
     "data": {
      "text/html": [
       "<div>\n",
       "<table border=\"1\" class=\"dataframe\">\n",
       "  <thead>\n",
       "    <tr style=\"text-align: right;\">\n",
       "      <th></th>\n",
       "      <th>Extra Trees Classification</th>\n",
       "    </tr>\n",
       "  </thead>\n",
       "  <tbody>\n",
       "    <tr>\n",
       "      <th>Accuracy</th>\n",
       "      <td>0.712963</td>\n",
       "    </tr>\n",
       "    <tr>\n",
       "      <th>F1 (macro)</th>\n",
       "      <td>0.597661</td>\n",
       "    </tr>\n",
       "    <tr>\n",
       "      <th>F1 (micro)</th>\n",
       "      <td>0.712963</td>\n",
       "    </tr>\n",
       "    <tr>\n",
       "      <th>Precision (macro)</th>\n",
       "      <td>0.609287</td>\n",
       "    </tr>\n",
       "    <tr>\n",
       "      <th>Precision (micro)</th>\n",
       "      <td>0.712963</td>\n",
       "    </tr>\n",
       "    <tr>\n",
       "      <th>Recall (macro)</th>\n",
       "      <td>0.590623</td>\n",
       "    </tr>\n",
       "    <tr>\n",
       "      <th>Recall (micro)</th>\n",
       "      <td>0.712963</td>\n",
       "    </tr>\n",
       "  </tbody>\n",
       "</table>\n",
       "</div>"
      ],
      "text/plain": [
       "                   Extra Trees Classification\n",
       "Accuracy                             0.712963\n",
       "F1 (macro)                           0.597661\n",
       "F1 (micro)                           0.712963\n",
       "Precision (macro)                    0.609287\n",
       "Precision (micro)                    0.712963\n",
       "Recall (macro)                       0.590623\n",
       "Recall (micro)                       0.712963"
      ]
     },
     "execution_count": 55,
     "metadata": {},
     "output_type": "execute_result"
    }
   ],
   "source": [
    "# Extra Trees Classifier\n",
    "class_model = 'Extra Trees Classification'\n",
    "start = timer() \n",
    "clf = ExtraTreesClassifier(n_estimators=150, max_features='auto', max_depth=None, random_state=0, n_jobs=-1)\n",
    "etc = perform_classification(class_model, clf)\n",
    "etc_xv = perform_cross_validation(class_model, clf)\n",
    "end = timer()\n",
    "et = end - start\n",
    "print(\"\\nExecution Time (sec): {:.3f}\".format((end - start)))\n",
    "etc_et = get_execution_time_metrics(class_model, et)\n",
    "plot_feature_importances(clf, 'Random Forest Classification')\n",
    "etc.sort_index()"
   ]
  },
  {
   "cell_type": "markdown",
   "metadata": {},
   "source": [
    "#### Naive Bayes Classification"
   ]
  },
  {
   "cell_type": "code",
   "execution_count": 56,
   "metadata": {
    "collapsed": false
   },
   "outputs": [
    {
     "name": "stdout",
     "output_type": "stream",
     "text": [
      "Naive Bayes Classification \n",
      "\n",
      "Accuracy on training set: 0.357\n",
      "Accuracy on test set: 0.347\n",
      "\n",
      "Confusion Matrix:\n",
      "[[439 399  40  37 104]\n",
      " [ 18 108  84  26 115]\n",
      " [  2  17  58  33 202]\n",
      " [  1   7  11  24 242]\n",
      " [  1   0   0   0  84]]\n",
      "\n",
      "Classification Report:\n",
      "             precision    recall  f1-score   support\n",
      "\n",
      "          0       0.95      0.43      0.59      1019\n",
      "          1       0.20      0.31      0.24       351\n",
      "          2       0.30      0.19      0.23       312\n",
      "          3       0.20      0.08      0.12       285\n",
      "          4       0.11      0.99      0.20        85\n",
      "\n",
      "avg / total       0.59      0.35      0.40      2052\n",
      "\n",
      "Cross-validation scores:\n",
      "[ 0.34415205  0.35116959  0.37631579  0.33684211  0.34298246]\n",
      "Cross-validation scores mean: 0.350\n",
      "\n",
      "Execution Time (sec): 0.212\n"
     ]
    },
    {
     "data": {
      "text/html": [
       "<div>\n",
       "<table border=\"1\" class=\"dataframe\">\n",
       "  <thead>\n",
       "    <tr style=\"text-align: right;\">\n",
       "      <th></th>\n",
       "      <th>Naive Bayes Classification</th>\n",
       "    </tr>\n",
       "  </thead>\n",
       "  <tbody>\n",
       "    <tr>\n",
       "      <th>Accuracy</th>\n",
       "      <td>0.347466</td>\n",
       "    </tr>\n",
       "    <tr>\n",
       "      <th>F1 (macro)</th>\n",
       "      <td>0.277657</td>\n",
       "    </tr>\n",
       "    <tr>\n",
       "      <th>F1 (micro)</th>\n",
       "      <td>0.347466</td>\n",
       "    </tr>\n",
       "    <tr>\n",
       "      <th>Precision (macro)</th>\n",
       "      <td>0.353727</td>\n",
       "    </tr>\n",
       "    <tr>\n",
       "      <th>Precision (micro)</th>\n",
       "      <td>0.347466</td>\n",
       "    </tr>\n",
       "    <tr>\n",
       "      <th>Recall (macro)</th>\n",
       "      <td>0.399370</td>\n",
       "    </tr>\n",
       "    <tr>\n",
       "      <th>Recall (micro)</th>\n",
       "      <td>0.347466</td>\n",
       "    </tr>\n",
       "  </tbody>\n",
       "</table>\n",
       "</div>"
      ],
      "text/plain": [
       "                   Naive Bayes Classification\n",
       "Accuracy                             0.347466\n",
       "F1 (macro)                           0.277657\n",
       "F1 (micro)                           0.347466\n",
       "Precision (macro)                    0.353727\n",
       "Precision (micro)                    0.347466\n",
       "Recall (macro)                       0.399370\n",
       "Recall (micro)                       0.347466"
      ]
     },
     "execution_count": 56,
     "metadata": {},
     "output_type": "execute_result"
    }
   ],
   "source": [
    "# Naive Bayes Classifier\n",
    "class_model = 'Naive Bayes Classification'\n",
    "start = timer()\n",
    "clf = naive_bayes.GaussianNB()\n",
    "nbg = perform_classification(class_model, clf)\n",
    "nbg_xv = perform_cross_validation(class_model, clf)\n",
    "end = timer()\n",
    "et = end - start\n",
    "print(\"\\nExecution Time (sec): {:.3f}\".format((end - start)))\n",
    "nbg_et = get_execution_time_metrics(class_model, et)\n",
    "nbg.sort_index()"
   ]
  },
  {
   "cell_type": "markdown",
   "metadata": {},
   "source": [
    "#### Nearest Neighbors Classification"
   ]
  },
  {
   "cell_type": "code",
   "execution_count": 57,
   "metadata": {
    "collapsed": false
   },
   "outputs": [
    {
     "name": "stdout",
     "output_type": "stream",
     "text": [
      "Nearest Neighbors Classification \n",
      "\n",
      "Accuracy on training set: 0.762\n",
      "Accuracy on test set: 0.546\n",
      "\n",
      "Confusion Matrix:\n",
      "[[917  73  21   8   0]\n",
      " [189  80  65  17   0]\n",
      " [105 101  68  38   0]\n",
      " [ 76  66  89  51   3]\n",
      " [ 19  13  21  28   4]]\n",
      "\n",
      "Classification Report:\n",
      "             precision    recall  f1-score   support\n",
      "\n",
      "          0       0.70      0.90      0.79      1019\n",
      "          1       0.24      0.23      0.23       351\n",
      "          2       0.26      0.22      0.24       312\n",
      "          3       0.36      0.18      0.24       285\n",
      "          4       0.57      0.05      0.09        85\n",
      "\n",
      "avg / total       0.50      0.55      0.50      2052\n",
      "\n",
      "Cross-validation scores:\n",
      "[ 0.55730994  0.55292398  0.5502924   0.55467836  0.54649123]\n",
      "Cross-validation scores mean: 0.552\n",
      "\n",
      "Execution Time (sec): 0.981\n"
     ]
    },
    {
     "data": {
      "text/html": [
       "<div>\n",
       "<table border=\"1\" class=\"dataframe\">\n",
       "  <thead>\n",
       "    <tr style=\"text-align: right;\">\n",
       "      <th></th>\n",
       "      <th>Nearest Neighbors Classification</th>\n",
       "    </tr>\n",
       "  </thead>\n",
       "  <tbody>\n",
       "    <tr>\n",
       "      <th>Accuracy</th>\n",
       "      <td>0.545809</td>\n",
       "    </tr>\n",
       "    <tr>\n",
       "      <th>F1 (macro)</th>\n",
       "      <td>0.316936</td>\n",
       "    </tr>\n",
       "    <tr>\n",
       "      <th>F1 (micro)</th>\n",
       "      <td>0.545809</td>\n",
       "    </tr>\n",
       "    <tr>\n",
       "      <th>Precision (macro)</th>\n",
       "      <td>0.426109</td>\n",
       "    </tr>\n",
       "    <tr>\n",
       "      <th>Precision (micro)</th>\n",
       "      <td>0.545809</td>\n",
       "    </tr>\n",
       "    <tr>\n",
       "      <th>Recall (macro)</th>\n",
       "      <td>0.314355</td>\n",
       "    </tr>\n",
       "    <tr>\n",
       "      <th>Recall (micro)</th>\n",
       "      <td>0.545809</td>\n",
       "    </tr>\n",
       "  </tbody>\n",
       "</table>\n",
       "</div>"
      ],
      "text/plain": [
       "                   Nearest Neighbors Classification\n",
       "Accuracy                                   0.545809\n",
       "F1 (macro)                                 0.316936\n",
       "F1 (micro)                                 0.545809\n",
       "Precision (macro)                          0.426109\n",
       "Precision (micro)                          0.545809\n",
       "Recall (macro)                             0.314355\n",
       "Recall (micro)                             0.545809"
      ]
     },
     "execution_count": 57,
     "metadata": {},
     "output_type": "execute_result"
    }
   ],
   "source": [
    "# Nearest Neighbors Classifier\n",
    "class_model = 'Nearest Neighbors Classification'\n",
    "start = timer()\n",
    "clf = KNeighborsClassifier(n_neighbors=2, n_jobs=-1)\n",
    "knn = perform_classification(class_model, clf)\n",
    "knn_xv = perform_cross_validation(class_model, clf)\n",
    "end = timer()\n",
    "et = end - start\n",
    "print(\"\\nExecution Time (sec): {:.3f}\".format((end - start)))\n",
    "knn_et = get_execution_time_metrics(class_model, et)\n",
    "knn.sort_index()"
   ]
  },
  {
   "cell_type": "markdown",
   "metadata": {},
   "source": [
    "#### Gradient Boosting Classification"
   ]
  },
  {
   "cell_type": "code",
   "execution_count": 58,
   "metadata": {
    "collapsed": false
   },
   "outputs": [
    {
     "name": "stdout",
     "output_type": "stream",
     "text": [
      "Gradient Boosting Classification \n",
      "\n",
      "Accuracy on training set: 1.000\n",
      "Accuracy on test set: 0.665\n",
      "\n",
      "Confusion Matrix:\n",
      "[[908  86  16   7   2]\n",
      " [106 137  80  28   0]\n",
      " [ 18  79 149  61   5]\n",
      " [  8  42  76 134  25]\n",
      " [  0   2   4  42  37]]\n",
      "\n",
      "Classification Report:\n",
      "             precision    recall  f1-score   support\n",
      "\n",
      "          0       0.87      0.89      0.88      1019\n",
      "          1       0.40      0.39      0.39       351\n",
      "          2       0.46      0.48      0.47       312\n",
      "          3       0.49      0.47      0.48       285\n",
      "          4       0.54      0.44      0.48        85\n",
      "\n",
      "avg / total       0.66      0.67      0.66      2052\n",
      "\n",
      "Cross-validation scores:\n",
      "[ 0.65584795  0.66140351  0.6502924   0.65467836  0.63976608]\n",
      "Cross-validation scores mean: 0.652\n",
      "\n",
      "Execution Time (sec): 137.870\n"
     ]
    },
    {
     "data": {
      "image/png": "[encoded data removed]",
      "text/plain": [
       "<matplotlib.figure.Figure at 0x20f2ef63f60>"
      ]
     },
     "metadata": {},
     "output_type": "display_data"
    },
    {
     "data": {
      "text/html": [
       "<div>\n",
       "<table border=\"1\" class=\"dataframe\">\n",
       "  <thead>\n",
       "    <tr style=\"text-align: right;\">\n",
       "      <th></th>\n",
       "      <th>Gradient Boosting Classification</th>\n",
       "    </tr>\n",
       "  </thead>\n",
       "  <tbody>\n",
       "    <tr>\n",
       "      <th>Accuracy</th>\n",
       "      <td>0.665205</td>\n",
       "    </tr>\n",
       "    <tr>\n",
       "      <th>F1 (macro)</th>\n",
       "      <td>0.540916</td>\n",
       "    </tr>\n",
       "    <tr>\n",
       "      <th>F1 (micro)</th>\n",
       "      <td>0.665205</td>\n",
       "    </tr>\n",
       "    <tr>\n",
       "      <th>Precision (macro)</th>\n",
       "      <td>0.551274</td>\n",
       "    </tr>\n",
       "    <tr>\n",
       "      <th>Precision (micro)</th>\n",
       "      <td>0.665205</td>\n",
       "    </tr>\n",
       "    <tr>\n",
       "      <th>Recall (macro)</th>\n",
       "      <td>0.532883</td>\n",
       "    </tr>\n",
       "    <tr>\n",
       "      <th>Recall (micro)</th>\n",
       "      <td>0.665205</td>\n",
       "    </tr>\n",
       "  </tbody>\n",
       "</table>\n",
       "</div>"
      ],
      "text/plain": [
       "                   Gradient Boosting Classification\n",
       "Accuracy                                   0.665205\n",
       "F1 (macro)                                 0.540916\n",
       "F1 (micro)                                 0.665205\n",
       "Precision (macro)                          0.551274\n",
       "Precision (micro)                          0.665205\n",
       "Recall (macro)                             0.532883\n",
       "Recall (micro)                             0.665205"
      ]
     },
     "execution_count": 58,
     "metadata": {},
     "output_type": "execute_result"
    }
   ],
   "source": [
    "# Gradient Boosting Classifier\n",
    "class_model = 'Gradient Boosting Classification'\n",
    "#clf = GradientBoostingClassifier()\n",
    "start = timer()\n",
    "clf = GradientBoostingClassifier(n_estimators=150, max_features='auto', max_depth=None, random_state=0)\n",
    "gbc = perform_classification(class_model, clf)\n",
    "gbc_xv = perform_cross_validation(class_model, clf)\n",
    "end = timer()\n",
    "et = end - start\n",
    "print(\"\\nExecution Time (sec): {:.3f}\".format((end - start)))\n",
    "gbc_et = get_execution_time_metrics(class_model, et)\n",
    "plot_feature_importances(clf, class_model)\n",
    "gbc.sort_index()"
   ]
  },
  {
   "cell_type": "markdown",
   "metadata": {},
   "source": [
    "#### Multi-layer Perceptron Classification"
   ]
  },
  {
   "cell_type": "code",
   "execution_count": 59,
   "metadata": {
    "collapsed": false
   },
   "outputs": [
    {
     "name": "stdout",
     "output_type": "stream",
     "text": [
      "Multi-Layer Perception Classification \n",
      "\n",
      "Accuracy on training set: 0.696\n",
      "Accuracy on test set: 0.690\n",
      "\n",
      "Confusion Matrix:\n",
      "[[960  15  28  15   1]\n",
      " [131  28 173  18   1]\n",
      " [ 18   5 235  51   3]\n",
      " [  6   0  96 177   6]\n",
      " [  1   0   3  66  15]]\n",
      "\n",
      "Classification Report:\n",
      "             precision    recall  f1-score   support\n",
      "\n",
      "          0       0.86      0.94      0.90      1019\n",
      "          1       0.58      0.08      0.14       351\n",
      "          2       0.44      0.75      0.55       312\n",
      "          3       0.54      0.62      0.58       285\n",
      "          4       0.58      0.18      0.27        85\n",
      "\n",
      "avg / total       0.69      0.69      0.65      2052\n",
      "\n",
      "Cross-validation scores:\n",
      "[ 0.66842105  0.67836257  0.67602339  0.65204678  0.65175439]\n",
      "Cross-validation scores mean: 0.665\n",
      "\n",
      "Execution Time (sec): 9.565\n"
     ]
    },
    {
     "data": {
      "text/html": [
       "<div>\n",
       "<table border=\"1\" class=\"dataframe\">\n",
       "  <thead>\n",
       "    <tr style=\"text-align: right;\">\n",
       "      <th></th>\n",
       "      <th>Multi-Layer Perception Classification</th>\n",
       "    </tr>\n",
       "  </thead>\n",
       "  <tbody>\n",
       "    <tr>\n",
       "      <th>Accuracy</th>\n",
       "      <td>0.689571</td>\n",
       "    </tr>\n",
       "    <tr>\n",
       "      <th>F1 (macro)</th>\n",
       "      <td>0.488650</td>\n",
       "    </tr>\n",
       "    <tr>\n",
       "      <th>F1 (micro)</th>\n",
       "      <td>0.689571</td>\n",
       "    </tr>\n",
       "    <tr>\n",
       "      <th>Precision (macro)</th>\n",
       "      <td>0.600202</td>\n",
       "    </tr>\n",
       "    <tr>\n",
       "      <th>Precision (micro)</th>\n",
       "      <td>0.689571</td>\n",
       "    </tr>\n",
       "    <tr>\n",
       "      <th>Recall (macro)</th>\n",
       "      <td>0.514520</td>\n",
       "    </tr>\n",
       "    <tr>\n",
       "      <th>Recall (micro)</th>\n",
       "      <td>0.689571</td>\n",
       "    </tr>\n",
       "  </tbody>\n",
       "</table>\n",
       "</div>"
      ],
      "text/plain": [
       "                   Multi-Layer Perception Classification\n",
       "Accuracy                                        0.689571\n",
       "F1 (macro)                                      0.488650\n",
       "F1 (micro)                                      0.689571\n",
       "Precision (macro)                               0.600202\n",
       "Precision (micro)                               0.689571\n",
       "Recall (macro)                                  0.514520\n",
       "Recall (micro)                                  0.689571"
      ]
     },
     "execution_count": 59,
     "metadata": {},
     "output_type": "execute_result"
    }
   ],
   "source": [
    "# Multi-Layer Perceptron Classification\n",
    "class_model = 'Multi-Layer Perception Classification'\n",
    "start = timer()\n",
    "clf = MLPClassifier(random_state=0)\n",
    "mlp = perform_classification(class_model, clf)\n",
    "mlp_xv = perform_cross_validation(class_model, clf)\n",
    "end = timer()\n",
    "et = end - start\n",
    "print(\"\\nExecution Time (sec): {:.3f}\".format((end - start)))\n",
    "mlp_et = get_execution_time_metrics(class_model, et)\n",
    "mlp.sort_index()"
   ]
  },
  {
   "cell_type": "markdown",
   "metadata": {},
   "source": [
    "## Classification Summary with Categorical Feature Set"
   ]
  },
  {
   "cell_type": "code",
   "execution_count": 60,
   "metadata": {
    "collapsed": false,
    "scrolled": true
   },
   "outputs": [],
   "source": [
    "class_metrics = pd.concat([lin_reg, dtc, rfc, etc, nbg, knn, gbc, mlp] , axis=1)"
   ]
  },
  {
   "cell_type": "code",
   "execution_count": 61,
   "metadata": {
    "collapsed": false
   },
   "outputs": [],
   "source": [
    "xv_metrics = pd.concat([lin_reg_xv, dtc_xv, rfc_xv, etc_xv, nbg_xv, knn_xv, gbc_xv, mlp_xv], axis = 1)"
   ]
  },
  {
   "cell_type": "code",
   "execution_count": 62,
   "metadata": {
    "collapsed": false
   },
   "outputs": [],
   "source": [
    "et_metrics = pd.concat([lin_reg_et, dtc_et, rfc_et, etc_et, nbg_et, knn_et, gbc_et, mlp_et], axis = 1)"
   ]
  },
  {
   "cell_type": "code",
   "execution_count": 63,
   "metadata": {
    "collapsed": false
   },
   "outputs": [
    {
     "name": "stdout",
     "output_type": "stream",
     "text": [
      "Classification Summary with Categorical Features\n",
      "\n"
     ]
    },
    {
     "data": {
      "text/html": [
       "<div>\n",
       "<table border=\"1\" class=\"dataframe\">\n",
       "  <thead>\n",
       "    <tr style=\"text-align: right;\">\n",
       "      <th></th>\n",
       "      <th>Logistic Classification</th>\n",
       "      <th>Decision Tree Classification</th>\n",
       "      <th>Random Forest Classification</th>\n",
       "      <th>Extra Trees Classification</th>\n",
       "      <th>Naive Bayes Classification</th>\n",
       "      <th>Nearest Neighbors Classification</th>\n",
       "      <th>Gradient Boosting Classification</th>\n",
       "      <th>Multi-Layer Perception Classification</th>\n",
       "    </tr>\n",
       "  </thead>\n",
       "  <tbody>\n",
       "    <tr>\n",
       "      <th>Accuracy</th>\n",
       "      <td>0.662281</td>\n",
       "      <td>0.640838</td>\n",
       "      <td>0.705653</td>\n",
       "      <td>0.712963</td>\n",
       "      <td>0.347466</td>\n",
       "      <td>0.545809</td>\n",
       "      <td>0.665205</td>\n",
       "      <td>0.689571</td>\n",
       "    </tr>\n",
       "    <tr>\n",
       "      <th>F1 (macro)</th>\n",
       "      <td>0.500343</td>\n",
       "      <td>0.535669</td>\n",
       "      <td>0.580615</td>\n",
       "      <td>0.597661</td>\n",
       "      <td>0.277657</td>\n",
       "      <td>0.316936</td>\n",
       "      <td>0.540916</td>\n",
       "      <td>0.488650</td>\n",
       "    </tr>\n",
       "    <tr>\n",
       "      <th>F1 (micro)</th>\n",
       "      <td>0.662281</td>\n",
       "      <td>0.640838</td>\n",
       "      <td>0.705653</td>\n",
       "      <td>0.712963</td>\n",
       "      <td>0.347466</td>\n",
       "      <td>0.545809</td>\n",
       "      <td>0.665205</td>\n",
       "      <td>0.689571</td>\n",
       "    </tr>\n",
       "    <tr>\n",
       "      <th>Precision (macro)</th>\n",
       "      <td>0.547424</td>\n",
       "      <td>0.534911</td>\n",
       "      <td>0.611702</td>\n",
       "      <td>0.609287</td>\n",
       "      <td>0.353727</td>\n",
       "      <td>0.426109</td>\n",
       "      <td>0.551274</td>\n",
       "      <td>0.600202</td>\n",
       "    </tr>\n",
       "    <tr>\n",
       "      <th>Precision (micro)</th>\n",
       "      <td>0.662281</td>\n",
       "      <td>0.640838</td>\n",
       "      <td>0.705653</td>\n",
       "      <td>0.712963</td>\n",
       "      <td>0.347466</td>\n",
       "      <td>0.545809</td>\n",
       "      <td>0.665205</td>\n",
       "      <td>0.689571</td>\n",
       "    </tr>\n",
       "    <tr>\n",
       "      <th>Recall (macro)</th>\n",
       "      <td>0.488317</td>\n",
       "      <td>0.538071</td>\n",
       "      <td>0.565099</td>\n",
       "      <td>0.590623</td>\n",
       "      <td>0.399370</td>\n",
       "      <td>0.314355</td>\n",
       "      <td>0.532883</td>\n",
       "      <td>0.514520</td>\n",
       "    </tr>\n",
       "    <tr>\n",
       "      <th>Recall (micro)</th>\n",
       "      <td>0.662281</td>\n",
       "      <td>0.640838</td>\n",
       "      <td>0.705653</td>\n",
       "      <td>0.712963</td>\n",
       "      <td>0.347466</td>\n",
       "      <td>0.545809</td>\n",
       "      <td>0.665205</td>\n",
       "      <td>0.689571</td>\n",
       "    </tr>\n",
       "    <tr>\n",
       "      <th>Cross Validation</th>\n",
       "      <td>0.654620</td>\n",
       "      <td>0.639123</td>\n",
       "      <td>0.695088</td>\n",
       "      <td>0.708480</td>\n",
       "      <td>0.350292</td>\n",
       "      <td>0.552339</td>\n",
       "      <td>0.652398</td>\n",
       "      <td>0.665322</td>\n",
       "    </tr>\n",
       "    <tr>\n",
       "      <th>Execution Time (sec)</th>\n",
       "      <td>15.989999</td>\n",
       "      <td>0.337216</td>\n",
       "      <td>4.064112</td>\n",
       "      <td>3.654782</td>\n",
       "      <td>0.211667</td>\n",
       "      <td>0.980936</td>\n",
       "      <td>137.870316</td>\n",
       "      <td>9.564595</td>\n",
       "    </tr>\n",
       "  </tbody>\n",
       "</table>\n",
       "</div>"
      ],
      "text/plain": [
       "                      Logistic Classification  Decision Tree Classification  \\\n",
       "Accuracy                             0.662281                      0.640838   \n",
       "F1 (macro)                           0.500343                      0.535669   \n",
       "F1 (micro)                           0.662281                      0.640838   \n",
       "Precision (macro)                    0.547424                      0.534911   \n",
       "Precision (micro)                    0.662281                      0.640838   \n",
       "Recall (macro)                       0.488317                      0.538071   \n",
       "Recall (micro)                       0.662281                      0.640838   \n",
       "Cross Validation                     0.654620                      0.639123   \n",
       "Execution Time (sec)                15.989999                      0.337216   \n",
       "\n",
       "                      Random Forest Classification  \\\n",
       "Accuracy                                  0.705653   \n",
       "F1 (macro)                                0.580615   \n",
       "F1 (micro)                                0.705653   \n",
       "Precision (macro)                         0.611702   \n",
       "Precision (micro)                         0.705653   \n",
       "Recall (macro)                            0.565099   \n",
       "Recall (micro)                            0.705653   \n",
       "Cross Validation                          0.695088   \n",
       "Execution Time (sec)                      4.064112   \n",
       "\n",
       "                      Extra Trees Classification  Naive Bayes Classification  \\\n",
       "Accuracy                                0.712963                    0.347466   \n",
       "F1 (macro)                              0.597661                    0.277657   \n",
       "F1 (micro)                              0.712963                    0.347466   \n",
       "Precision (macro)                       0.609287                    0.353727   \n",
       "Precision (micro)                       0.712963                    0.347466   \n",
       "Recall (macro)                          0.590623                    0.399370   \n",
       "Recall (micro)                          0.712963                    0.347466   \n",
       "Cross Validation                        0.708480                    0.350292   \n",
       "Execution Time (sec)                    3.654782                    0.211667   \n",
       "\n",
       "                      Nearest Neighbors Classification  \\\n",
       "Accuracy                                      0.545809   \n",
       "F1 (macro)                                    0.316936   \n",
       "F1 (micro)                                    0.545809   \n",
       "Precision (macro)                             0.426109   \n",
       "Precision (micro)                             0.545809   \n",
       "Recall (macro)                                0.314355   \n",
       "Recall (micro)                                0.545809   \n",
       "Cross Validation                              0.552339   \n",
       "Execution Time (sec)                          0.980936   \n",
       "\n",
       "                      Gradient Boosting Classification  \\\n",
       "Accuracy                                      0.665205   \n",
       "F1 (macro)                                    0.540916   \n",
       "F1 (micro)                                    0.665205   \n",
       "Precision (macro)                             0.551274   \n",
       "Precision (micro)                             0.665205   \n",
       "Recall (macro)                                0.532883   \n",
       "Recall (micro)                                0.665205   \n",
       "Cross Validation                              0.652398   \n",
       "Execution Time (sec)                        137.870316   \n",
       "\n",
       "                      Multi-Layer Perception Classification  \n",
       "Accuracy                                           0.689571  \n",
       "F1 (macro)                                         0.488650  \n",
       "F1 (micro)                                         0.689571  \n",
       "Precision (macro)                                  0.600202  \n",
       "Precision (micro)                                  0.689571  \n",
       "Recall (macro)                                     0.514520  \n",
       "Recall (micro)                                     0.689571  \n",
       "Cross Validation                                   0.665322  \n",
       "Execution Time (sec)                               9.564595  "
      ]
     },
     "execution_count": 63,
     "metadata": {},
     "output_type": "execute_result"
    }
   ],
   "source": [
    "final_metrics = pd.concat([class_metrics, xv_metrics, et_metrics])\n",
    "print(\"Classification Summary with Categorical Features\\n\")\n",
    "final_metrics"
   ]
  },
  {
   "cell_type": "markdown",
   "metadata": {},
   "source": [
    "The multi-layer perceptron model attained the highest accuracy in classifying the four classes. The Naïve Bayes model performed the poorest."
   ]
  },
  {
   "cell_type": "markdown",
   "metadata": {},
   "source": [
    "## 3. Modeling - Numerical Feature Set"
   ]
  },
  {
   "cell_type": "code",
   "execution_count": 64,
   "metadata": {
    "collapsed": true
   },
   "outputs": [],
   "source": [
    "data = data[['Checkout_Month', 'Checkout_WeekDay', 'Checkout_Hour', 'Temperature', \n",
    "           'Apparent_Temperature', 'Cloud_Cover', 'Wind_Speed', 'Humidity', 'Visibility', 'Class_Label']]"
   ]
  },
  {
   "cell_type": "code",
   "execution_count": 65,
   "metadata": {
    "collapsed": false
   },
   "outputs": [
    {
     "data": {
      "image/png": "[encoded data removed]",
      "text/plain": [
       "<matplotlib.figure.Figure at 0x20f2a975780>"
      ]
     },
     "metadata": {},
     "output_type": "display_data"
    }
   ],
   "source": [
    "plt.figure(figsize=(12,8))\n",
    "ax = sns.heatmap(data.corr())\n",
    "plt.title(\"Feature Correlations\", fontsize=18)\n",
    "plt.xticks(fontsize=14)\n",
    "plt.yticks(fontsize=14)\n",
    "plt.show()"
   ]
  },
  {
   "cell_type": "code",
   "execution_count": 66,
   "metadata": {
    "collapsed": false
   },
   "outputs": [
    {
     "name": "stdout",
     "output_type": "stream",
     "text": [
      "<class 'pandas.core.frame.DataFrame'>\n",
      "Int64Index: 6839 entries, 8 to 8783\n",
      "Data columns (total 10 columns):\n",
      "Checkout_Month          6839 non-null int32\n",
      "Checkout_WeekDay        6839 non-null int32\n",
      "Checkout_Hour           6839 non-null int64\n",
      "Temperature             6839 non-null float64\n",
      "Apparent_Temperature    6839 non-null float64\n",
      "Cloud_Cover             6839 non-null float64\n",
      "Wind_Speed              6839 non-null float64\n",
      "Humidity                6839 non-null float64\n",
      "Visibility              6839 non-null float64\n",
      "Class_Label             6839 non-null int64\n",
      "dtypes: float64(6), int32(2), int64(2)\n",
      "memory usage: 534.3 KB\n"
     ]
    }
   ],
   "source": [
    "data.info()"
   ]
  },
  {
   "cell_type": "code",
   "execution_count": 67,
   "metadata": {
    "collapsed": false
   },
   "outputs": [],
   "source": [
    "array = data.values\n",
    "X = array[:,0:8]\n",
    "y = array[:,8]"
   ]
  },
  {
   "cell_type": "code",
   "execution_count": 68,
   "metadata": {
    "collapsed": false
   },
   "outputs": [],
   "source": [
    "features = ['Checkout_Month', 'Checkout_WeekDay', 'Checkout_Hour',  \n",
    "            'Temperature', 'Apparent_Temperature', 'Cloud_Cover', 'Wind_Speed', 'Humidity', 'Visibility']\n",
    "X = data[features]\n",
    "y = data[\"Class_Label\"]\n",
    "X_train, X_test, y_train, y_test = train_test_split(X, y, test_size=0.3, random_state=0, stratify=y)"
   ]
  },
  {
   "cell_type": "code",
   "execution_count": 69,
   "metadata": {
    "collapsed": true
   },
   "outputs": [],
   "source": [
    "def plot_feature_importances(model, plot_title):\n",
    "    n_features = X.shape[1]\n",
    "    plt.figure(figsize=(10,6))\n",
    "    feature_importance = model.feature_importances_\n",
    "    features_list = features\n",
    "    feature_importance, features_list = zip(*sorted(zip(feature_importance, features_list)))\n",
    "    plt.barh(range(len(features_list)), feature_importance, align='center')\n",
    "    plt.xticks(fontsize=14)\n",
    "    plt.yticks(np.arange(len(features_list)), features_list, fontsize=14)\n",
    "    plt.xlabel('Relative Importance', fontsize=16)\n",
    "    plt.ylabel('Feature', fontsize=16)\n",
    "    plt.title(plot_title + ' Features Importance', fontsize=20)\n",
    "    plt.show()"
   ]
  },
  {
   "cell_type": "markdown",
   "metadata": {},
   "source": [
    "#### Decision Tree Classification"
   ]
  },
  {
   "cell_type": "code",
   "execution_count": 70,
   "metadata": {
    "collapsed": false
   },
   "outputs": [
    {
     "name": "stdout",
     "output_type": "stream",
     "text": [
      "Decision Tree Classification \n",
      "\n",
      "Accuracy on training set: 1.000\n",
      "Accuracy on test set: 0.654\n",
      "\n",
      "Confusion Matrix:\n",
      "[[874 113  26   5   1]\n",
      " [ 83 132 104  30   2]\n",
      " [ 24  71 145  67   5]\n",
      " [  2  28  65 153  37]\n",
      " [  0   0   1  45  39]]\n",
      "\n",
      "Classification Report:\n",
      "             precision    recall  f1-score   support\n",
      "\n",
      "          0       0.89      0.86      0.87      1019\n",
      "          1       0.38      0.38      0.38       351\n",
      "          2       0.43      0.46      0.44       312\n",
      "          3       0.51      0.54      0.52       285\n",
      "          4       0.46      0.46      0.46        85\n",
      "\n",
      "avg / total       0.66      0.65      0.66      2052\n",
      "\n",
      "Cross-validation scores:\n",
      "[ 0.64912281  0.65643275  0.65847953  0.64444444  0.6374269 ]\n",
      "Cross-validation scores mean: 0.649\n",
      "\n",
      "Execution Time (sec): 0.218\n"
     ]
    },
    {
     "data": {
      "image/png": "[encoded data removed]",
      "text/plain": [
       "<matplotlib.figure.Figure at 0x20f2ebaa0f0>"
      ]
     },
     "metadata": {},
     "output_type": "display_data"
    },
    {
     "data": {
      "text/html": [
       "<div>\n",
       "<table border=\"1\" class=\"dataframe\">\n",
       "  <thead>\n",
       "    <tr style=\"text-align: right;\">\n",
       "      <th></th>\n",
       "      <th>Decision Tree Classification</th>\n",
       "    </tr>\n",
       "  </thead>\n",
       "  <tbody>\n",
       "    <tr>\n",
       "      <th>Accuracy</th>\n",
       "      <td>0.654483</td>\n",
       "    </tr>\n",
       "    <tr>\n",
       "      <th>F1 (macro)</th>\n",
       "      <td>0.536341</td>\n",
       "    </tr>\n",
       "    <tr>\n",
       "      <th>F1 (micro)</th>\n",
       "      <td>0.654483</td>\n",
       "    </tr>\n",
       "    <tr>\n",
       "      <th>Precision (macro)</th>\n",
       "      <td>0.534468</td>\n",
       "    </tr>\n",
       "    <tr>\n",
       "      <th>Precision (micro)</th>\n",
       "      <td>0.654483</td>\n",
       "    </tr>\n",
       "    <tr>\n",
       "      <th>Recall (macro)</th>\n",
       "      <td>0.538836</td>\n",
       "    </tr>\n",
       "    <tr>\n",
       "      <th>Recall (micro)</th>\n",
       "      <td>0.654483</td>\n",
       "    </tr>\n",
       "  </tbody>\n",
       "</table>\n",
       "</div>"
      ],
      "text/plain": [
       "                   Decision Tree Classification\n",
       "Accuracy                               0.654483\n",
       "F1 (macro)                             0.536341\n",
       "F1 (micro)                             0.654483\n",
       "Precision (macro)                      0.534468\n",
       "Precision (micro)                      0.654483\n",
       "Recall (macro)                         0.538836\n",
       "Recall (micro)                         0.654483"
      ]
     },
     "execution_count": 70,
     "metadata": {},
     "output_type": "execute_result"
    }
   ],
   "source": [
    "# Decision Tree Classifier\n",
    "class_model = 'Decision Tree Classification'\n",
    "start = timer()\n",
    "clf = DecisionTreeClassifier(random_state=0)\n",
    "dtc = perform_classification(class_model, clf)\n",
    "dtc_xv = perform_cross_validation(class_model, clf)\n",
    "end = timer()\n",
    "et = end - start\n",
    "print(\"\\nExecution Time (sec): {:.3f}\".format(et))\n",
    "dtc_et = get_execution_time_metrics(class_model, et)\n",
    "plot_feature_importances(clf, class_model)\n",
    "dtc.sort_index()"
   ]
  },
  {
   "cell_type": "markdown",
   "metadata": {},
   "source": [
    "#### Linear (Logistic Regression) Classification"
   ]
  },
  {
   "cell_type": "code",
   "execution_count": 71,
   "metadata": {
    "collapsed": false
   },
   "outputs": [
    {
     "name": "stderr",
     "output_type": "stream",
     "text": [
      "C:\\Users\\jbhasin\\Anaconda3\\lib\\site-packages\\sklearn\\metrics\\classification.py:1113: UndefinedMetricWarning: F-score is ill-defined and being set to 0.0 in labels with no predicted samples.\n",
      "  'precision', 'predicted', average, warn_for)\n",
      "C:\\Users\\jbhasin\\Anaconda3\\lib\\site-packages\\sklearn\\metrics\\classification.py:1113: UndefinedMetricWarning: Precision is ill-defined and being set to 0.0 in labels with no predicted samples.\n",
      "  'precision', 'predicted', average, warn_for)\n",
      "C:\\Users\\jbhasin\\Anaconda3\\lib\\site-packages\\sklearn\\metrics\\classification.py:1113: UndefinedMetricWarning: Precision and F-score are ill-defined and being set to 0.0 in labels with no predicted samples.\n",
      "  'precision', 'predicted', average, warn_for)\n"
     ]
    },
    {
     "name": "stdout",
     "output_type": "stream",
     "text": [
      "Logistic Classification \n",
      "\n",
      "Accuracy on training set: 0.575\n",
      "Accuracy on test set: 0.572\n",
      "\n",
      "Confusion Matrix:\n",
      "[[955  22  16  26   0]\n",
      " [196  38  63  54   0]\n",
      " [112  42  83  75   0]\n",
      " [104  25  59  97   0]\n",
      " [ 14   6  26  39   0]]\n",
      "\n",
      "Classification Report:\n",
      "             precision    recall  f1-score   support\n",
      "\n",
      "          0       0.69      0.94      0.80      1019\n",
      "          1       0.29      0.11      0.16       351\n",
      "          2       0.34      0.27      0.30       312\n",
      "          3       0.33      0.34      0.34       285\n",
      "          4       0.00      0.00      0.00        85\n",
      "\n",
      "avg / total       0.49      0.57      0.51      2052\n",
      "\n",
      "Cross-validation scores:\n",
      "[ 0.56988304  0.5751462   0.56754386  0.57222222  0.58245614]\n",
      "Cross-validation scores mean: 0.573\n",
      "\n",
      "Execution Time (sec): 14.258\n"
     ]
    },
    {
     "data": {
      "text/html": [
       "<div>\n",
       "<table border=\"1\" class=\"dataframe\">\n",
       "  <thead>\n",
       "    <tr style=\"text-align: right;\">\n",
       "      <th></th>\n",
       "      <th>Logistic Classification</th>\n",
       "    </tr>\n",
       "  </thead>\n",
       "  <tbody>\n",
       "    <tr>\n",
       "      <th>Accuracy</th>\n",
       "      <td>0.571637</td>\n",
       "    </tr>\n",
       "    <tr>\n",
       "      <th>F1 (macro)</th>\n",
       "      <td>0.317325</td>\n",
       "    </tr>\n",
       "    <tr>\n",
       "      <th>F1 (micro)</th>\n",
       "      <td>0.571637</td>\n",
       "    </tr>\n",
       "    <tr>\n",
       "      <th>Precision (macro)</th>\n",
       "      <td>0.329322</td>\n",
       "    </tr>\n",
       "    <tr>\n",
       "      <th>Precision (micro)</th>\n",
       "      <td>0.571637</td>\n",
       "    </tr>\n",
       "    <tr>\n",
       "      <th>Recall (macro)</th>\n",
       "      <td>0.330366</td>\n",
       "    </tr>\n",
       "    <tr>\n",
       "      <th>Recall (micro)</th>\n",
       "      <td>0.571637</td>\n",
       "    </tr>\n",
       "  </tbody>\n",
       "</table>\n",
       "</div>"
      ],
      "text/plain": [
       "                   Logistic Classification\n",
       "Accuracy                          0.571637\n",
       "F1 (macro)                        0.317325\n",
       "F1 (micro)                        0.571637\n",
       "Precision (macro)                 0.329322\n",
       "Precision (micro)                 0.571637\n",
       "Recall (macro)                    0.330366\n",
       "Recall (micro)                    0.571637"
      ]
     },
     "execution_count": 71,
     "metadata": {},
     "output_type": "execute_result"
    }
   ],
   "source": [
    "# logistic regression\n",
    "class_model = 'Logistic Classification'\n",
    "start = timer()\n",
    "#clf = linear_model.LogisticRegression(random_state=0)\n",
    "clf = linear_model.LogisticRegression(C=1.0, solver='lbfgs', random_state=0, multi_class='ovr', n_jobs=-1)\n",
    "lin_reg = perform_classification(class_model, clf)\n",
    "lin_reg_xv = perform_cross_validation(class_model, clf)\n",
    "end = timer()\n",
    "et = end - start\n",
    "print(\"\\nExecution Time (sec): {:.3f}\".format((end - start)))\n",
    "lin_reg_et = get_execution_time_metrics(class_model, et)\n",
    "lin_reg.sort_index()"
   ]
  },
  {
   "cell_type": "markdown",
   "metadata": {},
   "source": [
    "#### Random Forest Classification"
   ]
  },
  {
   "cell_type": "code",
   "execution_count": 72,
   "metadata": {
    "collapsed": false
   },
   "outputs": [
    {
     "name": "stdout",
     "output_type": "stream",
     "text": [
      "Random Forest Classification \n",
      "\n",
      "Accuracy on training set: 1.000\n",
      "Accuracy on test set: 0.702\n",
      "\n",
      "Confusion Matrix:\n",
      "[[946  60  11   2   0]\n",
      " [103 136  96  16   0]\n",
      " [ 15  77 161  58   1]\n",
      " [  7  23  70 171  14]\n",
      " [  1   0   3  54  27]]\n",
      "\n",
      "Classification Report:\n",
      "             precision    recall  f1-score   support\n",
      "\n",
      "          0       0.88      0.93      0.90      1019\n",
      "          1       0.46      0.39      0.42       351\n",
      "          2       0.47      0.52      0.49       312\n",
      "          3       0.57      0.60      0.58       285\n",
      "          4       0.64      0.32      0.43        85\n",
      "\n",
      "avg / total       0.69      0.70      0.69      2052\n",
      "\n",
      "Cross-validation scores:\n",
      "[ 0.69473684  0.69356725  0.69093567  0.6874269   0.69181287]\n",
      "Cross-validation scores mean: 0.692\n",
      "\n",
      "Execution Time (sec): 4.203\n"
     ]
    },
    {
     "data": {
      "image/png": "[encoded data removed]",
      "text/plain": [
       "<matplotlib.figure.Figure at 0x20f2eb20828>"
      ]
     },
     "metadata": {},
     "output_type": "display_data"
    },
    {
     "data": {
      "text/html": [
       "<div>\n",
       "<table border=\"1\" class=\"dataframe\">\n",
       "  <thead>\n",
       "    <tr style=\"text-align: right;\">\n",
       "      <th></th>\n",
       "      <th>Random Forest Classification</th>\n",
       "    </tr>\n",
       "  </thead>\n",
       "  <tbody>\n",
       "    <tr>\n",
       "      <th>Accuracy</th>\n",
       "      <td>0.702242</td>\n",
       "    </tr>\n",
       "    <tr>\n",
       "      <th>F1 (macro)</th>\n",
       "      <td>0.565431</td>\n",
       "    </tr>\n",
       "    <tr>\n",
       "      <th>F1 (micro)</th>\n",
       "      <td>0.702242</td>\n",
       "    </tr>\n",
       "    <tr>\n",
       "      <th>Precision (macro)</th>\n",
       "      <td>0.605005</td>\n",
       "    </tr>\n",
       "    <tr>\n",
       "      <th>Precision (micro)</th>\n",
       "      <td>0.702242</td>\n",
       "    </tr>\n",
       "    <tr>\n",
       "      <th>Recall (macro)</th>\n",
       "      <td>0.549900</td>\n",
       "    </tr>\n",
       "    <tr>\n",
       "      <th>Recall (micro)</th>\n",
       "      <td>0.702242</td>\n",
       "    </tr>\n",
       "  </tbody>\n",
       "</table>\n",
       "</div>"
      ],
      "text/plain": [
       "                   Random Forest Classification\n",
       "Accuracy                               0.702242\n",
       "F1 (macro)                             0.565431\n",
       "F1 (micro)                             0.702242\n",
       "Precision (macro)                      0.605005\n",
       "Precision (micro)                      0.702242\n",
       "Recall (macro)                         0.549900\n",
       "Recall (micro)                         0.702242"
      ]
     },
     "execution_count": 72,
     "metadata": {},
     "output_type": "execute_result"
    }
   ],
   "source": [
    "# Random Forest Classifier\n",
    "class_model = 'Random Forest Classification'\n",
    "start = timer() \n",
    "clf = RandomForestClassifier(n_estimators=150, max_features='auto', max_depth=None, random_state=0, n_jobs=-1)\n",
    "rfc = perform_classification(class_model, clf)\n",
    "rfc_xv = perform_cross_validation(class_model, clf)\n",
    "end = timer()\n",
    "et = end - start\n",
    "print(\"\\nExecution Time (sec): {:.3f}\".format((end - start)))\n",
    "rfc_et = get_execution_time_metrics(class_model, et)\n",
    "plot_feature_importances(clf, class_model)\n",
    "rfc.sort_index()"
   ]
  },
  {
   "cell_type": "markdown",
   "metadata": {},
   "source": [
    "#### Extra Trees Classification"
   ]
  },
  {
   "cell_type": "code",
   "execution_count": 73,
   "metadata": {
    "collapsed": false
   },
   "outputs": [
    {
     "name": "stdout",
     "output_type": "stream",
     "text": [
      "Extra Trees Classification \n",
      "\n",
      "Accuracy on training set: 1.000\n",
      "Accuracy on test set: 0.701\n",
      "\n",
      "Confusion Matrix:\n",
      "[[949  61   7   2   0]\n",
      " [112 131  87  21   0]\n",
      " [ 23  68 156  62   3]\n",
      " [  9  19  67 167  23]\n",
      " [  1   0   2  47  35]]\n",
      "\n",
      "Classification Report:\n",
      "             precision    recall  f1-score   support\n",
      "\n",
      "          0       0.87      0.93      0.90      1019\n",
      "          1       0.47      0.37      0.42       351\n",
      "          2       0.49      0.50      0.49       312\n",
      "          3       0.56      0.59      0.57       285\n",
      "          4       0.57      0.41      0.48        85\n",
      "\n",
      "avg / total       0.69      0.70      0.69      2052\n",
      "\n",
      "Cross-validation scores:\n",
      "[ 0.69035088  0.69064327  0.69561404  0.69181287  0.68596491]\n",
      "Cross-validation scores mean: 0.691\n",
      "\n",
      "Execution Time (sec): 3.454\n"
     ]
    },
    {
     "data": {
      "image/png": "[encoded data removed]",
      "text/plain": [
       "<matplotlib.figure.Figure at 0x20f2eb6f9e8>"
      ]
     },
     "metadata": {},
     "output_type": "display_data"
    },
    {
     "data": {
      "text/html": [
       "<div>\n",
       "<table border=\"1\" class=\"dataframe\">\n",
       "  <thead>\n",
       "    <tr style=\"text-align: right;\">\n",
       "      <th></th>\n",
       "      <th>Extra Trees Classification</th>\n",
       "    </tr>\n",
       "  </thead>\n",
       "  <tbody>\n",
       "    <tr>\n",
       "      <th>Accuracy</th>\n",
       "      <td>0.700780</td>\n",
       "    </tr>\n",
       "    <tr>\n",
       "      <th>F1 (macro)</th>\n",
       "      <td>0.571989</td>\n",
       "    </tr>\n",
       "    <tr>\n",
       "      <th>F1 (micro)</th>\n",
       "      <td>0.700780</td>\n",
       "    </tr>\n",
       "    <tr>\n",
       "      <th>Precision (macro)</th>\n",
       "      <td>0.591664</td>\n",
       "    </tr>\n",
       "    <tr>\n",
       "      <th>Precision (micro)</th>\n",
       "      <td>0.700780</td>\n",
       "    </tr>\n",
       "    <tr>\n",
       "      <th>Recall (macro)</th>\n",
       "      <td>0.560451</td>\n",
       "    </tr>\n",
       "    <tr>\n",
       "      <th>Recall (micro)</th>\n",
       "      <td>0.700780</td>\n",
       "    </tr>\n",
       "  </tbody>\n",
       "</table>\n",
       "</div>"
      ],
      "text/plain": [
       "                   Extra Trees Classification\n",
       "Accuracy                             0.700780\n",
       "F1 (macro)                           0.571989\n",
       "F1 (micro)                           0.700780\n",
       "Precision (macro)                    0.591664\n",
       "Precision (micro)                    0.700780\n",
       "Recall (macro)                       0.560451\n",
       "Recall (micro)                       0.700780"
      ]
     },
     "execution_count": 73,
     "metadata": {},
     "output_type": "execute_result"
    }
   ],
   "source": [
    "# Extra Trees Classifier\n",
    "class_model = 'Extra Trees Classification'\n",
    "start = timer() \n",
    "clf = ExtraTreesClassifier(n_estimators=150, max_features='auto', max_depth=None, random_state=0, n_jobs=-1)\n",
    "etc = perform_classification(class_model, clf)\n",
    "etc_xv = perform_cross_validation(class_model, clf)\n",
    "end = timer()\n",
    "et = end - start\n",
    "print(\"\\nExecution Time (sec): {:.3f}\".format((end - start)))\n",
    "etc_et = get_execution_time_metrics(class_model, et)\n",
    "plot_feature_importances(clf, 'Random Forest Classification')\n",
    "etc.sort_index()"
   ]
  },
  {
   "cell_type": "markdown",
   "metadata": {},
   "source": [
    "#### Naive Bayes Classification"
   ]
  },
  {
   "cell_type": "code",
   "execution_count": 74,
   "metadata": {
    "collapsed": false
   },
   "outputs": [
    {
     "name": "stdout",
     "output_type": "stream",
     "text": [
      "Naive Bayes Classification \n",
      "\n",
      "Accuracy on training set: 0.489\n",
      "Accuracy on test set: 0.462\n",
      "\n",
      "Confusion Matrix:\n",
      "[[690 171   0 150   8]\n",
      " [ 81  60   8 174  28]\n",
      " [ 44  36   7 193  32]\n",
      " [ 24  38   5 178  40]\n",
      " [  2   2   2  65  14]]\n",
      "\n",
      "Classification Report:\n",
      "             precision    recall  f1-score   support\n",
      "\n",
      "          0       0.82      0.68      0.74      1019\n",
      "          1       0.20      0.17      0.18       351\n",
      "          2       0.32      0.02      0.04       312\n",
      "          3       0.23      0.62      0.34       285\n",
      "          4       0.11      0.16      0.14        85\n",
      "\n",
      "avg / total       0.53      0.46      0.46      2052\n",
      "\n",
      "Cross-validation scores:\n",
      "[ 0.47719298  0.46959064  0.46432749  0.46023392  0.48245614]\n",
      "Cross-validation scores mean: 0.471\n",
      "\n",
      "Execution Time (sec): 0.129\n"
     ]
    },
    {
     "data": {
      "text/html": [
       "<div>\n",
       "<table border=\"1\" class=\"dataframe\">\n",
       "  <thead>\n",
       "    <tr style=\"text-align: right;\">\n",
       "      <th></th>\n",
       "      <th>Naive Bayes Classification</th>\n",
       "    </tr>\n",
       "  </thead>\n",
       "  <tbody>\n",
       "    <tr>\n",
       "      <th>Accuracy</th>\n",
       "      <td>0.462476</td>\n",
       "    </tr>\n",
       "    <tr>\n",
       "      <th>F1 (macro)</th>\n",
       "      <td>0.288432</td>\n",
       "    </tr>\n",
       "    <tr>\n",
       "      <th>F1 (micro)</th>\n",
       "      <td>0.462476</td>\n",
       "    </tr>\n",
       "    <tr>\n",
       "      <th>Precision (macro)</th>\n",
       "      <td>0.336608</td>\n",
       "    </tr>\n",
       "    <tr>\n",
       "      <th>Precision (micro)</th>\n",
       "      <td>0.462476</td>\n",
       "    </tr>\n",
       "    <tr>\n",
       "      <th>Recall (macro)</th>\n",
       "      <td>0.331956</td>\n",
       "    </tr>\n",
       "    <tr>\n",
       "      <th>Recall (micro)</th>\n",
       "      <td>0.462476</td>\n",
       "    </tr>\n",
       "  </tbody>\n",
       "</table>\n",
       "</div>"
      ],
      "text/plain": [
       "                   Naive Bayes Classification\n",
       "Accuracy                             0.462476\n",
       "F1 (macro)                           0.288432\n",
       "F1 (micro)                           0.462476\n",
       "Precision (macro)                    0.336608\n",
       "Precision (micro)                    0.462476\n",
       "Recall (macro)                       0.331956\n",
       "Recall (micro)                       0.462476"
      ]
     },
     "execution_count": 74,
     "metadata": {},
     "output_type": "execute_result"
    }
   ],
   "source": [
    "# Naive Bayes Classifier\n",
    "class_model = 'Naive Bayes Classification'\n",
    "start = timer()\n",
    "clf = naive_bayes.GaussianNB()\n",
    "nbg = perform_classification(class_model, clf)\n",
    "nbg_xv = perform_cross_validation(class_model, clf)\n",
    "end = timer()\n",
    "et = end - start\n",
    "print(\"\\nExecution Time (sec): {:.3f}\".format((end - start)))\n",
    "nbg_et = get_execution_time_metrics(class_model, et)\n",
    "nbg.sort_index()"
   ]
  },
  {
   "cell_type": "markdown",
   "metadata": {},
   "source": [
    "#### Nearest Neighbors Classification"
   ]
  },
  {
   "cell_type": "code",
   "execution_count": 75,
   "metadata": {
    "collapsed": false
   },
   "outputs": [
    {
     "name": "stdout",
     "output_type": "stream",
     "text": [
      "Nearest Neighbors Classification \n",
      "\n",
      "Accuracy on training set: 0.799\n",
      "Accuracy on test set: 0.608\n",
      "\n",
      "Confusion Matrix:\n",
      "[[931  70  11   7   0]\n",
      " [147 124  70  10   0]\n",
      " [ 53 112 104  39   4]\n",
      " [ 32  67  98  83   5]\n",
      " [  3   6  23  47   6]]\n",
      "\n",
      "Classification Report:\n",
      "             precision    recall  f1-score   support\n",
      "\n",
      "          0       0.80      0.91      0.85      1019\n",
      "          1       0.33      0.35      0.34       351\n",
      "          2       0.34      0.33      0.34       312\n",
      "          3       0.45      0.29      0.35       285\n",
      "          4       0.40      0.07      0.12        85\n",
      "\n",
      "avg / total       0.58      0.61      0.59      2052\n",
      "\n",
      "Cross-validation scores:\n",
      "[ 0.60584795  0.60730994  0.60263158  0.60526316  0.60526316]\n",
      "Cross-validation scores mean: 0.605\n",
      "\n",
      "Execution Time (sec): 0.957\n"
     ]
    },
    {
     "data": {
      "text/html": [
       "<div>\n",
       "<table border=\"1\" class=\"dataframe\">\n",
       "  <thead>\n",
       "    <tr style=\"text-align: right;\">\n",
       "      <th></th>\n",
       "      <th>Nearest Neighbors Classification</th>\n",
       "    </tr>\n",
       "  </thead>\n",
       "  <tbody>\n",
       "    <tr>\n",
       "      <th>Accuracy</th>\n",
       "      <td>0.608187</td>\n",
       "    </tr>\n",
       "    <tr>\n",
       "      <th>F1 (macro)</th>\n",
       "      <td>0.400182</td>\n",
       "    </tr>\n",
       "    <tr>\n",
       "      <th>F1 (micro)</th>\n",
       "      <td>0.608187</td>\n",
       "    </tr>\n",
       "    <tr>\n",
       "      <th>Precision (macro)</th>\n",
       "      <td>0.462348</td>\n",
       "    </tr>\n",
       "    <tr>\n",
       "      <th>Precision (micro)</th>\n",
       "      <td>0.608187</td>\n",
       "    </tr>\n",
       "    <tr>\n",
       "      <th>Recall (macro)</th>\n",
       "      <td>0.392413</td>\n",
       "    </tr>\n",
       "    <tr>\n",
       "      <th>Recall (micro)</th>\n",
       "      <td>0.608187</td>\n",
       "    </tr>\n",
       "  </tbody>\n",
       "</table>\n",
       "</div>"
      ],
      "text/plain": [
       "                   Nearest Neighbors Classification\n",
       "Accuracy                                   0.608187\n",
       "F1 (macro)                                 0.400182\n",
       "F1 (micro)                                 0.608187\n",
       "Precision (macro)                          0.462348\n",
       "Precision (micro)                          0.608187\n",
       "Recall (macro)                             0.392413\n",
       "Recall (micro)                             0.608187"
      ]
     },
     "execution_count": 75,
     "metadata": {},
     "output_type": "execute_result"
    }
   ],
   "source": [
    "# Nearest Neighbors Classifier\n",
    "class_model = 'Nearest Neighbors Classification'\n",
    "start = timer()\n",
    "clf = KNeighborsClassifier(n_neighbors=2, n_jobs=-1)\n",
    "knn = perform_classification(class_model, clf)\n",
    "knn_xv = perform_cross_validation(class_model, clf)\n",
    "end = timer()\n",
    "et = end - start\n",
    "print(\"\\nExecution Time (sec): {:.3f}\".format((end - start)))\n",
    "knn_et = get_execution_time_metrics(class_model, et)\n",
    "knn.sort_index()"
   ]
  },
  {
   "cell_type": "markdown",
   "metadata": {},
   "source": [
    "#### Gradient Boosting Classification"
   ]
  },
  {
   "cell_type": "code",
   "execution_count": 76,
   "metadata": {
    "collapsed": false
   },
   "outputs": [
    {
     "name": "stdout",
     "output_type": "stream",
     "text": [
      "Gradient Boosting Classification \n",
      "\n",
      "Accuracy on training set: 1.000\n",
      "Accuracy on test set: 0.671\n",
      "\n",
      "Confusion Matrix:\n",
      "[[920  81  15   3   0]\n",
      " [117 131  80  22   1]\n",
      " [ 28  85 139  58   2]\n",
      " [  9  34  71 147  24]\n",
      " [  1   4   2  39  39]]\n",
      "\n",
      "Classification Report:\n",
      "             precision    recall  f1-score   support\n",
      "\n",
      "          0       0.86      0.90      0.88      1019\n",
      "          1       0.39      0.37      0.38       351\n",
      "          2       0.45      0.45      0.45       312\n",
      "          3       0.55      0.52      0.53       285\n",
      "          4       0.59      0.46      0.52        85\n",
      "\n",
      "avg / total       0.66      0.67      0.67      2052\n",
      "\n",
      "Cross-validation scores:\n",
      "[ 0.66140351  0.66023392  0.67777778  0.64824561  0.65555556]\n",
      "Cross-validation scores mean: 0.661\n",
      "\n",
      "Execution Time (sec): 76.372\n"
     ]
    },
    {
     "data": {
      "image/png": "[encoded data removed]",
      "text/plain": [
       "<matplotlib.figure.Figure at 0x20f2ef88f28>"
      ]
     },
     "metadata": {},
     "output_type": "display_data"
    },
    {
     "data": {
      "text/html": [
       "<div>\n",
       "<table border=\"1\" class=\"dataframe\">\n",
       "  <thead>\n",
       "    <tr style=\"text-align: right;\">\n",
       "      <th></th>\n",
       "      <th>Gradient Boosting Classification</th>\n",
       "    </tr>\n",
       "  </thead>\n",
       "  <tbody>\n",
       "    <tr>\n",
       "      <th>Accuracy</th>\n",
       "      <td>0.670565</td>\n",
       "    </tr>\n",
       "    <tr>\n",
       "      <th>F1 (macro)</th>\n",
       "      <td>0.551396</td>\n",
       "    </tr>\n",
       "    <tr>\n",
       "      <th>F1 (micro)</th>\n",
       "      <td>0.670565</td>\n",
       "    </tr>\n",
       "    <tr>\n",
       "      <th>Precision (macro)</th>\n",
       "      <td>0.567401</td>\n",
       "    </tr>\n",
       "    <tr>\n",
       "      <th>Precision (micro)</th>\n",
       "      <td>0.670565</td>\n",
       "    </tr>\n",
       "    <tr>\n",
       "      <th>Recall (macro)</th>\n",
       "      <td>0.539238</td>\n",
       "    </tr>\n",
       "    <tr>\n",
       "      <th>Recall (micro)</th>\n",
       "      <td>0.670565</td>\n",
       "    </tr>\n",
       "  </tbody>\n",
       "</table>\n",
       "</div>"
      ],
      "text/plain": [
       "                   Gradient Boosting Classification\n",
       "Accuracy                                   0.670565\n",
       "F1 (macro)                                 0.551396\n",
       "F1 (micro)                                 0.670565\n",
       "Precision (macro)                          0.567401\n",
       "Precision (micro)                          0.670565\n",
       "Recall (macro)                             0.539238\n",
       "Recall (micro)                             0.670565"
      ]
     },
     "execution_count": 76,
     "metadata": {},
     "output_type": "execute_result"
    }
   ],
   "source": [
    "# Gradient Boosting Classifier\n",
    "class_model = 'Gradient Boosting Classification'\n",
    "#clf = GradientBoostingClassifier()\n",
    "start = timer()\n",
    "clf = GradientBoostingClassifier(n_estimators=150, max_features='auto', max_depth=None, random_state=0)\n",
    "gbc = perform_classification(class_model, clf)\n",
    "gbc_xv = perform_cross_validation(class_model, clf)\n",
    "end = timer()\n",
    "et = end - start\n",
    "print(\"\\nExecution Time (sec): {:.3f}\".format((end - start)))\n",
    "gbc_et = get_execution_time_metrics(class_model, et)\n",
    "plot_feature_importances(clf, class_model)\n",
    "gbc.sort_index()"
   ]
  },
  {
   "cell_type": "markdown",
   "metadata": {},
   "source": [
    "#### Multi-layer Perceptron Classification"
   ]
  },
  {
   "cell_type": "code",
   "execution_count": 77,
   "metadata": {
    "collapsed": false
   },
   "outputs": [
    {
     "name": "stderr",
     "output_type": "stream",
     "text": [
      "C:\\Users\\jbhasin\\Anaconda3\\lib\\site-packages\\sklearn\\metrics\\classification.py:1113: UndefinedMetricWarning: F-score is ill-defined and being set to 0.0 in labels with no predicted samples.\n",
      "  'precision', 'predicted', average, warn_for)\n",
      "C:\\Users\\jbhasin\\Anaconda3\\lib\\site-packages\\sklearn\\metrics\\classification.py:1113: UndefinedMetricWarning: Precision is ill-defined and being set to 0.0 in labels with no predicted samples.\n",
      "  'precision', 'predicted', average, warn_for)\n",
      "C:\\Users\\jbhasin\\Anaconda3\\lib\\site-packages\\sklearn\\metrics\\classification.py:1113: UndefinedMetricWarning: Precision and F-score are ill-defined and being set to 0.0 in labels with no predicted samples.\n",
      "  'precision', 'predicted', average, warn_for)\n"
     ]
    },
    {
     "name": "stdout",
     "output_type": "stream",
     "text": [
      "Multi-Layer Perception Classification \n",
      "\n",
      "Accuracy on training set: 0.593\n",
      "Accuracy on test set: 0.585\n",
      "\n",
      "Confusion Matrix:\n",
      "[[954  60   0   5   0]\n",
      " [164 131   7  49   0]\n",
      " [ 71 160   7  74   0]\n",
      " [ 71 103   2 109   0]\n",
      " [ 10  28   0  47   0]]\n",
      "\n",
      "Classification Report:\n",
      "             precision    recall  f1-score   support\n",
      "\n",
      "          0       0.75      0.94      0.83      1019\n",
      "          1       0.27      0.37      0.31       351\n",
      "          2       0.44      0.02      0.04       312\n",
      "          3       0.38      0.38      0.38       285\n",
      "          4       0.00      0.00      0.00        85\n",
      "\n",
      "avg / total       0.54      0.59      0.53      2052\n",
      "\n",
      "Cross-validation scores:\n",
      "[ 0.57923977  0.58333333  0.56695906  0.59269006  0.57982456]\n",
      "Cross-validation scores mean: 0.580\n",
      "\n",
      "Execution Time (sec): 4.314\n"
     ]
    },
    {
     "data": {
      "text/html": [
       "<div>\n",
       "<table border=\"1\" class=\"dataframe\">\n",
       "  <thead>\n",
       "    <tr style=\"text-align: right;\">\n",
       "      <th></th>\n",
       "      <th>Multi-Layer Perception Classification</th>\n",
       "    </tr>\n",
       "  </thead>\n",
       "  <tbody>\n",
       "    <tr>\n",
       "      <th>Accuracy</th>\n",
       "      <td>0.585283</td>\n",
       "    </tr>\n",
       "    <tr>\n",
       "      <th>F1 (macro)</th>\n",
       "      <td>0.314778</td>\n",
       "    </tr>\n",
       "    <tr>\n",
       "      <th>F1 (micro)</th>\n",
       "      <td>0.585283</td>\n",
       "    </tr>\n",
       "    <tr>\n",
       "      <th>Precision (macro)</th>\n",
       "      <td>0.368854</td>\n",
       "    </tr>\n",
       "    <tr>\n",
       "      <th>Precision (micro)</th>\n",
       "      <td>0.585283</td>\n",
       "    </tr>\n",
       "    <tr>\n",
       "      <th>Recall (macro)</th>\n",
       "      <td>0.342865</td>\n",
       "    </tr>\n",
       "    <tr>\n",
       "      <th>Recall (micro)</th>\n",
       "      <td>0.585283</td>\n",
       "    </tr>\n",
       "  </tbody>\n",
       "</table>\n",
       "</div>"
      ],
      "text/plain": [
       "                   Multi-Layer Perception Classification\n",
       "Accuracy                                        0.585283\n",
       "F1 (macro)                                      0.314778\n",
       "F1 (micro)                                      0.585283\n",
       "Precision (macro)                               0.368854\n",
       "Precision (micro)                               0.585283\n",
       "Recall (macro)                                  0.342865\n",
       "Recall (micro)                                  0.585283"
      ]
     },
     "execution_count": 77,
     "metadata": {},
     "output_type": "execute_result"
    }
   ],
   "source": [
    "# Multi-Layer Perceptron Classification\n",
    "class_model = 'Multi-Layer Perception Classification'\n",
    "start = timer()\n",
    "clf = MLPClassifier(random_state=0)\n",
    "mlp = perform_classification(class_model, clf)\n",
    "mlp_xv = perform_cross_validation(class_model, clf)\n",
    "end = timer()\n",
    "et = end - start\n",
    "print(\"\\nExecution Time (sec): {:.3f}\".format((end - start)))\n",
    "mlp_et = get_execution_time_metrics(class_model, et)\n",
    "mlp.sort_index()"
   ]
  },
  {
   "cell_type": "markdown",
   "metadata": {},
   "source": [
    "## Classification Summary with Numerical Feature Set"
   ]
  },
  {
   "cell_type": "code",
   "execution_count": 78,
   "metadata": {
    "collapsed": false
   },
   "outputs": [],
   "source": [
    "class_metrics = pd.concat([lin_reg, dtc, rfc, etc, nbg, knn, gbc, mlp] , axis=1)"
   ]
  },
  {
   "cell_type": "code",
   "execution_count": 79,
   "metadata": {
    "collapsed": false
   },
   "outputs": [],
   "source": [
    "xv_metrics = pd.concat([lin_reg_xv, dtc_xv, rfc_xv, etc_xv, nbg_xv, knn_xv, gbc_xv, mlp_xv], axis = 1)"
   ]
  },
  {
   "cell_type": "code",
   "execution_count": 80,
   "metadata": {
    "collapsed": false
   },
   "outputs": [],
   "source": [
    "et_metrics = pd.concat([lin_reg_et, dtc_et, rfc_et, etc_et, nbg_et, knn_et, gbc_et, mlp_et], axis = 1)"
   ]
  },
  {
   "cell_type": "code",
   "execution_count": 81,
   "metadata": {
    "collapsed": false
   },
   "outputs": [
    {
     "name": "stdout",
     "output_type": "stream",
     "text": [
      "Classification Summary with Numerical Feature Set\n",
      "\n"
     ]
    },
    {
     "data": {
      "text/html": [
       "<div>\n",
       "<table border=\"1\" class=\"dataframe\">\n",
       "  <thead>\n",
       "    <tr style=\"text-align: right;\">\n",
       "      <th></th>\n",
       "      <th>Logistic Classification</th>\n",
       "      <th>Decision Tree Classification</th>\n",
       "      <th>Random Forest Classification</th>\n",
       "      <th>Extra Trees Classification</th>\n",
       "      <th>Naive Bayes Classification</th>\n",
       "      <th>Nearest Neighbors Classification</th>\n",
       "      <th>Gradient Boosting Classification</th>\n",
       "      <th>Multi-Layer Perception Classification</th>\n",
       "    </tr>\n",
       "  </thead>\n",
       "  <tbody>\n",
       "    <tr>\n",
       "      <th>Accuracy</th>\n",
       "      <td>0.571637</td>\n",
       "      <td>0.654483</td>\n",
       "      <td>0.702242</td>\n",
       "      <td>0.700780</td>\n",
       "      <td>0.462476</td>\n",
       "      <td>0.608187</td>\n",
       "      <td>0.670565</td>\n",
       "      <td>0.585283</td>\n",
       "    </tr>\n",
       "    <tr>\n",
       "      <th>F1 (macro)</th>\n",
       "      <td>0.317325</td>\n",
       "      <td>0.536341</td>\n",
       "      <td>0.565431</td>\n",
       "      <td>0.571989</td>\n",
       "      <td>0.288432</td>\n",
       "      <td>0.400182</td>\n",
       "      <td>0.551396</td>\n",
       "      <td>0.314778</td>\n",
       "    </tr>\n",
       "    <tr>\n",
       "      <th>F1 (micro)</th>\n",
       "      <td>0.571637</td>\n",
       "      <td>0.654483</td>\n",
       "      <td>0.702242</td>\n",
       "      <td>0.700780</td>\n",
       "      <td>0.462476</td>\n",
       "      <td>0.608187</td>\n",
       "      <td>0.670565</td>\n",
       "      <td>0.585283</td>\n",
       "    </tr>\n",
       "    <tr>\n",
       "      <th>Precision (macro)</th>\n",
       "      <td>0.329322</td>\n",
       "      <td>0.534468</td>\n",
       "      <td>0.605005</td>\n",
       "      <td>0.591664</td>\n",
       "      <td>0.336608</td>\n",
       "      <td>0.462348</td>\n",
       "      <td>0.567401</td>\n",
       "      <td>0.368854</td>\n",
       "    </tr>\n",
       "    <tr>\n",
       "      <th>Precision (micro)</th>\n",
       "      <td>0.571637</td>\n",
       "      <td>0.654483</td>\n",
       "      <td>0.702242</td>\n",
       "      <td>0.700780</td>\n",
       "      <td>0.462476</td>\n",
       "      <td>0.608187</td>\n",
       "      <td>0.670565</td>\n",
       "      <td>0.585283</td>\n",
       "    </tr>\n",
       "    <tr>\n",
       "      <th>Recall (macro)</th>\n",
       "      <td>0.330366</td>\n",
       "      <td>0.538836</td>\n",
       "      <td>0.549900</td>\n",
       "      <td>0.560451</td>\n",
       "      <td>0.331956</td>\n",
       "      <td>0.392413</td>\n",
       "      <td>0.539238</td>\n",
       "      <td>0.342865</td>\n",
       "    </tr>\n",
       "    <tr>\n",
       "      <th>Recall (micro)</th>\n",
       "      <td>0.571637</td>\n",
       "      <td>0.654483</td>\n",
       "      <td>0.702242</td>\n",
       "      <td>0.700780</td>\n",
       "      <td>0.462476</td>\n",
       "      <td>0.608187</td>\n",
       "      <td>0.670565</td>\n",
       "      <td>0.585283</td>\n",
       "    </tr>\n",
       "    <tr>\n",
       "      <th>Cross Validation</th>\n",
       "      <td>0.573450</td>\n",
       "      <td>0.649181</td>\n",
       "      <td>0.691696</td>\n",
       "      <td>0.690877</td>\n",
       "      <td>0.470760</td>\n",
       "      <td>0.605263</td>\n",
       "      <td>0.660643</td>\n",
       "      <td>0.580409</td>\n",
       "    </tr>\n",
       "    <tr>\n",
       "      <th>Execution Time (sec)</th>\n",
       "      <td>14.257541</td>\n",
       "      <td>0.217554</td>\n",
       "      <td>4.202843</td>\n",
       "      <td>3.453612</td>\n",
       "      <td>0.128580</td>\n",
       "      <td>0.957223</td>\n",
       "      <td>76.372264</td>\n",
       "      <td>4.313864</td>\n",
       "    </tr>\n",
       "  </tbody>\n",
       "</table>\n",
       "</div>"
      ],
      "text/plain": [
       "                      Logistic Classification  Decision Tree Classification  \\\n",
       "Accuracy                             0.571637                      0.654483   \n",
       "F1 (macro)                           0.317325                      0.536341   \n",
       "F1 (micro)                           0.571637                      0.654483   \n",
       "Precision (macro)                    0.329322                      0.534468   \n",
       "Precision (micro)                    0.571637                      0.654483   \n",
       "Recall (macro)                       0.330366                      0.538836   \n",
       "Recall (micro)                       0.571637                      0.654483   \n",
       "Cross Validation                     0.573450                      0.649181   \n",
       "Execution Time (sec)                14.257541                      0.217554   \n",
       "\n",
       "                      Random Forest Classification  \\\n",
       "Accuracy                                  0.702242   \n",
       "F1 (macro)                                0.565431   \n",
       "F1 (micro)                                0.702242   \n",
       "Precision (macro)                         0.605005   \n",
       "Precision (micro)                         0.702242   \n",
       "Recall (macro)                            0.549900   \n",
       "Recall (micro)                            0.702242   \n",
       "Cross Validation                          0.691696   \n",
       "Execution Time (sec)                      4.202843   \n",
       "\n",
       "                      Extra Trees Classification  Naive Bayes Classification  \\\n",
       "Accuracy                                0.700780                    0.462476   \n",
       "F1 (macro)                              0.571989                    0.288432   \n",
       "F1 (micro)                              0.700780                    0.462476   \n",
       "Precision (macro)                       0.591664                    0.336608   \n",
       "Precision (micro)                       0.700780                    0.462476   \n",
       "Recall (macro)                          0.560451                    0.331956   \n",
       "Recall (micro)                          0.700780                    0.462476   \n",
       "Cross Validation                        0.690877                    0.470760   \n",
       "Execution Time (sec)                    3.453612                    0.128580   \n",
       "\n",
       "                      Nearest Neighbors Classification  \\\n",
       "Accuracy                                      0.608187   \n",
       "F1 (macro)                                    0.400182   \n",
       "F1 (micro)                                    0.608187   \n",
       "Precision (macro)                             0.462348   \n",
       "Precision (micro)                             0.608187   \n",
       "Recall (macro)                                0.392413   \n",
       "Recall (micro)                                0.608187   \n",
       "Cross Validation                              0.605263   \n",
       "Execution Time (sec)                          0.957223   \n",
       "\n",
       "                      Gradient Boosting Classification  \\\n",
       "Accuracy                                      0.670565   \n",
       "F1 (macro)                                    0.551396   \n",
       "F1 (micro)                                    0.670565   \n",
       "Precision (macro)                             0.567401   \n",
       "Precision (micro)                             0.670565   \n",
       "Recall (macro)                                0.539238   \n",
       "Recall (micro)                                0.670565   \n",
       "Cross Validation                              0.660643   \n",
       "Execution Time (sec)                         76.372264   \n",
       "\n",
       "                      Multi-Layer Perception Classification  \n",
       "Accuracy                                           0.585283  \n",
       "F1 (macro)                                         0.314778  \n",
       "F1 (micro)                                         0.585283  \n",
       "Precision (macro)                                  0.368854  \n",
       "Precision (micro)                                  0.585283  \n",
       "Recall (macro)                                     0.342865  \n",
       "Recall (micro)                                     0.585283  \n",
       "Cross Validation                                   0.580409  \n",
       "Execution Time (sec)                               4.313864  "
      ]
     },
     "execution_count": 81,
     "metadata": {},
     "output_type": "execute_result"
    }
   ],
   "source": [
    "final_metrics = pd.concat([class_metrics, xv_metrics, et_metrics])\n",
    "print(\"Classification Summary with Numerical Feature Set\\n\")\n",
    "final_metrics"
   ]
  },
  {
   "cell_type": "markdown",
   "metadata": {},
   "source": [
    "## Test Random Forest Classifier on Unseen Samples"
   ]
  },
  {
   "cell_type": "code",
   "execution_count": 82,
   "metadata": {
    "collapsed": false
   },
   "outputs": [
    {
     "name": "stdout",
     "output_type": "stream",
     "text": [
      "predicted = [3 0 0 3 1 0 0 0 0 0]\n",
      "actual =    [2 0 1 3 2 0 0 2 1 0]\n"
     ]
    }
   ],
   "source": [
    "dUT = dUT[['Checkout_Month', 'Checkout_WeekDay', 'Checkout_Hour', 'Temperature', 'Apparent_Temperature',\n",
    "             'Cloud_Cover', 'Wind_Speed', 'Humidity', 'Visibility', 'Number_Of_Checkouts']]\n",
    "features = ['Checkout_Month', 'Checkout_WeekDay', 'Checkout_Hour',  \n",
    "                 'Temperature', 'Apparent_Temperature', 'Cloud_Cover', 'Wind_Speed', 'Humidity', 'Visibility']\n",
    "dUT['Class_Label'] = dUT['Number_Of_Checkouts'].map(lambda x: 0 if ((x >= 1) & (x <= 50)) \n",
    "                                                else 1 if ((x >= 51)  & (x <= 75)) \n",
    "                                                else 2 if ((x >= 76)  & (x <= 100)) \n",
    "                                                else 3 if ((x >= 101)  & (x <= 150))\n",
    "                                                else 4)\n",
    "pred_X = dUT[features]\n",
    "act_y = dUT['Class_Label']\n",
    "pred_array = dUT.values\n",
    "pred_X_array = pred_array[:,0:9]\n",
    "act_y_array = pred_array[:,10].astype(int)\n",
    "\n",
    "rfc = RandomForestClassifier(n_estimators=150, max_features='auto', max_depth=None, random_state=0, n_jobs=-1)\n",
    "rfc.fit(X, y)\n",
    "pred = rfc.predict(pred_X_array)\n",
    "print('predicted =', pred)\n",
    "print('actual =   ', act_y_array)"
   ]
  },
  {
   "cell_type": "markdown",
   "metadata": {
    "collapsed": true
   },
   "source": [
    "## 4. Summary\n",
    "\n",
    "The Gradient Boosting Classifier achieved the highest accuracy and the Naïve Bayes the lowest. While the Multi-Layer Perceptron model had better accuracy than the Gradient Boosting with the categorical feature set it did not fare as well with the numerical feature set."
   ]
  }
 ],
 "metadata": {
  "anaconda-cloud": {},
  "kernelspec": {
   "display_name": "Python 3",
   "language": "python",
   "name": "python3"
  },
  "language_info": {
   "codemirror_mode": {
    "name": "ipython",
    "version": 3
   },
   "file_extension": ".py",
   "mimetype": "text/x-python",
   "name": "python",
   "nbconvert_exporter": "python",
   "pygments_lexer": "ipython3",
   "version": "3.6.0"
  }
 },
 "nbformat": 4,
 "nbformat_minor": 1
}
